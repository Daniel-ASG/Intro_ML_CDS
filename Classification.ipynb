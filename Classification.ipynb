{
 "cells": [
  {
   "cell_type": "markdown",
   "id": "e13a767d-f0e2-4555-aa6a-f031bfa1af38",
   "metadata": {},
   "source": [
    "# Data Money Company "
   ]
  },
  {
   "cell_type": "markdown",
   "id": "0e26a684-e5e7-4023-b729-e93de57541aa",
   "metadata": {},
   "source": [
    "**Data Money** is a data science consulting firm that prides itself on delivering high financial returns to its clients. We achieve this through the development and implementation of high-performing machine learning algorithms. As a newly hired Data Scientist at Data Money, I've been tasked with conducting a series of trials using various machine learning algorithms. The goal is to gain hands-on experience with these models, evaluate their performance across different scenarios, and document my findings to share with the team.\n",
    "\n",
    "**Business Question**: “Is it possible to predict overall customer satisfaction based on their demographics, flight preferences, and service ratings?”\n",
    "\n",
    "This first notebook focuses on **Classification** algorithms. The goal is to **predict whether a customer will be satisfied with their flight experience based on their demographics, travel preferences, and in-flight service ratings**.\n",
    "\n",
    "## Algorithms and Metrics\n",
    "\n",
    "This project will explore and compare the performance of four popular classification algorithms:\n",
    "\n",
    "**1. K-Nearest Neighbors (KNN)**\n",
    "\n",
    "* **How it works:** Imagine plotting each customer's data point on a graph based on their characteristics.  KNN predicts a new customer's satisfaction by looking at the satisfaction of their \"nearest neighbors\" – the 'k' data points closest to them on the graph. If most neighbors are satisfied, the new customer is likely to be satisfied as well. \n",
    "* **Strengths:** Simple to understand and implement. Effective when the relationship between features and satisfaction is complex or non-linear.\n",
    "* **Weaknesses:**  Can be computationally expensive for large datasets. Sensitive to the choice of 'k' (the number of neighbors).\n",
    "\n",
    "**2. Decision Tree**\n",
    "\n",
    "* **How it works:**  This algorithm creates a tree-like structure where each node represents a decision based on a specific feature (e.g., \"Is the flight distance greater than 500 miles?\").  The tree branches out until it reaches a leaf node, which predicts the customer's satisfaction. \n",
    "* **Strengths:** Easy to interpret and visualize. Handles both categorical and numerical data well. \n",
    "* **Weaknesses:** Prone to overfitting, especially with complex datasets. Small changes in data can lead to large changes in the tree structure.\n",
    "\n",
    "**3. Random Forest**\n",
    "\n",
    "* **How it works:** An ensemble method that combines multiple decision trees. Each tree is trained on a random subset of the data and features.  The forest then predicts satisfaction by aggregating the predictions of all the individual trees.\n",
    "* **Strengths:**  More robust and accurate than a single decision tree.  Reduces overfitting. \n",
    "* **Weaknesses:** Can be computationally expensive to train.  Less interpretable than a single decision tree. \n",
    "\n",
    "**4. Logistic Regression**\n",
    "\n",
    "* **How it works:**  Despite its name, it's a classification algorithm. It calculates the probability of a customer being satisfied based on a weighted combination of their features. If the probability is above a certain threshold, the customer is classified as \"satisfied.\" \n",
    "* **Strengths:** Efficient and works well with large datasets.  Provides a probability estimate for each prediction. \n",
    "* **Weaknesses:**  Assumes a linear relationship between features and satisfaction. May not perform well with highly complex datasets.\n",
    "\n",
    "**Evaluating Performance**\n",
    "\n",
    "To compare these algorithms, we'll use the following metrics:\n",
    "\n",
    "* **Accuracy:** The percentage of correctly classified customers (satisfied or not). \n",
    "* **Precision:**  Out of all customers predicted as satisfied, how many were actually satisfied?\n",
    "* **Recall:** Out of all the actual satisfied customers, how many did the model correctly identify?\n",
    "* **F1-Score:** The harmonic mean of precision and recall, providing a balanced measure of the model's performance.\n",
    "\n"
   ]
  },
  {
   "cell_type": "markdown",
   "id": "0584ba91-1040-44f5-a3e3-c0d4465c5e1c",
   "metadata": {},
   "source": [
    "# 0 - Imports"
   ]
  },
  {
   "cell_type": "code",
   "execution_count": 1,
   "id": "d0237b66-1b61-4452-9752-16af484901b6",
   "metadata": {},
   "outputs": [
    {
     "name": "stderr",
     "output_type": "stream",
     "text": [
      "/home/daniel/.pyenv/versions/3.12.4/envs/projeto_aluno/lib/python3.12/site-packages/numpy/_core/getlimits.py:545: UserWarning: Signature b'\\x00\\xd0\\xcc\\xcc\\xcc\\xcc\\xcc\\xcc\\xfb\\xbf\\x00\\x00\\x00\\x00\\x00\\x00' for <class 'numpy.longdouble'> does not match any known type: falling back to type probe function.\n",
      "This warnings indicates broken support for the dtype!\n",
      "  machar = _get_machar(dtype)\n"
     ]
    }
   ],
   "source": [
    "import pandas            as pd\n",
    "import numpy             as np\n",
    "import matplotlib.pyplot as plt\n",
    "import plotly.graph_objs as go\n",
    "\n",
    "from sklearn.neighbors       import KNeighborsClassifier\n",
    "from sklearn.tree            import DecisionTreeClassifier\n",
    "from sklearn.ensemble        import RandomForestClassifier\n",
    "from sklearn.linear_model    import LogisticRegression\n",
    "from sklearn.metrics         import accuracy_score, precision_score, recall_score, f1_score, classification_report\n",
    "from sklearn.model_selection import StratifiedKFold, cross_validate, GridSearchCV\n",
    "\n",
    "import warnings\n",
    "warnings.filterwarnings(\"ignore\")\n",
    "warnings.filterwarnings('ignore', category=UserWarning, module='numpy')"
   ]
  },
  {
   "cell_type": "markdown",
   "id": "a73379ac-ce42-4146-8d5a-cda603226e7d",
   "metadata": {},
   "source": [
    "# 1 - Loading data"
   ]
  },
  {
   "cell_type": "code",
   "execution_count": 3,
   "id": "97364fa4-6d7c-42d4-aa79-e787fab0fe15",
   "metadata": {},
   "outputs": [],
   "source": [
    "X_train = pd.read_csv('Data/Classification/X_training.csv')\n",
    "y_train = pd.read_csv('Data/Classification/y_training.csv')\n",
    "\n",
    "X_val   = pd.read_csv('Data/Classification/X_validation.csv')\n",
    "y_val   = pd.read_csv('Data/Classification/y_validation.csv')\n",
    "\n",
    "X_test  = pd.read_csv('Data/Classification/X_test.csv')\n",
    "y_test  = pd.read_csv('Data/Classification/y_test.csv')"
   ]
  },
  {
   "cell_type": "markdown",
   "id": "20f853a8-3d50-4d2f-8a0b-d0f80685f118",
   "metadata": {},
   "source": [
    "# 2 - EDA"
   ]
  },
  {
   "cell_type": "code",
   "execution_count": 3,
   "id": "ec814991-1262-420f-a6da-1c532fdc8954",
   "metadata": {},
   "outputs": [
    {
     "data": {
      "text/plain": [
       "array([1, 0])"
      ]
     },
     "execution_count": 3,
     "metadata": {},
     "output_type": "execute_result"
    }
   ],
   "source": [
    "y_train['0'].unique()"
   ]
  },
  {
   "cell_type": "code",
   "execution_count": 4,
   "id": "27d59bc9-3ac1-46ba-a8e4-64439e4be6f5",
   "metadata": {},
   "outputs": [
    {
     "data": {
      "text/plain": [
       "0\n",
       "0    0.5666\n",
       "1    0.4334\n",
       "Name: proportion, dtype: float64"
      ]
     },
     "execution_count": 4,
     "metadata": {},
     "output_type": "execute_result"
    }
   ],
   "source": [
    "y_train.value_counts(normalize=True)"
   ]
  },
  {
   "cell_type": "code",
   "execution_count": 5,
   "id": "fbfe0507-e4d5-49f1-ab5c-9e63e2e0c2aa",
   "metadata": {},
   "outputs": [
    {
     "name": "stdout",
     "output_type": "stream",
     "text": [
      "<class 'pandas.core.frame.DataFrame'>\n",
      "RangeIndex: 72515 entries, 0 to 72514\n",
      "Data columns (total 25 columns):\n",
      " #   Column                             Non-Null Count  Dtype  \n",
      "---  ------                             --------------  -----  \n",
      " 0   id                                 72515 non-null  int64  \n",
      " 1   customer_type                      72515 non-null  int64  \n",
      " 2   age                                72515 non-null  float64\n",
      " 3   class                              72515 non-null  float64\n",
      " 4   flight_distance                    72515 non-null  float64\n",
      " 5   inflight_wifi_service              72515 non-null  float64\n",
      " 6   departure_arrival_time_convenient  72515 non-null  float64\n",
      " 7   ease_of_online_booking             72515 non-null  float64\n",
      " 8   gate_location                      72515 non-null  float64\n",
      " 9   food_and_drink                     72515 non-null  float64\n",
      " 10  online_boarding                    72515 non-null  float64\n",
      " 11  seat_comfort                       72515 non-null  float64\n",
      " 12  inflight_entertainment             72515 non-null  float64\n",
      " 13  on_board_service                   72515 non-null  float64\n",
      " 14  leg_room_service                   72515 non-null  float64\n",
      " 15  baggage_handling                   72515 non-null  float64\n",
      " 16  checkin_service                    72515 non-null  float64\n",
      " 17  inflight_service                   72515 non-null  float64\n",
      " 18  cleanliness                        72515 non-null  float64\n",
      " 19  departure_delay_in_minutes         72515 non-null  float64\n",
      " 20  arrival_delay_in_minutes           72515 non-null  float64\n",
      " 21  gender_Female                      72515 non-null  float64\n",
      " 22  gender_Male                        72515 non-null  float64\n",
      " 23  type_of_travel_business_travel     72515 non-null  float64\n",
      " 24  type_of_travel_personal_travel     72515 non-null  float64\n",
      "dtypes: float64(23), int64(2)\n",
      "memory usage: 13.8 MB\n"
     ]
    }
   ],
   "source": [
    "X_train.info()"
   ]
  },
  {
   "cell_type": "markdown",
   "id": "9b9f2456-b702-4517-8556-da58831486dd",
   "metadata": {},
   "source": [
    "#### This dataset does not contain null values"
   ]
  },
  {
   "cell_type": "code",
   "execution_count": 6,
   "id": "493db83c-b527-4d97-b920-4815ebe2a9f8",
   "metadata": {},
   "outputs": [
    {
     "data": {
      "text/html": [
       "<div>\n",
       "<style scoped>\n",
       "    .dataframe tbody tr th:only-of-type {\n",
       "        vertical-align: middle;\n",
       "    }\n",
       "\n",
       "    .dataframe tbody tr th {\n",
       "        vertical-align: top;\n",
       "    }\n",
       "\n",
       "    .dataframe thead th {\n",
       "        text-align: right;\n",
       "    }\n",
       "</style>\n",
       "<table border=\"1\" class=\"dataframe\">\n",
       "  <thead>\n",
       "    <tr style=\"text-align: right;\">\n",
       "      <th></th>\n",
       "      <th>id</th>\n",
       "      <th>customer_type</th>\n",
       "      <th>age</th>\n",
       "      <th>class</th>\n",
       "      <th>flight_distance</th>\n",
       "      <th>inflight_wifi_service</th>\n",
       "      <th>departure_arrival_time_convenient</th>\n",
       "      <th>ease_of_online_booking</th>\n",
       "      <th>gate_location</th>\n",
       "      <th>food_and_drink</th>\n",
       "      <th>...</th>\n",
       "      <th>baggage_handling</th>\n",
       "      <th>checkin_service</th>\n",
       "      <th>inflight_service</th>\n",
       "      <th>cleanliness</th>\n",
       "      <th>departure_delay_in_minutes</th>\n",
       "      <th>arrival_delay_in_minutes</th>\n",
       "      <th>gender_Female</th>\n",
       "      <th>gender_Male</th>\n",
       "      <th>type_of_travel_business_travel</th>\n",
       "      <th>type_of_travel_personal_travel</th>\n",
       "    </tr>\n",
       "  </thead>\n",
       "  <tbody>\n",
       "    <tr>\n",
       "      <th>count</th>\n",
       "      <td>72515.000000</td>\n",
       "      <td>72515.000000</td>\n",
       "      <td>72515.000000</td>\n",
       "      <td>72515.000000</td>\n",
       "      <td>72515.000000</td>\n",
       "      <td>72515.000000</td>\n",
       "      <td>72515.000000</td>\n",
       "      <td>72515.000000</td>\n",
       "      <td>72515.000000</td>\n",
       "      <td>72515.000000</td>\n",
       "      <td>...</td>\n",
       "      <td>72515.000000</td>\n",
       "      <td>72515.000000</td>\n",
       "      <td>72515.000000</td>\n",
       "      <td>72515.000000</td>\n",
       "      <td>72515.000000</td>\n",
       "      <td>72515.000000</td>\n",
       "      <td>72515.000000</td>\n",
       "      <td>72515.000000</td>\n",
       "      <td>72515.000000</td>\n",
       "      <td>72515.000000</td>\n",
       "    </tr>\n",
       "    <tr>\n",
       "      <th>mean</th>\n",
       "      <td>64786.264414</td>\n",
       "      <td>0.817141</td>\n",
       "      <td>0.415721</td>\n",
       "      <td>0.514176</td>\n",
       "      <td>0.234290</td>\n",
       "      <td>0.546646</td>\n",
       "      <td>0.611898</td>\n",
       "      <td>0.551673</td>\n",
       "      <td>0.595620</td>\n",
       "      <td>0.640496</td>\n",
       "      <td>...</td>\n",
       "      <td>0.657447</td>\n",
       "      <td>0.575395</td>\n",
       "      <td>0.727918</td>\n",
       "      <td>0.657991</td>\n",
       "      <td>0.014429</td>\n",
       "      <td>0.014973</td>\n",
       "      <td>0.506943</td>\n",
       "      <td>0.493057</td>\n",
       "      <td>0.690078</td>\n",
       "      <td>0.309922</td>\n",
       "    </tr>\n",
       "    <tr>\n",
       "      <th>std</th>\n",
       "      <td>37484.446983</td>\n",
       "      <td>0.386553</td>\n",
       "      <td>0.193586</td>\n",
       "      <td>0.481459</td>\n",
       "      <td>0.201790</td>\n",
       "      <td>0.265402</td>\n",
       "      <td>0.304934</td>\n",
       "      <td>0.279502</td>\n",
       "      <td>0.255791</td>\n",
       "      <td>0.266112</td>\n",
       "      <td>...</td>\n",
       "      <td>0.295952</td>\n",
       "      <td>0.316940</td>\n",
       "      <td>0.235470</td>\n",
       "      <td>0.262654</td>\n",
       "      <td>0.037280</td>\n",
       "      <td>0.038022</td>\n",
       "      <td>0.499955</td>\n",
       "      <td>0.499955</td>\n",
       "      <td>0.462464</td>\n",
       "      <td>0.462464</td>\n",
       "    </tr>\n",
       "    <tr>\n",
       "      <th>min</th>\n",
       "      <td>1.000000</td>\n",
       "      <td>0.000000</td>\n",
       "      <td>0.000000</td>\n",
       "      <td>0.000000</td>\n",
       "      <td>0.000000</td>\n",
       "      <td>0.000000</td>\n",
       "      <td>0.000000</td>\n",
       "      <td>0.000000</td>\n",
       "      <td>0.000000</td>\n",
       "      <td>0.000000</td>\n",
       "      <td>...</td>\n",
       "      <td>0.000000</td>\n",
       "      <td>0.000000</td>\n",
       "      <td>0.000000</td>\n",
       "      <td>0.000000</td>\n",
       "      <td>0.000000</td>\n",
       "      <td>0.000000</td>\n",
       "      <td>0.000000</td>\n",
       "      <td>0.000000</td>\n",
       "      <td>0.000000</td>\n",
       "      <td>0.000000</td>\n",
       "    </tr>\n",
       "    <tr>\n",
       "      <th>25%</th>\n",
       "      <td>32337.500000</td>\n",
       "      <td>1.000000</td>\n",
       "      <td>0.256410</td>\n",
       "      <td>0.000000</td>\n",
       "      <td>0.077342</td>\n",
       "      <td>0.400000</td>\n",
       "      <td>0.400000</td>\n",
       "      <td>0.400000</td>\n",
       "      <td>0.400000</td>\n",
       "      <td>0.400000</td>\n",
       "      <td>...</td>\n",
       "      <td>0.500000</td>\n",
       "      <td>0.500000</td>\n",
       "      <td>0.600000</td>\n",
       "      <td>0.400000</td>\n",
       "      <td>0.000000</td>\n",
       "      <td>0.000000</td>\n",
       "      <td>0.000000</td>\n",
       "      <td>0.000000</td>\n",
       "      <td>0.000000</td>\n",
       "      <td>0.000000</td>\n",
       "    </tr>\n",
       "    <tr>\n",
       "      <th>50%</th>\n",
       "      <td>64688.000000</td>\n",
       "      <td>1.000000</td>\n",
       "      <td>0.423077</td>\n",
       "      <td>0.500000</td>\n",
       "      <td>0.163772</td>\n",
       "      <td>0.600000</td>\n",
       "      <td>0.600000</td>\n",
       "      <td>0.600000</td>\n",
       "      <td>0.600000</td>\n",
       "      <td>0.600000</td>\n",
       "      <td>...</td>\n",
       "      <td>0.750000</td>\n",
       "      <td>0.500000</td>\n",
       "      <td>0.800000</td>\n",
       "      <td>0.600000</td>\n",
       "      <td>0.000000</td>\n",
       "      <td>0.000000</td>\n",
       "      <td>1.000000</td>\n",
       "      <td>0.000000</td>\n",
       "      <td>1.000000</td>\n",
       "      <td>0.000000</td>\n",
       "    </tr>\n",
       "    <tr>\n",
       "      <th>75%</th>\n",
       "      <td>97230.000000</td>\n",
       "      <td>1.000000</td>\n",
       "      <td>0.564103</td>\n",
       "      <td>1.000000</td>\n",
       "      <td>0.345921</td>\n",
       "      <td>0.800000</td>\n",
       "      <td>0.800000</td>\n",
       "      <td>0.800000</td>\n",
       "      <td>0.800000</td>\n",
       "      <td>0.800000</td>\n",
       "      <td>...</td>\n",
       "      <td>1.000000</td>\n",
       "      <td>0.750000</td>\n",
       "      <td>1.000000</td>\n",
       "      <td>0.800000</td>\n",
       "      <td>0.011799</td>\n",
       "      <td>0.012859</td>\n",
       "      <td>1.000000</td>\n",
       "      <td>1.000000</td>\n",
       "      <td>1.000000</td>\n",
       "      <td>1.000000</td>\n",
       "    </tr>\n",
       "    <tr>\n",
       "      <th>max</th>\n",
       "      <td>129880.000000</td>\n",
       "      <td>1.000000</td>\n",
       "      <td>1.000000</td>\n",
       "      <td>1.000000</td>\n",
       "      <td>1.000000</td>\n",
       "      <td>1.000000</td>\n",
       "      <td>1.000000</td>\n",
       "      <td>1.000000</td>\n",
       "      <td>1.000000</td>\n",
       "      <td>1.000000</td>\n",
       "      <td>...</td>\n",
       "      <td>1.000000</td>\n",
       "      <td>1.000000</td>\n",
       "      <td>1.000000</td>\n",
       "      <td>1.000000</td>\n",
       "      <td>1.000000</td>\n",
       "      <td>1.000000</td>\n",
       "      <td>1.000000</td>\n",
       "      <td>1.000000</td>\n",
       "      <td>1.000000</td>\n",
       "      <td>1.000000</td>\n",
       "    </tr>\n",
       "  </tbody>\n",
       "</table>\n",
       "<p>8 rows × 25 columns</p>\n",
       "</div>"
      ],
      "text/plain": [
       "                  id  customer_type           age         class  \\\n",
       "count   72515.000000   72515.000000  72515.000000  72515.000000   \n",
       "mean    64786.264414       0.817141      0.415721      0.514176   \n",
       "std     37484.446983       0.386553      0.193586      0.481459   \n",
       "min         1.000000       0.000000      0.000000      0.000000   \n",
       "25%     32337.500000       1.000000      0.256410      0.000000   \n",
       "50%     64688.000000       1.000000      0.423077      0.500000   \n",
       "75%     97230.000000       1.000000      0.564103      1.000000   \n",
       "max    129880.000000       1.000000      1.000000      1.000000   \n",
       "\n",
       "       flight_distance  inflight_wifi_service  \\\n",
       "count     72515.000000           72515.000000   \n",
       "mean          0.234290               0.546646   \n",
       "std           0.201790               0.265402   \n",
       "min           0.000000               0.000000   \n",
       "25%           0.077342               0.400000   \n",
       "50%           0.163772               0.600000   \n",
       "75%           0.345921               0.800000   \n",
       "max           1.000000               1.000000   \n",
       "\n",
       "       departure_arrival_time_convenient  ease_of_online_booking  \\\n",
       "count                       72515.000000            72515.000000   \n",
       "mean                            0.611898                0.551673   \n",
       "std                             0.304934                0.279502   \n",
       "min                             0.000000                0.000000   \n",
       "25%                             0.400000                0.400000   \n",
       "50%                             0.600000                0.600000   \n",
       "75%                             0.800000                0.800000   \n",
       "max                             1.000000                1.000000   \n",
       "\n",
       "       gate_location  food_and_drink  ...  baggage_handling  checkin_service  \\\n",
       "count   72515.000000    72515.000000  ...      72515.000000     72515.000000   \n",
       "mean        0.595620        0.640496  ...          0.657447         0.575395   \n",
       "std         0.255791        0.266112  ...          0.295952         0.316940   \n",
       "min         0.000000        0.000000  ...          0.000000         0.000000   \n",
       "25%         0.400000        0.400000  ...          0.500000         0.500000   \n",
       "50%         0.600000        0.600000  ...          0.750000         0.500000   \n",
       "75%         0.800000        0.800000  ...          1.000000         0.750000   \n",
       "max         1.000000        1.000000  ...          1.000000         1.000000   \n",
       "\n",
       "       inflight_service   cleanliness  departure_delay_in_minutes  \\\n",
       "count      72515.000000  72515.000000                72515.000000   \n",
       "mean           0.727918      0.657991                    0.014429   \n",
       "std            0.235470      0.262654                    0.037280   \n",
       "min            0.000000      0.000000                    0.000000   \n",
       "25%            0.600000      0.400000                    0.000000   \n",
       "50%            0.800000      0.600000                    0.000000   \n",
       "75%            1.000000      0.800000                    0.011799   \n",
       "max            1.000000      1.000000                    1.000000   \n",
       "\n",
       "       arrival_delay_in_minutes  gender_Female   gender_Male  \\\n",
       "count              72515.000000   72515.000000  72515.000000   \n",
       "mean                   0.014973       0.506943      0.493057   \n",
       "std                    0.038022       0.499955      0.499955   \n",
       "min                    0.000000       0.000000      0.000000   \n",
       "25%                    0.000000       0.000000      0.000000   \n",
       "50%                    0.000000       1.000000      0.000000   \n",
       "75%                    0.012859       1.000000      1.000000   \n",
       "max                    1.000000       1.000000      1.000000   \n",
       "\n",
       "       type_of_travel_business_travel  type_of_travel_personal_travel  \n",
       "count                    72515.000000                    72515.000000  \n",
       "mean                         0.690078                        0.309922  \n",
       "std                          0.462464                        0.462464  \n",
       "min                          0.000000                        0.000000  \n",
       "25%                          0.000000                        0.000000  \n",
       "50%                          1.000000                        0.000000  \n",
       "75%                          1.000000                        1.000000  \n",
       "max                          1.000000                        1.000000  \n",
       "\n",
       "[8 rows x 25 columns]"
      ]
     },
     "execution_count": 6,
     "metadata": {},
     "output_type": "execute_result"
    }
   ],
   "source": [
    "X_train.describe()"
   ]
  },
  {
   "cell_type": "markdown",
   "id": "7badd413-4fd3-4ace-8d86-8fdabcec12e0",
   "metadata": {},
   "source": [
    "#### This dataset is already normalized"
   ]
  },
  {
   "cell_type": "code",
   "execution_count": 7,
   "id": "c8c32d6b-deed-46db-b2a4-29dbfe1d7d61",
   "metadata": {},
   "outputs": [
    {
     "data": {
      "text/html": [
       "<div>\n",
       "<style scoped>\n",
       "    .dataframe tbody tr th:only-of-type {\n",
       "        vertical-align: middle;\n",
       "    }\n",
       "\n",
       "    .dataframe tbody tr th {\n",
       "        vertical-align: top;\n",
       "    }\n",
       "\n",
       "    .dataframe thead th {\n",
       "        text-align: right;\n",
       "    }\n",
       "</style>\n",
       "<table border=\"1\" class=\"dataframe\">\n",
       "  <thead>\n",
       "    <tr style=\"text-align: right;\">\n",
       "      <th></th>\n",
       "      <th>id</th>\n",
       "      <th>customer_type</th>\n",
       "      <th>age</th>\n",
       "      <th>class</th>\n",
       "      <th>flight_distance</th>\n",
       "      <th>inflight_wifi_service</th>\n",
       "      <th>departure_arrival_time_convenient</th>\n",
       "      <th>ease_of_online_booking</th>\n",
       "      <th>gate_location</th>\n",
       "      <th>food_and_drink</th>\n",
       "      <th>...</th>\n",
       "      <th>baggage_handling</th>\n",
       "      <th>checkin_service</th>\n",
       "      <th>inflight_service</th>\n",
       "      <th>cleanliness</th>\n",
       "      <th>departure_delay_in_minutes</th>\n",
       "      <th>arrival_delay_in_minutes</th>\n",
       "      <th>gender_Female</th>\n",
       "      <th>gender_Male</th>\n",
       "      <th>type_of_travel_business_travel</th>\n",
       "      <th>type_of_travel_personal_travel</th>\n",
       "    </tr>\n",
       "  </thead>\n",
       "  <tbody>\n",
       "    <tr>\n",
       "      <th>0</th>\n",
       "      <td>75635</td>\n",
       "      <td>1</td>\n",
       "      <td>0.525641</td>\n",
       "      <td>1.0</td>\n",
       "      <td>0.714055</td>\n",
       "      <td>1.0</td>\n",
       "      <td>1.0</td>\n",
       "      <td>1.0</td>\n",
       "      <td>1.0</td>\n",
       "      <td>0.8</td>\n",
       "      <td>...</td>\n",
       "      <td>0.75</td>\n",
       "      <td>0.75</td>\n",
       "      <td>0.8</td>\n",
       "      <td>0.8</td>\n",
       "      <td>0.000000</td>\n",
       "      <td>0.000000</td>\n",
       "      <td>0.0</td>\n",
       "      <td>1.0</td>\n",
       "      <td>1.0</td>\n",
       "      <td>0.0</td>\n",
       "    </tr>\n",
       "    <tr>\n",
       "      <th>1</th>\n",
       "      <td>106136</td>\n",
       "      <td>1</td>\n",
       "      <td>0.615385</td>\n",
       "      <td>1.0</td>\n",
       "      <td>0.054725</td>\n",
       "      <td>0.4</td>\n",
       "      <td>1.0</td>\n",
       "      <td>1.0</td>\n",
       "      <td>1.0</td>\n",
       "      <td>0.4</td>\n",
       "      <td>...</td>\n",
       "      <td>0.25</td>\n",
       "      <td>0.00</td>\n",
       "      <td>0.4</td>\n",
       "      <td>0.6</td>\n",
       "      <td>0.004916</td>\n",
       "      <td>0.004946</td>\n",
       "      <td>0.0</td>\n",
       "      <td>1.0</td>\n",
       "      <td>1.0</td>\n",
       "      <td>0.0</td>\n",
       "    </tr>\n",
       "    <tr>\n",
       "      <th>2</th>\n",
       "      <td>94469</td>\n",
       "      <td>1</td>\n",
       "      <td>0.435897</td>\n",
       "      <td>1.0</td>\n",
       "      <td>0.342690</td>\n",
       "      <td>0.0</td>\n",
       "      <td>0.2</td>\n",
       "      <td>0.2</td>\n",
       "      <td>0.6</td>\n",
       "      <td>0.8</td>\n",
       "      <td>...</td>\n",
       "      <td>0.25</td>\n",
       "      <td>0.75</td>\n",
       "      <td>0.4</td>\n",
       "      <td>0.6</td>\n",
       "      <td>0.004916</td>\n",
       "      <td>0.000000</td>\n",
       "      <td>1.0</td>\n",
       "      <td>0.0</td>\n",
       "      <td>1.0</td>\n",
       "      <td>0.0</td>\n",
       "    </tr>\n",
       "    <tr>\n",
       "      <th>3</th>\n",
       "      <td>42104</td>\n",
       "      <td>1</td>\n",
       "      <td>0.615385</td>\n",
       "      <td>1.0</td>\n",
       "      <td>0.649838</td>\n",
       "      <td>1.0</td>\n",
       "      <td>1.0</td>\n",
       "      <td>0.6</td>\n",
       "      <td>1.0</td>\n",
       "      <td>1.0</td>\n",
       "      <td>...</td>\n",
       "      <td>0.75</td>\n",
       "      <td>0.75</td>\n",
       "      <td>0.8</td>\n",
       "      <td>0.8</td>\n",
       "      <td>0.000000</td>\n",
       "      <td>0.000989</td>\n",
       "      <td>1.0</td>\n",
       "      <td>0.0</td>\n",
       "      <td>1.0</td>\n",
       "      <td>0.0</td>\n",
       "    </tr>\n",
       "    <tr>\n",
       "      <th>4</th>\n",
       "      <td>78762</td>\n",
       "      <td>1</td>\n",
       "      <td>0.282051</td>\n",
       "      <td>0.0</td>\n",
       "      <td>0.100363</td>\n",
       "      <td>0.4</td>\n",
       "      <td>0.6</td>\n",
       "      <td>0.6</td>\n",
       "      <td>0.6</td>\n",
       "      <td>0.4</td>\n",
       "      <td>...</td>\n",
       "      <td>0.75</td>\n",
       "      <td>0.75</td>\n",
       "      <td>0.6</td>\n",
       "      <td>0.4</td>\n",
       "      <td>0.093412</td>\n",
       "      <td>0.090010</td>\n",
       "      <td>0.0</td>\n",
       "      <td>1.0</td>\n",
       "      <td>1.0</td>\n",
       "      <td>0.0</td>\n",
       "    </tr>\n",
       "  </tbody>\n",
       "</table>\n",
       "<p>5 rows × 25 columns</p>\n",
       "</div>"
      ],
      "text/plain": [
       "       id  customer_type       age  class  flight_distance  \\\n",
       "0   75635              1  0.525641    1.0         0.714055   \n",
       "1  106136              1  0.615385    1.0         0.054725   \n",
       "2   94469              1  0.435897    1.0         0.342690   \n",
       "3   42104              1  0.615385    1.0         0.649838   \n",
       "4   78762              1  0.282051    0.0         0.100363   \n",
       "\n",
       "   inflight_wifi_service  departure_arrival_time_convenient  \\\n",
       "0                    1.0                                1.0   \n",
       "1                    0.4                                1.0   \n",
       "2                    0.0                                0.2   \n",
       "3                    1.0                                1.0   \n",
       "4                    0.4                                0.6   \n",
       "\n",
       "   ease_of_online_booking  gate_location  food_and_drink  ...  \\\n",
       "0                     1.0            1.0             0.8  ...   \n",
       "1                     1.0            1.0             0.4  ...   \n",
       "2                     0.2            0.6             0.8  ...   \n",
       "3                     0.6            1.0             1.0  ...   \n",
       "4                     0.6            0.6             0.4  ...   \n",
       "\n",
       "   baggage_handling  checkin_service  inflight_service  cleanliness  \\\n",
       "0              0.75             0.75               0.8          0.8   \n",
       "1              0.25             0.00               0.4          0.6   \n",
       "2              0.25             0.75               0.4          0.6   \n",
       "3              0.75             0.75               0.8          0.8   \n",
       "4              0.75             0.75               0.6          0.4   \n",
       "\n",
       "   departure_delay_in_minutes  arrival_delay_in_minutes  gender_Female  \\\n",
       "0                    0.000000                  0.000000            0.0   \n",
       "1                    0.004916                  0.004946            0.0   \n",
       "2                    0.004916                  0.000000            1.0   \n",
       "3                    0.000000                  0.000989            1.0   \n",
       "4                    0.093412                  0.090010            0.0   \n",
       "\n",
       "   gender_Male  type_of_travel_business_travel  type_of_travel_personal_travel  \n",
       "0          1.0                             1.0                             0.0  \n",
       "1          1.0                             1.0                             0.0  \n",
       "2          0.0                             1.0                             0.0  \n",
       "3          0.0                             1.0                             0.0  \n",
       "4          1.0                             1.0                             0.0  \n",
       "\n",
       "[5 rows x 25 columns]"
      ]
     },
     "execution_count": 7,
     "metadata": {},
     "output_type": "execute_result"
    }
   ],
   "source": [
    "X_val.head()"
   ]
  },
  {
   "cell_type": "markdown",
   "id": "4f27e93d-3492-4eec-a4b2-bbb18916a565",
   "metadata": {},
   "source": [
    "#### Removing \"id\" column from the X's datasets"
   ]
  },
  {
   "cell_type": "code",
   "execution_count": 4,
   "id": "a0f00ad8-efc6-46b4-8c19-0a28adc40102",
   "metadata": {},
   "outputs": [],
   "source": [
    "X_train_subset = X_train.iloc[:, 1:]\n",
    "X_val_subset   = X_val.iloc[:, 1:]\n",
    "X_test_subset  = X_test.iloc[:,1:]"
   ]
  },
  {
   "cell_type": "code",
   "execution_count": 5,
   "id": "7012837b-2908-46c4-ba02-9eca5c2d24f2",
   "metadata": {},
   "outputs": [],
   "source": [
    "X_train_val = np.concatenate((X_train_subset, X_val_subset))\n",
    "y_train_val = np.concatenate((y_train.values.ravel(), y_val.values.ravel()))"
   ]
  },
  {
   "cell_type": "markdown",
   "id": "65f40fb1-7fb8-4a26-bbd7-5d14aa9d1894",
   "metadata": {},
   "source": [
    "# 3 - Model Training"
   ]
  },
  {
   "cell_type": "markdown",
   "id": "9f877957-cb66-483c-a1d7-d1ff4f0a657d",
   "metadata": {},
   "source": [
    "## 3.1 - KNN"
   ]
  },
  {
   "cell_type": "markdown",
   "id": "9c7dbd1b-a2d2-4d3e-9215-43fae9f91579",
   "metadata": {},
   "source": [
    "### 3.1.1 - Training"
   ]
  },
  {
   "cell_type": "code",
   "execution_count": 6,
   "id": "93c5f654-e93c-431e-a6d2-00bdc80c7cfc",
   "metadata": {},
   "outputs": [
    {
     "name": "stdout",
     "output_type": "stream",
     "text": [
      "Testing combinations of n_neighbors:\n",
      "n_neighbors=3\n",
      "n_neighbors=5\n",
      "n_neighbors=7\n",
      "n_neighbors=9\n",
      "n_neighbors=11\n"
     ]
    },
    {
     "data": {
      "image/png": "[encoded data removed]",
      "text/plain": [
       "<Figure size 1500x600 with 1 Axes>"
      ]
     },
     "metadata": {},
     "output_type": "display_data"
    },
    {
     "name": "stdout",
     "output_type": "stream",
     "text": [
      "Best n_neighbors: 3\n",
      "\n",
      "Accuracy Over Training:  0.957\n",
      "Precision Over Training: 0.958\n",
      "Recall Over Training:    0.957\n",
      "F1 Score Over Training:  0.957\n"
     ]
    }
   ],
   "source": [
    "n_neighbors_max = 15\n",
    "n_neighbors_range = list(range(3, n_neighbors_max + 1, 2))\n",
    "\n",
    "knn_metrics_dict_train = {}\n",
    "\n",
    "consecutive_decreases = 0\n",
    "prev_accuracy = 0\n",
    "\n",
    "print('Testing combinations of n_neighbors:')\n",
    "for i in n_neighbors_range:\n",
    "    knn_classifier = KNeighborsClassifier(n_neighbors=i)\n",
    "    knn_classifier.fit(X_train_subset, y_train.values.ravel())\n",
    "\n",
    "    yhat = knn_classifier.predict(X_train_subset)\n",
    "\n",
    "    # Metrics calculation\n",
    "    metrics = {\n",
    "        'accuracy': accuracy_score(y_train, yhat),\n",
    "        'precision': precision_score(y_train, yhat, average='weighted'),\n",
    "        'recall': recall_score(y_train, yhat, average='weighted'),\n",
    "        'f1': f1_score(y_train, yhat, average='weighted')\n",
    "    }\n",
    "\n",
    "    # Store metrics\n",
    "    knn_metrics_dict_train[i] = metrics\n",
    "\n",
    "    print(f'n_neighbors={i}')\n",
    "\n",
    "    # Check if accuracy has decreased\n",
    "    if metrics['accuracy'] < prev_accuracy:\n",
    "        consecutive_decreases += 1\n",
    "    else:\n",
    "        consecutive_decreases = 0\n",
    "\n",
    "    prev_accuracy = metrics['accuracy']\n",
    "\n",
    "    # Stop if there are 5 consecutive decreases\n",
    "    if consecutive_decreases >= 4:\n",
    "        break\n",
    "\n",
    "# Plotting the metrics\n",
    "valid_neighbors = list(knn_metrics_dict_train.keys())\n",
    "accuracy_values = [knn_metrics_dict_train[n]['accuracy'] for n in valid_neighbors]\n",
    "precision_values = [knn_metrics_dict_train[n]['precision'] for n in valid_neighbors]\n",
    "recall_values = [knn_metrics_dict_train[n]['recall'] for n in valid_neighbors]\n",
    "f1_values = [knn_metrics_dict_train[n]['f1'] for n in valid_neighbors]\n",
    "\n",
    "plt.figure(figsize=(15, 6))\n",
    "plt.plot(valid_neighbors, accuracy_values, '-o', label='Accuracy')\n",
    "plt.plot(valid_neighbors, precision_values, '-o', label='Precision')\n",
    "plt.plot(valid_neighbors, recall_values, '-o', label='Recall')\n",
    "plt.plot(valid_neighbors, f1_values, '-o', label='F1 Score')\n",
    "\n",
    "plt.xlabel('K Neighbors')\n",
    "plt.ylabel('Score')\n",
    "plt.title(f'Comparison of KNN Metrics (On Training subset)')\n",
    "plt.xticks(valid_neighbors)\n",
    "plt.legend(loc='best')\n",
    "plt.grid(True)\n",
    "plt.show()\n",
    "\n",
    "# Find the best n_neighbors based on accuracy\n",
    "best_k_train = max(knn_metrics_dict_train, key=lambda k: knn_metrics_dict_train[k]['accuracy'])\n",
    "\n",
    "# Accessing the metrics of the best n_neighbors\n",
    "knn_metrics_best_train = knn_metrics_dict_train[best_k_train]\n",
    "\n",
    "# Displaying the best combination and its metrics\n",
    "print(f'Best n_neighbors: {best_k_train}\\n')\n",
    "print(f'Accuracy Over Training:  {knn_metrics_best_train[\"accuracy\"]:.3f}')\n",
    "print(f'Precision Over Training: {knn_metrics_best_train[\"precision\"]:.3f}')\n",
    "print(f'Recall Over Training:    {knn_metrics_best_train[\"recall\"]:.3f}')\n",
    "print(f'F1 Score Over Training:  {knn_metrics_best_train[\"f1\"]:.3f}')"
   ]
  },
  {
   "cell_type": "markdown",
   "id": "e1efbc34-e74c-4d98-aa29-25445586c522",
   "metadata": {},
   "source": [
    "### 3.1.2 - Validation"
   ]
  },
  {
   "cell_type": "code",
   "execution_count": 21,
   "id": "90096ed5-e07e-4224-b2ec-754093a93dca",
   "metadata": {},
   "outputs": [
    {
     "name": "stdout",
     "output_type": "stream",
     "text": [
      "Testing different values of k:\n",
      "k=3 k=5 k=7 k=9 k=11 k=13 k=15 "
     ]
    },
    {
     "data": {
      "image/png": "[encoded data removed]",
      "text/plain": [
       "<Figure size 1000x600 with 1 Axes>"
      ]
     },
     "metadata": {},
     "output_type": "display_data"
    },
    {
     "name": "stdout",
     "output_type": "stream",
     "text": [
      "Best K: 9\n"
     ]
    },
    {
     "data": {
      "text/plain": [
       "{'accuracy': np.float64(0.9279108877815687),\n",
       " 'precision': np.float64(0.9296324950918811),\n",
       " 'recall': np.float64(0.9279108877815687),\n",
       " 'f1': np.float64(0.927441091677365)}"
      ]
     },
     "execution_count": 21,
     "metadata": {},
     "output_type": "execute_result"
    }
   ],
   "source": [
    "# ensures that in each fold the selection is random, but the proportion of classes is maintained\n",
    "cv = StratifiedKFold(\n",
    "    n_splits=5,\n",
    "    random_state=0,\n",
    "    shuffle=True\n",
    ")\n",
    "\n",
    "# list of k values\n",
    "k_values = range(3, 16, 2)\n",
    "# DataFrame to append results\n",
    "result_df_knn_val = {}\n",
    "\n",
    "print('Testing different values of k:')\n",
    "for k in k_values:\n",
    "    # Instantiate the model\n",
    "    clf_knn = KNeighborsClassifier(n_neighbors=k)\n",
    "\n",
    "    # Perform cross-validation\n",
    "    cross_val_result = cross_validate(\n",
    "        clf_knn,\n",
    "        np.concatenate((X_train_subset, X_val_subset)),\n",
    "        np.concatenate((y_train.values.ravel(), y_val.values.ravel())),\n",
    "        cv=cv,\n",
    "        scoring=['accuracy', 'precision_weighted', 'recall_weighted', 'f1_weighted'],\n",
    "        return_train_score=False\n",
    "    )\n",
    "\n",
    "    # Store the mean metrics in the dictionary\n",
    "    result_df_knn_val[k] = {\n",
    "        'accuracy': cross_val_result['test_accuracy'].mean(),\n",
    "        'precision': cross_val_result['test_precision_weighted'].mean(),\n",
    "        'recall': cross_val_result['test_recall_weighted'].mean(),\n",
    "        'f1': cross_val_result['test_f1_weighted'].mean()\n",
    "    }\n",
    "\n",
    "    print(f'k={k}', end=' ')\n",
    "\n",
    "# Convert the dictionary to a list of dictionaries for plotting\n",
    "result_list_knn_val = [{'k': k, **metrics} for k, metrics in result_df_knn_val.items()]\n",
    "\n",
    "# Plotting the metrics\n",
    "plt.figure(figsize=(10, 6))\n",
    "plt.plot([item['k'] for item in result_list_knn_val], [item['accuracy'] for item in result_list_knn_val], label='Accuracy', marker='o')\n",
    "plt.plot([item['k'] for item in result_list_knn_val], [item['precision'] for item in result_list_knn_val], label='Precision', marker='o')\n",
    "plt.plot([item['k'] for item in result_list_knn_val], [item['recall'] for item in result_list_knn_val], label='Recall', marker='o')\n",
    "plt.plot([item['k'] for item in result_list_knn_val], [item['f1'] for item in result_list_knn_val], label='F1 Score', marker='o')\n",
    "\n",
    "# Plot settings\n",
    "plt.xlabel('k')\n",
    "plt.ylabel('Score')\n",
    "plt.title('Metrics vs k for KNN')\n",
    "plt.legend(title='Metrics')\n",
    "plt.grid(True)\n",
    "plt.show()\n",
    "\n",
    "# Find the best k value based on accuracy\n",
    "best_k_val = max(result_df_knn_val, key=lambda k: result_df_knn_val[k]['accuracy'])\n",
    "\n",
    "# Extract the metrics for the best k value\n",
    "knn_metrics_best_val = result_df_knn_val[best_k_val]\n",
    "\n",
    "print(f'Best K: {best_k_val}')\n",
    "knn_metrics_best_val"
   ]
  },
  {
   "cell_type": "markdown",
   "id": "1f178d8c-6e10-4590-a767-85c04abcfec1",
   "metadata": {},
   "source": [
    "### 3.1.3 - Test"
   ]
  },
  {
   "cell_type": "code",
   "execution_count": 22,
   "id": "9c991599-49f1-4444-8b9d-a244e7fda5c7",
   "metadata": {},
   "outputs": [
    {
     "data": {
      "text/plain": [
       "{'accuracy': 0.9293631483412506,\n",
       " 'precision': 0.9309912482911938,\n",
       " 'recall': 0.9293631483412506,\n",
       " 'f1': 0.9289556570498464}"
      ]
     },
     "execution_count": 22,
     "metadata": {},
     "output_type": "execute_result"
    }
   ],
   "source": [
    "# Model trained on training + validation\n",
    "\n",
    "model_last = KNeighborsClassifier(n_neighbors=best_k_val)\n",
    "model_last.fit(X_train_val, y_train_val)\n",
    "\n",
    "#classification on test data\n",
    "yhat_test = model_last.predict(X_test_subset)\n",
    "\n",
    "report = classification_report(y_test, yhat_test, output_dict=True)\n",
    "knn_metrics_test = {\n",
    "    'accuracy': report['accuracy'],\n",
    "    'precision': report['weighted avg']['precision'],\n",
    "    'recall': report['weighted avg']['recall'],\n",
    "    'f1': report['weighted avg']['f1-score']\n",
    "}\n",
    "\n",
    "knn_metrics_test"
   ]
  },
  {
   "cell_type": "markdown",
   "id": "ac6a9e09-7fd3-474d-801e-93330b026dd0",
   "metadata": {},
   "source": [
    "### 3.1.4 - Results"
   ]
  },
  {
   "cell_type": "code",
   "execution_count": 27,
   "id": "051da0cd-2d86-4049-bac6-661f8c1d9e84",
   "metadata": {},
   "outputs": [
    {
     "data": {
      "text/html": [
       "<div>\n",
       "<style scoped>\n",
       "    .dataframe tbody tr th:only-of-type {\n",
       "        vertical-align: middle;\n",
       "    }\n",
       "\n",
       "    .dataframe tbody tr th {\n",
       "        vertical-align: top;\n",
       "    }\n",
       "\n",
       "    .dataframe thead th {\n",
       "        text-align: right;\n",
       "    }\n",
       "</style>\n",
       "<table border=\"1\" class=\"dataframe\">\n",
       "  <thead>\n",
       "    <tr style=\"text-align: right;\">\n",
       "      <th></th>\n",
       "      <th>accuracy</th>\n",
       "      <th>precision</th>\n",
       "      <th>recall</th>\n",
       "      <th>f1</th>\n",
       "    </tr>\n",
       "  </thead>\n",
       "  <tbody>\n",
       "    <tr>\n",
       "      <th>Train</th>\n",
       "      <td>0.957016</td>\n",
       "      <td>0.957590</td>\n",
       "      <td>0.957016</td>\n",
       "      <td>0.956874</td>\n",
       "    </tr>\n",
       "    <tr>\n",
       "      <th>Validation</th>\n",
       "      <td>0.927911</td>\n",
       "      <td>0.929632</td>\n",
       "      <td>0.927911</td>\n",
       "      <td>0.927441</td>\n",
       "    </tr>\n",
       "    <tr>\n",
       "      <th>Test</th>\n",
       "      <td>0.929363</td>\n",
       "      <td>0.930991</td>\n",
       "      <td>0.929363</td>\n",
       "      <td>0.928956</td>\n",
       "    </tr>\n",
       "  </tbody>\n",
       "</table>\n",
       "</div>"
      ],
      "text/plain": [
       "            accuracy  precision    recall        f1\n",
       "Train       0.957016   0.957590  0.957016  0.956874\n",
       "Validation  0.927911   0.929632  0.927911  0.927441\n",
       "Test        0.929363   0.930991  0.929363  0.928956"
      ]
     },
     "execution_count": 27,
     "metadata": {},
     "output_type": "execute_result"
    }
   ],
   "source": [
    "knn_metrics = pd.DataFrame({\n",
    "    'Train': knn_metrics_best_train,\n",
    "    'Validation': knn_metrics_best_val,\n",
    "    'Test': knn_metrics_test\n",
    "})\n",
    "knn_metrics = knn_metrics.T\n",
    "knn_metrics"
   ]
  },
  {
   "cell_type": "markdown",
   "id": "5a73669d-7c1e-42e0-afd4-3700acd1b4ae",
   "metadata": {},
   "source": [
    "## 3.2 -  Decision Tree"
   ]
  },
  {
   "cell_type": "markdown",
   "id": "3fc37f05-cf73-4d4e-8e28-17d59076240b",
   "metadata": {},
   "source": [
    "### 3.2.1 - Training"
   ]
  },
  {
   "cell_type": "code",
   "execution_count": 41,
   "id": "921c2a9b-e432-46bb-bc3d-cc92b13be1c0",
   "metadata": {
    "scrolled": true
   },
   "outputs": [
    {
     "data": {
      "text/plain": [
       "{'accuracy': 1.0, 'precision': 1.0, 'recall': 1.0, 'f1': 1.0}"
      ]
     },
     "execution_count": 41,
     "metadata": {},
     "output_type": "execute_result"
    }
   ],
   "source": [
    "# Definition\n",
    "tree_classifier = DecisionTreeClassifier(random_state=0)\n",
    "\n",
    "# Training\n",
    "tree_classifier.fit(X_train_subset, y_train.values.ravel())\n",
    "\n",
    "# Classification over training data\n",
    "yhat_train = tree_classifier.predict(X_train_subset)\n",
    "\n",
    "# Metrics calculation\n",
    "report = classification_report(y_train.values.ravel(), yhat_train, output_dict=True)\n",
    "dt_metrics_train = {\n",
    "    'accuracy' : report['accuracy'],\n",
    "    'precision': report['weighted avg']['precision'],\n",
    "    'recall'   : report['weighted avg']['recall'],\n",
    "    'f1'       : report['weighted avg']['f1-score']\n",
    "}\n",
    "\n",
    "dt_metrics_train"
   ]
  },
  {
   "cell_type": "markdown",
   "id": "0916598c-e849-43c6-8ad5-37eba57267b8",
   "metadata": {},
   "source": [
    "### 3.2.2 - Validation"
   ]
  },
  {
   "cell_type": "code",
   "execution_count": 36,
   "id": "ca439a9e-d6d4-40b5-ad9c-a3b7273c43ff",
   "metadata": {},
   "outputs": [
    {
     "name": "stdout",
     "output_type": "stream",
     "text": [
      "max_depth tested:  1  2  3  4  5  6  7  8  9  10  11  12  13  14  15  16  17  18  19  20  21  22  23  24  25  "
     ]
    },
    {
     "data": {
      "image/png": "[encoded data removed]",
      "text/plain": [
       "<Figure size 1500x600 with 1 Axes>"
      ]
     },
     "metadata": {},
     "output_type": "display_data"
    },
    {
     "name": "stdout",
     "output_type": "stream",
     "text": [
      "Best max_depth_tree: 15\n"
     ]
    },
    {
     "data": {
      "text/plain": [
       "{'accuracy': 0.9507384407477718,\n",
       " 'precision': np.float64(0.9508660463456472),\n",
       " 'recall': np.float64(0.9507384407477718),\n",
       " 'f1': np.float64(0.9506450733316885)}"
      ]
     },
     "execution_count": 36,
     "metadata": {},
     "output_type": "execute_result"
    }
   ],
   "source": [
    "from sklearn.tree import DecisionTreeClassifier\n",
    "from sklearn.metrics import accuracy_score, precision_score, recall_score, f1_score\n",
    "import matplotlib.pyplot as plt\n",
    "\n",
    "# List of max_depth values to test\n",
    "max_depth = [i for i in range(1, 26)]\n",
    "\n",
    "# Dictionary to store metrics for each max_depth\n",
    "tree_metrics_dict_val = {i: {'accuracy': None, 'precision': None, 'recall': None, 'f1': None} for i in max_depth}\n",
    "\n",
    "print('max_depth tested:', end='  ')\n",
    "for i in max_depth:\n",
    "    # Instantiate and train the model\n",
    "    tree_classifier = DecisionTreeClassifier(max_depth=i, random_state=0)\n",
    "    tree_classifier.fit(X_train_subset, y_train.values.ravel())\n",
    "\n",
    "    # Predict on validation data\n",
    "    yhat_val = tree_classifier.predict(X_val_subset)\n",
    "\n",
    "    # Calculate metrics\n",
    "    accuracy = accuracy_score(y_val, yhat_val)\n",
    "    precision = precision_score(y_val, yhat_val, average='weighted')\n",
    "    recall = recall_score(y_val, yhat_val, average='weighted')\n",
    "    f1 = f1_score(y_val, yhat_val, average='weighted')\n",
    "    \n",
    "    # Store metrics in the dictionary\n",
    "    tree_metrics_dict_val[i] = {\n",
    "        'accuracy': accuracy,\n",
    "        'precision': precision,\n",
    "        'recall': recall,\n",
    "        'f1': f1\n",
    "    }\n",
    "\n",
    "    print(f'{i}', end='  ')\n",
    "\n",
    "# Find the best max_depth based on accuracy\n",
    "best_max_depth_tree = max(tree_metrics_dict_val, key=lambda k: tree_metrics_dict_val[k]['accuracy'])\n",
    "\n",
    "# Create a dictionary for the best metrics\n",
    "dt_metrics_best_val = tree_metrics_dict_val[best_max_depth_tree]\n",
    "\n",
    "# Plot the metrics\n",
    "accuracy = [tree_metrics_dict_val[n]['accuracy'] for n in max_depth]\n",
    "precision = [tree_metrics_dict_val[n]['precision'] for n in max_depth]\n",
    "recall = [tree_metrics_dict_val[n]['recall'] for n in max_depth]\n",
    "f1 = [tree_metrics_dict_val[n]['f1'] for n in max_depth]\n",
    "\n",
    "plt.figure(figsize=(15, 6))\n",
    "plt.plot(max_depth, accuracy, '-o', label='Accuracy')\n",
    "plt.plot(max_depth, precision, '-o', label='Precision')\n",
    "plt.plot(max_depth, recall, '-o', label='Recall')\n",
    "plt.plot(max_depth, f1, '-o', label='F1 Score')\n",
    "\n",
    "# Plot settings\n",
    "plt.xlabel('Max_depth')\n",
    "plt.ylabel('Score')\n",
    "plt.title('Comparison of Decision Tree Metrics (On Validation subset)')\n",
    "plt.xticks(max_depth) \n",
    "plt.legend(loc='best')\n",
    "plt.grid(True)\n",
    "\n",
    "plt.show()\n",
    "\n",
    "print(f'Best max_depth_tree: {best_max_depth_tree}')\n",
    "dt_metrics_best_val\n"
   ]
  },
  {
   "cell_type": "markdown",
   "id": "c20116e8-7123-4316-a092-88451b1f4c09",
   "metadata": {},
   "source": [
    "### 3.2.3 - Test"
   ]
  },
  {
   "cell_type": "code",
   "execution_count": 44,
   "id": "31fb43b9-ad7b-4133-a20c-5cc26017db81",
   "metadata": {},
   "outputs": [
    {
     "data": {
      "text/plain": [
       "{'accuracy': 0.9553547290773569,\n",
       " 'precision': 0.9554586304310896,\n",
       " 'recall': 0.9553547290773569,\n",
       " 'f1': 0.9552878570149588}"
      ]
     },
     "execution_count": 44,
     "metadata": {},
     "output_type": "execute_result"
    }
   ],
   "source": [
    "# Model trained on training + validation\n",
    "\n",
    "model_last = DecisionTreeClassifier(max_depth=best_max_depth_tree, random_state=0)\n",
    "model_last.fit(X_train_val, y_train_val)\n",
    "\n",
    "#classification on test data\n",
    "yhat_test = model_last.predict(X_test_subset)\n",
    "\n",
    "# Metrics calculation\n",
    "report = classification_report(y_test, yhat_test, output_dict=True)\n",
    "dt_metrics_test = {\n",
    "    'accuracy': report['accuracy'],\n",
    "    'precision': report['weighted avg']['precision'],\n",
    "    'recall': report['weighted avg']['recall'],\n",
    "    'f1': report['weighted avg']['f1-score']\n",
    "}\n",
    "\n",
    "dt_metrics_test"
   ]
  },
  {
   "cell_type": "markdown",
   "id": "2bec81a8-e20f-4120-bcb6-1aba218a094a",
   "metadata": {},
   "source": [
    "### 3.2.4 - Results"
   ]
  },
  {
   "cell_type": "code",
   "execution_count": 45,
   "id": "f9f63509-10c3-4642-bddb-c449c76d32f1",
   "metadata": {},
   "outputs": [
    {
     "data": {
      "text/html": [
       "<div>\n",
       "<style scoped>\n",
       "    .dataframe tbody tr th:only-of-type {\n",
       "        vertical-align: middle;\n",
       "    }\n",
       "\n",
       "    .dataframe tbody tr th {\n",
       "        vertical-align: top;\n",
       "    }\n",
       "\n",
       "    .dataframe thead th {\n",
       "        text-align: right;\n",
       "    }\n",
       "</style>\n",
       "<table border=\"1\" class=\"dataframe\">\n",
       "  <thead>\n",
       "    <tr style=\"text-align: right;\">\n",
       "      <th></th>\n",
       "      <th>accuracy</th>\n",
       "      <th>precision</th>\n",
       "      <th>recall</th>\n",
       "      <th>f1</th>\n",
       "    </tr>\n",
       "  </thead>\n",
       "  <tbody>\n",
       "    <tr>\n",
       "      <th>Train</th>\n",
       "      <td>1.000000</td>\n",
       "      <td>1.000000</td>\n",
       "      <td>1.000000</td>\n",
       "      <td>1.000000</td>\n",
       "    </tr>\n",
       "    <tr>\n",
       "      <th>Validation</th>\n",
       "      <td>0.950738</td>\n",
       "      <td>0.950866</td>\n",
       "      <td>0.950738</td>\n",
       "      <td>0.950645</td>\n",
       "    </tr>\n",
       "    <tr>\n",
       "      <th>Test</th>\n",
       "      <td>0.955355</td>\n",
       "      <td>0.955459</td>\n",
       "      <td>0.955355</td>\n",
       "      <td>0.955288</td>\n",
       "    </tr>\n",
       "  </tbody>\n",
       "</table>\n",
       "</div>"
      ],
      "text/plain": [
       "            accuracy  precision    recall        f1\n",
       "Train       1.000000   1.000000  1.000000  1.000000\n",
       "Validation  0.950738   0.950866  0.950738  0.950645\n",
       "Test        0.955355   0.955459  0.955355  0.955288"
      ]
     },
     "execution_count": 45,
     "metadata": {},
     "output_type": "execute_result"
    }
   ],
   "source": [
    "dt_metrics = pd.DataFrame({\n",
    "    'Train': dt_metrics_train,\n",
    "    'Validation': dt_metrics_best_val,\n",
    "    'Test':dt_metrics_test\n",
    "})\n",
    "dt_metrics = dt_metrics.T\n",
    "dt_metrics"
   ]
  },
  {
   "cell_type": "markdown",
   "id": "3b0c3e38-3bd1-48b4-a77e-3a353d3e4757",
   "metadata": {},
   "source": [
    "## 3.3 - Random Forest"
   ]
  },
  {
   "cell_type": "markdown",
   "id": "401cf52f-0817-45f5-857d-c60a92dc6beb",
   "metadata": {},
   "source": [
    "### 3.3.1 - Training"
   ]
  },
  {
   "cell_type": "code",
   "execution_count": 46,
   "id": "73deac3e-4d26-4ace-a256-3059bc004e54",
   "metadata": {},
   "outputs": [
    {
     "data": {
      "text/plain": [
       "{'accuracy': 1.0, 'precision': 1.0, 'recall': 1.0, 'f1': 1.0}"
      ]
     },
     "execution_count": 46,
     "metadata": {},
     "output_type": "execute_result"
    }
   ],
   "source": [
    "# Definition\n",
    "rf_classifier = RandomForestClassifier(random_state=0)\n",
    "\n",
    "# Training\n",
    "rf_classifier.fit(X_train_subset, y_train.values.ravel())\n",
    "\n",
    "# Classification over training data\n",
    "yhat_train = rf_classifier.predict(X_train_subset)\n",
    "\n",
    "# Metrics calculation\n",
    "report = classification_report(y_train.values.ravel(), yhat_train, output_dict=True)\n",
    "rf_metrics_train = {\n",
    "    'accuracy' : report['accuracy'],\n",
    "    'precision': report['weighted avg']['precision'],\n",
    "    'recall'   : report['weighted avg']['recall'],\n",
    "    'f1'       : report['weighted avg']['f1-score']\n",
    "}\n",
    "\n",
    "rf_metrics_train"
   ]
  },
  {
   "cell_type": "markdown",
   "id": "e73ca1f9-48e8-468b-8433-94187a8eedc0",
   "metadata": {},
   "source": [
    "### 3.2.2 - Validation"
   ]
  },
  {
   "cell_type": "markdown",
   "id": "762d3a0d-fb76-4047-b8e7-4a8f3c77c794",
   "metadata": {},
   "source": [
    "For the validation tests, a reduced version of the dataset will be used to adjust the parameters so that they can be used in the next stage, in the final model."
   ]
  },
  {
   "cell_type": "code",
   "execution_count": 47,
   "id": "f4f28274-cf2f-45a0-a517-2d2e7307ccc1",
   "metadata": {},
   "outputs": [
    {
     "data": {
      "image/png": "[encoded data removed]",
      "text/plain": [
       "<Figure size 1000x600 with 1 Axes>"
      ]
     },
     "metadata": {},
     "output_type": "display_data"
    }
   ],
   "source": [
    "importances = pd.DataFrame({'feature': X_train_subset.columns.tolist(), 'importance': rf_classifier.feature_importances_})\n",
    "\n",
    "# Ordenar por importância\n",
    "importances = importances[importances.importance>=0.032].sort_values('importance', ascending=True)\n",
    "\n",
    "# Plotar a importância das features\n",
    "plt.figure(figsize=(10,6))\n",
    "plt.barh(importances['feature'], importances['importance'])\n",
    "plt.xlabel(\"Importance\")\n",
    "plt.title(\"Features' importance\")\n",
    "plt.show()\n",
    "\n",
    "filtered_features = importances.feature.tolist()"
   ]
  },
  {
   "cell_type": "code",
   "execution_count": 55,
   "id": "f8cf9e10-85e1-4810-9b04-a7fd8c8bab1d",
   "metadata": {},
   "outputs": [
    {
     "name": "stdout",
     "output_type": "stream",
     "text": [
      "Tested hyperparameters:\n",
      "n_estimators=450, max_depth=13\n",
      "n_estimators=450, max_depth=15\n",
      "n_estimators=450, max_depth=17\n",
      "n_estimators=450, max_depth=19\n",
      "n_estimators=500, max_depth=13\n",
      "n_estimators=500, max_depth=15\n",
      "n_estimators=500, max_depth=17\n",
      "n_estimators=500, max_depth=19\n",
      "n_estimators=550, max_depth=13\n",
      "n_estimators=550, max_depth=15\n",
      "n_estimators=550, max_depth=17\n",
      "n_estimators=550, max_depth=19\n"
     ]
    },
    {
     "data": {
      "application/vnd.plotly.v1+json": {
       "config": {
        "plotlyServerURL": "https://plot.ly"
       },
       "data": [
        {
         "colorbar": {
          "title": {
           "text": "Accuracy"
          }
         },
         "colorscale": [
          [
           0,
           "#0508b8"
          ],
          [
           0.08333333333333333,
           "#1910d8"
          ],
          [
           0.16666666666666666,
           "#3c19f0"
          ],
          [
           0.25,
           "#6b1cfb"
          ],
          [
           0.3333333333333333,
           "#981cfd"
          ],
          [
           0.4166666666666667,
           "#bf1cfd"
          ],
          [
           0.5,
           "#dd2bfd"
          ],
          [
           0.5833333333333334,
           "#f246fe"
          ],
          [
           0.6666666666666666,
           "#fc67fd"
          ],
          [
           0.75,
           "#fe88fc"
          ],
          [
           0.8333333333333334,
           "#fea5fd"
          ],
          [
           0.9166666666666666,
           "#febefe"
          ],
          [
           1,
           "#fec3fe"
          ]
         ],
         "name": "Accuracy",
         "type": "surface",
         "x": [
          [
           450,
           500,
           550
          ],
          [
           450,
           500,
           550
          ],
          [
           450,
           500,
           550
          ],
          [
           450,
           500,
           550
          ]
         ],
         "y": [
          [
           13,
           13,
           13
          ],
          [
           15,
           15,
           15
          ],
          [
           17,
           17,
           17
          ],
          [
           19,
           19,
           19
          ]
         ],
         "z": [
          [
           0.9426300717526304,
           0.9424691914154252,
           0.9425013674828663
          ],
          [
           0.9441423469223591,
           0.9441423469223591,
           0.9441745229898002
          ],
          [
           0.9443997554618875,
           0.9445606357990927,
           0.9442388751246823
          ],
          [
           0.9428553042247176,
           0.9425978956851894,
           0.9425657196177483
          ]
         ]
        }
       ],
       "layout": {
        "autosize": true,
        "scene": {
         "aspectmode": "auto",
         "aspectratio": {
          "x": 1,
          "y": 1,
          "z": 1
         },
         "camera": {
          "center": {
           "x": 0,
           "y": 0,
           "z": 0
          },
          "eye": {
           "x": -1.9164084321102586,
           "y": -0.21782101571760634,
           "z": 1.0148560126680302
          },
          "projection": {
           "type": "perspective"
          },
          "up": {
           "x": 0,
           "y": 0,
           "z": 1
          }
         },
         "xaxis": {
          "title": {
           "text": "n_estimators"
          },
          "type": "linear"
         },
         "yaxis": {
          "title": {
           "text": "max_depth"
          },
          "type": "linear"
         },
         "zaxis": {
          "title": {
           "text": "Score"
          },
          "type": "linear"
         }
        },
        "template": {
         "data": {
          "bar": [
           {
            "error_x": {
             "color": "#2a3f5f"
            },
            "error_y": {
             "color": "#2a3f5f"
            },
            "marker": {
             "line": {
              "color": "#E5ECF6",
              "width": 0.5
             },
             "pattern": {
              "fillmode": "overlay",
              "size": 10,
              "solidity": 0.2
             }
            },
            "type": "bar"
           }
          ],
          "barpolar": [
           {
            "marker": {
             "line": {
              "color": "#E5ECF6",
              "width": 0.5
             },
             "pattern": {
              "fillmode": "overlay",
              "size": 10,
              "solidity": 0.2
             }
            },
            "type": "barpolar"
           }
          ],
          "carpet": [
           {
            "aaxis": {
             "endlinecolor": "#2a3f5f",
             "gridcolor": "white",
             "linecolor": "white",
             "minorgridcolor": "white",
             "startlinecolor": "#2a3f5f"
            },
            "baxis": {
             "endlinecolor": "#2a3f5f",
             "gridcolor": "white",
             "linecolor": "white",
             "minorgridcolor": "white",
             "startlinecolor": "#2a3f5f"
            },
            "type": "carpet"
           }
          ],
          "choropleth": [
           {
            "colorbar": {
             "outlinewidth": 0,
             "ticks": ""
            },
            "type": "choropleth"
           }
          ],
          "contour": [
           {
            "colorbar": {
             "outlinewidth": 0,
             "ticks": ""
            },
            "colorscale": [
             [
              0,
              "#0d0887"
             ],
             [
              0.1111111111111111,
              "#46039f"
             ],
             [
              0.2222222222222222,
              "#7201a8"
             ],
             [
              0.3333333333333333,
              "#9c179e"
             ],
             [
              0.4444444444444444,
              "#bd3786"
             ],
             [
              0.5555555555555556,
              "#d8576b"
             ],
             [
              0.6666666666666666,
              "#ed7953"
             ],
             [
              0.7777777777777778,
              "#fb9f3a"
             ],
             [
              0.8888888888888888,
              "#fdca26"
             ],
             [
              1,
              "#f0f921"
             ]
            ],
            "type": "contour"
           }
          ],
          "contourcarpet": [
           {
            "colorbar": {
             "outlinewidth": 0,
             "ticks": ""
            },
            "type": "contourcarpet"
           }
          ],
          "heatmap": [
           {
            "colorbar": {
             "outlinewidth": 0,
             "ticks": ""
            },
            "colorscale": [
             [
              0,
              "#0d0887"
             ],
             [
              0.1111111111111111,
              "#46039f"
             ],
             [
              0.2222222222222222,
              "#7201a8"
             ],
             [
              0.3333333333333333,
              "#9c179e"
             ],
             [
              0.4444444444444444,
              "#bd3786"
             ],
             [
              0.5555555555555556,
              "#d8576b"
             ],
             [
              0.6666666666666666,
              "#ed7953"
             ],
             [
              0.7777777777777778,
              "#fb9f3a"
             ],
             [
              0.8888888888888888,
              "#fdca26"
             ],
             [
              1,
              "#f0f921"
             ]
            ],
            "type": "heatmap"
           }
          ],
          "heatmapgl": [
           {
            "colorbar": {
             "outlinewidth": 0,
             "ticks": ""
            },
            "colorscale": [
             [
              0,
              "#0d0887"
             ],
             [
              0.1111111111111111,
              "#46039f"
             ],
             [
              0.2222222222222222,
              "#7201a8"
             ],
             [
              0.3333333333333333,
              "#9c179e"
             ],
             [
              0.4444444444444444,
              "#bd3786"
             ],
             [
              0.5555555555555556,
              "#d8576b"
             ],
             [
              0.6666666666666666,
              "#ed7953"
             ],
             [
              0.7777777777777778,
              "#fb9f3a"
             ],
             [
              0.8888888888888888,
              "#fdca26"
             ],
             [
              1,
              "#f0f921"
             ]
            ],
            "type": "heatmapgl"
           }
          ],
          "histogram": [
           {
            "marker": {
             "pattern": {
              "fillmode": "overlay",
              "size": 10,
              "solidity": 0.2
             }
            },
            "type": "histogram"
           }
          ],
          "histogram2d": [
           {
            "colorbar": {
             "outlinewidth": 0,
             "ticks": ""
            },
            "colorscale": [
             [
              0,
              "#0d0887"
             ],
             [
              0.1111111111111111,
              "#46039f"
             ],
             [
              0.2222222222222222,
              "#7201a8"
             ],
             [
              0.3333333333333333,
              "#9c179e"
             ],
             [
              0.4444444444444444,
              "#bd3786"
             ],
             [
              0.5555555555555556,
              "#d8576b"
             ],
             [
              0.6666666666666666,
              "#ed7953"
             ],
             [
              0.7777777777777778,
              "#fb9f3a"
             ],
             [
              0.8888888888888888,
              "#fdca26"
             ],
             [
              1,
              "#f0f921"
             ]
            ],
            "type": "histogram2d"
           }
          ],
          "histogram2dcontour": [
           {
            "colorbar": {
             "outlinewidth": 0,
             "ticks": ""
            },
            "colorscale": [
             [
              0,
              "#0d0887"
             ],
             [
              0.1111111111111111,
              "#46039f"
             ],
             [
              0.2222222222222222,
              "#7201a8"
             ],
             [
              0.3333333333333333,
              "#9c179e"
             ],
             [
              0.4444444444444444,
              "#bd3786"
             ],
             [
              0.5555555555555556,
              "#d8576b"
             ],
             [
              0.6666666666666666,
              "#ed7953"
             ],
             [
              0.7777777777777778,
              "#fb9f3a"
             ],
             [
              0.8888888888888888,
              "#fdca26"
             ],
             [
              1,
              "#f0f921"
             ]
            ],
            "type": "histogram2dcontour"
           }
          ],
          "mesh3d": [
           {
            "colorbar": {
             "outlinewidth": 0,
             "ticks": ""
            },
            "type": "mesh3d"
           }
          ],
          "parcoords": [
           {
            "line": {
             "colorbar": {
              "outlinewidth": 0,
              "ticks": ""
             }
            },
            "type": "parcoords"
           }
          ],
          "pie": [
           {
            "automargin": true,
            "type": "pie"
           }
          ],
          "scatter": [
           {
            "fillpattern": {
             "fillmode": "overlay",
             "size": 10,
             "solidity": 0.2
            },
            "type": "scatter"
           }
          ],
          "scatter3d": [
           {
            "line": {
             "colorbar": {
              "outlinewidth": 0,
              "ticks": ""
             }
            },
            "marker": {
             "colorbar": {
              "outlinewidth": 0,
              "ticks": ""
             }
            },
            "type": "scatter3d"
           }
          ],
          "scattercarpet": [
           {
            "marker": {
             "colorbar": {
              "outlinewidth": 0,
              "ticks": ""
             }
            },
            "type": "scattercarpet"
           }
          ],
          "scattergeo": [
           {
            "marker": {
             "colorbar": {
              "outlinewidth": 0,
              "ticks": ""
             }
            },
            "type": "scattergeo"
           }
          ],
          "scattergl": [
           {
            "marker": {
             "colorbar": {
              "outlinewidth": 0,
              "ticks": ""
             }
            },
            "type": "scattergl"
           }
          ],
          "scattermapbox": [
           {
            "marker": {
             "colorbar": {
              "outlinewidth": 0,
              "ticks": ""
             }
            },
            "type": "scattermapbox"
           }
          ],
          "scatterpolar": [
           {
            "marker": {
             "colorbar": {
              "outlinewidth": 0,
              "ticks": ""
             }
            },
            "type": "scatterpolar"
           }
          ],
          "scatterpolargl": [
           {
            "marker": {
             "colorbar": {
              "outlinewidth": 0,
              "ticks": ""
             }
            },
            "type": "scatterpolargl"
           }
          ],
          "scatterternary": [
           {
            "marker": {
             "colorbar": {
              "outlinewidth": 0,
              "ticks": ""
             }
            },
            "type": "scatterternary"
           }
          ],
          "surface": [
           {
            "colorbar": {
             "outlinewidth": 0,
             "ticks": ""
            },
            "colorscale": [
             [
              0,
              "#0d0887"
             ],
             [
              0.1111111111111111,
              "#46039f"
             ],
             [
              0.2222222222222222,
              "#7201a8"
             ],
             [
              0.3333333333333333,
              "#9c179e"
             ],
             [
              0.4444444444444444,
              "#bd3786"
             ],
             [
              0.5555555555555556,
              "#d8576b"
             ],
             [
              0.6666666666666666,
              "#ed7953"
             ],
             [
              0.7777777777777778,
              "#fb9f3a"
             ],
             [
              0.8888888888888888,
              "#fdca26"
             ],
             [
              1,
              "#f0f921"
             ]
            ],
            "type": "surface"
           }
          ],
          "table": [
           {
            "cells": {
             "fill": {
              "color": "#EBF0F8"
             },
             "line": {
              "color": "white"
             }
            },
            "header": {
             "fill": {
              "color": "#C8D4E3"
             },
             "line": {
              "color": "white"
             }
            },
            "type": "table"
           }
          ]
         },
         "layout": {
          "annotationdefaults": {
           "arrowcolor": "#2a3f5f",
           "arrowhead": 0,
           "arrowwidth": 1
          },
          "autotypenumbers": "strict",
          "coloraxis": {
           "colorbar": {
            "outlinewidth": 0,
            "ticks": ""
           }
          },
          "colorscale": {
           "diverging": [
            [
             0,
             "#8e0152"
            ],
            [
             0.1,
             "#c51b7d"
            ],
            [
             0.2,
             "#de77ae"
            ],
            [
             0.3,
             "#f1b6da"
            ],
            [
             0.4,
             "#fde0ef"
            ],
            [
             0.5,
             "#f7f7f7"
            ],
            [
             0.6,
             "#e6f5d0"
            ],
            [
             0.7,
             "#b8e186"
            ],
            [
             0.8,
             "#7fbc41"
            ],
            [
             0.9,
             "#4d9221"
            ],
            [
             1,
             "#276419"
            ]
           ],
           "sequential": [
            [
             0,
             "#0d0887"
            ],
            [
             0.1111111111111111,
             "#46039f"
            ],
            [
             0.2222222222222222,
             "#7201a8"
            ],
            [
             0.3333333333333333,
             "#9c179e"
            ],
            [
             0.4444444444444444,
             "#bd3786"
            ],
            [
             0.5555555555555556,
             "#d8576b"
            ],
            [
             0.6666666666666666,
             "#ed7953"
            ],
            [
             0.7777777777777778,
             "#fb9f3a"
            ],
            [
             0.8888888888888888,
             "#fdca26"
            ],
            [
             1,
             "#f0f921"
            ]
           ],
           "sequentialminus": [
            [
             0,
             "#0d0887"
            ],
            [
             0.1111111111111111,
             "#46039f"
            ],
            [
             0.2222222222222222,
             "#7201a8"
            ],
            [
             0.3333333333333333,
             "#9c179e"
            ],
            [
             0.4444444444444444,
             "#bd3786"
            ],
            [
             0.5555555555555556,
             "#d8576b"
            ],
            [
             0.6666666666666666,
             "#ed7953"
            ],
            [
             0.7777777777777778,
             "#fb9f3a"
            ],
            [
             0.8888888888888888,
             "#fdca26"
            ],
            [
             1,
             "#f0f921"
            ]
           ]
          },
          "colorway": [
           "#636efa",
           "#EF553B",
           "#00cc96",
           "#ab63fa",
           "#FFA15A",
           "#19d3f3",
           "#FF6692",
           "#B6E880",
           "#FF97FF",
           "#FECB52"
          ],
          "font": {
           "color": "#2a3f5f"
          },
          "geo": {
           "bgcolor": "white",
           "lakecolor": "white",
           "landcolor": "#E5ECF6",
           "showlakes": true,
           "showland": true,
           "subunitcolor": "white"
          },
          "hoverlabel": {
           "align": "left"
          },
          "hovermode": "closest",
          "mapbox": {
           "style": "light"
          },
          "paper_bgcolor": "white",
          "plot_bgcolor": "#E5ECF6",
          "polar": {
           "angularaxis": {
            "gridcolor": "white",
            "linecolor": "white",
            "ticks": ""
           },
           "bgcolor": "#E5ECF6",
           "radialaxis": {
            "gridcolor": "white",
            "linecolor": "white",
            "ticks": ""
           }
          },
          "scene": {
           "xaxis": {
            "backgroundcolor": "#E5ECF6",
            "gridcolor": "white",
            "gridwidth": 2,
            "linecolor": "white",
            "showbackground": true,
            "ticks": "",
            "zerolinecolor": "white"
           },
           "yaxis": {
            "backgroundcolor": "#E5ECF6",
            "gridcolor": "white",
            "gridwidth": 2,
            "linecolor": "white",
            "showbackground": true,
            "ticks": "",
            "zerolinecolor": "white"
           },
           "zaxis": {
            "backgroundcolor": "#E5ECF6",
            "gridcolor": "white",
            "gridwidth": 2,
            "linecolor": "white",
            "showbackground": true,
            "ticks": "",
            "zerolinecolor": "white"
           }
          },
          "shapedefaults": {
           "line": {
            "color": "#2a3f5f"
           }
          },
          "ternary": {
           "aaxis": {
            "gridcolor": "white",
            "linecolor": "white",
            "ticks": ""
           },
           "baxis": {
            "gridcolor": "white",
            "linecolor": "white",
            "ticks": ""
           },
           "bgcolor": "#E5ECF6",
           "caxis": {
            "gridcolor": "white",
            "linecolor": "white",
            "ticks": ""
           }
          },
          "title": {
           "x": 0.05
          },
          "xaxis": {
           "automargin": true,
           "gridcolor": "white",
           "linecolor": "white",
           "ticks": "",
           "title": {
            "standoff": 15
           },
           "zerolinecolor": "white",
           "zerolinewidth": 2
          },
          "yaxis": {
           "automargin": true,
           "gridcolor": "white",
           "linecolor": "white",
           "ticks": "",
           "title": {
            "standoff": 15
           },
           "zerolinecolor": "white",
           "zerolinewidth": 2
          }
         }
        },
        "title": {
         "text": "Random Forest Hyperparameter Tuning - Surface Plot"
        }
       }
      },
      "text/html": [
       "<div>                            <div id=\"75bc87ac-9049-49de-901f-f686ac526f94\" class=\"plotly-graph-div\" style=\"height:800px; width:100%;\"></div>            <script type=\"text/javascript\">                require([\"plotly\"], function(Plotly) {                    window.PLOTLYENV=window.PLOTLYENV || {};                                    if (document.getElementById(\"75bc87ac-9049-49de-901f-f686ac526f94\")) {                    Plotly.newPlot(                        \"75bc87ac-9049-49de-901f-f686ac526f94\",                        [{\"colorbar\":{\"title\":{\"text\":\"Accuracy\"}},\"colorscale\":[[0.0,\"#0508b8\"],[0.08333333333333333,\"#1910d8\"],[0.16666666666666666,\"#3c19f0\"],[0.25,\"#6b1cfb\"],[0.3333333333333333,\"#981cfd\"],[0.4166666666666667,\"#bf1cfd\"],[0.5,\"#dd2bfd\"],[0.5833333333333334,\"#f246fe\"],[0.6666666666666666,\"#fc67fd\"],[0.75,\"#fe88fc\"],[0.8333333333333334,\"#fea5fd\"],[0.9166666666666666,\"#febefe\"],[1.0,\"#fec3fe\"]],\"name\":\"Accuracy\",\"x\":[[450,500,550],[450,500,550],[450,500,550],[450,500,550]],\"y\":[[13,13,13],[15,15,15],[17,17,17],[19,19,19]],\"z\":[[0.9426300717526304,0.9424691914154252,0.9425013674828663],[0.9441423469223591,0.9441423469223591,0.9441745229898002],[0.9443997554618875,0.9445606357990927,0.9442388751246823],[0.9428553042247176,0.9425978956851894,0.9425657196177483]],\"type\":\"surface\"}],                        {\"template\":{\"data\":{\"histogram2dcontour\":[{\"type\":\"histogram2dcontour\",\"colorbar\":{\"outlinewidth\":0,\"ticks\":\"\"},\"colorscale\":[[0.0,\"#0d0887\"],[0.1111111111111111,\"#46039f\"],[0.2222222222222222,\"#7201a8\"],[0.3333333333333333,\"#9c179e\"],[0.4444444444444444,\"#bd3786\"],[0.5555555555555556,\"#d8576b\"],[0.6666666666666666,\"#ed7953\"],[0.7777777777777778,\"#fb9f3a\"],[0.8888888888888888,\"#fdca26\"],[1.0,\"#f0f921\"]]}],\"choropleth\":[{\"type\":\"choropleth\",\"colorbar\":{\"outlinewidth\":0,\"ticks\":\"\"}}],\"histogram2d\":[{\"type\":\"histogram2d\",\"colorbar\":{\"outlinewidth\":0,\"ticks\":\"\"},\"colorscale\":[[0.0,\"#0d0887\"],[0.1111111111111111,\"#46039f\"],[0.2222222222222222,\"#7201a8\"],[0.3333333333333333,\"#9c179e\"],[0.4444444444444444,\"#bd3786\"],[0.5555555555555556,\"#d8576b\"],[0.6666666666666666,\"#ed7953\"],[0.7777777777777778,\"#fb9f3a\"],[0.8888888888888888,\"#fdca26\"],[1.0,\"#f0f921\"]]}],\"heatmap\":[{\"type\":\"heatmap\",\"colorbar\":{\"outlinewidth\":0,\"ticks\":\"\"},\"colorscale\":[[0.0,\"#0d0887\"],[0.1111111111111111,\"#46039f\"],[0.2222222222222222,\"#7201a8\"],[0.3333333333333333,\"#9c179e\"],[0.4444444444444444,\"#bd3786\"],[0.5555555555555556,\"#d8576b\"],[0.6666666666666666,\"#ed7953\"],[0.7777777777777778,\"#fb9f3a\"],[0.8888888888888888,\"#fdca26\"],[1.0,\"#f0f921\"]]}],\"heatmapgl\":[{\"type\":\"heatmapgl\",\"colorbar\":{\"outlinewidth\":0,\"ticks\":\"\"},\"colorscale\":[[0.0,\"#0d0887\"],[0.1111111111111111,\"#46039f\"],[0.2222222222222222,\"#7201a8\"],[0.3333333333333333,\"#9c179e\"],[0.4444444444444444,\"#bd3786\"],[0.5555555555555556,\"#d8576b\"],[0.6666666666666666,\"#ed7953\"],[0.7777777777777778,\"#fb9f3a\"],[0.8888888888888888,\"#fdca26\"],[1.0,\"#f0f921\"]]}],\"contourcarpet\":[{\"type\":\"contourcarpet\",\"colorbar\":{\"outlinewidth\":0,\"ticks\":\"\"}}],\"contour\":[{\"type\":\"contour\",\"colorbar\":{\"outlinewidth\":0,\"ticks\":\"\"},\"colorscale\":[[0.0,\"#0d0887\"],[0.1111111111111111,\"#46039f\"],[0.2222222222222222,\"#7201a8\"],[0.3333333333333333,\"#9c179e\"],[0.4444444444444444,\"#bd3786\"],[0.5555555555555556,\"#d8576b\"],[0.6666666666666666,\"#ed7953\"],[0.7777777777777778,\"#fb9f3a\"],[0.8888888888888888,\"#fdca26\"],[1.0,\"#f0f921\"]]}],\"surface\":[{\"type\":\"surface\",\"colorbar\":{\"outlinewidth\":0,\"ticks\":\"\"},\"colorscale\":[[0.0,\"#0d0887\"],[0.1111111111111111,\"#46039f\"],[0.2222222222222222,\"#7201a8\"],[0.3333333333333333,\"#9c179e\"],[0.4444444444444444,\"#bd3786\"],[0.5555555555555556,\"#d8576b\"],[0.6666666666666666,\"#ed7953\"],[0.7777777777777778,\"#fb9f3a\"],[0.8888888888888888,\"#fdca26\"],[1.0,\"#f0f921\"]]}],\"mesh3d\":[{\"type\":\"mesh3d\",\"colorbar\":{\"outlinewidth\":0,\"ticks\":\"\"}}],\"scatter\":[{\"fillpattern\":{\"fillmode\":\"overlay\",\"size\":10,\"solidity\":0.2},\"type\":\"scatter\"}],\"parcoords\":[{\"type\":\"parcoords\",\"line\":{\"colorbar\":{\"outlinewidth\":0,\"ticks\":\"\"}}}],\"scatterpolargl\":[{\"type\":\"scatterpolargl\",\"marker\":{\"colorbar\":{\"outlinewidth\":0,\"ticks\":\"\"}}}],\"bar\":[{\"error_x\":{\"color\":\"#2a3f5f\"},\"error_y\":{\"color\":\"#2a3f5f\"},\"marker\":{\"line\":{\"color\":\"#E5ECF6\",\"width\":0.5},\"pattern\":{\"fillmode\":\"overlay\",\"size\":10,\"solidity\":0.2}},\"type\":\"bar\"}],\"scattergeo\":[{\"type\":\"scattergeo\",\"marker\":{\"colorbar\":{\"outlinewidth\":0,\"ticks\":\"\"}}}],\"scatterpolar\":[{\"type\":\"scatterpolar\",\"marker\":{\"colorbar\":{\"outlinewidth\":0,\"ticks\":\"\"}}}],\"histogram\":[{\"marker\":{\"pattern\":{\"fillmode\":\"overlay\",\"size\":10,\"solidity\":0.2}},\"type\":\"histogram\"}],\"scattergl\":[{\"type\":\"scattergl\",\"marker\":{\"colorbar\":{\"outlinewidth\":0,\"ticks\":\"\"}}}],\"scatter3d\":[{\"type\":\"scatter3d\",\"line\":{\"colorbar\":{\"outlinewidth\":0,\"ticks\":\"\"}},\"marker\":{\"colorbar\":{\"outlinewidth\":0,\"ticks\":\"\"}}}],\"scattermapbox\":[{\"type\":\"scattermapbox\",\"marker\":{\"colorbar\":{\"outlinewidth\":0,\"ticks\":\"\"}}}],\"scatterternary\":[{\"type\":\"scatterternary\",\"marker\":{\"colorbar\":{\"outlinewidth\":0,\"ticks\":\"\"}}}],\"scattercarpet\":[{\"type\":\"scattercarpet\",\"marker\":{\"colorbar\":{\"outlinewidth\":0,\"ticks\":\"\"}}}],\"carpet\":[{\"aaxis\":{\"endlinecolor\":\"#2a3f5f\",\"gridcolor\":\"white\",\"linecolor\":\"white\",\"minorgridcolor\":\"white\",\"startlinecolor\":\"#2a3f5f\"},\"baxis\":{\"endlinecolor\":\"#2a3f5f\",\"gridcolor\":\"white\",\"linecolor\":\"white\",\"minorgridcolor\":\"white\",\"startlinecolor\":\"#2a3f5f\"},\"type\":\"carpet\"}],\"table\":[{\"cells\":{\"fill\":{\"color\":\"#EBF0F8\"},\"line\":{\"color\":\"white\"}},\"header\":{\"fill\":{\"color\":\"#C8D4E3\"},\"line\":{\"color\":\"white\"}},\"type\":\"table\"}],\"barpolar\":[{\"marker\":{\"line\":{\"color\":\"#E5ECF6\",\"width\":0.5},\"pattern\":{\"fillmode\":\"overlay\",\"size\":10,\"solidity\":0.2}},\"type\":\"barpolar\"}],\"pie\":[{\"automargin\":true,\"type\":\"pie\"}]},\"layout\":{\"autotypenumbers\":\"strict\",\"colorway\":[\"#636efa\",\"#EF553B\",\"#00cc96\",\"#ab63fa\",\"#FFA15A\",\"#19d3f3\",\"#FF6692\",\"#B6E880\",\"#FF97FF\",\"#FECB52\"],\"font\":{\"color\":\"#2a3f5f\"},\"hovermode\":\"closest\",\"hoverlabel\":{\"align\":\"left\"},\"paper_bgcolor\":\"white\",\"plot_bgcolor\":\"#E5ECF6\",\"polar\":{\"bgcolor\":\"#E5ECF6\",\"angularaxis\":{\"gridcolor\":\"white\",\"linecolor\":\"white\",\"ticks\":\"\"},\"radialaxis\":{\"gridcolor\":\"white\",\"linecolor\":\"white\",\"ticks\":\"\"}},\"ternary\":{\"bgcolor\":\"#E5ECF6\",\"aaxis\":{\"gridcolor\":\"white\",\"linecolor\":\"white\",\"ticks\":\"\"},\"baxis\":{\"gridcolor\":\"white\",\"linecolor\":\"white\",\"ticks\":\"\"},\"caxis\":{\"gridcolor\":\"white\",\"linecolor\":\"white\",\"ticks\":\"\"}},\"coloraxis\":{\"colorbar\":{\"outlinewidth\":0,\"ticks\":\"\"}},\"colorscale\":{\"sequential\":[[0.0,\"#0d0887\"],[0.1111111111111111,\"#46039f\"],[0.2222222222222222,\"#7201a8\"],[0.3333333333333333,\"#9c179e\"],[0.4444444444444444,\"#bd3786\"],[0.5555555555555556,\"#d8576b\"],[0.6666666666666666,\"#ed7953\"],[0.7777777777777778,\"#fb9f3a\"],[0.8888888888888888,\"#fdca26\"],[1.0,\"#f0f921\"]],\"sequentialminus\":[[0.0,\"#0d0887\"],[0.1111111111111111,\"#46039f\"],[0.2222222222222222,\"#7201a8\"],[0.3333333333333333,\"#9c179e\"],[0.4444444444444444,\"#bd3786\"],[0.5555555555555556,\"#d8576b\"],[0.6666666666666666,\"#ed7953\"],[0.7777777777777778,\"#fb9f3a\"],[0.8888888888888888,\"#fdca26\"],[1.0,\"#f0f921\"]],\"diverging\":[[0,\"#8e0152\"],[0.1,\"#c51b7d\"],[0.2,\"#de77ae\"],[0.3,\"#f1b6da\"],[0.4,\"#fde0ef\"],[0.5,\"#f7f7f7\"],[0.6,\"#e6f5d0\"],[0.7,\"#b8e186\"],[0.8,\"#7fbc41\"],[0.9,\"#4d9221\"],[1,\"#276419\"]]},\"xaxis\":{\"gridcolor\":\"white\",\"linecolor\":\"white\",\"ticks\":\"\",\"title\":{\"standoff\":15},\"zerolinecolor\":\"white\",\"automargin\":true,\"zerolinewidth\":2},\"yaxis\":{\"gridcolor\":\"white\",\"linecolor\":\"white\",\"ticks\":\"\",\"title\":{\"standoff\":15},\"zerolinecolor\":\"white\",\"automargin\":true,\"zerolinewidth\":2},\"scene\":{\"xaxis\":{\"backgroundcolor\":\"#E5ECF6\",\"gridcolor\":\"white\",\"linecolor\":\"white\",\"showbackground\":true,\"ticks\":\"\",\"zerolinecolor\":\"white\",\"gridwidth\":2},\"yaxis\":{\"backgroundcolor\":\"#E5ECF6\",\"gridcolor\":\"white\",\"linecolor\":\"white\",\"showbackground\":true,\"ticks\":\"\",\"zerolinecolor\":\"white\",\"gridwidth\":2},\"zaxis\":{\"backgroundcolor\":\"#E5ECF6\",\"gridcolor\":\"white\",\"linecolor\":\"white\",\"showbackground\":true,\"ticks\":\"\",\"zerolinecolor\":\"white\",\"gridwidth\":2}},\"shapedefaults\":{\"line\":{\"color\":\"#2a3f5f\"}},\"annotationdefaults\":{\"arrowcolor\":\"#2a3f5f\",\"arrowhead\":0,\"arrowwidth\":1},\"geo\":{\"bgcolor\":\"white\",\"landcolor\":\"#E5ECF6\",\"subunitcolor\":\"white\",\"showland\":true,\"showlakes\":true,\"lakecolor\":\"white\"},\"title\":{\"x\":0.05},\"mapbox\":{\"style\":\"light\"}}},\"scene\":{\"camera\":{\"eye\":{\"x\":1.5,\"y\":1.5,\"z\":0.5}},\"xaxis\":{\"title\":{\"text\":\"n_estimators\"}},\"yaxis\":{\"title\":{\"text\":\"max_depth\"}},\"zaxis\":{\"title\":{\"text\":\"Score\"}}},\"title\":{\"text\":\"Random Forest Hyperparameter Tuning - Surface Plot\"},\"autosize\":true,\"height\":800},                        {\"responsive\": true}                    ).then(function(){\n",
       "                            \n",
       "var gd = document.getElementById('75bc87ac-9049-49de-901f-f686ac526f94');\n",
       "var x = new MutationObserver(function (mutations, observer) {{\n",
       "        var display = window.getComputedStyle(gd).display;\n",
       "        if (!display || display === 'none') {{\n",
       "            console.log([gd, 'removed!']);\n",
       "            Plotly.purge(gd);\n",
       "            observer.disconnect();\n",
       "        }}\n",
       "}});\n",
       "\n",
       "// Listen for the removal of the full notebook cells\n",
       "var notebookContainer = gd.closest('#notebook-container');\n",
       "if (notebookContainer) {{\n",
       "    x.observe(notebookContainer, {childList: true});\n",
       "}}\n",
       "\n",
       "// Listen for the clearing of the current output cell\n",
       "var outputEl = gd.closest('.output');\n",
       "if (outputEl) {{\n",
       "    x.observe(outputEl, {childList: true});\n",
       "}}\n",
       "\n",
       "                        })                };                });            </script>        </div>"
      ]
     },
     "metadata": {},
     "output_type": "display_data"
    },
    {
     "name": "stdout",
     "output_type": "stream",
     "text": [
      "Best parameters: n_estimators=500, max_depth=17\n"
     ]
    },
    {
     "data": {
      "text/plain": [
       "{'accuracy': 0.9445606357990927,\n",
       " 'precision': np.float64(0.9447036891455044),\n",
       " 'recall': np.float64(0.9445606357990927),\n",
       " 'f1': np.float64(0.9444444432151429)}"
      ]
     },
     "execution_count": 55,
     "metadata": {},
     "output_type": "execute_result"
    }
   ],
   "source": [
    "# Define search space for hyperparameters\n",
    "n_estimators_range = [450, 500, 550]\n",
    "max_depth_range = [13, 15, 17, 19]\n",
    "\n",
    "# Initialize dictionary to store metrics\n",
    "rf_metrics_dict = {}\n",
    "\n",
    "# Perform grid search\n",
    "print('Tested hyperparameters:')\n",
    "for n in n_estimators_range:\n",
    "    for d in max_depth_range:\n",
    "        # Initialize RandomForestClassifier\n",
    "        rf_classifier = RandomForestClassifier(n_estimators=n, max_depth=d, random_state=0)\n",
    "        rf_classifier.fit(X_train_subset[filtered_features], y_train.values.ravel())\n",
    "\n",
    "        # Predict on validation set\n",
    "        yhat_val = rf_classifier.predict(X_val_subset[filtered_features])\n",
    "\n",
    "        # Metrics calculation        \n",
    "        accuracy = accuracy_score(y_val, yhat_val)\n",
    "        precision = precision_score(y_val, yhat_val, average='weighted')\n",
    "        recall = recall_score(y_val, yhat_val, average='weighted')\n",
    "        f1 = f1_score(y_val, yhat_val, average='weighted')\n",
    "\n",
    "        # Store metrics in dictionary\n",
    "        rf_metrics_dict[(n, d)] = {\n",
    "            'accuracy': accuracy,\n",
    "            'precision': precision,\n",
    "            'recall': recall,\n",
    "            'f1': f1\n",
    "        }\n",
    "        print(f'n_estimators={n}, max_depth={d}')\n",
    "\n",
    "# Extract unique hyperparameter values and sort them\n",
    "n_estimators_unique = np.unique([key[0] for key in rf_metrics_dict.keys()])\n",
    "max_depth_unique = np.unique([key[1] for key in rf_metrics_dict.keys()])\n",
    "\n",
    "# Create a grid for the surface plot\n",
    "n_estimators_grid, max_depth_grid = np.meshgrid(n_estimators_unique, max_depth_unique)\n",
    "\n",
    "# Initialize arrays for the metrics\n",
    "accuracy_grid = np.zeros_like(n_estimators_grid, dtype=float)\n",
    "precision_grid = np.zeros_like(n_estimators_grid, dtype=float)\n",
    "recall_grid = np.zeros_like(n_estimators_grid, dtype=float)\n",
    "f1_grid = np.zeros_like(n_estimators_grid, dtype=float)\n",
    "\n",
    "# Fill the grids with metric values\n",
    "for (n, d), metrics in rf_metrics_dict.items():\n",
    "    i = np.where(n_estimators_unique == n)[0][0]\n",
    "    j = np.where(max_depth_unique == d)[0][0]\n",
    "    accuracy_grid[j, i] = metrics['accuracy']\n",
    "    precision_grid[j, i] = metrics['precision']\n",
    "    recall_grid[j, i] = metrics['recall']\n",
    "    f1_grid[j, i] = metrics['f1']\n",
    "\n",
    "# Create the figure\n",
    "fig = go.Figure()\n",
    "\n",
    "# Add accuracy surface\n",
    "fig.add_trace(go.Surface(\n",
    "    x=n_estimators_grid,\n",
    "    y=max_depth_grid,\n",
    "    z=accuracy_grid,\n",
    "    colorscale='plotly3',\n",
    "    colorbar=dict(title='Accuracy'),\n",
    "    name='Accuracy'\n",
    "))\n",
    "\n",
    "# Update layout\n",
    "fig.update_layout(\n",
    "    scene=dict(\n",
    "        xaxis_title='n_estimators',\n",
    "        yaxis_title='max_depth',\n",
    "        zaxis_title='Score',\n",
    "        camera=dict(eye=dict(x=1.5, y=1.5, z=0.5))  # Adjust the camera for better view\n",
    "    ),\n",
    "    title=\"Random Forest Hyperparameter Tuning - Surface Plot\",\n",
    "    autosize=True,\n",
    "    height=800\n",
    ")\n",
    "\n",
    "fig.show()\n",
    "\n",
    "# Find the best parameters based on accuracy\n",
    "rf_best_params_val = max(rf_metrics_dict, key=lambda k: rf_metrics_dict[k]['accuracy'])\n",
    "rf_metrics_best_val = rf_metrics_dict[rf_best_params_val]\n",
    "\n",
    "print(f\"Best parameters: n_estimators={rf_best_params_val[0]}, max_depth={rf_best_params_val[1]}\")\n",
    "rf_metrics_best_val"
   ]
  },
  {
   "cell_type": "markdown",
   "id": "4434490c-e9ab-4ae8-9a26-35e0562ee235",
   "metadata": {},
   "source": [
    "### 3.3.3 - Test"
   ]
  },
  {
   "cell_type": "code",
   "execution_count": 56,
   "id": "4196d64a-2b72-4cc0-b261-cf38542b03a7",
   "metadata": {},
   "outputs": [
    {
     "data": {
      "text/plain": [
       "{'accuracy': 0.9622677943845827,\n",
       " 'precision': 0.9624005157219067,\n",
       " 'recall': 0.9622677943845827,\n",
       " 'f1': 0.9622102026307832}"
      ]
     },
     "execution_count": 56,
     "metadata": {},
     "output_type": "execute_result"
    }
   ],
   "source": [
    "# Model trained on training + validation\n",
    "\n",
    "model_last = RandomForestClassifier(\n",
    "    max_depth=int(rf_best_params_val[1]), \n",
    "    n_estimators=int(rf_best_params_val[0]), \n",
    "    random_state=0\n",
    ")\n",
    "model_last.fit(X_train_val, y_train_val)\n",
    "\n",
    "#classification on training + validation data\n",
    "yhat_test = model_last.predict(X_test_subset)\n",
    "\n",
    "# Metrics calculation\n",
    "report = classification_report(y_test, yhat_test, output_dict=True)\n",
    "rf_metrics_test = {\n",
    "    'accuracy' : report['accuracy'],\n",
    "    'precision': report['weighted avg']['precision'],\n",
    "    'recall'   : report['weighted avg']['recall'],\n",
    "    'f1'       : report['weighted avg']['f1-score']\n",
    "}\n",
    "\n",
    "rf_metrics_test"
   ]
  },
  {
   "cell_type": "markdown",
   "id": "1dde296d-632b-496e-9bb1-7dd538ae30ac",
   "metadata": {},
   "source": [
    "### 3.3.4 - Results"
   ]
  },
  {
   "cell_type": "code",
   "execution_count": 57,
   "id": "47142fee-f7a3-4628-b87f-1c5ae3186b12",
   "metadata": {},
   "outputs": [
    {
     "data": {
      "text/html": [
       "<div>\n",
       "<style scoped>\n",
       "    .dataframe tbody tr th:only-of-type {\n",
       "        vertical-align: middle;\n",
       "    }\n",
       "\n",
       "    .dataframe tbody tr th {\n",
       "        vertical-align: top;\n",
       "    }\n",
       "\n",
       "    .dataframe thead th {\n",
       "        text-align: right;\n",
       "    }\n",
       "</style>\n",
       "<table border=\"1\" class=\"dataframe\">\n",
       "  <thead>\n",
       "    <tr style=\"text-align: right;\">\n",
       "      <th></th>\n",
       "      <th>accuracy</th>\n",
       "      <th>precision</th>\n",
       "      <th>recall</th>\n",
       "      <th>f1</th>\n",
       "    </tr>\n",
       "  </thead>\n",
       "  <tbody>\n",
       "    <tr>\n",
       "      <th>Train</th>\n",
       "      <td>1.000000</td>\n",
       "      <td>1.000000</td>\n",
       "      <td>1.000000</td>\n",
       "      <td>1.000000</td>\n",
       "    </tr>\n",
       "    <tr>\n",
       "      <th>Validation</th>\n",
       "      <td>0.944561</td>\n",
       "      <td>0.944704</td>\n",
       "      <td>0.944561</td>\n",
       "      <td>0.944444</td>\n",
       "    </tr>\n",
       "    <tr>\n",
       "      <th>Test</th>\n",
       "      <td>0.962268</td>\n",
       "      <td>0.962401</td>\n",
       "      <td>0.962268</td>\n",
       "      <td>0.962210</td>\n",
       "    </tr>\n",
       "  </tbody>\n",
       "</table>\n",
       "</div>"
      ],
      "text/plain": [
       "            accuracy  precision    recall        f1\n",
       "Train       1.000000   1.000000  1.000000  1.000000\n",
       "Validation  0.944561   0.944704  0.944561  0.944444\n",
       "Test        0.962268   0.962401  0.962268  0.962210"
      ]
     },
     "execution_count": 57,
     "metadata": {},
     "output_type": "execute_result"
    }
   ],
   "source": [
    "rf_metrics = pd.DataFrame({\n",
    "    'Train': rf_metrics_train,\n",
    "    'Validation': rf_metrics_best_val,\n",
    "    'Test':rf_metrics_test\n",
    "})\n",
    "rf_metrics = rf_metrics.T\n",
    "rf_metrics"
   ]
  },
  {
   "cell_type": "markdown",
   "id": "823b5fd4-2c7d-443b-baaf-eea80bcbe8ea",
   "metadata": {},
   "source": [
    "## 3.4 - Logistic Regression\n"
   ]
  },
  {
   "cell_type": "markdown",
   "id": "373e3cff-5e89-46c9-8485-1d4b9b5a9288",
   "metadata": {},
   "source": [
    "### 3.4.1 - Training"
   ]
  },
  {
   "cell_type": "code",
   "execution_count": 61,
   "id": "879488d0-1e24-4bd3-b536-ced8469265e7",
   "metadata": {},
   "outputs": [
    {
     "data": {
      "text/plain": [
       "{'accuracy': 0.8752671860994277,\n",
       " 'precision': np.float64(0.8751339162478147),\n",
       " 'recall': np.float64(0.8752671860994277),\n",
       " 'f1': np.float64(0.8749394950802856)}"
      ]
     },
     "execution_count": 61,
     "metadata": {},
     "output_type": "execute_result"
    }
   ],
   "source": [
    "# Definition\n",
    "model_log_reg = LogisticRegression(random_state=0)\n",
    "\n",
    "# Training\n",
    "model_log_reg.fit(X_train_subset, y_train.values.ravel())\n",
    "\n",
    "# Classification over training data\n",
    "yhat_train = model_log_reg.predict(X_train_subset)\n",
    "\n",
    "# Metrics calculation\n",
    "acc_train = accuracy_score(y_train, yhat_train)\n",
    "prec_train = precision_score(y_train, yhat_train, average='weighted')\n",
    "rec_train = recall_score(y_train, yhat_train, average='weighted')\n",
    "f1_train = f1_score(y_train, yhat_train, average='weighted')\n",
    "\n",
    "# Storing metrics in the dictionary\n",
    "log_reg_metrics_train = {\n",
    "    'accuracy': acc_train,\n",
    "    'precision': prec_train,\n",
    "    'recall': rec_train,\n",
    "    'f1': f1_train\n",
    "}\n",
    "\n",
    "log_reg_metrics_train"
   ]
  },
  {
   "cell_type": "markdown",
   "id": "3d975d40-c424-410b-9d98-77629984a055",
   "metadata": {},
   "source": [
    "### 3.4.2 - Validation"
   ]
  },
  {
   "cell_type": "code",
   "execution_count": 58,
   "id": "f67ee930-e7f0-43b8-97d9-b03fa39eae20",
   "metadata": {
    "scrolled": true
   },
   "outputs": [
    {
     "name": "stdout",
     "output_type": "stream",
     "text": [
      "Fitting 3 folds for each of 54 candidates, totalling 162 fits\n",
      "[CV] END ..................C=10.0, max_iter=10, solver=lbfgs; total time=   3.2s\n",
      "[CV] END ..................C=10.0, max_iter=10, solver=lbfgs; total time=   0.1s\n",
      "[CV] END ..................C=10.0, max_iter=10, solver=lbfgs; total time=   0.1s\n",
      "[CV] END ..............C=10.0, max_iter=10, solver=liblinear; total time=   0.7s\n",
      "[CV] END ..............C=10.0, max_iter=10, solver=liblinear; total time=   0.8s\n",
      "[CV] END ..............C=10.0, max_iter=10, solver=liblinear; total time=   0.8s\n",
      "[CV] END ..............C=10.0, max_iter=10, solver=newton-cg; total time=   0.3s\n",
      "[CV] END ..............C=10.0, max_iter=10, solver=newton-cg; total time=   0.3s\n",
      "[CV] END ..............C=10.0, max_iter=10, solver=newton-cg; total time=   0.3s\n",
      "[CV] END ........C=10.0, max_iter=10, solver=newton-cholesky; total time=   0.2s\n",
      "[CV] END ........C=10.0, max_iter=10, solver=newton-cholesky; total time=   0.1s\n",
      "[CV] END ........C=10.0, max_iter=10, solver=newton-cholesky; total time=   0.1s\n",
      "[CV] END ....................C=10.0, max_iter=10, solver=sag; total time=   0.4s\n",
      "[CV] END ....................C=10.0, max_iter=10, solver=sag; total time=   0.4s\n",
      "[CV] END ....................C=10.0, max_iter=10, solver=sag; total time=   0.4s\n",
      "[CV] END ...................C=10.0, max_iter=10, solver=saga; total time=   0.5s\n",
      "[CV] END ...................C=10.0, max_iter=10, solver=saga; total time=   0.5s\n",
      "[CV] END ...................C=10.0, max_iter=10, solver=saga; total time=   0.5s\n",
      "[CV] END ..................C=10.0, max_iter=50, solver=lbfgs; total time=   0.3s\n",
      "[CV] END ..................C=10.0, max_iter=50, solver=lbfgs; total time=   0.3s\n",
      "[CV] END ..................C=10.0, max_iter=50, solver=lbfgs; total time=   0.3s\n",
      "[CV] END ..............C=10.0, max_iter=50, solver=liblinear; total time=   0.7s\n",
      "[CV] END ..............C=10.0, max_iter=50, solver=liblinear; total time=   0.8s\n",
      "[CV] END ..............C=10.0, max_iter=50, solver=liblinear; total time=   0.9s\n",
      "[CV] END ..............C=10.0, max_iter=50, solver=newton-cg; total time=   0.5s\n",
      "[CV] END ..............C=10.0, max_iter=50, solver=newton-cg; total time=   0.6s\n",
      "[CV] END ..............C=10.0, max_iter=50, solver=newton-cg; total time=   0.4s\n",
      "[CV] END ........C=10.0, max_iter=50, solver=newton-cholesky; total time=   0.1s\n",
      "[CV] END ........C=10.0, max_iter=50, solver=newton-cholesky; total time=   0.1s\n",
      "[CV] END ........C=10.0, max_iter=50, solver=newton-cholesky; total time=   0.2s\n",
      "[CV] END ....................C=10.0, max_iter=50, solver=sag; total time=   1.9s\n",
      "[CV] END ....................C=10.0, max_iter=50, solver=sag; total time=   1.6s\n",
      "[CV] END ....................C=10.0, max_iter=50, solver=sag; total time=   1.9s\n",
      "[CV] END ...................C=10.0, max_iter=50, solver=saga; total time=   3.6s\n",
      "[CV] END ...................C=10.0, max_iter=50, solver=saga; total time=   3.1s\n",
      "[CV] END ...................C=10.0, max_iter=50, solver=saga; total time=   3.3s\n",
      "[CV] END .................C=10.0, max_iter=100, solver=lbfgs; total time=   0.3s\n",
      "[CV] END .................C=10.0, max_iter=100, solver=lbfgs; total time=   0.3s\n",
      "[CV] END .................C=10.0, max_iter=100, solver=lbfgs; total time=   0.3s\n",
      "[CV] END .............C=10.0, max_iter=100, solver=liblinear; total time=   0.8s\n",
      "[CV] END .............C=10.0, max_iter=100, solver=liblinear; total time=   0.9s\n",
      "[CV] END .............C=10.0, max_iter=100, solver=liblinear; total time=   0.9s\n",
      "[CV] END .............C=10.0, max_iter=100, solver=newton-cg; total time=   0.3s\n",
      "[CV] END .............C=10.0, max_iter=100, solver=newton-cg; total time=   0.3s\n",
      "[CV] END .............C=10.0, max_iter=100, solver=newton-cg; total time=   0.3s\n",
      "[CV] END .......C=10.0, max_iter=100, solver=newton-cholesky; total time=   0.1s\n",
      "[CV] END .......C=10.0, max_iter=100, solver=newton-cholesky; total time=   0.1s\n",
      "[CV] END .......C=10.0, max_iter=100, solver=newton-cholesky; total time=   0.2s\n",
      "[CV] END ...................C=10.0, max_iter=100, solver=sag; total time=   4.7s\n",
      "[CV] END ...................C=10.0, max_iter=100, solver=sag; total time=   5.6s\n",
      "[CV] END ...................C=10.0, max_iter=100, solver=sag; total time=   5.2s\n",
      "[CV] END ..................C=10.0, max_iter=100, solver=saga; total time=   5.2s\n",
      "[CV] END ..................C=10.0, max_iter=100, solver=saga; total time=   4.1s\n",
      "[CV] END ..................C=10.0, max_iter=100, solver=saga; total time=   4.1s\n",
      "[CV] END .................C=100.0, max_iter=10, solver=lbfgs; total time=   0.1s\n",
      "[CV] END .................C=100.0, max_iter=10, solver=lbfgs; total time=   0.1s\n",
      "[CV] END .................C=100.0, max_iter=10, solver=lbfgs; total time=   0.1s\n",
      "[CV] END .............C=100.0, max_iter=10, solver=liblinear; total time=   0.9s\n",
      "[CV] END .............C=100.0, max_iter=10, solver=liblinear; total time=   0.9s\n",
      "[CV] END .............C=100.0, max_iter=10, solver=liblinear; total time=   0.8s\n",
      "[CV] END .............C=100.0, max_iter=10, solver=newton-cg; total time=   0.3s\n",
      "[CV] END .............C=100.0, max_iter=10, solver=newton-cg; total time=   0.4s\n",
      "[CV] END .............C=100.0, max_iter=10, solver=newton-cg; total time=   0.3s\n",
      "[CV] END .......C=100.0, max_iter=10, solver=newton-cholesky; total time=   0.1s\n",
      "[CV] END .......C=100.0, max_iter=10, solver=newton-cholesky; total time=   0.1s\n",
      "[CV] END .......C=100.0, max_iter=10, solver=newton-cholesky; total time=   0.2s\n",
      "[CV] END ...................C=100.0, max_iter=10, solver=sag; total time=   0.4s\n",
      "[CV] END ...................C=100.0, max_iter=10, solver=sag; total time=   0.6s\n",
      "[CV] END ...................C=100.0, max_iter=10, solver=sag; total time=   0.5s\n",
      "[CV] END ..................C=100.0, max_iter=10, solver=saga; total time=   0.5s\n",
      "[CV] END ..................C=100.0, max_iter=10, solver=saga; total time=   0.5s\n",
      "[CV] END ..................C=100.0, max_iter=10, solver=saga; total time=   0.4s\n",
      "[CV] END .................C=100.0, max_iter=50, solver=lbfgs; total time=   0.4s\n",
      "[CV] END .................C=100.0, max_iter=50, solver=lbfgs; total time=   0.3s\n",
      "[CV] END .................C=100.0, max_iter=50, solver=lbfgs; total time=   0.3s\n",
      "[CV] END .............C=100.0, max_iter=50, solver=liblinear; total time=   1.8s\n",
      "[CV] END .............C=100.0, max_iter=50, solver=liblinear; total time=   1.1s\n",
      "[CV] END .............C=100.0, max_iter=50, solver=liblinear; total time=   0.9s\n",
      "[CV] END .............C=100.0, max_iter=50, solver=newton-cg; total time=   0.3s\n",
      "[CV] END .............C=100.0, max_iter=50, solver=newton-cg; total time=   0.3s\n",
      "[CV] END .............C=100.0, max_iter=50, solver=newton-cg; total time=   0.3s\n",
      "[CV] END .......C=100.0, max_iter=50, solver=newton-cholesky; total time=   0.1s\n",
      "[CV] END .......C=100.0, max_iter=50, solver=newton-cholesky; total time=   0.1s\n",
      "[CV] END .......C=100.0, max_iter=50, solver=newton-cholesky; total time=   0.1s\n",
      "[CV] END ...................C=100.0, max_iter=50, solver=sag; total time=   1.8s\n",
      "[CV] END ...................C=100.0, max_iter=50, solver=sag; total time=   1.7s\n",
      "[CV] END ...................C=100.0, max_iter=50, solver=sag; total time=   1.6s\n",
      "[CV] END ..................C=100.0, max_iter=50, solver=saga; total time=   2.2s\n",
      "[CV] END ..................C=100.0, max_iter=50, solver=saga; total time=   2.4s\n",
      "[CV] END ..................C=100.0, max_iter=50, solver=saga; total time=   2.0s\n",
      "[CV] END ................C=100.0, max_iter=100, solver=lbfgs; total time=   0.2s\n",
      "[CV] END ................C=100.0, max_iter=100, solver=lbfgs; total time=   0.3s\n",
      "[CV] END ................C=100.0, max_iter=100, solver=lbfgs; total time=   0.3s\n",
      "[CV] END ............C=100.0, max_iter=100, solver=liblinear; total time=   0.8s\n",
      "[CV] END ............C=100.0, max_iter=100, solver=liblinear; total time=   1.1s\n",
      "[CV] END ............C=100.0, max_iter=100, solver=liblinear; total time=   1.0s\n",
      "[CV] END ............C=100.0, max_iter=100, solver=newton-cg; total time=   0.3s\n",
      "[CV] END ............C=100.0, max_iter=100, solver=newton-cg; total time=   0.3s\n",
      "[CV] END ............C=100.0, max_iter=100, solver=newton-cg; total time=   0.3s\n",
      "[CV] END ......C=100.0, max_iter=100, solver=newton-cholesky; total time=   0.1s\n",
      "[CV] END ......C=100.0, max_iter=100, solver=newton-cholesky; total time=   0.1s\n",
      "[CV] END ......C=100.0, max_iter=100, solver=newton-cholesky; total time=   0.1s\n",
      "[CV] END ..................C=100.0, max_iter=100, solver=sag; total time=   3.1s\n",
      "[CV] END ..................C=100.0, max_iter=100, solver=sag; total time=   7.7s\n",
      "[CV] END ..................C=100.0, max_iter=100, solver=sag; total time=   8.0s\n",
      "[CV] END .................C=100.0, max_iter=100, solver=saga; total time=   9.4s\n",
      "[CV] END .................C=100.0, max_iter=100, solver=saga; total time=   9.2s\n",
      "[CV] END .................C=100.0, max_iter=100, solver=saga; total time=   9.9s\n",
      "[CV] END ................C=1000.0, max_iter=10, solver=lbfgs; total time=   0.3s\n",
      "[CV] END ................C=1000.0, max_iter=10, solver=lbfgs; total time=   0.2s\n",
      "[CV] END ................C=1000.0, max_iter=10, solver=lbfgs; total time=   0.2s\n",
      "[CV] END ............C=1000.0, max_iter=10, solver=liblinear; total time=   1.8s\n",
      "[CV] END ............C=1000.0, max_iter=10, solver=liblinear; total time=   1.8s\n",
      "[CV] END ............C=1000.0, max_iter=10, solver=liblinear; total time=   1.6s\n",
      "[CV] END ............C=1000.0, max_iter=10, solver=newton-cg; total time=   0.6s\n",
      "[CV] END ............C=1000.0, max_iter=10, solver=newton-cg; total time=   0.6s\n",
      "[CV] END ............C=1000.0, max_iter=10, solver=newton-cg; total time=   0.9s\n",
      "[CV] END ......C=1000.0, max_iter=10, solver=newton-cholesky; total time=   0.4s\n",
      "[CV] END ......C=1000.0, max_iter=10, solver=newton-cholesky; total time=   0.3s\n",
      "[CV] END ......C=1000.0, max_iter=10, solver=newton-cholesky; total time=   0.3s\n",
      "[CV] END ..................C=1000.0, max_iter=10, solver=sag; total time=   1.2s\n",
      "[CV] END ..................C=1000.0, max_iter=10, solver=sag; total time=   0.9s\n",
      "[CV] END ..................C=1000.0, max_iter=10, solver=sag; total time=   1.3s\n",
      "[CV] END .................C=1000.0, max_iter=10, solver=saga; total time=   1.1s\n",
      "[CV] END .................C=1000.0, max_iter=10, solver=saga; total time=   1.7s\n",
      "[CV] END .................C=1000.0, max_iter=10, solver=saga; total time=   1.6s\n",
      "[CV] END ................C=1000.0, max_iter=50, solver=lbfgs; total time=   0.8s\n",
      "[CV] END ................C=1000.0, max_iter=50, solver=lbfgs; total time=   0.5s\n",
      "[CV] END ................C=1000.0, max_iter=50, solver=lbfgs; total time=   0.6s\n",
      "[CV] END ............C=1000.0, max_iter=50, solver=liblinear; total time=   2.2s\n",
      "[CV] END ............C=1000.0, max_iter=50, solver=liblinear; total time=   1.6s\n",
      "[CV] END ............C=1000.0, max_iter=50, solver=liblinear; total time=   1.8s\n",
      "[CV] END ............C=1000.0, max_iter=50, solver=newton-cg; total time=   0.6s\n",
      "[CV] END ............C=1000.0, max_iter=50, solver=newton-cg; total time=   0.7s\n",
      "[CV] END ............C=1000.0, max_iter=50, solver=newton-cg; total time=   0.5s\n",
      "[CV] END ......C=1000.0, max_iter=50, solver=newton-cholesky; total time=   0.7s\n",
      "[CV] END ......C=1000.0, max_iter=50, solver=newton-cholesky; total time=   0.3s\n",
      "[CV] END ......C=1000.0, max_iter=50, solver=newton-cholesky; total time=   0.3s\n",
      "[CV] END ..................C=1000.0, max_iter=50, solver=sag; total time=   4.7s\n",
      "[CV] END ..................C=1000.0, max_iter=50, solver=sag; total time=   5.0s\n",
      "[CV] END ..................C=1000.0, max_iter=50, solver=sag; total time=   4.9s\n",
      "[CV] END .................C=1000.0, max_iter=50, solver=saga; total time=   5.6s\n",
      "[CV] END .................C=1000.0, max_iter=50, solver=saga; total time=   5.1s\n",
      "[CV] END .................C=1000.0, max_iter=50, solver=saga; total time=   6.5s\n",
      "[CV] END ...............C=1000.0, max_iter=100, solver=lbfgs; total time=   0.6s\n",
      "[CV] END ...............C=1000.0, max_iter=100, solver=lbfgs; total time=   0.7s\n",
      "[CV] END ...............C=1000.0, max_iter=100, solver=lbfgs; total time=   0.9s\n",
      "[CV] END ...........C=1000.0, max_iter=100, solver=liblinear; total time=   2.4s\n",
      "[CV] END ...........C=1000.0, max_iter=100, solver=liblinear; total time=   2.2s\n",
      "[CV] END ...........C=1000.0, max_iter=100, solver=liblinear; total time=   1.8s\n",
      "[CV] END ...........C=1000.0, max_iter=100, solver=newton-cg; total time=   0.8s\n",
      "[CV] END ...........C=1000.0, max_iter=100, solver=newton-cg; total time=   0.6s\n",
      "[CV] END ...........C=1000.0, max_iter=100, solver=newton-cg; total time=   0.6s\n",
      "[CV] END .....C=1000.0, max_iter=100, solver=newton-cholesky; total time=   0.2s\n",
      "[CV] END .....C=1000.0, max_iter=100, solver=newton-cholesky; total time=   0.3s\n",
      "[CV] END .....C=1000.0, max_iter=100, solver=newton-cholesky; total time=   0.3s\n",
      "[CV] END .................C=1000.0, max_iter=100, solver=sag; total time=   8.5s\n",
      "[CV] END .................C=1000.0, max_iter=100, solver=sag; total time=   8.3s\n",
      "[CV] END .................C=1000.0, max_iter=100, solver=sag; total time=   6.7s\n",
      "[CV] END ................C=1000.0, max_iter=100, solver=saga; total time=   8.3s\n",
      "[CV] END ................C=1000.0, max_iter=100, solver=saga; total time=  10.1s\n",
      "[CV] END ................C=1000.0, max_iter=100, solver=saga; total time=  12.1s\n"
     ]
    },
    {
     "data": {
      "text/plain": [
       "{'accuracy': 0.8752119989970061,\n",
       " 'precision': 0.8708780188180936,\n",
       " 'recall': 0.8360379279623266,\n",
       " 'f1': 0.8530936393792627}"
      ]
     },
     "execution_count": 58,
     "metadata": {},
     "output_type": "execute_result"
    }
   ],
   "source": [
    "clf_log_reg = LogisticRegression()\n",
    "cv = StratifiedKFold(\n",
    "    n_splits=3,\n",
    "    random_state=0,\n",
    "    shuffle=True\n",
    ")\n",
    "# hyperparameter search space\n",
    "param_grid_knn = {\n",
    "    'C': np.logspace(1,3,3),\n",
    "    'solver': ['lbfgs', 'liblinear', 'newton-cg', 'newton-cholesky', 'sag', 'saga'],\n",
    "    'max_iter': [10, 50, 100],\n",
    "}\n",
    "\n",
    "# grid search\n",
    "grid_log_reg = GridSearchCV(\n",
    "    estimator=clf_log_reg,\n",
    "    param_grid=param_grid_knn,\n",
    "    cv=cv,\n",
    "    scoring=['accuracy', 'precision', 'recall', 'f1'],\n",
    "    verbose=2,\n",
    "    refit='accuracy',\n",
    "    # n_jobs=-1\n",
    ")\n",
    "\n",
    "# train\n",
    "grid_log_reg.fit(X_train_subset, y_train.values.ravel())\n",
    "\n",
    "# Extract best parameters and their corresponding metrics\n",
    "best_index = grid_log_reg.best_index_\n",
    "\n",
    "# Create a dictionary with the metrics\n",
    "log_reg_metrics_best_val = {\n",
    "    'accuracy': float(grid_log_reg.cv_results_['mean_test_accuracy'][best_index]),\n",
    "    'precision': float(grid_log_reg.cv_results_['mean_test_precision'][best_index]),\n",
    "    'recall': float(grid_log_reg.cv_results_['mean_test_recall'][best_index]),\n",
    "    'f1': float(grid_log_reg.cv_results_['mean_test_f1'][best_index])\n",
    "}\n",
    "\n",
    "log_reg_metrics_best_val"
   ]
  },
  {
   "cell_type": "code",
   "execution_count": 29,
   "id": "d781c709-3c6c-45b2-a049-a5b86a3815b5",
   "metadata": {},
   "outputs": [
    {
     "name": "stdout",
     "output_type": "stream",
     "text": [
      "Accuracy Over Validation:  0.87525\n",
      "Precision Over Validation: 0.87117\n",
      "Recall Over Validation:    0.83578\n",
      "F1 Score Over Validation:  0.85310\n"
     ]
    }
   ],
   "source": [
    "result_grid_df = pd.DataFrame(grid_log_reg.cv_results_)\n",
    "best_estimator = result_grid_df.loc[result_grid_df.rank_test_accuracy == 1]\n",
    "\n",
    "lr_acc_val  = float(best_estimator['mean_test_accuracy'])\n",
    "lr_prec_val = float(best_estimator['mean_test_precision'])\n",
    "lr_rec_val  = float(best_estimator['mean_test_recall'])\n",
    "lr_f1_val   = float(best_estimator['mean_test_f1'])\n",
    "\n",
    "print(f'Accuracy Over Validation:  {lr_acc_val:.5f}')\n",
    "print(f'Precision Over Validation: {lr_prec_val:.5f}')\n",
    "print(f'Recall Over Validation:    {lr_rec_val:.5f}')\n",
    "print(f'F1 Score Over Validation:  {lr_f1_val:.5f}')"
   ]
  },
  {
   "cell_type": "markdown",
   "id": "9418f7fe-f90c-47db-a2a4-657942210471",
   "metadata": {},
   "source": [
    "### 3.3.3 - Test"
   ]
  },
  {
   "cell_type": "code",
   "execution_count": 59,
   "id": "af76069e-7046-4256-aafb-acac4cca7e86",
   "metadata": {},
   "outputs": [
    {
     "data": {
      "text/plain": [
       "{'accuracy': 0.8713551925230757,\n",
       " 'precision': 0.8712608536230031,\n",
       " 'recall': 0.8713551925230757,\n",
       " 'f1': 0.871031431206781}"
      ]
     },
     "execution_count": 59,
     "metadata": {},
     "output_type": "execute_result"
    }
   ],
   "source": [
    "# Model trained on training + validation\n",
    "\n",
    "best_params = grid_log_reg.best_params_\n",
    "\n",
    "model_last = LogisticRegression(\n",
    "    C=best_params['C'],\n",
    "    solver=best_params['solver'],\n",
    "    max_iter=best_params['max_iter'],\n",
    "    random_state=0\n",
    ")\n",
    "model_last.fit(X_train_val, y_train_val)\n",
    "\n",
    "#classification on training + validation data\n",
    "yhat_test = model_last.predict(X_test_subset)\n",
    "\n",
    "# Metrics calculation\n",
    "report = classification_report(y_test, yhat_test, output_dict=True)\n",
    "log_reg_metrics_test = {\n",
    "    'accuracy' : report['accuracy'],\n",
    "    'precision': report['weighted avg']['precision'],\n",
    "    'recall'   : report['weighted avg']['recall'],\n",
    "    'f1'       : report['weighted avg']['f1-score']\n",
    "}\n",
    "\n",
    "log_reg_metrics_test"
   ]
  },
  {
   "cell_type": "markdown",
   "id": "42498deb-30de-4e7f-81d8-ab166475ebda",
   "metadata": {},
   "source": [
    "### 3.3.4 - Results"
   ]
  },
  {
   "cell_type": "code",
   "execution_count": 62,
   "id": "58cd3d0c-dbcc-45e9-9a81-4ecfe4319389",
   "metadata": {},
   "outputs": [
    {
     "data": {
      "text/html": [
       "<div>\n",
       "<style scoped>\n",
       "    .dataframe tbody tr th:only-of-type {\n",
       "        vertical-align: middle;\n",
       "    }\n",
       "\n",
       "    .dataframe tbody tr th {\n",
       "        vertical-align: top;\n",
       "    }\n",
       "\n",
       "    .dataframe thead th {\n",
       "        text-align: right;\n",
       "    }\n",
       "</style>\n",
       "<table border=\"1\" class=\"dataframe\">\n",
       "  <thead>\n",
       "    <tr style=\"text-align: right;\">\n",
       "      <th></th>\n",
       "      <th>accuracy</th>\n",
       "      <th>precision</th>\n",
       "      <th>recall</th>\n",
       "      <th>f1</th>\n",
       "    </tr>\n",
       "  </thead>\n",
       "  <tbody>\n",
       "    <tr>\n",
       "      <th>Train</th>\n",
       "      <td>0.875267</td>\n",
       "      <td>0.875134</td>\n",
       "      <td>0.875267</td>\n",
       "      <td>0.874939</td>\n",
       "    </tr>\n",
       "    <tr>\n",
       "      <th>Validation</th>\n",
       "      <td>0.875212</td>\n",
       "      <td>0.870878</td>\n",
       "      <td>0.836038</td>\n",
       "      <td>0.853094</td>\n",
       "    </tr>\n",
       "    <tr>\n",
       "      <th>Test</th>\n",
       "      <td>0.871355</td>\n",
       "      <td>0.871261</td>\n",
       "      <td>0.871355</td>\n",
       "      <td>0.871031</td>\n",
       "    </tr>\n",
       "  </tbody>\n",
       "</table>\n",
       "</div>"
      ],
      "text/plain": [
       "            accuracy  precision    recall        f1\n",
       "Train       0.875267   0.875134  0.875267  0.874939\n",
       "Validation  0.875212   0.870878  0.836038  0.853094\n",
       "Test        0.871355   0.871261  0.871355  0.871031"
      ]
     },
     "execution_count": 62,
     "metadata": {},
     "output_type": "execute_result"
    }
   ],
   "source": [
    "log_reg_metrics = pd.DataFrame({\n",
    "    'Train': log_reg_metrics_train,\n",
    "    'Validation': log_reg_metrics_best_val,\n",
    "    'Test':log_reg_metrics_test\n",
    "})\n",
    "log_reg_metrics = log_reg_metrics.T\n",
    "log_reg_metrics"
   ]
  },
  {
   "cell_type": "markdown",
   "id": "41e56332-c985-4605-a744-a369340b0504",
   "metadata": {},
   "source": [
    "## 3.5 - Trial results\n"
   ]
  },
  {
   "cell_type": "markdown",
   "id": "0aefbda3-3f1b-4127-bba2-90d3c2067315",
   "metadata": {},
   "source": [
    "#### On the Training data "
   ]
  },
  {
   "cell_type": "code",
   "execution_count": 64,
   "id": "92069cee-1ec9-49f5-8253-7a4207a2c2ae",
   "metadata": {},
   "outputs": [
    {
     "data": {
      "text/html": [
       "<style type=\"text/css\">\n",
       "#T_b3564_row0_col0, #T_b3564_row0_col2, #T_b3564_row0_col3 {\n",
       "  background-color: #f7bca1;\n",
       "  color: #000000;\n",
       "}\n",
       "#T_b3564_row0_col1 {\n",
       "  background-color: #f7b99e;\n",
       "  color: #000000;\n",
       "}\n",
       "#T_b3564_row1_col0, #T_b3564_row1_col1, #T_b3564_row1_col2, #T_b3564_row1_col3, #T_b3564_row2_col0, #T_b3564_row2_col1, #T_b3564_row2_col2, #T_b3564_row2_col3 {\n",
       "  background-color: #b40426;\n",
       "  color: #f1f1f1;\n",
       "}\n",
       "#T_b3564_row3_col0, #T_b3564_row3_col1, #T_b3564_row3_col2, #T_b3564_row3_col3 {\n",
       "  background-color: #3b4cc0;\n",
       "  color: #f1f1f1;\n",
       "}\n",
       "</style>\n",
       "<table id=\"T_b3564\">\n",
       "  <thead>\n",
       "    <tr>\n",
       "      <th class=\"blank level0\" >&nbsp;</th>\n",
       "      <th id=\"T_b3564_level0_col0\" class=\"col_heading level0 col0\" >accuracy</th>\n",
       "      <th id=\"T_b3564_level0_col1\" class=\"col_heading level0 col1\" >precision</th>\n",
       "      <th id=\"T_b3564_level0_col2\" class=\"col_heading level0 col2\" >recall</th>\n",
       "      <th id=\"T_b3564_level0_col3\" class=\"col_heading level0 col3\" >f1</th>\n",
       "    </tr>\n",
       "  </thead>\n",
       "  <tbody>\n",
       "    <tr>\n",
       "      <th id=\"T_b3564_level0_row0\" class=\"row_heading level0 row0\" >KNN</th>\n",
       "      <td id=\"T_b3564_row0_col0\" class=\"data row0 col0\" >0.957016</td>\n",
       "      <td id=\"T_b3564_row0_col1\" class=\"data row0 col1\" >0.957590</td>\n",
       "      <td id=\"T_b3564_row0_col2\" class=\"data row0 col2\" >0.957016</td>\n",
       "      <td id=\"T_b3564_row0_col3\" class=\"data row0 col3\" >0.956874</td>\n",
       "    </tr>\n",
       "    <tr>\n",
       "      <th id=\"T_b3564_level0_row1\" class=\"row_heading level0 row1\" >Decision Tree</th>\n",
       "      <td id=\"T_b3564_row1_col0\" class=\"data row1 col0\" >1.000000</td>\n",
       "      <td id=\"T_b3564_row1_col1\" class=\"data row1 col1\" >1.000000</td>\n",
       "      <td id=\"T_b3564_row1_col2\" class=\"data row1 col2\" >1.000000</td>\n",
       "      <td id=\"T_b3564_row1_col3\" class=\"data row1 col3\" >1.000000</td>\n",
       "    </tr>\n",
       "    <tr>\n",
       "      <th id=\"T_b3564_level0_row2\" class=\"row_heading level0 row2\" >Random Forest</th>\n",
       "      <td id=\"T_b3564_row2_col0\" class=\"data row2 col0\" >1.000000</td>\n",
       "      <td id=\"T_b3564_row2_col1\" class=\"data row2 col1\" >1.000000</td>\n",
       "      <td id=\"T_b3564_row2_col2\" class=\"data row2 col2\" >1.000000</td>\n",
       "      <td id=\"T_b3564_row2_col3\" class=\"data row2 col3\" >1.000000</td>\n",
       "    </tr>\n",
       "    <tr>\n",
       "      <th id=\"T_b3564_level0_row3\" class=\"row_heading level0 row3\" >Logistic Regression</th>\n",
       "      <td id=\"T_b3564_row3_col0\" class=\"data row3 col0\" >0.875267</td>\n",
       "      <td id=\"T_b3564_row3_col1\" class=\"data row3 col1\" >0.875134</td>\n",
       "      <td id=\"T_b3564_row3_col2\" class=\"data row3 col2\" >0.875267</td>\n",
       "      <td id=\"T_b3564_row3_col3\" class=\"data row3 col3\" >0.874939</td>\n",
       "    </tr>\n",
       "  </tbody>\n",
       "</table>\n"
      ],
      "text/plain": [
       "<pandas.io.formats.style.Styler at 0x7f2694bc3fb0>"
      ]
     },
     "execution_count": 64,
     "metadata": {},
     "output_type": "execute_result"
    }
   ],
   "source": [
    "train_metrics_df = pd.DataFrame({\n",
    "    'KNN': knn_metrics_best_train,\n",
    "    'Decision Tree': dt_metrics_train,\n",
    "    'Random Forest': rf_metrics_train,\n",
    "    'Logistic Regression': log_reg_metrics_train\n",
    "}).T\n",
    "\n",
    "train_metrics_df.style.background_gradient(cmap='coolwarm')"
   ]
  },
  {
   "cell_type": "markdown",
   "id": "dd078de6-b5ab-49e9-be1f-64e69114d362",
   "metadata": {},
   "source": [
    "#### On the Validation data"
   ]
  },
  {
   "cell_type": "code",
   "execution_count": 65,
   "id": "a706d260-c3c7-463d-8646-53497d2830c6",
   "metadata": {},
   "outputs": [
    {
     "data": {
      "text/html": [
       "<style type=\"text/css\">\n",
       "#T_d6c6b_row0_col0 {\n",
       "  background-color: #f7ad90;\n",
       "  color: #000000;\n",
       "}\n",
       "#T_d6c6b_row0_col1 {\n",
       "  background-color: #f59f80;\n",
       "  color: #000000;\n",
       "}\n",
       "#T_d6c6b_row0_col2 {\n",
       "  background-color: #ed8366;\n",
       "  color: #f1f1f1;\n",
       "}\n",
       "#T_d6c6b_row0_col3 {\n",
       "  background-color: #f39475;\n",
       "  color: #000000;\n",
       "}\n",
       "#T_d6c6b_row1_col0, #T_d6c6b_row1_col1, #T_d6c6b_row1_col2, #T_d6c6b_row1_col3 {\n",
       "  background-color: #b40426;\n",
       "  color: #f1f1f1;\n",
       "}\n",
       "#T_d6c6b_row2_col0 {\n",
       "  background-color: #d0473d;\n",
       "  color: #f1f1f1;\n",
       "}\n",
       "#T_d6c6b_row2_col1 {\n",
       "  background-color: #cf453c;\n",
       "  color: #f1f1f1;\n",
       "}\n",
       "#T_d6c6b_row2_col2 {\n",
       "  background-color: #c73635;\n",
       "  color: #f1f1f1;\n",
       "}\n",
       "#T_d6c6b_row2_col3 {\n",
       "  background-color: #cb3e38;\n",
       "  color: #f1f1f1;\n",
       "}\n",
       "#T_d6c6b_row3_col0, #T_d6c6b_row3_col1, #T_d6c6b_row3_col2, #T_d6c6b_row3_col3 {\n",
       "  background-color: #3b4cc0;\n",
       "  color: #f1f1f1;\n",
       "}\n",
       "</style>\n",
       "<table id=\"T_d6c6b\">\n",
       "  <thead>\n",
       "    <tr>\n",
       "      <th class=\"blank level0\" >&nbsp;</th>\n",
       "      <th id=\"T_d6c6b_level0_col0\" class=\"col_heading level0 col0\" >accuracy</th>\n",
       "      <th id=\"T_d6c6b_level0_col1\" class=\"col_heading level0 col1\" >precision</th>\n",
       "      <th id=\"T_d6c6b_level0_col2\" class=\"col_heading level0 col2\" >recall</th>\n",
       "      <th id=\"T_d6c6b_level0_col3\" class=\"col_heading level0 col3\" >f1</th>\n",
       "    </tr>\n",
       "  </thead>\n",
       "  <tbody>\n",
       "    <tr>\n",
       "      <th id=\"T_d6c6b_level0_row0\" class=\"row_heading level0 row0\" >KNN</th>\n",
       "      <td id=\"T_d6c6b_row0_col0\" class=\"data row0 col0\" >0.927911</td>\n",
       "      <td id=\"T_d6c6b_row0_col1\" class=\"data row0 col1\" >0.929632</td>\n",
       "      <td id=\"T_d6c6b_row0_col2\" class=\"data row0 col2\" >0.927911</td>\n",
       "      <td id=\"T_d6c6b_row0_col3\" class=\"data row0 col3\" >0.927441</td>\n",
       "    </tr>\n",
       "    <tr>\n",
       "      <th id=\"T_d6c6b_level0_row1\" class=\"row_heading level0 row1\" >Decision Tree</th>\n",
       "      <td id=\"T_d6c6b_row1_col0\" class=\"data row1 col0\" >0.950738</td>\n",
       "      <td id=\"T_d6c6b_row1_col1\" class=\"data row1 col1\" >0.950866</td>\n",
       "      <td id=\"T_d6c6b_row1_col2\" class=\"data row1 col2\" >0.950738</td>\n",
       "      <td id=\"T_d6c6b_row1_col3\" class=\"data row1 col3\" >0.950645</td>\n",
       "    </tr>\n",
       "    <tr>\n",
       "      <th id=\"T_d6c6b_level0_row2\" class=\"row_heading level0 row2\" >Random Forest</th>\n",
       "      <td id=\"T_d6c6b_row2_col0\" class=\"data row2 col0\" >0.944561</td>\n",
       "      <td id=\"T_d6c6b_row2_col1\" class=\"data row2 col1\" >0.944704</td>\n",
       "      <td id=\"T_d6c6b_row2_col2\" class=\"data row2 col2\" >0.944561</td>\n",
       "      <td id=\"T_d6c6b_row2_col3\" class=\"data row2 col3\" >0.944444</td>\n",
       "    </tr>\n",
       "    <tr>\n",
       "      <th id=\"T_d6c6b_level0_row3\" class=\"row_heading level0 row3\" >Logistic Regression</th>\n",
       "      <td id=\"T_d6c6b_row3_col0\" class=\"data row3 col0\" >0.875212</td>\n",
       "      <td id=\"T_d6c6b_row3_col1\" class=\"data row3 col1\" >0.870878</td>\n",
       "      <td id=\"T_d6c6b_row3_col2\" class=\"data row3 col2\" >0.836038</td>\n",
       "      <td id=\"T_d6c6b_row3_col3\" class=\"data row3 col3\" >0.853094</td>\n",
       "    </tr>\n",
       "  </tbody>\n",
       "</table>\n"
      ],
      "text/plain": [
       "<pandas.io.formats.style.Styler at 0x7f2694bc34a0>"
      ]
     },
     "execution_count": 65,
     "metadata": {},
     "output_type": "execute_result"
    }
   ],
   "source": [
    "validation_metrics_df = pd.DataFrame({\n",
    "    'KNN': knn_metrics_best_val,\n",
    "    'Decision Tree': dt_metrics_best_val,\n",
    "    'Random Forest': rf_metrics_best_val,\n",
    "    'Logistic Regression': log_reg_metrics_best_val\n",
    "}).T\n",
    "\n",
    "validation_metrics_df.style.background_gradient(cmap='coolwarm')"
   ]
  },
  {
   "cell_type": "markdown",
   "id": "df832ac6-17ad-4282-9c13-13e616a715df",
   "metadata": {},
   "source": [
    "#### On the Test data"
   ]
  },
  {
   "cell_type": "code",
   "execution_count": 66,
   "id": "9d17ec45-9709-4827-b9d5-a602aa273794",
   "metadata": {},
   "outputs": [
    {
     "data": {
      "text/html": [
       "<style type=\"text/css\">\n",
       "#T_c16ec_row0_col0, #T_c16ec_row0_col1, #T_c16ec_row0_col2, #T_c16ec_row0_col3, #T_c16ec_row1_col0, #T_c16ec_row1_col1, #T_c16ec_row1_col2, #T_c16ec_row1_col3 {\n",
       "  background-color: #cf453c;\n",
       "  color: #f1f1f1;\n",
       "}\n",
       "#T_c16ec_row2_col0, #T_c16ec_row2_col1, #T_c16ec_row2_col2, #T_c16ec_row2_col3 {\n",
       "  background-color: #b40426;\n",
       "  color: #f1f1f1;\n",
       "}\n",
       "#T_c16ec_row3_col0, #T_c16ec_row3_col1, #T_c16ec_row3_col2, #T_c16ec_row3_col3 {\n",
       "  background-color: #3b4cc0;\n",
       "  color: #f1f1f1;\n",
       "}\n",
       "</style>\n",
       "<table id=\"T_c16ec\">\n",
       "  <thead>\n",
       "    <tr>\n",
       "      <th class=\"blank level0\" >&nbsp;</th>\n",
       "      <th id=\"T_c16ec_level0_col0\" class=\"col_heading level0 col0\" >accuracy</th>\n",
       "      <th id=\"T_c16ec_level0_col1\" class=\"col_heading level0 col1\" >precision</th>\n",
       "      <th id=\"T_c16ec_level0_col2\" class=\"col_heading level0 col2\" >recall</th>\n",
       "      <th id=\"T_c16ec_level0_col3\" class=\"col_heading level0 col3\" >f1</th>\n",
       "    </tr>\n",
       "  </thead>\n",
       "  <tbody>\n",
       "    <tr>\n",
       "      <th id=\"T_c16ec_level0_row0\" class=\"row_heading level0 row0\" >KNN</th>\n",
       "      <td id=\"T_c16ec_row0_col0\" class=\"data row0 col0\" >0.955355</td>\n",
       "      <td id=\"T_c16ec_row0_col1\" class=\"data row0 col1\" >0.955459</td>\n",
       "      <td id=\"T_c16ec_row0_col2\" class=\"data row0 col2\" >0.955355</td>\n",
       "      <td id=\"T_c16ec_row0_col3\" class=\"data row0 col3\" >0.955288</td>\n",
       "    </tr>\n",
       "    <tr>\n",
       "      <th id=\"T_c16ec_level0_row1\" class=\"row_heading level0 row1\" >Decision Tree</th>\n",
       "      <td id=\"T_c16ec_row1_col0\" class=\"data row1 col0\" >0.955355</td>\n",
       "      <td id=\"T_c16ec_row1_col1\" class=\"data row1 col1\" >0.955459</td>\n",
       "      <td id=\"T_c16ec_row1_col2\" class=\"data row1 col2\" >0.955355</td>\n",
       "      <td id=\"T_c16ec_row1_col3\" class=\"data row1 col3\" >0.955288</td>\n",
       "    </tr>\n",
       "    <tr>\n",
       "      <th id=\"T_c16ec_level0_row2\" class=\"row_heading level0 row2\" >Random Forest</th>\n",
       "      <td id=\"T_c16ec_row2_col0\" class=\"data row2 col0\" >0.962268</td>\n",
       "      <td id=\"T_c16ec_row2_col1\" class=\"data row2 col1\" >0.962401</td>\n",
       "      <td id=\"T_c16ec_row2_col2\" class=\"data row2 col2\" >0.962268</td>\n",
       "      <td id=\"T_c16ec_row2_col3\" class=\"data row2 col3\" >0.962210</td>\n",
       "    </tr>\n",
       "    <tr>\n",
       "      <th id=\"T_c16ec_level0_row3\" class=\"row_heading level0 row3\" >Logistic Regression</th>\n",
       "      <td id=\"T_c16ec_row3_col0\" class=\"data row3 col0\" >0.871355</td>\n",
       "      <td id=\"T_c16ec_row3_col1\" class=\"data row3 col1\" >0.871261</td>\n",
       "      <td id=\"T_c16ec_row3_col2\" class=\"data row3 col2\" >0.871355</td>\n",
       "      <td id=\"T_c16ec_row3_col3\" class=\"data row3 col3\" >0.871031</td>\n",
       "    </tr>\n",
       "  </tbody>\n",
       "</table>\n"
      ],
      "text/plain": [
       "<pandas.io.formats.style.Styler at 0x7f26a5ede510>"
      ]
     },
     "execution_count": 66,
     "metadata": {},
     "output_type": "execute_result"
    }
   ],
   "source": [
    "test_metrics_df = pd.DataFrame({\n",
    "    'KNN': knn_metrics_test,\n",
    "    'Decision Tree': dt_metrics_test,\n",
    "    'Random Forest': rf_metrics_test,\n",
    "    'Logistic Regression': log_reg_metrics_test\n",
    "}).T\n",
    "\n",
    "test_metrics_df.style.background_gradient(cmap='coolwarm')"
   ]
  },
  {
   "cell_type": "markdown",
   "id": "aa06851a-e0e7-4073-b8e9-18c8ecf24042",
   "metadata": {},
   "source": [
    "Despite offering good results, **KNN** is very time-consuming to classify, as it needs to calculate the distance between the test point and all the training points for each prediction, which can be a problem with large data sets. \n",
    "\n",
    "In contrast, **decision trees** are generally much quicker to obtain results, as they make decisions based on simple binary rules. \n",
    "\n",
    "**Logistic Regression**, on the other hand, yielded less satisfactory results, possibly due to its assumption of linearity, which may not capture the complexity of the data well in non-linear problems. \n",
    "\n",
    "As expected, ensemble algorithms, such as **Random Forest**, tend to provide good results due to their nature of combining several decision trees. This combination improves the accuracy and robustness of the model by reducing the risk of overfitting and better capturing the complexity of the data."
   ]
  },
  {
   "cell_type": "code",
   "execution_count": null,
   "id": "9d5a55c6-3697-40bc-b64b-0d1da4eae30d",
   "metadata": {},
   "outputs": [],
   "source": []
  }
 ],
 "metadata": {
  "kernelspec": {
   "display_name": "Python 3 (ipykernel)",
   "language": "python",
   "name": "python3"
  },
  "language_info": {
   "codemirror_mode": {
    "name": "ipython",
    "version": 3
   },
   "file_extension": ".py",
   "mimetype": "text/x-python",
   "name": "python",
   "nbconvert_exporter": "python",
   "pygments_lexer": "ipython3",
   "version": "3.12.4"
  }
 },
 "nbformat": 4,
 "nbformat_minor": 5
}
