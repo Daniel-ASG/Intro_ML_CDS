{
 "cells": [
  {
   "cell_type": "markdown",
   "id": "8f6014cc-4556-4ef5-9e83-3ef6a0f82f19",
   "metadata": {},
   "source": [
    "<div style=\"background:linear-gradient(to right, #f4f4f9, #ecedf7); color:#333333; font-size:14px;\">\n",
    "\n",
    "<div style=\"font-size:10px;\">\n",
    "<img src=\"../Images/galaxy_red.jpg\" alt=\"freepik-Image\" style=\"width:100%;\"/>        \n",
    "<p style=\"margin-right: 5px; text-align: right;\">Designed by Freepik</p>\n",
    "</div>\n",
    "\n",
    "\n",
    "<div style=\"text-align: center;\">\n",
    "\n",
    "<p style=\"color:#360913; font-size:30px; font-weight :bold; text-align: center\">Predicting the Next Big Hit: Using Machine Learning to Forecast Song Popularity</p>\n",
    "</div>\n",
    "\n",
    "<div style=\"text-align: right;\">\n",
    "    <p style=\"color:#3f51b5; font-size:15px; font-weight:bold;text-align: right; margin-right: 40px\">\n",
    "        Author: <span style=\"font-style: italic;\">Daniel Alexandre</span>  <br>   \n",
    "        Date: 09-05-2024\n",
    "    </p>\n",
    "</div>\n",
    "\n",
    "<div class=\"text-body\" style=\"margin: 0px 5px;\">\n",
    "    \n",
    "At <span style=\"color:#3f51b5; font-size:14px;font-weight:bold\">Data  Money</span>, we thrive on empowering our clients in the music industry with data-driven insights.  We understand that accurately predicting a song's potential to resonate with listeners is a coveted goal—a game-changer for artists, labels, and streaming services alike. Imagine the possibilities: discovering new talent, crafting perfect playlists, optimizing marketing campaigns—all guided by a data-driven understanding of what makes a song a hit.\n",
    "\n",
    "\n",
    "This ambition has led us deep into the fascinating world of machine learning. By training advanced algorithms on vast datasets of musical features and popularity scores, we're building a model that can unlock the secrets behind chart-topping success. \n",
    "\n",
    "This notebook details our journey to crack the code of song popularity. We meticulously evaluate a spectrum of powerful regression algorithms, each with unique strengths tailored to capture the nuances within our dataset. Our exploration includes:\n",
    "\n",
    "\n",
    "<div style=\"text-align: center;margin-top:20px\">\n",
    "<img src=\"../Images/studio-recording-session-stockcake.jpeg\" alt=\"logo\" width=\"700\"/><p style=\"text-align: center;\">\n",
    "Photo by <a style=\"color:#1e3580\" href=\"https://stockcake.com/i/studio-recording-session_83320_9240\">Stockcake</a></p>\n",
    "</div>\n",
    "\n",
    "\n",
    "<font style=\"font-size:18px;\">**Regression Algorithms Explored:**</font>\n",
    "\n",
    "\n",
    "* <p style=\"font-style: italic;\"><span style=\"color:#3f51b5; font-size:14px;font-weight: bold\"> Linear Regression:</span>This foundational algorithm assumes a linear relationship between a song's attributes (duration, acousticness, etc.) and its popularity.  Its simplicity allows for interpretability, while potential limitations lie in capturing complex interactions.</p>\n",
    "* <p style=\"font-style: italic;\"><span style=\"color:#3f51b5; font-size:14px;font-weight: bold\"> Decision Tree Regressor: </span> This method employs a tree-like structure to make predictions based on a sequence of decisions involving song features. Its intuitive visualization aids understanding, but it can be sensitive to minor data fluctuations.</p>\n",
    "* <p style=\"font-style: italic;\"><span style=\"color:#3f51b5; font-size:14px;font-weight: bold\"> Random Forest Regressor: </span> This ensemble approach combines multiple decision trees, enhancing accuracy and robustness while mitigating the risk of overfitting inherent in individual trees.</p>\n",
    "* <p style=\"font-style: italic;\"><span style=\"color:#3f51b5; font-size:14px;font-weight: bold\"> Polinomial Regression </span>  By fitting polynomial curves to the data, this technique can capture non-linear relationships between song characteristics and popularity, offering potentially higher accuracy at the risk of overfitting if not carefully managed.</p>\n",
    "* <p style=\"font-style: italic;\"><span style=\"color:#3f51b5; font-size:14px;font-weight: bold\"> Regularized Regression Models: </span> We'll explore variations of Linear and Polynomial Regression incorporating regularization techniques: Lasso, Ridge, and Elastic Net.  These methods help prevent overfitting and improve generalization by adding constraints to the model's parameters.\n",
    "</p>\n",
    "\n",
    "\n",
    "<font style=\"font-size:18px;\">**Evaluating Predictive Prowess:**</font>\n",
    "\n",
    "To rigorously assess and compare the performance of our regression models, we'll employ a suite of metrics, each providing a unique perspective on the model's ability to predict song popularity. Understanding these metrics is crucial for both technical evaluation and communicating results. \n",
    "\n",
    "Let's delve into the formulas and significance of each metric:\n",
    "\n",
    "> * <font style=\"color:#3f51b5\">**$R^2$ (R-squared):**</font> This metric, also known as the coefficient of determination, quantifies the proportion of variance in the target variable (song popularity) that is explained by the independent variables (song features) in our model. A higher $R^2$ value, closer to 1, indicates a better fit, suggesting that the model explains a larger portion of the variability in song popularity.\n",
    ">\n",
    ">   $$R^2 = 1 - \\frac{SS_{res}}{SS_{tot}}$$\n",
    ">   where $SS_{res}$ is the sum of squared residuals (difference between predicted and actual values) and $SS_{tot}$ is the total sum of squares (variance of the target variable).\n",
    "\n",
    "> * <font style=\"color:#3f51b5\">**Root Mean Squared Error (RMSE):**</font> RMSE provides a measure of the average magnitude of the errors in the predictions, expressed in the same units as the target variable (song popularity). It is derived from the average of the squared differences between predicted and actual values, making it sensitive to large errors.\n",
    ">  \n",
    ">   RMSE can be understood as reflecting how much the predictions deviate from the actual values on average, with larger deviations having a greater impact on the score. A lower RMSE indicates more accurate predictions.\n",
    "> \n",
    ">   $$RMSE = \\sqrt{\\frac{1}{n} \\sum_{i=1}^{n} (y_i - \\hat{y}_i)^2}$$\n",
    ">   where $n$ is the number of data points, $y_i$ is the actual popularity of song $i$, and $\\hat{y}_i$ is the model's predicted popularity for song $i$.\n",
    "\n",
    "> * <font style=\"color:#3f51b5\">**Mean Absolute Error (MAE):**</font>  This metric quantifies the average absolute differences between the predicted and actual values. Unlike RMSE, which squares the errors, MAE treats all errors equally, providing a straightforward interpretation of the model’s accuracy. A lower MAE suggests that the model is making predictions that are closer to the actual values, with 0 indicating perfect fit.\n",
    "> \n",
    ">   $$MAE = \\frac{1}{n} \\sum_{i=1}^{n} |y_i - \\hat{y}_i|$$\n",
    "\n",
    "> * <font style=\"color:#3f51b5\">**Mean Absolute Percentage Error (MAPE):**</font> This metric expresses the average prediction error as a percentage of the actual values, offering a relative measure of accuracy. A lower MAPE indicates better accuracy, with a value closer to 0 representing more precise predictions.\n",
    "> \n",
    ">   $$MAPE = \\frac{100%}{n}  \\sum_{i=1}^{n} |\\frac{y_i - \\hat{y}_i}{y_i}|$$\n",
    "\n",
    "> * <font style=\"color:#3f51b5\">**Mean Percentage Error (MPE):**</font> MPE measures the average of the percentage errors, highlighting whether the predictions tend to overestimate or underestimate the actual values. Although it can be informative, it is less commonly used due to potential issues when actual values are close to zero, which can distort the percentage. \n",
    "> \n",
    ">   $$MPE = \\frac{100\\%}{n} \\sum_{i=1}^{n} \\left(\\frac{y_i - \\hat{y}_i}{y_i}\\right)$$\n",
    "\n",
    "Through the rigorous evaluation of our models across these metrics, we can confidently identify the best-performing algorithm for predicting song popularity. This, in turn, equips **Data Money** and our clients with actionable insights to make informed decisions and shape the future of music.\n",
    "<br>\n",
    "<br>\n",
    "</div>\n",
    "</div>"
   ]
  },
  {
   "cell_type": "markdown",
   "id": "0584ba91-1040-44f5-a3e3-c0d4465c5e1c",
   "metadata": {},
   "source": [
    "<div style=\"background: linear-gradient(to right, #2b040d, #5a040d); color:white; font-size:14px; padding: 10px; width:100%;\">\n",
    "    \n",
    "# 0 - Imports\n",
    "</div>\n"
   ]
  },
  {
   "cell_type": "code",
   "execution_count": 1,
   "id": "d0237b66-1b61-4452-9752-16af484901b6",
   "metadata": {
    "execution": {
     "iopub.execute_input": "2024-10-23T11:51:22.381329Z",
     "iopub.status.busy": "2024-10-23T11:51:22.380404Z",
     "iopub.status.idle": "2024-10-23T11:52:05.120034Z",
     "shell.execute_reply": "2024-10-23T11:52:05.117871Z",
     "shell.execute_reply.started": "2024-10-23T11:51:22.381245Z"
    }
   },
   "outputs": [],
   "source": [
    "import os\n",
    "import pandas                as pd\n",
    "import numpy                 as np\n",
    "import seaborn               as sns\n",
    "import xgboost               as xgb \n",
    "import statsmodels.api       as sm\n",
    "import matplotlib.pyplot     as plt\n",
    "import plotly.graph_objs     as go\n",
    "\n",
    "from datetime                import datetime\n",
    "from scipy.stats             import norm, skew, kurtosis\n",
    "from sklearn.tree            import DecisionTreeRegressor\n",
    "from sklearn.metrics         import (r2_score, mean_squared_error, root_mean_squared_error, mean_absolute_error, \n",
    "                                     mean_absolute_percentage_error, explained_variance_score, max_error, make_scorer)\n",
    "from sklearn.ensemble        import RandomForestRegressor\n",
    "from sklearn.pipeline        import Pipeline\n",
    "from sklearn.linear_model    import LinearRegression, Lasso, Ridge, ElasticNet\n",
    "from sklearn.preprocessing   import PolynomialFeatures\n",
    "from sklearn.model_selection import GridSearchCV, ParameterGrid, RandomizedSearchCV\n",
    "\n",
    "import warnings\n",
    "warnings.filterwarnings(\"ignore\")"
   ]
  },
  {
   "cell_type": "markdown",
   "id": "87e9e71e-cbfd-4c0a-b6ef-c9c58c17245a",
   "metadata": {},
   "source": [
    "<div style=\"background: linear-gradient(to right, #52b3ed, #5a040d); color:white; padding: 3px; width:100%;\">\n",
    "\n",
    "## 0.1 - Helper Functions\n",
    "\n",
    "</div>"
   ]
  },
  {
   "cell_type": "code",
   "execution_count": 2,
   "id": "12bd8ebe-a952-4b3f-826a-42495bf37e6b",
   "metadata": {
    "execution": {
     "iopub.execute_input": "2024-10-23T11:52:05.124163Z",
     "iopub.status.busy": "2024-10-23T11:52:05.123258Z",
     "iopub.status.idle": "2024-10-23T11:52:05.204277Z",
     "shell.execute_reply": "2024-10-23T11:52:05.202071Z",
     "shell.execute_reply.started": "2024-10-23T11:52:05.124096Z"
    }
   },
   "outputs": [],
   "source": [
    "def regression_report(y_true, y_pred, output_dict=False, show_datetime=False, show_report=True):\n",
    "    \"\"\"Calculate and return regression metrics in the format of a string or dictionary.\"\"\"\n",
    "    # Get the dependent variable name\n",
    "    if isinstance(y_true, pd.DataFrame):\n",
    "        Y = y_true.columns.tolist()[0]\n",
    "    else:\n",
    "        Y = 'Y'\n",
    "\n",
    "    y_true = np.array(y_true)\n",
    "    y_pred = np.array(y_pred)\n",
    "\n",
    "    # Calculate metrics\n",
    "    r2 = r2_score(y_true, y_pred)\n",
    "    mse = mean_squared_error(y_true, y_pred)\n",
    "    rmse = np.sqrt(mse)\n",
    "    mae = mean_absolute_error(y_true, y_pred)\n",
    "    mape = mean_absolute_percentage_error(y_true, y_pred)\n",
    "    mpe = np.mean((y_true - y_pred) / y_true) * 100\n",
    "    evs = explained_variance_score(y_true, y_pred)\n",
    "\n",
    "    # Calculate residual statistics\n",
    "    residuals = y_true - y_pred\n",
    "\n",
    "    # Ensure residuals is a 1D array\n",
    "    if residuals.ndim != 1:\n",
    "        residuals = residuals.flatten()\n",
    "\n",
    "    skewness_value = skew(residuals).item()  # Convert to scalar\n",
    "    kurtosis_value = kurtosis(residuals, fisher=False).item()  # Convert to scalar\n",
    "\n",
    "    n = len(y_true)\n",
    "    k = 1  # Number of model parameters (adjusted correctly)\n",
    "    adjusted_r2 = 1 - (1 - r2) * (n - 1) / (n - k - 1)\n",
    "\n",
    "    # Calculate log-likelihood\n",
    "    log_likelihood = -0.5 * n * (np.log(2 * np.pi) + np.log(mse) + (residuals ** 2).mean() / mse)\n",
    "\n",
    "    # Calculate AIC and BIC\n",
    "    aic = -2 * log_likelihood + 2 * k\n",
    "    bic = -2 * log_likelihood + k * np.log(n)\n",
    "\n",
    "    # Dictionary with all metrics\n",
    "    metrics_dict = {\n",
    "        'R²': r2,\n",
    "        'Adjusted R²': adjusted_r2,\n",
    "        'MSE': mse,\n",
    "        'RMSE': rmse,\n",
    "        'MAE': mae,\n",
    "        'MAPE': mape,\n",
    "        'MPE': mpe,\n",
    "        'Explained Variance': evs,\n",
    "        'Skewness': skewness_value,  # Already a scalar\n",
    "        'Kurtosis': kurtosis_value,  # Already a scalar\n",
    "        'AIC': aic,\n",
    "        'BIC': bic,\n",
    "    }\n",
    "\n",
    "    # Get current date and time if specified\n",
    "    date_time_info = \"\"\n",
    "    if show_datetime:\n",
    "        current_date = datetime.now().strftime(\"%a, %d %b %Y\")\n",
    "        current_time = datetime.now().strftime(\"%H:%M:%S\")\n",
    "        date_time_info = f\"Date: {current_date}\\nTime: {current_time}\\n\"\n",
    "\n",
    "    # Generate the summary\n",
    "    report = (\n",
    "        f\"========================= Regression Summary ==========================\\n\"\n",
    "        f\"{date_time_info}\"\n",
    "        f\"Dep. Variable: {Y:<25}    Observations: {n:>6}\\n\"\n",
    "        f\"----------------------------------------------------------------------\\n\"\n",
    "        f\"Model Metrics                               Residuals Metrics\\n\"\n",
    "        f\"----------------------------------------------------------------------\\n\"\n",
    "        f\"R²:                    {r2:>10.3f}      Skewness:            {skewness_value:>10.3f}\\n\"\n",
    "        f\"Adjusted R²:           {adjusted_r2:>10.3f}      Kurtosis:            {kurtosis_value:>10.3f}\\n\"\n",
    "        f\"MSE:                   {mse:>10.3f}      AIC:                 {aic:>10.3f}\\n\"\n",
    "        f\"RMSE:                  {rmse:>10.3f}      BIC:                 {bic:>10.3f}\\n\"\n",
    "        f\"MAE:                   {mae:>10.3f}\\n\"\n",
    "        f\"MAPE:                  {mape:>10.3f}\\n\"\n",
    "        f\"MPE:                   {mpe:>10.3f}\\n\"\n",
    "        f\"Explained Variance:    {evs:>10.3f}\\n\"\n",
    "        f\"----------------------------------------------------------------------\\n\"\n",
    "    )\n",
    "    \n",
    "    # Print the report\n",
    "    if show_report:\n",
    "        print(report)\n",
    "\n",
    "    # Return only selected metrics if output_dict is True\n",
    "    if output_dict:\n",
    "        selected_metrics = {key: metrics_dict[key] for key in ['R²', 'RMSE', 'MAE', 'MAPE', 'MPE'] if key in metrics_dict}\n",
    "        return selected_metrics"
   ]
  },
  {
   "cell_type": "markdown",
   "id": "ff5e7515-b007-4be4-9335-e07123d8280c",
   "metadata": {},
   "source": [
    "<div style=\"background: linear-gradient(to right, #2b040d, #5a040d); color:white; font-size:14px; padding: 10px; width:100%;\">\n",
    "    \n",
    "# 1 - Loading data\n",
    "\n",
    "</div>"
   ]
  },
  {
   "cell_type": "code",
   "execution_count": 3,
   "id": "d9c0d869-31e4-442c-b61b-8371c4aa9bc2",
   "metadata": {
    "execution": {
     "iopub.execute_input": "2024-10-23T11:52:05.207355Z",
     "iopub.status.busy": "2024-10-23T11:52:05.206348Z",
     "iopub.status.idle": "2024-10-23T11:52:05.726402Z",
     "shell.execute_reply": "2024-10-23T11:52:05.724207Z",
     "shell.execute_reply.started": "2024-10-23T11:52:05.206946Z"
    }
   },
   "outputs": [],
   "source": [
    "X_train = pd.read_csv('../Data/Regression/X_training.csv')\n",
    "y_train = pd.read_csv('../Data/Regression/y_training.csv')\n",
    "\n",
    "X_val   = pd.read_csv('../Data/Regression/X_validation.csv')\n",
    "y_val   = pd.read_csv('../Data/Regression/y_val.csv')\n",
    "\n",
    "X_test  = pd.read_csv('../Data/Regression/X_test.csv')\n",
    "y_test  = pd.read_csv('../Data/Regression/y_test.csv')"
   ]
  },
  {
   "cell_type": "markdown",
   "id": "77cf1ce6-655c-4021-8911-67ce946e1999",
   "metadata": {},
   "source": [
    "<div style=\"background: linear-gradient(to right, #2b040d, #5a040d); color:white; font-size:14px; padding: 10px; width:100%;\">\n",
    "    \n",
    "# 2 - EDA"
   ]
  },
  {
   "cell_type": "code",
   "execution_count": 3,
   "id": "a7d6847b-51a3-4d7a-9fa5-446f7cde14e6",
   "metadata": {
    "execution": {
     "iopub.execute_input": "2024-10-21T18:26:26.712212Z",
     "iopub.status.busy": "2024-10-21T18:26:26.711437Z",
     "iopub.status.idle": "2024-10-21T18:26:26.875671Z",
     "shell.execute_reply": "2024-10-21T18:26:26.869588Z",
     "shell.execute_reply.started": "2024-10-21T18:26:26.712142Z"
    }
   },
   "outputs": [
    {
     "data": {
      "text/html": [
       "<div>\n",
       "<style scoped>\n",
       "    .dataframe tbody tr th:only-of-type {\n",
       "        vertical-align: middle;\n",
       "    }\n",
       "\n",
       "    .dataframe tbody tr th {\n",
       "        vertical-align: top;\n",
       "    }\n",
       "\n",
       "    .dataframe thead th {\n",
       "        text-align: right;\n",
       "    }\n",
       "</style>\n",
       "<table border=\"1\" class=\"dataframe\">\n",
       "  <thead>\n",
       "    <tr style=\"text-align: right;\">\n",
       "      <th></th>\n",
       "      <th>song_duration_ms</th>\n",
       "      <th>acousticness</th>\n",
       "      <th>danceability</th>\n",
       "      <th>energy</th>\n",
       "      <th>instrumentalness</th>\n",
       "      <th>key</th>\n",
       "      <th>liveness</th>\n",
       "      <th>loudness</th>\n",
       "      <th>audio_mode</th>\n",
       "      <th>speechiness</th>\n",
       "      <th>tempo</th>\n",
       "      <th>time_signature</th>\n",
       "      <th>audio_valence</th>\n",
       "    </tr>\n",
       "  </thead>\n",
       "  <tbody>\n",
       "    <tr>\n",
       "      <th>0</th>\n",
       "      <td>0.205673</td>\n",
       "      <td>0.092100</td>\n",
       "      <td>0.720</td>\n",
       "      <td>0.802</td>\n",
       "      <td>0.000000</td>\n",
       "      <td>0.090909</td>\n",
       "      <td>0.694</td>\n",
       "      <td>0.431778</td>\n",
       "      <td>1</td>\n",
       "      <td>0.0582</td>\n",
       "      <td>0.103876</td>\n",
       "      <td>0.8</td>\n",
       "      <td>0.723</td>\n",
       "    </tr>\n",
       "    <tr>\n",
       "      <th>1</th>\n",
       "      <td>-0.240409</td>\n",
       "      <td>0.737000</td>\n",
       "      <td>0.483</td>\n",
       "      <td>0.412</td>\n",
       "      <td>0.000000</td>\n",
       "      <td>0.636364</td>\n",
       "      <td>0.116</td>\n",
       "      <td>-0.262732</td>\n",
       "      <td>1</td>\n",
       "      <td>0.0402</td>\n",
       "      <td>1.711532</td>\n",
       "      <td>0.6</td>\n",
       "      <td>0.247</td>\n",
       "    </tr>\n",
       "    <tr>\n",
       "      <th>2</th>\n",
       "      <td>-0.125770</td>\n",
       "      <td>0.274000</td>\n",
       "      <td>0.671</td>\n",
       "      <td>0.565</td>\n",
       "      <td>0.000065</td>\n",
       "      <td>1.000000</td>\n",
       "      <td>0.370</td>\n",
       "      <td>0.013612</td>\n",
       "      <td>0</td>\n",
       "      <td>0.1600</td>\n",
       "      <td>1.009176</td>\n",
       "      <td>0.8</td>\n",
       "      <td>0.561</td>\n",
       "    </tr>\n",
       "    <tr>\n",
       "      <th>3</th>\n",
       "      <td>-0.580967</td>\n",
       "      <td>0.002340</td>\n",
       "      <td>0.704</td>\n",
       "      <td>0.529</td>\n",
       "      <td>0.874000</td>\n",
       "      <td>1.000000</td>\n",
       "      <td>0.370</td>\n",
       "      <td>-0.266382</td>\n",
       "      <td>0</td>\n",
       "      <td>0.0416</td>\n",
       "      <td>0.666173</td>\n",
       "      <td>0.8</td>\n",
       "      <td>0.507</td>\n",
       "    </tr>\n",
       "    <tr>\n",
       "      <th>4</th>\n",
       "      <td>-0.688566</td>\n",
       "      <td>0.000414</td>\n",
       "      <td>0.354</td>\n",
       "      <td>0.910</td>\n",
       "      <td>0.205000</td>\n",
       "      <td>0.090909</td>\n",
       "      <td>0.456</td>\n",
       "      <td>0.422914</td>\n",
       "      <td>1</td>\n",
       "      <td>0.0430</td>\n",
       "      <td>1.182630</td>\n",
       "      <td>0.8</td>\n",
       "      <td>0.362</td>\n",
       "    </tr>\n",
       "  </tbody>\n",
       "</table>\n",
       "</div>"
      ],
      "text/plain": [
       "   song_duration_ms  acousticness  danceability  energy  instrumentalness  \\\n",
       "0          0.205673      0.092100         0.720   0.802          0.000000   \n",
       "1         -0.240409      0.737000         0.483   0.412          0.000000   \n",
       "2         -0.125770      0.274000         0.671   0.565          0.000065   \n",
       "3         -0.580967      0.002340         0.704   0.529          0.874000   \n",
       "4         -0.688566      0.000414         0.354   0.910          0.205000   \n",
       "\n",
       "        key  liveness  loudness  audio_mode  speechiness     tempo  \\\n",
       "0  0.090909     0.694  0.431778           1       0.0582  0.103876   \n",
       "1  0.636364     0.116 -0.262732           1       0.0402  1.711532   \n",
       "2  1.000000     0.370  0.013612           0       0.1600  1.009176   \n",
       "3  1.000000     0.370 -0.266382           0       0.0416  0.666173   \n",
       "4  0.090909     0.456  0.422914           1       0.0430  1.182630   \n",
       "\n",
       "   time_signature  audio_valence  \n",
       "0             0.8          0.723  \n",
       "1             0.6          0.247  \n",
       "2             0.8          0.561  \n",
       "3             0.8          0.507  \n",
       "4             0.8          0.362  "
      ]
     },
     "execution_count": 3,
     "metadata": {},
     "output_type": "execute_result"
    }
   ],
   "source": [
    "X_train.head()"
   ]
  },
  {
   "cell_type": "code",
   "execution_count": 4,
   "id": "ab60fdab-f040-4d6a-a852-3bcbc20ab9a4",
   "metadata": {
    "execution": {
     "iopub.execute_input": "2024-09-01T11:43:50.838087Z",
     "iopub.status.busy": "2024-09-01T11:43:50.836636Z",
     "iopub.status.idle": "2024-09-01T11:43:50.885797Z",
     "shell.execute_reply": "2024-09-01T11:43:50.884920Z",
     "shell.execute_reply.started": "2024-09-01T11:43:50.838045Z"
    }
   },
   "outputs": [
    {
     "data": {
      "text/html": [
       "<div>\n",
       "<style scoped>\n",
       "    .dataframe tbody tr th:only-of-type {\n",
       "        vertical-align: middle;\n",
       "    }\n",
       "\n",
       "    .dataframe tbody tr th {\n",
       "        vertical-align: top;\n",
       "    }\n",
       "\n",
       "    .dataframe thead th {\n",
       "        text-align: right;\n",
       "    }\n",
       "</style>\n",
       "<table border=\"1\" class=\"dataframe\">\n",
       "  <thead>\n",
       "    <tr style=\"text-align: right;\">\n",
       "      <th></th>\n",
       "      <th>song_duration_ms</th>\n",
       "      <th>acousticness</th>\n",
       "      <th>danceability</th>\n",
       "      <th>energy</th>\n",
       "      <th>instrumentalness</th>\n",
       "      <th>key</th>\n",
       "      <th>liveness</th>\n",
       "      <th>loudness</th>\n",
       "      <th>audio_mode</th>\n",
       "      <th>speechiness</th>\n",
       "      <th>tempo</th>\n",
       "      <th>time_signature</th>\n",
       "      <th>audio_valence</th>\n",
       "    </tr>\n",
       "  </thead>\n",
       "  <tbody>\n",
       "    <tr>\n",
       "      <th>count</th>\n",
       "      <td>1.054700e+04</td>\n",
       "      <td>10547.000000</td>\n",
       "      <td>10547.000000</td>\n",
       "      <td>10547.000000</td>\n",
       "      <td>10547.000000</td>\n",
       "      <td>10547.000000</td>\n",
       "      <td>10547.000000</td>\n",
       "      <td>1.054700e+04</td>\n",
       "      <td>10547.000000</td>\n",
       "      <td>10547.000000</td>\n",
       "      <td>1.054700e+04</td>\n",
       "      <td>10547.000000</td>\n",
       "      <td>10547.000000</td>\n",
       "    </tr>\n",
       "    <tr>\n",
       "      <th>mean</th>\n",
       "      <td>5.995857e-17</td>\n",
       "      <td>0.259502</td>\n",
       "      <td>0.633974</td>\n",
       "      <td>0.645438</td>\n",
       "      <td>0.079089</td>\n",
       "      <td>0.483196</td>\n",
       "      <td>0.180416</td>\n",
       "      <td>2.489291e-16</td>\n",
       "      <td>0.627098</td>\n",
       "      <td>0.100937</td>\n",
       "      <td>-9.499054e-17</td>\n",
       "      <td>0.791581</td>\n",
       "      <td>0.529879</td>\n",
       "    </tr>\n",
       "    <tr>\n",
       "      <th>std</th>\n",
       "      <td>1.000047e+00</td>\n",
       "      <td>0.290173</td>\n",
       "      <td>0.156223</td>\n",
       "      <td>0.214348</td>\n",
       "      <td>0.222818</td>\n",
       "      <td>0.327242</td>\n",
       "      <td>0.144705</td>\n",
       "      <td>1.000047e+00</td>\n",
       "      <td>0.483599</td>\n",
       "      <td>0.103352</td>\n",
       "      <td>1.000047e+00</td>\n",
       "      <td>0.060822</td>\n",
       "      <td>0.244461</td>\n",
       "    </tr>\n",
       "    <tr>\n",
       "      <th>min</th>\n",
       "      <td>-3.553790e+00</td>\n",
       "      <td>0.000001</td>\n",
       "      <td>0.000000</td>\n",
       "      <td>0.001070</td>\n",
       "      <td>0.000000</td>\n",
       "      <td>0.000000</td>\n",
       "      <td>0.015700</td>\n",
       "      <td>-7.632256e+00</td>\n",
       "      <td>0.000000</td>\n",
       "      <td>0.000000</td>\n",
       "      <td>-4.220028e+00</td>\n",
       "      <td>0.000000</td>\n",
       "      <td>0.000000</td>\n",
       "    </tr>\n",
       "    <tr>\n",
       "      <th>25%</th>\n",
       "      <td>-5.810364e-01</td>\n",
       "      <td>0.024600</td>\n",
       "      <td>0.533000</td>\n",
       "      <td>0.512000</td>\n",
       "      <td>0.000000</td>\n",
       "      <td>0.181818</td>\n",
       "      <td>0.092700</td>\n",
       "      <td>-4.243671e-01</td>\n",
       "      <td>0.000000</td>\n",
       "      <td>0.037850</td>\n",
       "      <td>-7.756112e-01</td>\n",
       "      <td>0.800000</td>\n",
       "      <td>0.336000</td>\n",
       "    </tr>\n",
       "    <tr>\n",
       "      <th>50%</th>\n",
       "      <td>-1.146491e-01</td>\n",
       "      <td>0.132000</td>\n",
       "      <td>0.645000</td>\n",
       "      <td>0.675000</td>\n",
       "      <td>0.000011</td>\n",
       "      <td>0.454545</td>\n",
       "      <td>0.122000</td>\n",
       "      <td>2.346876e-01</td>\n",
       "      <td>1.000000</td>\n",
       "      <td>0.055200</td>\n",
       "      <td>-3.656695e-02</td>\n",
       "      <td>0.800000</td>\n",
       "      <td>0.532000</td>\n",
       "    </tr>\n",
       "    <tr>\n",
       "      <th>75%</th>\n",
       "      <td>4.224443e-01</td>\n",
       "      <td>0.432000</td>\n",
       "      <td>0.748000</td>\n",
       "      <td>0.815000</td>\n",
       "      <td>0.002835</td>\n",
       "      <td>0.727273</td>\n",
       "      <td>0.224000</td>\n",
       "      <td>6.609353e-01</td>\n",
       "      <td>1.000000</td>\n",
       "      <td>0.116000</td>\n",
       "      <td>6.566737e-01</td>\n",
       "      <td>0.800000</td>\n",
       "      <td>0.727000</td>\n",
       "    </tr>\n",
       "    <tr>\n",
       "      <th>max</th>\n",
       "      <td>1.969099e+01</td>\n",
       "      <td>0.996000</td>\n",
       "      <td>0.987000</td>\n",
       "      <td>0.999000</td>\n",
       "      <td>0.989000</td>\n",
       "      <td>1.000000</td>\n",
       "      <td>0.984000</td>\n",
       "      <td>2.292930e+00</td>\n",
       "      <td>1.000000</td>\n",
       "      <td>0.941000</td>\n",
       "      <td>4.226719e+00</td>\n",
       "      <td>1.000000</td>\n",
       "      <td>0.982000</td>\n",
       "    </tr>\n",
       "  </tbody>\n",
       "</table>\n",
       "</div>"
      ],
      "text/plain": [
       "       song_duration_ms  acousticness  danceability        energy  \\\n",
       "count      1.054700e+04  10547.000000  10547.000000  10547.000000   \n",
       "mean       5.995857e-17      0.259502      0.633974      0.645438   \n",
       "std        1.000047e+00      0.290173      0.156223      0.214348   \n",
       "min       -3.553790e+00      0.000001      0.000000      0.001070   \n",
       "25%       -5.810364e-01      0.024600      0.533000      0.512000   \n",
       "50%       -1.146491e-01      0.132000      0.645000      0.675000   \n",
       "75%        4.224443e-01      0.432000      0.748000      0.815000   \n",
       "max        1.969099e+01      0.996000      0.987000      0.999000   \n",
       "\n",
       "       instrumentalness           key      liveness      loudness  \\\n",
       "count      10547.000000  10547.000000  10547.000000  1.054700e+04   \n",
       "mean           0.079089      0.483196      0.180416  2.489291e-16   \n",
       "std            0.222818      0.327242      0.144705  1.000047e+00   \n",
       "min            0.000000      0.000000      0.015700 -7.632256e+00   \n",
       "25%            0.000000      0.181818      0.092700 -4.243671e-01   \n",
       "50%            0.000011      0.454545      0.122000  2.346876e-01   \n",
       "75%            0.002835      0.727273      0.224000  6.609353e-01   \n",
       "max            0.989000      1.000000      0.984000  2.292930e+00   \n",
       "\n",
       "         audio_mode   speechiness         tempo  time_signature  audio_valence  \n",
       "count  10547.000000  10547.000000  1.054700e+04    10547.000000   10547.000000  \n",
       "mean       0.627098      0.100937 -9.499054e-17        0.791581       0.529879  \n",
       "std        0.483599      0.103352  1.000047e+00        0.060822       0.244461  \n",
       "min        0.000000      0.000000 -4.220028e+00        0.000000       0.000000  \n",
       "25%        0.000000      0.037850 -7.756112e-01        0.800000       0.336000  \n",
       "50%        1.000000      0.055200 -3.656695e-02        0.800000       0.532000  \n",
       "75%        1.000000      0.116000  6.566737e-01        0.800000       0.727000  \n",
       "max        1.000000      0.941000  4.226719e+00        1.000000       0.982000  "
      ]
     },
     "execution_count": 4,
     "metadata": {},
     "output_type": "execute_result"
    }
   ],
   "source": [
    "X_train.describe()"
   ]
  },
  {
   "cell_type": "code",
   "execution_count": 5,
   "id": "da6c3dc4-7228-486d-bb9d-ebc0419c1800",
   "metadata": {
    "execution": {
     "iopub.execute_input": "2024-09-01T11:43:50.988013Z",
     "iopub.status.busy": "2024-09-01T11:43:50.987591Z",
     "iopub.status.idle": "2024-09-01T11:43:51.011519Z",
     "shell.execute_reply": "2024-09-01T11:43:51.009985Z",
     "shell.execute_reply.started": "2024-09-01T11:43:50.987970Z"
    }
   },
   "outputs": [
    {
     "name": "stdout",
     "output_type": "stream",
     "text": [
      "<class 'pandas.core.frame.DataFrame'>\n",
      "RangeIndex: 10547 entries, 0 to 10546\n",
      "Data columns (total 13 columns):\n",
      " #   Column            Non-Null Count  Dtype  \n",
      "---  ------            --------------  -----  \n",
      " 0   song_duration_ms  10547 non-null  float64\n",
      " 1   acousticness      10547 non-null  float64\n",
      " 2   danceability      10547 non-null  float64\n",
      " 3   energy            10547 non-null  float64\n",
      " 4   instrumentalness  10547 non-null  float64\n",
      " 5   key               10547 non-null  float64\n",
      " 6   liveness          10547 non-null  float64\n",
      " 7   loudness          10547 non-null  float64\n",
      " 8   audio_mode        10547 non-null  int64  \n",
      " 9   speechiness       10547 non-null  float64\n",
      " 10  tempo             10547 non-null  float64\n",
      " 11  time_signature    10547 non-null  float64\n",
      " 12  audio_valence     10547 non-null  float64\n",
      "dtypes: float64(12), int64(1)\n",
      "memory usage: 1.0 MB\n"
     ]
    }
   ],
   "source": [
    "X_train.info()"
   ]
  },
  {
   "cell_type": "code",
   "execution_count": 6,
   "id": "e637e84a-353c-412d-80d8-d88183e9d5cb",
   "metadata": {
    "execution": {
     "iopub.execute_input": "2024-09-01T11:43:51.466929Z",
     "iopub.status.busy": "2024-09-01T11:43:51.466682Z",
     "iopub.status.idle": "2024-09-01T11:43:51.475246Z",
     "shell.execute_reply": "2024-09-01T11:43:51.474578Z",
     "shell.execute_reply.started": "2024-09-01T11:43:51.466902Z"
    }
   },
   "outputs": [
    {
     "data": {
      "text/html": [
       "<div>\n",
       "<style scoped>\n",
       "    .dataframe tbody tr th:only-of-type {\n",
       "        vertical-align: middle;\n",
       "    }\n",
       "\n",
       "    .dataframe tbody tr th {\n",
       "        vertical-align: top;\n",
       "    }\n",
       "\n",
       "    .dataframe thead th {\n",
       "        text-align: right;\n",
       "    }\n",
       "</style>\n",
       "<table border=\"1\" class=\"dataframe\">\n",
       "  <thead>\n",
       "    <tr style=\"text-align: right;\">\n",
       "      <th></th>\n",
       "      <th>song_popularity</th>\n",
       "    </tr>\n",
       "  </thead>\n",
       "  <tbody>\n",
       "    <tr>\n",
       "      <th>0</th>\n",
       "      <td>79.0</td>\n",
       "    </tr>\n",
       "    <tr>\n",
       "      <th>1</th>\n",
       "      <td>86.0</td>\n",
       "    </tr>\n",
       "    <tr>\n",
       "      <th>2</th>\n",
       "      <td>63.0</td>\n",
       "    </tr>\n",
       "    <tr>\n",
       "      <th>3</th>\n",
       "      <td>25.0</td>\n",
       "    </tr>\n",
       "    <tr>\n",
       "      <th>4</th>\n",
       "      <td>35.0</td>\n",
       "    </tr>\n",
       "  </tbody>\n",
       "</table>\n",
       "</div>"
      ],
      "text/plain": [
       "   song_popularity\n",
       "0             79.0\n",
       "1             86.0\n",
       "2             63.0\n",
       "3             25.0\n",
       "4             35.0"
      ]
     },
     "execution_count": 6,
     "metadata": {},
     "output_type": "execute_result"
    }
   ],
   "source": [
    "y_train.head()"
   ]
  },
  {
   "cell_type": "code",
   "execution_count": 12,
   "id": "d24d64e9-de5a-48cb-86f7-f859573eec96",
   "metadata": {
    "execution": {
     "iopub.execute_input": "2024-10-23T11:57:26.147509Z",
     "iopub.status.busy": "2024-10-23T11:57:26.146638Z",
     "iopub.status.idle": "2024-10-23T11:57:26.158626Z",
     "shell.execute_reply": "2024-10-23T11:57:26.156095Z",
     "shell.execute_reply.started": "2024-10-23T11:57:26.147430Z"
    }
   },
   "outputs": [],
   "source": [
    "X_train_val = np.concatenate((X_train, X_val))\n",
    "y_train_val = np.concatenate((y_train, y_val))"
   ]
  },
  {
   "cell_type": "markdown",
   "id": "8177d754-97ae-42a6-97d7-83bfb492f141",
   "metadata": {},
   "source": [
    "<div style=\"background: linear-gradient(to right, #2b040d, #5a040d); color:white; font-size:14px; padding: 10px; width:100%;\">\n",
    "    \n",
    "# 3 - Model Training"
   ]
  },
  {
   "cell_type": "markdown",
   "id": "2d3578a1-23e9-4a81-956b-d9efeef5d1d4",
   "metadata": {},
   "source": [
    "<div style=\"background: linear-gradient(to right, #52b3ed, #5a040d); color:white; padding: 3px; width:100%;\">\n",
    "\n",
    "## 3.1 -  Linear Regression\n",
    "\n",
    "</div>\n",
    "\n",
    "<br>\n",
    "Linear regression is the bedrock of predictive modeling. It assumes a linear relationship between the input features (e.g., song duration, acousticness) and the target variable (song popularity). Its simplicity makes it easy to interpret and computationally efficient, making it a popular choice for tasks like:\n",
    "\n",
    "* **Predicting Sales:** Forecasting sales based on advertising spend, seasonality, and economic indicators.\n",
    "* **Estimating House Prices:** Determining property values using features like location, size, and amenities.\n",
    "* **Analyzing Trends:**  Understanding the relationship between variables over time, such as stock prices or population growth.\n"
   ]
  },
  {
   "cell_type": "markdown",
   "id": "3876df30-9b67-4cb7-8c5f-3fe5ba28c482",
   "metadata": {},
   "source": [
    "<div style=\"color:#4baee9; font-size:14px;\">  \n",
    "\n",
    "### 3.1.1 - Training\n",
    "</div>    "
   ]
  },
  {
   "cell_type": "code",
   "execution_count": 7,
   "id": "81df5cfc-d672-4ee2-8ba6-3ea314fe1ac2",
   "metadata": {
    "execution": {
     "iopub.execute_input": "2024-10-21T18:32:25.391904Z",
     "iopub.status.busy": "2024-10-21T18:32:25.391013Z",
     "iopub.status.idle": "2024-10-21T18:32:25.578194Z",
     "shell.execute_reply": "2024-10-21T18:32:25.575949Z",
     "shell.execute_reply.started": "2024-10-21T18:32:25.391831Z"
    }
   },
   "outputs": [
    {
     "name": "stdout",
     "output_type": "stream",
     "text": [
      "========================= Regression Summary ==========================\n",
      "Dep. Variable: song_popularity              Observations:  10547\n",
      "----------------------------------------------------------------------\n",
      "Model Metrics                               Residuals Metrics\n",
      "----------------------------------------------------------------------\n",
      "R²:                         0.046      Skewness:                -0.616\n",
      "Adjusted R²:                0.046      Kurtosis:                 2.935\n",
      "MSE:                      455.996      AIC:                  94506.931\n",
      "RMSE:                      21.354      BIC:                  94514.195\n",
      "MAE:                       16.998\n",
      "MAPE:                       8.653\n",
      "MPE:                     -842.079\n",
      "Explained Variance:         0.046\n",
      "----------------------------------------------------------------------\n",
      "\n"
     ]
    },
    {
     "data": {
      "text/plain": [
       "{'R²': 0.04605830473391903,\n",
       " 'RMSE': 21.35406546364478,\n",
       " 'MAE': 16.998249066011095,\n",
       " 'MAPE': 8.653185943804512,\n",
       " 'MPE': -842.0791766980763}"
      ]
     },
     "execution_count": 7,
     "metadata": {},
     "output_type": "execute_result"
    }
   ],
   "source": [
    "# Definition\n",
    "lin_reg_model = LinearRegression()\n",
    "\n",
    "# Training\n",
    "lin_reg_model.fit(X_train, y_train)\n",
    "\n",
    "# Performance\n",
    "yhat_train = lin_reg_model.predict(X_train)\n",
    "lin_reg_train_metrics = regression_report(y_train, yhat_train, output_dict=True)\n",
    "lin_reg_train_metrics"
   ]
  },
  {
   "cell_type": "markdown",
   "id": "c8276d40-adc6-4397-b4cf-1964874adf1c",
   "metadata": {},
   "source": [
    "Just for the sake of comparison, the regression was calculated using statsmodels to show the results in a different way"
   ]
  },
  {
   "cell_type": "code",
   "execution_count": 9,
   "id": "2dbef5eb-5191-474b-9298-1ca8f96038d2",
   "metadata": {
    "execution": {
     "iopub.execute_input": "2024-09-01T11:43:58.932394Z",
     "iopub.status.busy": "2024-09-01T11:43:58.931708Z",
     "iopub.status.idle": "2024-09-01T11:43:58.979456Z",
     "shell.execute_reply": "2024-09-01T11:43:58.976778Z",
     "shell.execute_reply.started": "2024-09-01T11:43:58.932373Z"
    }
   },
   "outputs": [
    {
     "name": "stdout",
     "output_type": "stream",
     "text": [
      "                            OLS Regression Results                            \n",
      "==============================================================================\n",
      "Dep. Variable:        song_popularity   R-squared:                       0.046\n",
      "Model:                            OLS   Adj. R-squared:                  0.045\n",
      "Method:                 Least Squares   F-statistic:                     39.12\n",
      "Date:                Sun, 01 Sep 2024   Prob (F-statistic):           6.61e-98\n",
      "Time:                        07:43:58   Log-Likelihood:                -47252.\n",
      "No. Observations:               10547   AIC:                         9.453e+04\n",
      "Df Residuals:                   10533   BIC:                         9.463e+04\n",
      "Df Model:                          13                                         \n",
      "Covariance Type:            nonrobust                                         \n",
      "====================================================================================\n",
      "                       coef    std err          t      P>|t|      [0.025      0.975]\n",
      "------------------------------------------------------------------------------------\n",
      "const               53.5322      3.193     16.766      0.000      47.274      59.791\n",
      "song_duration_ms    -0.2005      0.214     -0.938      0.348      -0.619       0.218\n",
      "acousticness        -3.6570      1.013     -3.611      0.000      -5.642      -1.672\n",
      "danceability        13.5683      1.593      8.517      0.000      10.446      16.691\n",
      "energy             -10.0883      1.888     -5.345      0.000     -13.788      -6.388\n",
      "instrumentalness    -9.9299      1.047     -9.486      0.000     -11.982      -7.878\n",
      "key                 -0.8697      0.648     -1.343      0.179      -2.140       0.400\n",
      "liveness            -4.8554      1.473     -3.296      0.001      -7.743      -1.968\n",
      "loudness             2.4942      0.359      6.946      0.000       1.790       3.198\n",
      "audio_mode          -0.2228      0.444     -0.502      0.616      -1.094       0.648\n",
      "speechiness         -1.7716      2.120     -0.836      0.403      -5.928       2.385\n",
      "tempo               -0.3980      0.215     -1.854      0.064      -0.819       0.023\n",
      "time_signature       7.3148      3.497      2.092      0.036       0.460      14.170\n",
      "audio_valence       -9.4682      1.006     -9.416      0.000     -11.439      -7.497\n",
      "==============================================================================\n",
      "Omnibus:                      571.618   Durbin-Watson:                   1.987\n",
      "Prob(Omnibus):                  0.000   Jarque-Bera (JB):              668.792\n",
      "Skew:                          -0.616   Prob(JB):                    5.94e-146\n",
      "Kurtosis:                       2.935   Cond. No.                         41.0\n",
      "==============================================================================\n",
      "\n",
      "Notes:\n",
      "[1] Standard Errors assume that the covariance matrix of the errors is correctly specified.\n"
     ]
    }
   ],
   "source": [
    "# Definition\n",
    "model_lin_reg = sm.OLS(y_train, sm.add_constant(X_train))\n",
    "\n",
    "# Training\n",
    "results = model_lin_reg.fit()\n",
    "\n",
    "print(results.summary())"
   ]
  },
  {
   "cell_type": "markdown",
   "id": "0329b81e-3793-43b7-9334-bd525d5bdbfe",
   "metadata": {},
   "source": [
    "<div style=\"color:#4baee9; font-size:14px;\">  \n",
    "    \n",
    "### 3.1.2 - Validation\n",
    "</div>"
   ]
  },
  {
   "cell_type": "code",
   "execution_count": 8,
   "id": "4c26ba7f-98fb-4c6b-883c-5a3aa9a48ee6",
   "metadata": {
    "execution": {
     "iopub.execute_input": "2024-10-21T18:33:33.863530Z",
     "iopub.status.busy": "2024-10-21T18:33:33.862862Z",
     "iopub.status.idle": "2024-10-21T18:33:33.930932Z",
     "shell.execute_reply": "2024-10-21T18:33:33.917921Z",
     "shell.execute_reply.started": "2024-10-21T18:33:33.863488Z"
    }
   },
   "outputs": [
    {
     "name": "stdout",
     "output_type": "stream",
     "text": [
      "========================= Regression Summary ==========================\n",
      "Dep. Variable: song_popularity              Observations:   4521\n",
      "----------------------------------------------------------------------\n",
      "Model Metrics                               Residuals Metrics\n",
      "----------------------------------------------------------------------\n",
      "R²:                         0.040      Skewness:                -0.593\n",
      "Adjusted R²:                0.040      Kurtosis:                 2.900\n",
      "MSE:                      458.447      AIC:                  40536.028\n",
      "RMSE:                      21.411      BIC:                  40542.445\n",
      "MAE:                       17.040\n",
      "MAPE:                       8.683\n",
      "MPE:                     -845.131\n",
      "Explained Variance:         0.040\n",
      "----------------------------------------------------------------------\n",
      "\n"
     ]
    }
   ],
   "source": [
    "# Training\n",
    "lin_reg_model.fit(X_train, y_train)\n",
    "\n",
    "# Performance\n",
    "yhat_val = lin_reg_model.predict(X_val)\n",
    "lin_reg_val_metrics = regression_report(y_val, yhat_val, output_dict=True)"
   ]
  },
  {
   "cell_type": "markdown",
   "id": "0cb5f910-da4f-4176-af76-207d61cc102c",
   "metadata": {},
   "source": [
    "<div style=\"color:#4baee9; font-size:14px;\">  \n",
    "\n",
    "### 3.1.3 - Test\n",
    "</div>"
   ]
  },
  {
   "cell_type": "code",
   "execution_count": 17,
   "id": "b19ceeb9-d991-40ce-9ebf-969257540e77",
   "metadata": {
    "execution": {
     "iopub.execute_input": "2024-10-21T18:55:40.276207Z",
     "iopub.status.busy": "2024-10-21T18:55:40.275297Z",
     "iopub.status.idle": "2024-10-21T18:55:40.388745Z",
     "shell.execute_reply": "2024-10-21T18:55:40.385026Z",
     "shell.execute_reply.started": "2024-10-21T18:55:40.276144Z"
    }
   },
   "outputs": [
    {
     "name": "stdout",
     "output_type": "stream",
     "text": [
      "========================= Regression Summary ==========================\n",
      "Dep. Variable: song_popularity              Observations:   3767\n",
      "----------------------------------------------------------------------\n",
      "Model Metrics                               Residuals Metrics\n",
      "----------------------------------------------------------------------\n",
      "R²:                         0.051      Skewness:                -0.579\n",
      "Adjusted R²:                0.051      Kurtosis:                 2.868\n",
      "MSE:                      461.988      AIC:                  33804.862\n",
      "RMSE:                      21.494      BIC:                  33811.096\n",
      "MAE:                       17.144\n",
      "MAPE:                       8.531\n",
      "MPE:                     -830.199\n",
      "Explained Variance:         0.051\n",
      "----------------------------------------------------------------------\n",
      "\n"
     ]
    }
   ],
   "source": [
    "# Training\n",
    "lin_reg_model.fit(X_train_val, y_train_val)\n",
    "\n",
    "# Performance\n",
    "yhat_test = lin_reg_model.predict(X_test)\n",
    "lin_reg_test_metrics = regression_report(y_test, yhat_test, output_dict=True)"
   ]
  },
  {
   "cell_type": "markdown",
   "id": "ed44c4f4-36cf-4802-88ad-998e4275f96e",
   "metadata": {},
   "source": [
    "<div style=\"color:#4baee9; font-size:14px;\">  \n",
    "\n",
    "### 3.1.4 - Results\n",
    "</div>"
   ]
  },
  {
   "cell_type": "code",
   "execution_count": 13,
   "id": "27cf4aa7-f9ee-4e29-8891-e5f688d1bb1b",
   "metadata": {
    "execution": {
     "iopub.execute_input": "2024-10-21T18:39:45.180720Z",
     "iopub.status.busy": "2024-10-21T18:39:45.180046Z",
     "iopub.status.idle": "2024-10-21T18:39:45.215781Z",
     "shell.execute_reply": "2024-10-21T18:39:45.213604Z",
     "shell.execute_reply.started": "2024-10-21T18:39:45.180680Z"
    }
   },
   "outputs": [
    {
     "data": {
      "text/html": [
       "<div>\n",
       "<style scoped>\n",
       "    .dataframe tbody tr th:only-of-type {\n",
       "        vertical-align: middle;\n",
       "    }\n",
       "\n",
       "    .dataframe tbody tr th {\n",
       "        vertical-align: top;\n",
       "    }\n",
       "\n",
       "    .dataframe thead th {\n",
       "        text-align: right;\n",
       "    }\n",
       "</style>\n",
       "<table border=\"1\" class=\"dataframe\">\n",
       "  <thead>\n",
       "    <tr style=\"text-align: right;\">\n",
       "      <th></th>\n",
       "      <th>R²</th>\n",
       "      <th>RMSE</th>\n",
       "      <th>MAE</th>\n",
       "      <th>MAPE</th>\n",
       "      <th>MPE</th>\n",
       "    </tr>\n",
       "  </thead>\n",
       "  <tbody>\n",
       "    <tr>\n",
       "      <th>train</th>\n",
       "      <td>0.046058</td>\n",
       "      <td>21.354065</td>\n",
       "      <td>16.998249</td>\n",
       "      <td>8.653186</td>\n",
       "      <td>-842.079177</td>\n",
       "    </tr>\n",
       "    <tr>\n",
       "      <th>val</th>\n",
       "      <td>0.039925</td>\n",
       "      <td>21.411376</td>\n",
       "      <td>17.039754</td>\n",
       "      <td>8.682542</td>\n",
       "      <td>-845.130567</td>\n",
       "    </tr>\n",
       "    <tr>\n",
       "      <th>test</th>\n",
       "      <td>0.051166</td>\n",
       "      <td>21.493916</td>\n",
       "      <td>17.144197</td>\n",
       "      <td>8.531355</td>\n",
       "      <td>-830.198916</td>\n",
       "    </tr>\n",
       "  </tbody>\n",
       "</table>\n",
       "</div>"
      ],
      "text/plain": [
       "             R²       RMSE        MAE      MAPE         MPE\n",
       "train  0.046058  21.354065  16.998249  8.653186 -842.079177\n",
       "val    0.039925  21.411376  17.039754  8.682542 -845.130567\n",
       "test   0.051166  21.493916  17.144197  8.531355 -830.198916"
      ]
     },
     "execution_count": 13,
     "metadata": {},
     "output_type": "execute_result"
    }
   ],
   "source": [
    "lin_reg_metrics = pd.DataFrame({\n",
    "    'train': lin_reg_train_metrics,\n",
    "    'val': lin_reg_val_metrics,\n",
    "    'test': lin_reg_test_metrics\n",
    "})\n",
    "\n",
    "os.makedirs('../Results', exist_ok=True)\n",
    "lin_reg_metrics.to_csv('../Results/lin_reg_metrics.csv', index=True)\n",
    "\n",
    "lin_reg_metrics = lin_reg_metrics.T\n",
    "lin_reg_metrics"
   ]
  },
  {
   "cell_type": "markdown",
   "id": "c2117b95-c047-4f04-bdcc-a4241adf963e",
   "metadata": {},
   "source": [
    "<div style=\"background: linear-gradient(to right, #52b3ed, #5a040d); color:white; padding: 3px; width:100%;\">\n",
    "\n",
    "## 3.2 -  Decision Tree Regressor\n",
    "</div>\n",
    "<br>\n",
    "\n",
    "Decision tree regressors use a tree-like structure to make predictions. They partition data based on feature values, creating branches that lead to predicted outcomes. This approach offers:\n",
    "\n",
    "* **Intuitive Visualization:**  The tree structure provides a clear representation of the decision-making process.\n",
    "* **Handling Non-Linear Relationships:**  Decision trees can capture complex, non-linear patterns in data, unlike linear regression.\n",
    "* **Applications:** Credit risk assessment, medical diagnosis, customer churn prediction. \n"
   ]
  },
  {
   "cell_type": "markdown",
   "id": "267ec8bf-28b0-488c-820d-c6d2de697178",
   "metadata": {},
   "source": [
    "<div style=\"color:#4baee9; font-size:14px;\">  \n",
    "\n",
    "### 3.2.1 - Training\n",
    "</div>"
   ]
  },
  {
   "cell_type": "code",
   "execution_count": 24,
   "id": "fa708d75-0474-40b1-bc64-c0644d801365",
   "metadata": {
    "execution": {
     "iopub.execute_input": "2024-10-21T20:07:53.025040Z",
     "iopub.status.busy": "2024-10-21T20:07:53.024377Z",
     "iopub.status.idle": "2024-10-21T20:08:41.529659Z",
     "shell.execute_reply": "2024-10-21T20:08:41.520907Z",
     "shell.execute_reply.started": "2024-10-21T20:07:53.024999Z"
    }
   },
   "outputs": [
    {
     "name": "stdout",
     "output_type": "stream",
     "text": [
      "========================= Regression Summary ==========================\n",
      "Dep. Variable: song_popularity              Observations:  10547\n",
      "----------------------------------------------------------------------\n",
      "Model Metrics                               Residuals Metrics\n",
      "----------------------------------------------------------------------\n",
      "R²:                         0.992      Skewness:                -0.002\n",
      "Adjusted R²:                0.992      Kurtosis:                 2.922\n",
      "MSE:                        3.940      AIC:                 2582227.332\n",
      "RMSE:                       1.985      BIC:                 2582234.596\n",
      "MAE:                        0.214\n",
      "MAPE:                       0.083\n",
      "MPE:                     -850.957\n",
      "Explained Variance:         0.992\n",
      "----------------------------------------------------------------------\n",
      "\n"
     ]
    }
   ],
   "source": [
    "# Definition\n",
    "dt_reg_model = DecisionTreeRegressor(random_state=0)\n",
    "\n",
    "# Training\n",
    "dt_reg_model.fit(X_train, y_train)\n",
    "\n",
    "# Performance\n",
    "yhat_train = dt_reg_model.predict(X_train)\n",
    "dt_reg_train_metrics = regression_report(y_train, yhat_train, output_dict=True)"
   ]
  },
  {
   "cell_type": "markdown",
   "id": "f0a401ed-00d8-44ae-b9cf-a5fecab6b362",
   "metadata": {},
   "source": [
    "<div style=\"color:#4baee9; font-size:14px;\">  \n",
    "\n",
    "### 3.2.2 - Validation\n",
    "</div>"
   ]
  },
  {
   "cell_type": "code",
   "execution_count": 41,
   "id": "41c673f6-5e58-4eda-9ef3-49a54106b941",
   "metadata": {
    "execution": {
     "iopub.execute_input": "2024-10-21T21:19:29.598957Z",
     "iopub.status.busy": "2024-10-21T21:19:29.598405Z",
     "iopub.status.idle": "2024-10-21T21:21:04.991129Z",
     "shell.execute_reply": "2024-10-21T21:21:04.989357Z",
     "shell.execute_reply.started": "2024-10-21T21:19:29.598922Z"
    }
   },
   "outputs": [
    {
     "name": "stdout",
     "output_type": "stream",
     "text": [
      "max_depth tested:  1  2  3  4  5  6  7  8  9  10  11  12  13  14  15  "
     ]
    },
    {
     "data": {
      "image/png": "[encoded data removed]",
      "text/plain": [
       "<Figure size 1000x600 with 1 Axes>"
      ]
     },
     "metadata": {},
     "output_type": "display_data"
    },
    {
     "name": "stdout",
     "output_type": "stream",
     "text": [
      "Best max_depth: 5\n",
      "Best Model Summary:\n",
      "========================= Regression Summary ==========================\n",
      "Dep. Variable: song_popularity              Observations:   4521\n",
      "----------------------------------------------------------------------\n",
      "Model Metrics                               Residuals Metrics\n",
      "----------------------------------------------------------------------\n",
      "R²:                         0.064      Skewness:                -0.423\n",
      "Adjusted R²:                0.063      Kurtosis:                 2.893\n",
      "MSE:                      447.161      AIC:                  41255.839\n",
      "RMSE:                      21.146      BIC:                  41262.256\n",
      "MAE:                       16.843\n",
      "MAPE:                       8.396\n",
      "MPE:                     -845.358\n",
      "Explained Variance:         0.064\n",
      "----------------------------------------------------------------------\n",
      "\n"
     ]
    }
   ],
   "source": [
    "max_depth_range = range(1, 16, 1)\n",
    "dt_reg_val_metrics = {i: None for i in max_depth_range}\n",
    "dt_reg_models = {i: None for i in max_depth_range}\n",
    "\n",
    "print('max_depth tested:', end='  ')\n",
    "for d in max_depth_range:\n",
    "\n",
    "    # Definition\n",
    "    dt_reg_model = DecisionTreeRegressor(random_state=0, max_depth=d)\n",
    "    \n",
    "    # Training\n",
    "    dt_reg_model.fit(X_train, y_train)\n",
    "    \n",
    "    # Performance\n",
    "    yhat_val = dt_reg_model.predict(X_val)\n",
    "\n",
    "    # Use the regression_report function instead of calculate_metrics\n",
    "    dt_reg_val_metrics_d = regression_report(y_val, yhat_val, output_dict=True, show_report=False)\n",
    "\n",
    "    # Storing metrics in the dictionary\n",
    "    dt_reg_val_metrics[d] = {\n",
    "        'metrics': dt_reg_val_metrics_d\n",
    "    }\n",
    "    dt_reg_models[d] = dt_reg_model\n",
    "\n",
    "    print(f'{d}', end='  ')\n",
    "\n",
    "# Extract RMSE metrics for plotting\n",
    "evaluated_metrics = [metrics['metrics']['RMSE'] for metrics in dt_reg_val_metrics.values()]\n",
    "\n",
    "# Plotting RMSE vs Max Depth\n",
    "plt.figure(figsize=(10, 6))\n",
    "plt.plot(max_depth_range, evaluated_metrics, marker='o')\n",
    "plt.xlabel('Max Depth')\n",
    "plt.ylabel('RMSE')\n",
    "plt.title('RMSE vs Max Depth')\n",
    "plt.grid(True)\n",
    "plt.show()\n",
    "\n",
    "# Determine the best max_depth based on RMSE\n",
    "dt_reg_best_max_depth = min(dt_reg_val_metrics, key=lambda k: dt_reg_val_metrics[k]['metrics']['RMSE'])\n",
    "dt_reg_best_metrics = dt_reg_val_metrics[dt_reg_best_max_depth]['metrics']\n",
    "\n",
    "print(f'Best max_depth: {dt_reg_best_max_depth}')\n",
    "\n",
    "# Display the regression report for the best model\n",
    "print(\"Best Model Summary:\")\n",
    "best_model = dt_reg_models[dt_reg_best_max_depth]  # Get the best model\n",
    "dt_reg_val_metrics = regression_report(y_val, best_model.predict(X_val), output_dict=True)"
   ]
  },
  {
   "cell_type": "markdown",
   "id": "c682fe50-ecb6-446a-9352-55944ce59be5",
   "metadata": {},
   "source": [
    "<div style=\"color:#4baee9; font-size:14px;\">  \n",
    "\n",
    "### 3.2.3 - Test\n",
    "</div>"
   ]
  },
  {
   "cell_type": "code",
   "execution_count": 39,
   "id": "8bdbbf73-b91d-47eb-8e35-2f466164b9f7",
   "metadata": {
    "execution": {
     "iopub.execute_input": "2024-10-21T21:17:40.699525Z",
     "iopub.status.busy": "2024-10-21T21:17:40.698728Z",
     "iopub.status.idle": "2024-10-21T21:17:46.129868Z",
     "shell.execute_reply": "2024-10-21T21:17:46.127267Z",
     "shell.execute_reply.started": "2024-10-21T21:17:40.699422Z"
    }
   },
   "outputs": [
    {
     "name": "stdout",
     "output_type": "stream",
     "text": [
      "========================= Regression Summary ==========================\n",
      "Dep. Variable: song_popularity              Observations:   3767\n",
      "----------------------------------------------------------------------\n",
      "Model Metrics                               Residuals Metrics\n",
      "----------------------------------------------------------------------\n",
      "R²:                         0.090      Skewness:                -0.432\n",
      "Adjusted R²:                0.090      Kurtosis:                 2.842\n",
      "MSE:                      442.848      AIC:                  34418.934\n",
      "RMSE:                      21.044      BIC:                  34425.168\n",
      "MAE:                       16.830\n",
      "MAPE:                       7.883\n",
      "MPE:                     -847.591\n",
      "Explained Variance:         0.091\n",
      "----------------------------------------------------------------------\n",
      "\n"
     ]
    }
   ],
   "source": [
    "# Definition\n",
    "dt_reg_model = DecisionTreeRegressor(random_state=0, max_depth=dt_reg_best_max_depth)\n",
    "\n",
    "# Training\n",
    "dt_reg_model.fit(X_train_val, y_train_val)\n",
    "\n",
    "# Performance\n",
    "yhat_test = dt_reg_model.predict(X_test)\n",
    "dt_reg_test_metrics = regression_report(y_test, yhat_test, output_dict=True)"
   ]
  },
  {
   "cell_type": "markdown",
   "id": "eeb1b578-a508-4120-9b54-9c1696e78321",
   "metadata": {},
   "source": [
    "<div style=\"color:#4baee9; font-size:14px;\">  \n",
    "\n",
    "### 3.2.4 - Results\n",
    "</div>"
   ]
  },
  {
   "cell_type": "code",
   "execution_count": 42,
   "id": "70828a3a-a483-4db7-ac94-770039c5b2e4",
   "metadata": {
    "execution": {
     "iopub.execute_input": "2024-10-21T21:21:16.417121Z",
     "iopub.status.busy": "2024-10-21T21:21:16.416271Z",
     "iopub.status.idle": "2024-10-21T21:21:16.472277Z",
     "shell.execute_reply": "2024-10-21T21:21:16.464954Z",
     "shell.execute_reply.started": "2024-10-21T21:21:16.417053Z"
    }
   },
   "outputs": [
    {
     "data": {
      "text/html": [
       "<div>\n",
       "<style scoped>\n",
       "    .dataframe tbody tr th:only-of-type {\n",
       "        vertical-align: middle;\n",
       "    }\n",
       "\n",
       "    .dataframe tbody tr th {\n",
       "        vertical-align: top;\n",
       "    }\n",
       "\n",
       "    .dataframe thead th {\n",
       "        text-align: right;\n",
       "    }\n",
       "</style>\n",
       "<table border=\"1\" class=\"dataframe\">\n",
       "  <thead>\n",
       "    <tr style=\"text-align: right;\">\n",
       "      <th></th>\n",
       "      <th>R²</th>\n",
       "      <th>RMSE</th>\n",
       "      <th>MAE</th>\n",
       "      <th>MAPE</th>\n",
       "      <th>MPE</th>\n",
       "    </tr>\n",
       "  </thead>\n",
       "  <tbody>\n",
       "    <tr>\n",
       "      <th>train</th>\n",
       "      <td>0.991757</td>\n",
       "      <td>1.985045</td>\n",
       "      <td>0.214099</td>\n",
       "      <td>0.082628</td>\n",
       "      <td>-850.957463</td>\n",
       "    </tr>\n",
       "    <tr>\n",
       "      <th>val</th>\n",
       "      <td>0.063559</td>\n",
       "      <td>21.146189</td>\n",
       "      <td>16.843452</td>\n",
       "      <td>8.395778</td>\n",
       "      <td>-845.358267</td>\n",
       "    </tr>\n",
       "    <tr>\n",
       "      <th>test</th>\n",
       "      <td>0.090475</td>\n",
       "      <td>21.043963</td>\n",
       "      <td>16.829781</td>\n",
       "      <td>7.883226</td>\n",
       "      <td>-847.590999</td>\n",
       "    </tr>\n",
       "  </tbody>\n",
       "</table>\n",
       "</div>"
      ],
      "text/plain": [
       "             R²       RMSE        MAE      MAPE         MPE\n",
       "train  0.991757   1.985045   0.214099  0.082628 -850.957463\n",
       "val    0.063559  21.146189  16.843452  8.395778 -845.358267\n",
       "test   0.090475  21.043963  16.829781  7.883226 -847.590999"
      ]
     },
     "execution_count": 42,
     "metadata": {},
     "output_type": "execute_result"
    }
   ],
   "source": [
    "dt_reg_metrics = pd.DataFrame({\n",
    "    'train': dt_reg_train_metrics,\n",
    "    'val': dt_reg_val_metrics,\n",
    "    'test': dt_reg_test_metrics\n",
    "})\n",
    "\n",
    "os.makedirs('../Results', exist_ok=True)\n",
    "dt_reg_metrics.to_csv('../Results/dt_reg_metrics.csv', index=True)\n",
    "\n",
    "dt_reg_metrics = dt_reg_metrics.T\n",
    "dt_reg_metrics"
   ]
  },
  {
   "cell_type": "markdown",
   "id": "784159a7-2d0b-47e8-8baa-a6058026db05",
   "metadata": {},
   "source": [
    "<div style=\"background: linear-gradient(to right, #52b3ed, #5a040d); color:white; padding: 3px; width:100%;\">\n",
    "    \n",
    "## 3.3 -  Random Forest Regressor\n",
    "</div>\n",
    "Random forest regression combines multiple decision trees to improve accuracy and robustness. By averaging the predictions of many trees, it reduces the risk of overfitting and captures a wider range of data patterns. \n",
    "\n",
    "* **High Accuracy and Generalization:**  Random forests are known for their excellent predictive performance on a wide variety of tasks.\n",
    "* **Applications:**  Image classification, object detection, fraud detection, recommendation systems."
   ]
  },
  {
   "cell_type": "markdown",
   "id": "3dd447df-77d4-4503-8b68-18f7e5f901b0",
   "metadata": {},
   "source": [
    "<div style=\"color:#4baee9; font-size:14px;\">  \n",
    "\n",
    "### 3.3.1 - Training\n",
    "</div>"
   ]
  },
  {
   "cell_type": "code",
   "execution_count": 43,
   "id": "6d907114-5191-448b-a8c2-eb640155f26e",
   "metadata": {
    "execution": {
     "iopub.execute_input": "2024-10-21T21:27:05.126864Z",
     "iopub.status.busy": "2024-10-21T21:27:05.126140Z",
     "iopub.status.idle": "2024-10-21T21:29:01.533023Z",
     "shell.execute_reply": "2024-10-21T21:29:01.512178Z",
     "shell.execute_reply.started": "2024-10-21T21:27:05.126818Z"
    }
   },
   "outputs": [
    {
     "name": "stdout",
     "output_type": "stream",
     "text": [
      "========================= Regression Summary ==========================\n",
      "Dep. Variable: song_popularity              Observations:  10547\n",
      "----------------------------------------------------------------------\n",
      "Model Metrics                               Residuals Metrics\n",
      "----------------------------------------------------------------------\n",
      "R²:                         0.903      Skewness:                -0.241\n",
      "Adjusted R²:                0.903      Kurtosis:                 2.949\n",
      "MSE:                       46.455      AIC:                 234229.696\n",
      "RMSE:                       6.816      BIC:                 234236.960\n",
      "MAE:                        4.861\n",
      "MAPE:                       2.578\n",
      "MPE:                     -856.240\n",
      "Explained Variance:         0.903\n",
      "----------------------------------------------------------------------\n",
      "\n"
     ]
    },
    {
     "data": {
      "text/plain": [
       "{'R²': 0.9028168842467658,\n",
       " 'RMSE': 6.815772146134175,\n",
       " 'MAE': 4.860772578122971,\n",
       " 'MAPE': 2.5779585497476467,\n",
       " 'MPE': -856.2402566056729}"
      ]
     },
     "execution_count": 43,
     "metadata": {},
     "output_type": "execute_result"
    }
   ],
   "source": [
    "# Definition\n",
    "rf_reg_model = RandomForestRegressor(random_state=0)\n",
    "\n",
    "# Training\n",
    "rf_reg_model.fit(X_train, y_train)\n",
    "\n",
    "# Performance\n",
    "yhat_train = rf_reg_model.predict(X_train)\n",
    "rf_reg_train_metrics = regression_report(y_train, yhat_train, output_dict=True)\n",
    "rf_reg_train_metrics"
   ]
  },
  {
   "cell_type": "markdown",
   "id": "2a5cda2f-375b-4f57-a596-f98340de2433",
   "metadata": {},
   "source": [
    "<div style=\"color:#4baee9; font-size:14px;\">  \n",
    "    \n",
    "### 3.3.2 - Validation\n",
    "</div>"
   ]
  },
  {
   "cell_type": "code",
   "execution_count": 44,
   "id": "9fcc6473-c2ca-4881-ae6b-3123f14810e7",
   "metadata": {
    "execution": {
     "iopub.execute_input": "2024-10-21T21:34:03.895512Z",
     "iopub.status.busy": "2024-10-21T21:34:03.891602Z",
     "iopub.status.idle": "2024-10-21T21:49:16.506700Z",
     "shell.execute_reply": "2024-10-21T21:49:16.490228Z",
     "shell.execute_reply.started": "2024-10-21T21:34:03.895408Z"
    }
   },
   "outputs": [
    {
     "name": "stdout",
     "output_type": "stream",
     "text": [
      "\n",
      "Best parameters: {'max_depth': 34, 'n_estimators': 600}\n",
      "Metrics on the validation set:\n",
      "{'R²': 0.34104629968710454, 'RMSE': 17.738603204342734, 'MAE': 12.930303888184845, 'MAPE': 7.033137554926378, 'MPE': -858.97306681398}\n"
     ]
    }
   ],
   "source": [
    "# Define the parameter grid\n",
    "param_grid = {\n",
    "    'n_estimators': range(400, 801, 200),\n",
    "    'max_depth': range(33, 36, 1)\n",
    "}\n",
    "\n",
    "# Initialize variables to store the best results\n",
    "rf_reg_best_score  = -float('inf')\n",
    "rf_reg_best_params = None\n",
    "rf_reg_best_model  = None\n",
    "\n",
    "# Iterate over all combinations of parameters\n",
    "for params in ParameterGrid(param_grid):\n",
    "    # Create and train the model with the current parameters\n",
    "    model = RandomForestRegressor(random_state=0, **params)\n",
    "    model.fit(X_train, y_train)\n",
    "    \n",
    "    # Predict on the validation set\n",
    "    yhat_val = model.predict(X_val)\n",
    "    \n",
    "    # Calculate the RMSE score\n",
    "    score = r2_score(y_val, yhat_val)\n",
    "    \n",
    "    # Update the best score, parameters, and model if the current model is better\n",
    "    if score > rf_reg_best_score:\n",
    "        rf_reg_best_score  = score\n",
    "        rf_reg_best_params = params\n",
    "        rf_reg_best_model  = model\n",
    "\n",
    "# Output the best parameters and metrics\n",
    "print(f'\\nBest parameters: {rf_reg_best_params}')\n",
    "\n",
    "# Calculate and print metrics on the validation set using the best model\n",
    "rf_reg_val_metrics = regression_report(y_val, rf_reg_best_model.predict(X_val), output_dict=True, show_datetime=False)\n",
    "print('Metrics on the validation set:')\n",
    "print(rf_reg_val_metrics)\n"
   ]
  },
  {
   "cell_type": "markdown",
   "id": "fff47686-e96e-4b25-9954-ff5463cd7371",
   "metadata": {},
   "source": [
    "<div style=\"color:#4baee9; font-size:14px;\">  \n",
    "\n",
    "### 3.3.3 - Test\n",
    "</div>"
   ]
  },
  {
   "cell_type": "code",
   "execution_count": 45,
   "id": "1447f65b-965c-4818-996b-6f14e0eee8d4",
   "metadata": {
    "execution": {
     "iopub.execute_input": "2024-10-22T13:20:45.499008Z",
     "iopub.status.busy": "2024-10-22T13:20:45.491361Z",
     "iopub.status.idle": "2024-10-22T13:25:49.954714Z",
     "shell.execute_reply": "2024-10-22T13:25:49.936676Z",
     "shell.execute_reply.started": "2024-10-22T13:20:45.498898Z"
    }
   },
   "outputs": [
    {
     "name": "stdout",
     "output_type": "stream",
     "text": [
      "========================= Regression Summary ==========================\n",
      "Dep. Variable: song_popularity              Observations:   3767\n",
      "----------------------------------------------------------------------\n",
      "Model Metrics                               Residuals Metrics\n",
      "----------------------------------------------------------------------\n",
      "R²:                         0.407      Skewness:                -0.425\n",
      "Adjusted R²:                0.407      Kurtosis:                 3.018\n",
      "MSE:                      288.602      AIC:                  36901.617\n",
      "RMSE:                      16.988      BIC:                  36907.851\n",
      "MAE:                       12.191\n",
      "MAPE:                       6.318\n",
      "MPE:                     -861.501\n",
      "Explained Variance:         0.409\n",
      "----------------------------------------------------------------------\n",
      "\n"
     ]
    },
    {
     "data": {
      "text/plain": [
       "{'R²': 0.407268371434819,\n",
       " 'RMSE': 16.988278558686794,\n",
       " 'MAE': 12.191283580226564,\n",
       " 'MAPE': 6.317597012337652,\n",
       " 'MPE': -861.5009026890949}"
      ]
     },
     "execution_count": 45,
     "metadata": {},
     "output_type": "execute_result"
    }
   ],
   "source": [
    "# Definition\n",
    "rf_reg_model = RandomForestRegressor(random_state=0, \n",
    "                                     n_estimators=rf_reg_best_params['n_estimators'],\n",
    "                                     max_depth=rf_reg_best_params['max_depth'])\n",
    "\n",
    "# Training\n",
    "rf_reg_model.fit(X_train_val, y_train_val)\n",
    "\n",
    "# Performance\n",
    "yhat_test = rf_reg_model.predict(X_test)\n",
    "rf_reg_test_metrics = regression_report(y_test, yhat_test, output_dict=True)\n",
    "rf_reg_test_metrics"
   ]
  },
  {
   "cell_type": "markdown",
   "id": "0883e09e-7f13-4067-9dc5-d3814721cb35",
   "metadata": {},
   "source": [
    "<div style=\"color:#4baee9; font-size:14px;\">  \n",
    "    \n",
    "### 3.3.4 - Results\n",
    "</div>"
   ]
  },
  {
   "cell_type": "code",
   "execution_count": 46,
   "id": "700d4e4c-950f-4a16-9ce0-94a8ceaca237",
   "metadata": {
    "execution": {
     "iopub.execute_input": "2024-10-22T13:34:59.859929Z",
     "iopub.status.busy": "2024-10-22T13:34:59.855906Z",
     "iopub.status.idle": "2024-10-22T13:35:00.331863Z",
     "shell.execute_reply": "2024-10-22T13:35:00.323981Z",
     "shell.execute_reply.started": "2024-10-22T13:34:59.859804Z"
    }
   },
   "outputs": [
    {
     "data": {
      "text/html": [
       "<div>\n",
       "<style scoped>\n",
       "    .dataframe tbody tr th:only-of-type {\n",
       "        vertical-align: middle;\n",
       "    }\n",
       "\n",
       "    .dataframe tbody tr th {\n",
       "        vertical-align: top;\n",
       "    }\n",
       "\n",
       "    .dataframe thead th {\n",
       "        text-align: right;\n",
       "    }\n",
       "</style>\n",
       "<table border=\"1\" class=\"dataframe\">\n",
       "  <thead>\n",
       "    <tr style=\"text-align: right;\">\n",
       "      <th></th>\n",
       "      <th>R²</th>\n",
       "      <th>RMSE</th>\n",
       "      <th>MAE</th>\n",
       "      <th>MAPE</th>\n",
       "      <th>MPE</th>\n",
       "    </tr>\n",
       "  </thead>\n",
       "  <tbody>\n",
       "    <tr>\n",
       "      <th>train</th>\n",
       "      <td>0.902817</td>\n",
       "      <td>6.815772</td>\n",
       "      <td>4.860773</td>\n",
       "      <td>2.577959</td>\n",
       "      <td>-856.240257</td>\n",
       "    </tr>\n",
       "    <tr>\n",
       "      <th>val</th>\n",
       "      <td>0.341046</td>\n",
       "      <td>17.738603</td>\n",
       "      <td>12.930304</td>\n",
       "      <td>7.033138</td>\n",
       "      <td>-858.973067</td>\n",
       "    </tr>\n",
       "    <tr>\n",
       "      <th>test</th>\n",
       "      <td>0.407268</td>\n",
       "      <td>16.988279</td>\n",
       "      <td>12.191284</td>\n",
       "      <td>6.317597</td>\n",
       "      <td>-861.500903</td>\n",
       "    </tr>\n",
       "  </tbody>\n",
       "</table>\n",
       "</div>"
      ],
      "text/plain": [
       "             R²       RMSE        MAE      MAPE         MPE\n",
       "train  0.902817   6.815772   4.860773  2.577959 -856.240257\n",
       "val    0.341046  17.738603  12.930304  7.033138 -858.973067\n",
       "test   0.407268  16.988279  12.191284  6.317597 -861.500903"
      ]
     },
     "execution_count": 46,
     "metadata": {},
     "output_type": "execute_result"
    }
   ],
   "source": [
    "rf_reg_metrics = pd.DataFrame({\n",
    "    'train': rf_reg_train_metrics,\n",
    "    'val': rf_reg_val_metrics,\n",
    "    'test': rf_reg_test_metrics\n",
    "})\n",
    "\n",
    "os.makedirs('../Results', exist_ok=True)\n",
    "rf_reg_metrics.to_csv('../Results/rf_reg_metrics.csv', index=True)\n",
    "\n",
    "rf_reg_metrics = rf_reg_metrics.T\n",
    "rf_reg_metrics"
   ]
  },
  {
   "cell_type": "markdown",
   "id": "bff58122-08a0-432b-9392-c8ccfd007c90",
   "metadata": {},
   "source": [
    "<div style=\"background: linear-gradient(to right, #52b3ed, #5a040d); color:white; padding: 3px; width:100%;\">\n",
    "\n",
    "## 3.4 -  Polynomial Regression\n",
    "</div>\n",
    "<br>\n",
    "Polynomial regression extends linear regression by fitting polynomial curves to the data. This allows it to capture non-linear relationships between features and the target variable. However, it requires careful tuning to avoid overfitting.\n",
    "\n",
    "* **Flexibility for Complex Data:**  Polynomial regression is well-suited for data where the relationship between variables is not strictly linear.\n",
    "* **Applications:**  Modeling growth curves, predicting stock prices, analyzing chemical reactions.\n"
   ]
  },
  {
   "cell_type": "markdown",
   "id": "79c3ee68-8fec-4bb1-ba12-9fd025a5fe6c",
   "metadata": {},
   "source": [
    "<div style=\"color:#4baee9; font-size:14px;\">  \n",
    "    \n",
    "### 3.4.1 - Training\n",
    "</div>"
   ]
  },
  {
   "cell_type": "code",
   "execution_count": 49,
   "id": "cd2d4cee-f4e0-472c-b6f2-77bd839954c5",
   "metadata": {
    "execution": {
     "iopub.execute_input": "2024-10-22T13:37:34.950270Z",
     "iopub.status.busy": "2024-10-22T13:37:34.949163Z",
     "iopub.status.idle": "2024-10-22T13:37:35.800089Z",
     "shell.execute_reply": "2024-10-22T13:37:35.797587Z",
     "shell.execute_reply.started": "2024-10-22T13:37:34.950187Z"
    }
   },
   "outputs": [
    {
     "name": "stdout",
     "output_type": "stream",
     "text": [
      "========================= Regression Summary ==========================\n",
      "Dep. Variable: song_popularity              Observations:  10547\n",
      "----------------------------------------------------------------------\n",
      "Model Metrics                               Residuals Metrics\n",
      "----------------------------------------------------------------------\n",
      "R²:                         0.094      Skewness:                -0.671\n",
      "Adjusted R²:                0.094      Kurtosis:                 3.079\n",
      "MSE:                      432.986      AIC:                  93960.824\n",
      "RMSE:                      20.808      BIC:                  93968.088\n",
      "MAE:                       16.458\n",
      "MAPE:                       8.351\n",
      "MPE:                     -812.179\n",
      "Explained Variance:         0.094\n",
      "----------------------------------------------------------------------\n",
      "\n"
     ]
    },
    {
     "data": {
      "text/plain": [
       "{'R²': 0.09419491057528084,\n",
       " 'RMSE': 20.80832068280999,\n",
       " 'MAE': 16.458031755824443,\n",
       " 'MAPE': 8.35053982092813,\n",
       " 'MPE': -812.178676412312}"
      ]
     },
     "execution_count": 49,
     "metadata": {},
     "output_type": "execute_result"
    }
   ],
   "source": [
    "# Define polynomial model\n",
    "poly = PolynomialFeatures()\n",
    "X_poly_train = poly.fit_transform(X_train)\n",
    "\n",
    "# Model Definition\n",
    "pol_reg_model = LinearRegression()\n",
    "\n",
    "# Training\n",
    "pol_reg_model.fit(X_poly_train, y_train)\n",
    "\n",
    "# Performance\n",
    "yhat_train = pol_reg_model.predict(X_poly_train)\n",
    "\n",
    "pol_reg_train_metrics = regression_report(y_train, yhat_train, output_dict=True)\n",
    "pol_reg_train_metrics"
   ]
  },
  {
   "cell_type": "markdown",
   "id": "106b6a0e-9f0d-4236-9333-75778e984884",
   "metadata": {},
   "source": [
    "<div style=\"color:#4baee9; font-size:14px;\">  \n",
    "    \n",
    "### 3.4.2 - Validation\n",
    "</div>"
   ]
  },
  {
   "cell_type": "code",
   "execution_count": 55,
   "id": "ae569fe4-950c-4b8d-b54d-c28844005646",
   "metadata": {
    "execution": {
     "iopub.execute_input": "2024-10-22T14:24:46.295347Z",
     "iopub.status.busy": "2024-10-22T14:24:46.294635Z",
     "iopub.status.idle": "2024-10-22T14:24:50.363690Z",
     "shell.execute_reply": "2024-10-22T14:24:50.361649Z",
     "shell.execute_reply.started": "2024-10-22T14:24:46.295304Z"
    }
   },
   "outputs": [
    {
     "name": "stdout",
     "output_type": "stream",
     "text": [
      "Degree tested:  1  2  3  "
     ]
    },
    {
     "data": {
      "image/png": "[encoded data removed]",
      "text/plain": [
       "<Figure size 1000x600 with 1 Axes>"
      ]
     },
     "metadata": {},
     "output_type": "display_data"
    },
    {
     "name": "stdout",
     "output_type": "stream",
     "text": [
      "Best degree: 2\n",
      "Best Model Summary:\n",
      "========================= Regression Summary ==========================\n",
      "Date: Tue, 22 Oct 2024\n",
      "Time: 10:24:50\n",
      "Dep. Variable: song_popularity              Observations:   4521\n",
      "----------------------------------------------------------------------\n",
      "Model Metrics                               Residuals Metrics\n",
      "----------------------------------------------------------------------\n",
      "R²:                         0.066      Skewness:                -0.653\n",
      "Adjusted R²:                0.066      Kurtosis:                 3.024\n",
      "MSE:                      445.768      AIC:                  40409.234\n",
      "RMSE:                      21.113      BIC:                  40415.651\n",
      "MAE:                       16.750\n",
      "MAPE:                       8.548\n",
      "MPE:                     -831.682\n",
      "Explained Variance:         0.066\n",
      "----------------------------------------------------------------------\n",
      "\n"
     ]
    }
   ],
   "source": [
    "degree_range = range(1, 4)\n",
    "pol_reg_results = {i: None for i in degree_range}  # Dicionário para armazenar resultados\n",
    "pol_reg_predictions = {i: None for i in degree_range}  # Dicionário para armazenar previsões\n",
    "\n",
    "print('Degree tested:', end='  ')\n",
    "for d in degree_range:\n",
    "    # Definition\n",
    "    poly = PolynomialFeatures(degree=d)\n",
    "    X_poly_train = poly.fit_transform(X_train)\n",
    "    X_poly_val = poly.transform(X_val)  # Use transform instead of fit_transform\n",
    "    \n",
    "    # Training\n",
    "    pol_reg_model = LinearRegression()\n",
    "    pol_reg_model.fit(X_poly_train, y_train)\n",
    "    \n",
    "    # Performance\n",
    "    yhat_val = pol_reg_model.predict(X_poly_val)\n",
    "    \n",
    "    # Store predictions\n",
    "    pol_reg_predictions[d] = yhat_val\n",
    "    \n",
    "    # Use the regression_report function instead of calculate_metrics\n",
    "    pol_reg_val_metrics_d = regression_report(y_val, yhat_val, output_dict=True, show_datetime=False, show_report=False)\n",
    "\n",
    "    # Storing metrics in the dictionary\n",
    "    pol_reg_results[d] = {\n",
    "        'metrics': pol_reg_val_metrics_d\n",
    "    }\n",
    "\n",
    "    print(f'{d}', end='  ')\n",
    "\n",
    "# Extract RMSE metrics for plotting\n",
    "evaluated_metrics = [metrics['metrics']['RMSE'] for metrics in pol_reg_results.values()]\n",
    "\n",
    "# Plotting RMSE vs Degree\n",
    "plt.figure(figsize=(10, 6))\n",
    "plt.plot(degree_range, evaluated_metrics, marker='o')\n",
    "plt.xlabel('Degree')\n",
    "plt.ylabel('RMSE')\n",
    "plt.title('RMSE vs Degree')\n",
    "plt.grid(True)\n",
    "plt.show()\n",
    "\n",
    "# Determine the best degree based on RMSE (lower is better)\n",
    "pol_reg_best_degree = min(pol_reg_results, key=lambda k: pol_reg_results[k]['metrics']['RMSE'])\n",
    "pol_reg_val_metrics = pol_reg_results[pol_reg_best_degree]['metrics']  # Store best metrics\n",
    "\n",
    "print(f'Best degree: {pol_reg_best_degree}')\n",
    "\n",
    "# Display the regression report for the best model\n",
    "print(\"Best Model Summary:\")\n",
    "# Use the stored predictions for the best degree\n",
    "regression_report(y_val, pol_reg_predictions[pol_reg_best_degree])"
   ]
  },
  {
   "cell_type": "markdown",
   "id": "e7297cf1-1881-453b-b31b-e4b1d1030a58",
   "metadata": {},
   "source": [
    "<div style=\"color:#4baee9; font-size:14px;\">  \n",
    "    \n",
    "### 3.4.3 - Test\n",
    "</div>"
   ]
  },
  {
   "cell_type": "code",
   "execution_count": 58,
   "id": "65c0b62e-b2db-4e2b-9263-6e66cb1bc310",
   "metadata": {
    "execution": {
     "iopub.execute_input": "2024-10-22T14:26:57.877597Z",
     "iopub.status.busy": "2024-10-22T14:26:57.876974Z",
     "iopub.status.idle": "2024-10-22T14:26:59.643798Z",
     "shell.execute_reply": "2024-10-22T14:26:59.596727Z",
     "shell.execute_reply.started": "2024-10-22T14:26:57.877535Z"
    }
   },
   "outputs": [
    {
     "name": "stdout",
     "output_type": "stream",
     "text": [
      "========================= Regression Summary ==========================\n",
      "Dep. Variable: Y                            Observations:  15068\n",
      "----------------------------------------------------------------------\n",
      "Model Metrics                               Residuals Metrics\n",
      "----------------------------------------------------------------------\n",
      "R²:                         0.088      Skewness:                -0.665\n",
      "Adjusted R²:                0.088      Kurtosis:                 3.049\n",
      "MSE:                      435.609      AIC:                 134327.513\n",
      "RMSE:                      20.871      BIC:                 134335.133\n",
      "MAE:                       16.540\n",
      "MAPE:                       8.423\n",
      "MPE:                     -819.231\n",
      "Explained Variance:         0.088\n",
      "----------------------------------------------------------------------\n",
      "\n"
     ]
    },
    {
     "data": {
      "text/plain": [
       "{'R²': 0.08842233682193112,\n",
       " 'RMSE': 20.87123916057448,\n",
       " 'MAE': 16.539642685177714,\n",
       " 'MAPE': 8.422772712904944,\n",
       " 'MPE': -819.2314282045926}"
      ]
     },
     "execution_count": 58,
     "metadata": {},
     "output_type": "execute_result"
    }
   ],
   "source": [
    "# Define polynomial model\n",
    "poly = PolynomialFeatures(degree=pol_reg_best_degree)\n",
    "X_poly_train_val = poly.fit_transform(X_train_val)\n",
    "\n",
    "# Model Definition\n",
    "pol_reg_model = LinearRegression()\n",
    "\n",
    "# Training\n",
    "pol_reg_model.fit(X_poly_train_val, y_train_val)\n",
    "\n",
    "# Performance\n",
    "yhat_test = pol_reg_model.predict(X_poly_train_val)\n",
    "\n",
    "pol_reg_test_metrics = regression_report(y_train_val, yhat_test, output_dict=True)\n",
    "pol_reg_test_metrics"
   ]
  },
  {
   "cell_type": "markdown",
   "id": "dfc7cc1a-0501-4e80-ac3e-e770fe1aa014",
   "metadata": {},
   "source": [
    "<div style=\"color:#4baee9; font-size:14px;\">  \n",
    "    \n",
    "### 3.4.4 - Results\n",
    "</div>"
   ]
  },
  {
   "cell_type": "code",
   "execution_count": 59,
   "id": "5d6576c1-e82d-4a17-91a9-e9e5ccd27a2d",
   "metadata": {
    "execution": {
     "iopub.execute_input": "2024-10-22T14:30:34.965889Z",
     "iopub.status.busy": "2024-10-22T14:30:34.964954Z",
     "iopub.status.idle": "2024-10-22T14:30:35.247790Z",
     "shell.execute_reply": "2024-10-22T14:30:35.245435Z",
     "shell.execute_reply.started": "2024-10-22T14:30:34.965820Z"
    }
   },
   "outputs": [
    {
     "data": {
      "text/html": [
       "<div>\n",
       "<style scoped>\n",
       "    .dataframe tbody tr th:only-of-type {\n",
       "        vertical-align: middle;\n",
       "    }\n",
       "\n",
       "    .dataframe tbody tr th {\n",
       "        vertical-align: top;\n",
       "    }\n",
       "\n",
       "    .dataframe thead th {\n",
       "        text-align: right;\n",
       "    }\n",
       "</style>\n",
       "<table border=\"1\" class=\"dataframe\">\n",
       "  <thead>\n",
       "    <tr style=\"text-align: right;\">\n",
       "      <th></th>\n",
       "      <th>R²</th>\n",
       "      <th>RMSE</th>\n",
       "      <th>MAE</th>\n",
       "      <th>MAPE</th>\n",
       "      <th>MPE</th>\n",
       "    </tr>\n",
       "  </thead>\n",
       "  <tbody>\n",
       "    <tr>\n",
       "      <th>train</th>\n",
       "      <td>0.094195</td>\n",
       "      <td>20.808321</td>\n",
       "      <td>16.458032</td>\n",
       "      <td>8.350540</td>\n",
       "      <td>-812.178676</td>\n",
       "    </tr>\n",
       "    <tr>\n",
       "      <th>val</th>\n",
       "      <td>0.066477</td>\n",
       "      <td>21.113224</td>\n",
       "      <td>16.749939</td>\n",
       "      <td>8.547931</td>\n",
       "      <td>-831.681766</td>\n",
       "    </tr>\n",
       "    <tr>\n",
       "      <th>test</th>\n",
       "      <td>0.088422</td>\n",
       "      <td>20.871239</td>\n",
       "      <td>16.539643</td>\n",
       "      <td>8.422773</td>\n",
       "      <td>-819.231428</td>\n",
       "    </tr>\n",
       "  </tbody>\n",
       "</table>\n",
       "</div>"
      ],
      "text/plain": [
       "             R²       RMSE        MAE      MAPE         MPE\n",
       "train  0.094195  20.808321  16.458032  8.350540 -812.178676\n",
       "val    0.066477  21.113224  16.749939  8.547931 -831.681766\n",
       "test   0.088422  20.871239  16.539643  8.422773 -819.231428"
      ]
     },
     "execution_count": 59,
     "metadata": {},
     "output_type": "execute_result"
    }
   ],
   "source": [
    "pol_reg_metrics = pd.DataFrame({\n",
    "    'train': pol_reg_train_metrics,\n",
    "    'val': pol_reg_val_metrics,\n",
    "    'test': pol_reg_test_metrics\n",
    "})\n",
    "\n",
    "os.makedirs('../Results', exist_ok=True)\n",
    "pol_reg_metrics.to_csv('../Results/pol_reg_metrics.csv', index=True)\n",
    "\n",
    "pol_reg_metrics = pol_reg_metrics.T\n",
    "pol_reg_metrics"
   ]
  },
  {
   "cell_type": "markdown",
   "id": "77544ffc-8333-43c8-88ae-ac49766ed097",
   "metadata": {},
   "source": [
    "<div style=\"background: linear-gradient(to right, #52b3ed, #5a040d); color:white; padding: 3px; width:100%;\">\n",
    "    \n",
    "## 3.5 -  Linear Regression Lasso\n",
    "</div>\n",
    "<br>\n",
    "Linear Regression Lasso combines the simplicity of linear regression with the power of L1 regularization, also known as Lasso (Least Absolute Shrinkage and Selection Operator). This technique adds a penalty to the sum of the absolute values of the model's coefficients. The effect? It shrinks some coefficients to exactly zero, effectively performing feature selection.\n",
    "\n",
    "* **Key Advantage:**  Lasso helps identify the most important features that drive the target variable (e.g., song popularity), simplifying the model and improving interpretability.\n",
    "* **Applications:**\n",
    "    * **Gene Expression Analysis:** Identifying the most relevant genes associated with a particular disease.\n",
    "    * **Image Processing:**  Selecting the most informative pixels in an image for object recognition.\n",
    "    * **Marketing Analytics:**  Determining the most effective marketing channels for driving customer acquisition.\n"
   ]
  },
  {
   "cell_type": "markdown",
   "id": "5a57a046-fcd4-4ae2-ad31-99e6052f25a6",
   "metadata": {},
   "source": [
    "<div style=\"color:#4baee9; font-size:14px;\">  \n",
    "    \n",
    "### 3.5.1 - Training\n",
    "</div>"
   ]
  },
  {
   "cell_type": "code",
   "execution_count": 60,
   "id": "7c29e708-3a13-4859-9618-e00f4de754ca",
   "metadata": {
    "execution": {
     "iopub.execute_input": "2024-10-22T14:33:44.038257Z",
     "iopub.status.busy": "2024-10-22T14:33:44.037710Z",
     "iopub.status.idle": "2024-10-22T14:34:45.645350Z",
     "shell.execute_reply": "2024-10-22T14:34:45.628220Z",
     "shell.execute_reply.started": "2024-10-22T14:33:44.038204Z"
    }
   },
   "outputs": [
    {
     "name": "stdout",
     "output_type": "stream",
     "text": [
      "========================= Regression Summary ==========================\n",
      "Dep. Variable: song_popularity              Observations:  10547\n",
      "----------------------------------------------------------------------\n",
      "Model Metrics                               Residuals Metrics\n",
      "----------------------------------------------------------------------\n",
      "R²:                         0.007      Skewness:                -0.501\n",
      "Adjusted R²:                0.007      Kurtosis:                 2.838\n",
      "MSE:                      474.475      AIC:                  95032.936\n",
      "RMSE:                      21.782      BIC:                  95040.200\n",
      "MAE:                       17.305\n",
      "MAPE:                       8.737\n",
      "MPE:                     -850.957\n",
      "Explained Variance:         0.007\n",
      "----------------------------------------------------------------------\n",
      "\n"
     ]
    },
    {
     "data": {
      "text/plain": [
       "{'R²': 0.007400905609184383,\n",
       " 'RMSE': 21.782443254681112,\n",
       " 'MAE': 17.305483795260546,\n",
       " 'MAPE': 8.736697313910927,\n",
       " 'MPE': -850.9574626245577}"
      ]
     },
     "execution_count": 60,
     "metadata": {},
     "output_type": "execute_result"
    }
   ],
   "source": [
    "# Definition\n",
    "lasso = Lasso(random_state=0)\n",
    "\n",
    "# Training\n",
    "lasso.fit(X_train, y_train)\n",
    "\n",
    "# Performance\n",
    "yhat_train = lasso.predict(X_train)\n",
    "lasso_train_metrics = regression_report(y_train, yhat_train, output_dict=True)"
   ]
  },
  {
   "cell_type": "markdown",
   "id": "f37401f6-707f-4e9b-8977-09cb9450b56a",
   "metadata": {},
   "source": [
    "<div style=\"color:#4baee9; font-size:14px;\">  \n",
    "    \n",
    "### 3.5.2 - Validation\n",
    "</div>"
   ]
  },
  {
   "cell_type": "code",
   "execution_count": 66,
   "id": "d63e81f5-87fe-473e-a154-ce54c5c0d254",
   "metadata": {
    "execution": {
     "iopub.execute_input": "2024-10-22T15:18:19.359812Z",
     "iopub.status.busy": "2024-10-22T15:18:19.358780Z",
     "iopub.status.idle": "2024-10-22T15:20:31.767455Z",
     "shell.execute_reply": "2024-10-22T15:20:31.765618Z",
     "shell.execute_reply.started": "2024-10-22T15:18:19.359741Z"
    }
   },
   "outputs": [
    {
     "name": "stdout",
     "output_type": "stream",
     "text": [
      "Testing combinations of alpha and max_iter:\n",
      "(alpha=0.0, max_iter=100)\n",
      "(alpha=0.0, max_iter=200)\n",
      "(alpha=0.0, max_iter=300)\n",
      "(alpha=0.0, max_iter=400)\n",
      "(alpha=0.0, max_iter=500)\n",
      "(alpha=0.5, max_iter=100)\n",
      "(alpha=0.5, max_iter=200)\n",
      "(alpha=0.5, max_iter=300)\n",
      "(alpha=0.5, max_iter=400)\n",
      "(alpha=0.5, max_iter=500)\n",
      "(alpha=1.0, max_iter=100)\n",
      "(alpha=1.0, max_iter=200)\n",
      "(alpha=1.0, max_iter=300)\n",
      "(alpha=1.0, max_iter=400)\n",
      "(alpha=1.0, max_iter=500)\n",
      "(alpha=1.5, max_iter=100)\n",
      "(alpha=1.5, max_iter=200)\n",
      "(alpha=1.5, max_iter=300)\n",
      "(alpha=1.5, max_iter=400)\n",
      "(alpha=1.5, max_iter=500)\n",
      "\n",
      "Best Combination (alpha, max_iter): (0.0, 100)\n",
      "Best Model Summary:\n",
      "========================= Regression Summary ==========================\n",
      "Dep. Variable: song_popularity              Observations:   4521\n",
      "----------------------------------------------------------------------\n",
      "Model Metrics                               Residuals Metrics\n",
      "----------------------------------------------------------------------\n",
      "R²:                         0.040      Skewness:                -0.462\n",
      "Adjusted R²:                0.040      Kurtosis:                 2.855\n",
      "MSE:                      458.447      AIC:                  40936.537\n",
      "RMSE:                      21.411      BIC:                  40942.954\n",
      "MAE:                       17.040\n",
      "MAPE:                       8.683\n",
      "MPE:                     -845.859\n",
      "Explained Variance:         0.040\n",
      "----------------------------------------------------------------------\n",
      "\n"
     ]
    }
   ],
   "source": [
    "from sklearn.linear_model import Lasso\n",
    "import numpy as np\n",
    "\n",
    "alpha_range = np.arange(0, 2, 0.5)\n",
    "max_iter_range = range(100, 501, 100)\n",
    "lasso_results = {}  # Dicionário para armazenar os resultados\n",
    "lasso_predictions = {}  # Dicionário para armazenar previsões\n",
    "\n",
    "print('Testing combinations of alpha and max_iter:')\n",
    "for alpha in alpha_range:\n",
    "    for max_iter in max_iter_range:\n",
    "        # Definition of the Lasso model with specified alpha and max_iter\n",
    "        lasso_model = Lasso(alpha=alpha, max_iter=max_iter, random_state=0)\n",
    "        \n",
    "        # Training\n",
    "        lasso_model.fit(X_train, y_train)\n",
    "        \n",
    "        # Performance\n",
    "        yhat_val = lasso_model.predict(X_val)\n",
    "        \n",
    "        # Store predictions\n",
    "        lasso_predictions[(alpha, max_iter)] = yhat_val\n",
    "        \n",
    "        # Store metrics using regression_report\n",
    "        lasso_results[(alpha, max_iter)] = regression_report(y_val, yhat_val, output_dict=True, show_datetime=False, show_report=False)\n",
    "\n",
    "        print(f'(alpha={alpha}, max_iter={max_iter})')\n",
    "\n",
    "# Determine the best combination based on RMSE (lower is better)\n",
    "lasso_best_combination = min(lasso_results, key=lambda k: lasso_results[k]['RMSE'])\n",
    "lasso_best_metrics = lasso_results[lasso_best_combination]  # Store best metrics\n",
    "\n",
    "# Store metrics in the specified format\n",
    "lasso_val_metrics = lasso_best_metrics  # Use this variable for further processing\n",
    "\n",
    "# Displaying the best combination and its metrics\n",
    "print(f'\\nBest Combination (alpha, max_iter): {lasso_best_combination}')\n",
    "\n",
    "# Display the regression report for the best model\n",
    "print(\"Best Model Summary:\")\n",
    "# Use the stored predictions for the best combination\n",
    "regression_report(y_val, lasso_predictions[lasso_best_combination])"
   ]
  },
  {
   "cell_type": "markdown",
   "id": "472b46fb-267b-4e2a-ba32-b8aa4461bbbd",
   "metadata": {},
   "source": [
    "<div style=\"color:#4baee9; font-size:14px;\">  \n",
    "    \n",
    "### 3.5.3 - Test\n",
    "</div>"
   ]
  },
  {
   "cell_type": "code",
   "execution_count": 67,
   "id": "d5a96cda-3fec-48f9-9888-29b5b2cfef4c",
   "metadata": {
    "execution": {
     "iopub.execute_input": "2024-10-22T16:14:26.166609Z",
     "iopub.status.busy": "2024-10-22T16:14:26.165885Z",
     "iopub.status.idle": "2024-10-22T16:14:32.886570Z",
     "shell.execute_reply": "2024-10-22T16:14:32.883066Z",
     "shell.execute_reply.started": "2024-10-22T16:14:26.166533Z"
    }
   },
   "outputs": [
    {
     "name": "stdout",
     "output_type": "stream",
     "text": [
      "========================= Regression Summary ==========================\n",
      "Dep. Variable: song_popularity              Observations:   3767\n",
      "----------------------------------------------------------------------\n",
      "Model Metrics                               Residuals Metrics\n",
      "----------------------------------------------------------------------\n",
      "R²:                         0.051      Skewness:                -0.453\n",
      "Adjusted R²:                0.051      Kurtosis:                 2.818\n",
      "MSE:                      461.988      AIC:                  34181.218\n",
      "RMSE:                      21.494      BIC:                  34187.452\n",
      "MAE:                       17.144\n",
      "MAPE:                       8.531\n",
      "MPE:                     -849.312\n",
      "Explained Variance:         0.051\n",
      "----------------------------------------------------------------------\n",
      "\n"
     ]
    }
   ],
   "source": [
    "# Definition\n",
    "lasso = Lasso(random_state=0,\n",
    "              alpha=lasso_best_combination[0],\n",
    "              max_iter=lasso_best_combination[1])\n",
    "\n",
    "# Training\n",
    "lasso.fit(X_train_val, y_train_val)\n",
    "\n",
    "# Performance\n",
    "yhat_test = lasso.predict(X_test)\n",
    "lasso_test_metrics = regression_report(y_test, yhat_test, output_dict=True)"
   ]
  },
  {
   "cell_type": "markdown",
   "id": "3f3ec949-922d-4269-8e48-bf2093e3a4c3",
   "metadata": {},
   "source": [
    "<div style=\"color:#4baee9; font-size:14px;\">  \n",
    "    \n",
    "### 3.5.4 - Results\n",
    "</div>"
   ]
  },
  {
   "cell_type": "code",
   "execution_count": 69,
   "id": "f7052f66-dba1-47d6-8824-799df70ba0ac",
   "metadata": {
    "execution": {
     "iopub.execute_input": "2024-10-22T16:15:24.964709Z",
     "iopub.status.busy": "2024-10-22T16:15:24.964011Z",
     "iopub.status.idle": "2024-10-22T16:15:25.204413Z",
     "shell.execute_reply": "2024-10-22T16:15:25.200422Z",
     "shell.execute_reply.started": "2024-10-22T16:15:24.964643Z"
    }
   },
   "outputs": [
    {
     "data": {
      "text/html": [
       "<div>\n",
       "<style scoped>\n",
       "    .dataframe tbody tr th:only-of-type {\n",
       "        vertical-align: middle;\n",
       "    }\n",
       "\n",
       "    .dataframe tbody tr th {\n",
       "        vertical-align: top;\n",
       "    }\n",
       "\n",
       "    .dataframe thead th {\n",
       "        text-align: right;\n",
       "    }\n",
       "</style>\n",
       "<table border=\"1\" class=\"dataframe\">\n",
       "  <thead>\n",
       "    <tr style=\"text-align: right;\">\n",
       "      <th></th>\n",
       "      <th>R²</th>\n",
       "      <th>RMSE</th>\n",
       "      <th>MAE</th>\n",
       "      <th>MAPE</th>\n",
       "      <th>MPE</th>\n",
       "    </tr>\n",
       "  </thead>\n",
       "  <tbody>\n",
       "    <tr>\n",
       "      <th>train</th>\n",
       "      <td>0.007401</td>\n",
       "      <td>21.782443</td>\n",
       "      <td>17.305484</td>\n",
       "      <td>8.736697</td>\n",
       "      <td>-850.957463</td>\n",
       "    </tr>\n",
       "    <tr>\n",
       "      <th>val</th>\n",
       "      <td>0.039925</td>\n",
       "      <td>21.411376</td>\n",
       "      <td>17.039754</td>\n",
       "      <td>8.682542</td>\n",
       "      <td>-845.859266</td>\n",
       "    </tr>\n",
       "    <tr>\n",
       "      <th>test</th>\n",
       "      <td>0.051166</td>\n",
       "      <td>21.493916</td>\n",
       "      <td>17.144197</td>\n",
       "      <td>8.531355</td>\n",
       "      <td>-849.312046</td>\n",
       "    </tr>\n",
       "  </tbody>\n",
       "</table>\n",
       "</div>"
      ],
      "text/plain": [
       "             R²       RMSE        MAE      MAPE         MPE\n",
       "train  0.007401  21.782443  17.305484  8.736697 -850.957463\n",
       "val    0.039925  21.411376  17.039754  8.682542 -845.859266\n",
       "test   0.051166  21.493916  17.144197  8.531355 -849.312046"
      ]
     },
     "execution_count": 69,
     "metadata": {},
     "output_type": "execute_result"
    }
   ],
   "source": [
    "lasso_metrics = pd.DataFrame({\n",
    "    'train': lasso_train_metrics,\n",
    "    'val': lasso_val_metrics,\n",
    "    'test': lasso_test_metrics\n",
    "})\n",
    "\n",
    "os.makedirs('../Results', exist_ok=True)\n",
    "lasso_metrics.to_csv('../Results/lasso_metrics.csv', index=True)\n",
    "\n",
    "lasso_metrics = lasso_metrics.T\n",
    "lasso_metrics"
   ]
  },
  {
   "cell_type": "markdown",
   "id": "f0d1597f-5cc2-47ce-9f6b-63184ce478fa",
   "metadata": {},
   "source": [
    "<div style=\"background: linear-gradient(to right, #52b3ed, #5a040d); color:white; padding: 3px; width:100%;\">\n",
    "    \n",
    "## 3.6 -  Linear Regression Ridge\n",
    "</div>\n",
    "<br>\n",
    "Linear Regression Ridge employs L2 regularization, which adds a penalty to the sum of the squared values of the model's coefficients. This technique shrinks the magnitude of all coefficients without forcing them to zero. The result is a more stable and robust model, less sensitive to outliers and multicollinearity (high correlation between features). \n",
    "\n",
    "* **Key Advantage:**  Ridge helps prevent overfitting by reducing the model's complexity and improving its ability to generalize to new data.\n",
    "* **Applications:**\n",
    "    * **Financial Modeling:**  Predicting stock prices or market trends, where fluctuations can be significant.\n",
    "    * **Medical Imaging:**  Analyzing medical images with noisy data, where robustness is crucial.\n",
    "    * **Text Analysis:**  Classifying documents or sentiment analysis, where high dimensionality can lead to overfitting.\n",
    "\n",
    "</div>\n"
   ]
  },
  {
   "cell_type": "markdown",
   "id": "889ab4da-ff60-4cea-b34d-f2599f551761",
   "metadata": {},
   "source": [
    "<div style=\"color:#4baee9; font-size:14px;\">  \n",
    "    \n",
    "### 3.6.1 - Training\n",
    "</div>"
   ]
  },
  {
   "cell_type": "code",
   "execution_count": 70,
   "id": "52b0cbc9-4135-4581-9c67-7080a9dfb49a",
   "metadata": {
    "execution": {
     "iopub.execute_input": "2024-10-22T16:19:22.682702Z",
     "iopub.status.busy": "2024-10-22T16:19:22.681986Z",
     "iopub.status.idle": "2024-10-22T16:19:22.920148Z",
     "shell.execute_reply": "2024-10-22T16:19:22.918374Z",
     "shell.execute_reply.started": "2024-10-22T16:19:22.682647Z"
    }
   },
   "outputs": [
    {
     "name": "stdout",
     "output_type": "stream",
     "text": [
      "========================= Regression Summary ==========================\n",
      "Dep. Variable: song_popularity              Observations:  10547\n",
      "----------------------------------------------------------------------\n",
      "Model Metrics                               Residuals Metrics\n",
      "----------------------------------------------------------------------\n",
      "R²:                         0.046      Skewness:                -0.616\n",
      "Adjusted R²:                0.046      Kurtosis:                 2.935\n",
      "MSE:                      455.996      AIC:                  94506.938\n",
      "RMSE:                      21.354      BIC:                  94514.201\n",
      "MAE:                       16.998\n",
      "MAPE:                       8.653\n",
      "MPE:                     -842.104\n",
      "Explained Variance:         0.046\n",
      "----------------------------------------------------------------------\n",
      "\n"
     ]
    }
   ],
   "source": [
    "# Definition\n",
    "ridge = Ridge(random_state=0)\n",
    "\n",
    "# Training\n",
    "ridge.fit(X_train, y_train)\n",
    "\n",
    "# Performance\n",
    "yhat_train = ridge.predict(X_train)\n",
    "ridge_train_metrics = regression_report(y_train, yhat_train, output_dict=True)"
   ]
  },
  {
   "cell_type": "markdown",
   "id": "3842f76e-971a-43f6-bbe3-cd7e202eefbd",
   "metadata": {},
   "source": [
    "<div style=\"color:#4baee9; font-size:14px;\">  \n",
    "    \n",
    "### 3.6.2 - Validation\n",
    "</div>"
   ]
  },
  {
   "cell_type": "code",
   "execution_count": 71,
   "id": "8fcbfb64-108c-48b2-b571-65f65a270948",
   "metadata": {
    "execution": {
     "iopub.execute_input": "2024-10-22T16:22:55.416315Z",
     "iopub.status.busy": "2024-10-22T16:22:55.414713Z",
     "iopub.status.idle": "2024-10-22T16:22:56.244605Z",
     "shell.execute_reply": "2024-10-22T16:22:56.242423Z",
     "shell.execute_reply.started": "2024-10-22T16:22:55.416120Z"
    }
   },
   "outputs": [
    {
     "name": "stdout",
     "output_type": "stream",
     "text": [
      "Testing combinations of alpha and max_iter:\n",
      "(alpha=0.0, max_iter=100)\n",
      "(alpha=0.0, max_iter=200)\n",
      "(alpha=0.0, max_iter=300)\n",
      "(alpha=0.0, max_iter=400)\n",
      "(alpha=0.0, max_iter=500)\n",
      "(alpha=0.5, max_iter=100)\n",
      "(alpha=0.5, max_iter=200)\n",
      "(alpha=0.5, max_iter=300)\n",
      "(alpha=0.5, max_iter=400)\n",
      "(alpha=0.5, max_iter=500)\n",
      "(alpha=1.0, max_iter=100)\n",
      "(alpha=1.0, max_iter=200)\n",
      "(alpha=1.0, max_iter=300)\n",
      "(alpha=1.0, max_iter=400)\n",
      "(alpha=1.0, max_iter=500)\n",
      "(alpha=1.5, max_iter=100)\n",
      "(alpha=1.5, max_iter=200)\n",
      "(alpha=1.5, max_iter=300)\n",
      "(alpha=1.5, max_iter=400)\n",
      "(alpha=1.5, max_iter=500)\n",
      "\n",
      "Best Combination (alpha, max_iter): (1.5, 100)\n",
      "Best Model Summary:\n",
      "========================= Regression Summary ==========================\n",
      "Date: Tue, 22 Oct 2024\n",
      "Time: 12:22:56\n",
      "Dep. Variable: song_popularity              Observations:   4521\n",
      "----------------------------------------------------------------------\n",
      "Model Metrics                               Residuals Metrics\n",
      "----------------------------------------------------------------------\n",
      "R²:                         0.040      Skewness:                -0.593\n",
      "Adjusted R²:                0.040      Kurtosis:                 2.900\n",
      "MSE:                      458.445      AIC:                  40536.006\n",
      "RMSE:                      21.411      BIC:                  40542.423\n",
      "MAE:                       17.039\n",
      "MAPE:                       8.682\n",
      "MPE:                     -845.114\n",
      "Explained Variance:         0.040\n",
      "----------------------------------------------------------------------\n",
      "\n"
     ]
    }
   ],
   "source": [
    "alpha_range = np.arange(0, 2, 0.5)\n",
    "max_iter_range = range(100, 501, 100)\n",
    "ridge_results = {}  # Dicionário para armazenar os resultados\n",
    "ridge_predictions = {}  # Dicionário para armazenar previsões\n",
    "\n",
    "print('Testing combinations of alpha and max_iter:')\n",
    "for alpha in alpha_range:\n",
    "    for max_iter in max_iter_range:\n",
    "        # Definition of the Ridge model with specified alpha and max_iter\n",
    "        ridge_model = Ridge(alpha=alpha, max_iter=max_iter, random_state=0)\n",
    "        \n",
    "        # Training\n",
    "        ridge_model.fit(X_train, y_train)\n",
    "        \n",
    "        # Performance\n",
    "        yhat_val = ridge_model.predict(X_val)\n",
    "        \n",
    "        # Store predictions\n",
    "        ridge_predictions[(alpha, max_iter)] = yhat_val\n",
    "        \n",
    "        # Store metrics using regression_report\n",
    "        ridge_results[(alpha, max_iter)] = regression_report(y_val, yhat_val, output_dict=True, show_datetime=False, show_report=False)\n",
    "\n",
    "        print(f'(alpha={alpha}, max_iter={max_iter})')\n",
    "\n",
    "# Determine the best combination based on RMSE (lower is better)\n",
    "ridge_best_combination = min(ridge_results, key=lambda k: ridge_results[k]['RMSE'])\n",
    "ridge_best_metrics = ridge_results[ridge_best_combination]  # Store best metrics\n",
    "\n",
    "# Store metrics in the specified format\n",
    "ridge_val_metrics = ridge_best_metrics  # Use this variable for further processing\n",
    "\n",
    "# Displaying the best combination and its metrics\n",
    "print(f'\\nBest Combination (alpha, max_iter): {ridge_best_combination}')\n",
    "\n",
    "# Display the regression report for the best model\n",
    "print(\"Best Model Summary:\")\n",
    "# Use the stored predictions for the best combination\n",
    "regression_report(y_val, ridge_predictions[ridge_best_combination], output_dict=False, show_datetime=True)\n"
   ]
  },
  {
   "cell_type": "markdown",
   "id": "2c0e5c13-907c-4430-a347-943e539f4af7",
   "metadata": {},
   "source": [
    "<div style=\"color:#4baee9; font-size:14px;\">  \n",
    "    \n",
    "### 3.6.3 - Test\n",
    "</div>"
   ]
  },
  {
   "cell_type": "code",
   "execution_count": 72,
   "id": "95bb676c-287c-40cd-8588-516a58dc723c",
   "metadata": {
    "execution": {
     "iopub.execute_input": "2024-10-22T16:24:38.669093Z",
     "iopub.status.busy": "2024-10-22T16:24:38.668448Z",
     "iopub.status.idle": "2024-10-22T16:24:38.758203Z",
     "shell.execute_reply": "2024-10-22T16:24:38.752029Z",
     "shell.execute_reply.started": "2024-10-22T16:24:38.669030Z"
    }
   },
   "outputs": [
    {
     "name": "stdout",
     "output_type": "stream",
     "text": [
      "========================= Regression Summary ==========================\n",
      "Dep. Variable: song_popularity              Observations:   3767\n",
      "----------------------------------------------------------------------\n",
      "Model Metrics                               Residuals Metrics\n",
      "----------------------------------------------------------------------\n",
      "R²:                         0.051      Skewness:                -0.579\n",
      "Adjusted R²:                0.051      Kurtosis:                 2.868\n",
      "MSE:                      461.988      AIC:                  33804.855\n",
      "RMSE:                      21.494      BIC:                  33811.089\n",
      "MAE:                       17.144\n",
      "MAPE:                       8.532\n",
      "MPE:                     -830.304\n",
      "Explained Variance:         0.051\n",
      "----------------------------------------------------------------------\n",
      "\n"
     ]
    }
   ],
   "source": [
    "# Definition\n",
    "ridge = Ridge(random_state=0,\n",
    "              alpha=ridge_best_combination[0],\n",
    "              max_iter=ridge_best_combination[1])\n",
    "\n",
    "# Training\n",
    "ridge.fit(X_train_val, y_train_val)\n",
    "\n",
    "# Performance\n",
    "yhat_test = ridge.predict(X_test)\n",
    "ridge_test_metrics = regression_report(y_test, yhat_test, output_dict=True)"
   ]
  },
  {
   "cell_type": "markdown",
   "id": "78a0490d-fce8-4387-8dec-8836b05a0af7",
   "metadata": {},
   "source": [
    "<div style=\"color:#4baee9; font-size:14px;\">  \n",
    "    \n",
    "### 3.6.4 - Results\n",
    "</div>"
   ]
  },
  {
   "cell_type": "code",
   "execution_count": 74,
   "id": "22dc6d92-dd8e-4b41-a11b-e9b3441ae3dd",
   "metadata": {
    "execution": {
     "iopub.execute_input": "2024-10-22T16:26:01.537767Z",
     "iopub.status.busy": "2024-10-22T16:26:01.537088Z",
     "iopub.status.idle": "2024-10-22T16:26:01.591921Z",
     "shell.execute_reply": "2024-10-22T16:26:01.589281Z",
     "shell.execute_reply.started": "2024-10-22T16:26:01.537728Z"
    }
   },
   "outputs": [
    {
     "data": {
      "text/html": [
       "<div>\n",
       "<style scoped>\n",
       "    .dataframe tbody tr th:only-of-type {\n",
       "        vertical-align: middle;\n",
       "    }\n",
       "\n",
       "    .dataframe tbody tr th {\n",
       "        vertical-align: top;\n",
       "    }\n",
       "\n",
       "    .dataframe thead th {\n",
       "        text-align: right;\n",
       "    }\n",
       "</style>\n",
       "<table border=\"1\" class=\"dataframe\">\n",
       "  <thead>\n",
       "    <tr style=\"text-align: right;\">\n",
       "      <th></th>\n",
       "      <th>R²</th>\n",
       "      <th>RMSE</th>\n",
       "      <th>MAE</th>\n",
       "      <th>MAPE</th>\n",
       "      <th>MPE</th>\n",
       "    </tr>\n",
       "  </thead>\n",
       "  <tbody>\n",
       "    <tr>\n",
       "      <th>train</th>\n",
       "      <td>0.046058</td>\n",
       "      <td>21.354072</td>\n",
       "      <td>16.998308</td>\n",
       "      <td>8.653415</td>\n",
       "      <td>-842.103511</td>\n",
       "    </tr>\n",
       "    <tr>\n",
       "      <th>val</th>\n",
       "      <td>0.039930</td>\n",
       "      <td>21.411324</td>\n",
       "      <td>17.039331</td>\n",
       "      <td>8.682349</td>\n",
       "      <td>-845.113625</td>\n",
       "    </tr>\n",
       "    <tr>\n",
       "      <th>test</th>\n",
       "      <td>0.051167</td>\n",
       "      <td>21.493899</td>\n",
       "      <td>17.143838</td>\n",
       "      <td>8.532387</td>\n",
       "      <td>-830.304206</td>\n",
       "    </tr>\n",
       "  </tbody>\n",
       "</table>\n",
       "</div>"
      ],
      "text/plain": [
       "             R²       RMSE        MAE      MAPE         MPE\n",
       "train  0.046058  21.354072  16.998308  8.653415 -842.103511\n",
       "val    0.039930  21.411324  17.039331  8.682349 -845.113625\n",
       "test   0.051167  21.493899  17.143838  8.532387 -830.304206"
      ]
     },
     "execution_count": 74,
     "metadata": {},
     "output_type": "execute_result"
    }
   ],
   "source": [
    "ridge_metrics = pd.DataFrame({\n",
    "    'train': ridge_train_metrics,\n",
    "    'val': ridge_val_metrics,\n",
    "    'test': ridge_test_metrics\n",
    "})\n",
    "\n",
    "os.makedirs('../Results', exist_ok=True)\n",
    "ridge_metrics.to_csv('../Results/ridge_metrics.csv', index=True)\n",
    "\n",
    "ridge_metrics = ridge_metrics.T\n",
    "ridge_metrics"
   ]
  },
  {
   "cell_type": "markdown",
   "id": "f1968850-cc73-4c12-bb41-86b490be2d58",
   "metadata": {},
   "source": [
    "<div style=\"background: linear-gradient(to right, #52b3ed, #5a040d); color:white; padding: 3px; width:100%;\">\n",
    "\n",
    "## 3.7 -  Linear Regression ElasticNet\n",
    "</div>\n",
    "<br>\n",
    "\n",
    "Linear Regression Elastic Net combines the strengths of Lasso and Ridge regularization. It uses a penalty that includes both the sum of absolute values and the sum of squared values of the coefficients. This hybrid approach offers:\n",
    "\n",
    "* **Feature Selection and Stability:** Elastic Net can perform feature selection like Lasso while maintaining the stability and robustness of Ridge. \n",
    "* **Applications:**\n",
    "    * **Genomics:**  Analyzing complex gene interactions, where both feature selection and stability are essential.\n",
    "    * **Climate Modeling:**  Predicting weather patterns, which involve many interconnected variables.\n",
    "    * **Recommendation Systems:**  Improving the accuracy of recommendations by considering both user preferences and item features.\n"
   ]
  },
  {
   "cell_type": "markdown",
   "id": "c807b6e9-7eff-406b-8a61-126be99f2da5",
   "metadata": {},
   "source": [
    "<div style=\"color:#4baee9; font-size:14px;\">  \n",
    "    \n",
    "### 3.7.1 - Training\n",
    "</div>"
   ]
  },
  {
   "cell_type": "code",
   "execution_count": 75,
   "id": "9e920472-9f01-45e6-a06d-6187409abfed",
   "metadata": {
    "execution": {
     "iopub.execute_input": "2024-10-22T16:26:38.400499Z",
     "iopub.status.busy": "2024-10-22T16:26:38.399776Z",
     "iopub.status.idle": "2024-10-22T16:27:41.942915Z",
     "shell.execute_reply": "2024-10-22T16:27:41.751849Z",
     "shell.execute_reply.started": "2024-10-22T16:26:38.400439Z"
    }
   },
   "outputs": [
    {
     "name": "stdout",
     "output_type": "stream",
     "text": [
      "========================= Regression Summary ==========================\n",
      "Dep. Variable: song_popularity              Observations:  10547\n",
      "----------------------------------------------------------------------\n",
      "Model Metrics                               Residuals Metrics\n",
      "----------------------------------------------------------------------\n",
      "R²:                         0.008      Skewness:                -0.501\n",
      "Adjusted R²:                0.008      Kurtosis:                 2.838\n",
      "MSE:                      474.269      AIC:                  95031.160\n",
      "RMSE:                      21.778      BIC:                  95038.424\n",
      "MAE:                       17.300\n",
      "MAPE:                       8.732\n",
      "MPE:                     -850.957\n",
      "Explained Variance:         0.008\n",
      "----------------------------------------------------------------------\n",
      "\n"
     ]
    }
   ],
   "source": [
    "# Definition\n",
    "elasticnet = ElasticNet(random_state=0)\n",
    "\n",
    "# Training\n",
    "elasticnet.fit(X_train, y_train)\n",
    "\n",
    "# Performance\n",
    "yhat_train = elasticnet.predict(X_train)\n",
    "elasticnet_train_metrics = regression_report(y_train, yhat_train, output_dict=True)"
   ]
  },
  {
   "cell_type": "markdown",
   "id": "3be799f4-0ed3-4f71-ac69-9a37142733a6",
   "metadata": {},
   "source": [
    "<div style=\"color:#4baee9; font-size:14px;\">  \n",
    "    \n",
    "### 3.7.2 - Validation\n",
    "</div>"
   ]
  },
  {
   "cell_type": "code",
   "execution_count": 76,
   "id": "9b2b4eef-6ebc-429d-9f1a-fbbe8f816960",
   "metadata": {
    "execution": {
     "iopub.execute_input": "2024-10-22T16:32:09.553301Z",
     "iopub.status.busy": "2024-10-22T16:32:09.552231Z",
     "iopub.status.idle": "2024-10-22T16:34:22.201902Z",
     "shell.execute_reply": "2024-10-22T16:34:22.199996Z",
     "shell.execute_reply.started": "2024-10-22T16:32:09.553207Z"
    }
   },
   "outputs": [
    {
     "name": "stdout",
     "output_type": "stream",
     "text": [
      "Best combination (alpha, l1_ratio, max_iter): {'alpha': 0.0, 'l1_ratio': 0.0, 'max_iter': 400}\n",
      "Best Model Summary:\n",
      "========================= Regression Summary ==========================\n",
      "Dep. Variable: song_popularity              Observations:   4521\n",
      "----------------------------------------------------------------------\n",
      "Model Metrics                               Residuals Metrics\n",
      "----------------------------------------------------------------------\n",
      "R²:                         0.040      Skewness:                -0.462\n",
      "Adjusted R²:                0.040      Kurtosis:                 2.855\n",
      "MSE:                      458.447      AIC:                  40936.537\n",
      "RMSE:                      21.411      BIC:                  40942.954\n",
      "MAE:                       17.040\n",
      "MAPE:                       8.683\n",
      "MPE:                     -845.859\n",
      "Explained Variance:         0.040\n",
      "----------------------------------------------------------------------\n",
      "\n"
     ]
    }
   ],
   "source": [
    "# Defining the parameter ranges\n",
    "alpha_range = np.arange(0, 1.1, 0.1)\n",
    "l1_ratio_range = np.arange(0, 1.1, 0.1)\n",
    "max_iter_range = range(100, 501, 100)\n",
    "\n",
    "# Creating the parameter grid for GridSearchCV\n",
    "param_grid = {\n",
    "    'alpha': alpha_range,\n",
    "    'l1_ratio': l1_ratio_range,\n",
    "    'max_iter': max_iter_range\n",
    "}\n",
    "\n",
    "# Defining the ElasticNet model\n",
    "elasticnet = ElasticNet(random_state=0)\n",
    "\n",
    "# Setting up GridSearchCV\n",
    "grid_search = GridSearchCV(estimator=elasticnet, param_grid=param_grid, scoring='r2', cv=5)\n",
    "\n",
    "# Training the model\n",
    "grid_search.fit(X_train, y_train)\n",
    "\n",
    "# Prediction and evaluation on the validation set\n",
    "yhat_val = grid_search.best_estimator_.predict(X_val)\n",
    "\n",
    "# Store predictions\n",
    "elasticnet_predictions = yhat_val\n",
    "\n",
    "# Storing the best metrics\n",
    "elasticnet_best_params = grid_search.best_params_\n",
    "\n",
    "# Store metrics using regression_report\n",
    "elasticnet_val_metrics = regression_report(y_val, yhat_val, output_dict=True, show_datetime=False, show_report=False)\n",
    "\n",
    "# Displaying the best parameter combination and the best metrics\n",
    "print(f'Best combination (alpha, l1_ratio, max_iter): {elasticnet_best_params}')\n",
    "\n",
    "# Display the regression report for the best model\n",
    "print(\"Best Model Summary:\")\n",
    "regression_report(y_val, elasticnet_predictions, output_dict=False)"
   ]
  },
  {
   "cell_type": "markdown",
   "id": "93c1fb7b-c7a3-4f09-8ab6-6aaa7fca12ba",
   "metadata": {},
   "source": [
    "<div style=\"color:#4baee9; font-size:14px;\">  \n",
    "    \n",
    "### 3.5.3 - Test\n",
    "</div>"
   ]
  },
  {
   "cell_type": "code",
   "execution_count": 77,
   "id": "b1604478-1528-4226-a947-8fc0478de380",
   "metadata": {
    "execution": {
     "iopub.execute_input": "2024-10-22T16:34:22.212699Z",
     "iopub.status.busy": "2024-10-22T16:34:22.210046Z",
     "iopub.status.idle": "2024-10-22T16:34:30.880018Z",
     "shell.execute_reply": "2024-10-22T16:34:30.877571Z",
     "shell.execute_reply.started": "2024-10-22T16:34:22.212598Z"
    }
   },
   "outputs": [
    {
     "name": "stdout",
     "output_type": "stream",
     "text": [
      "========================= Regression Summary ==========================\n",
      "Dep. Variable: song_popularity              Observations:   3767\n",
      "----------------------------------------------------------------------\n",
      "Model Metrics                               Residuals Metrics\n",
      "----------------------------------------------------------------------\n",
      "R²:                         0.051      Skewness:                -0.453\n",
      "Adjusted R²:                0.051      Kurtosis:                 2.818\n",
      "MSE:                      461.988      AIC:                  34181.218\n",
      "RMSE:                      21.494      BIC:                  34187.452\n",
      "MAE:                       17.144\n",
      "MAPE:                       8.531\n",
      "MPE:                     -849.312\n",
      "Explained Variance:         0.051\n",
      "----------------------------------------------------------------------\n",
      "\n"
     ]
    }
   ],
   "source": [
    "# Definition\n",
    "elasticnet = ElasticNet(random_state=0,\n",
    "                        alpha=elasticnet_best_params['alpha'],\n",
    "                        max_iter=elasticnet_best_params['max_iter'],\n",
    "                        l1_ratio=elasticnet_best_params['l1_ratio'])\n",
    "\n",
    "# Training\n",
    "elasticnet.fit(X_train_val, y_train_val)\n",
    "\n",
    "# Performance\n",
    "yhat_test = elasticnet.predict(X_test)\n",
    "elasticnet_test_metrics = regression_report(y_test, yhat_test, output_dict=True)"
   ]
  },
  {
   "cell_type": "markdown",
   "id": "d898c61e-46b5-4ea9-95dd-fd7e2ecc286f",
   "metadata": {},
   "source": [
    "<div style=\"color:#4baee9; font-size:14px;\">  \n",
    "    \n",
    "### 3.7.4 - Results\n",
    "</div>"
   ]
  },
  {
   "cell_type": "code",
   "execution_count": 79,
   "id": "9430b433-1589-4d4a-9959-8001997403db",
   "metadata": {
    "execution": {
     "iopub.execute_input": "2024-10-22T16:37:14.735189Z",
     "iopub.status.busy": "2024-10-22T16:37:14.734649Z",
     "iopub.status.idle": "2024-10-22T16:37:14.858382Z",
     "shell.execute_reply": "2024-10-22T16:37:14.856030Z",
     "shell.execute_reply.started": "2024-10-22T16:37:14.735147Z"
    }
   },
   "outputs": [
    {
     "data": {
      "text/html": [
       "<div>\n",
       "<style scoped>\n",
       "    .dataframe tbody tr th:only-of-type {\n",
       "        vertical-align: middle;\n",
       "    }\n",
       "\n",
       "    .dataframe tbody tr th {\n",
       "        vertical-align: top;\n",
       "    }\n",
       "\n",
       "    .dataframe thead th {\n",
       "        text-align: right;\n",
       "    }\n",
       "</style>\n",
       "<table border=\"1\" class=\"dataframe\">\n",
       "  <thead>\n",
       "    <tr style=\"text-align: right;\">\n",
       "      <th></th>\n",
       "      <th>R²</th>\n",
       "      <th>RMSE</th>\n",
       "      <th>MAE</th>\n",
       "      <th>MAPE</th>\n",
       "      <th>MPE</th>\n",
       "    </tr>\n",
       "  </thead>\n",
       "  <tbody>\n",
       "    <tr>\n",
       "      <th>train</th>\n",
       "      <td>0.007832</td>\n",
       "      <td>21.777715</td>\n",
       "      <td>17.299507</td>\n",
       "      <td>8.732300</td>\n",
       "      <td>-850.957463</td>\n",
       "    </tr>\n",
       "    <tr>\n",
       "      <th>val</th>\n",
       "      <td>0.039925</td>\n",
       "      <td>21.411376</td>\n",
       "      <td>17.039754</td>\n",
       "      <td>8.682542</td>\n",
       "      <td>-845.859266</td>\n",
       "    </tr>\n",
       "    <tr>\n",
       "      <th>test</th>\n",
       "      <td>0.051166</td>\n",
       "      <td>21.493916</td>\n",
       "      <td>17.144197</td>\n",
       "      <td>8.531355</td>\n",
       "      <td>-849.312046</td>\n",
       "    </tr>\n",
       "  </tbody>\n",
       "</table>\n",
       "</div>"
      ],
      "text/plain": [
       "             R²       RMSE        MAE      MAPE         MPE\n",
       "train  0.007832  21.777715  17.299507  8.732300 -850.957463\n",
       "val    0.039925  21.411376  17.039754  8.682542 -845.859266\n",
       "test   0.051166  21.493916  17.144197  8.531355 -849.312046"
      ]
     },
     "execution_count": 79,
     "metadata": {},
     "output_type": "execute_result"
    }
   ],
   "source": [
    "elasticnet_metrics = pd.DataFrame({\n",
    "    'train': elasticnet_train_metrics,\n",
    "    'val': elasticnet_val_metrics,\n",
    "    'test': elasticnet_test_metrics\n",
    "})\n",
    "\n",
    "os.makedirs('../Results', exist_ok=True)\n",
    "elasticnet_metrics.to_csv('../Results/elasticnet_metrics.csv', index=True)\n",
    "\n",
    "elasticnet_metrics = elasticnet_metrics.T\n",
    "elasticnet_metrics"
   ]
  },
  {
   "cell_type": "markdown",
   "id": "e8b69c3e-e2f7-4152-b54b-f551fe11e87b",
   "metadata": {},
   "source": [
    "<div style=\"background: linear-gradient(to right, #52b3ed, #5a040d); color:white; padding: 3px; width:100%;\">\n",
    "    \n",
    "## 3.8 - Polynomial Regression Lasso\n",
    "</div>\n",
    "<br>\n",
    "Polynomial Regression Lasso extends polynomial regression by adding L1 regularization. This combination allows the model to capture non-linear relationships while also performing feature selection.\n",
    "\n",
    "* **Key Advantage:** Polynomial Regression Lasso can handle more complex data patterns than linear models while still maintaining a degree of simplicity by selecting the most relevant features. \n",
    "* **Applications:** \n",
    "    * **Modeling Growth Curves:**  Predicting the growth of populations, organisms, or businesses over time.\n",
    "    * **Analyzing Chemical Reactions:**  Understanding the non-linear relationships between reactants and products. \n",
    "    * **Signal Processing:** Extracting meaningful information from complex signals, such as audio or sensor data."
   ]
  },
  {
   "cell_type": "markdown",
   "id": "63500a5f-408b-469d-a99e-2ff6224ebcd7",
   "metadata": {},
   "source": [
    "<div style=\"color:#4baee9; font-size:14px;\">  \n",
    "\n",
    "### 3.8.1 - Training\n",
    "</div>"
   ]
  },
  {
   "cell_type": "code",
   "execution_count": 18,
   "id": "e43d032f-690c-4ab6-9039-b3dd26290d92",
   "metadata": {
    "execution": {
     "iopub.execute_input": "2024-10-22T19:36:42.189108Z",
     "iopub.status.busy": "2024-10-22T19:36:42.188278Z",
     "iopub.status.idle": "2024-10-22T19:37:34.125269Z",
     "shell.execute_reply": "2024-10-22T19:37:34.105519Z",
     "shell.execute_reply.started": "2024-10-22T19:36:42.189042Z"
    }
   },
   "outputs": [
    {
     "name": "stdout",
     "output_type": "stream",
     "text": [
      "========================= Regression Summary ==========================\n",
      "Dep. Variable: song_popularity              Observations:  10547\n",
      "----------------------------------------------------------------------\n",
      "Model Metrics                               Residuals Metrics\n",
      "----------------------------------------------------------------------\n",
      "R²:                         0.009      Skewness:                -0.499\n",
      "Adjusted R²:                0.009      Kurtosis:                 2.840\n",
      "MSE:                      473.639      AIC:                  95041.238\n",
      "RMSE:                      21.763      BIC:                  95048.502\n",
      "MAE:                       17.285\n",
      "MAPE:                       8.700\n",
      "MPE:                     -850.957\n",
      "Explained Variance:         0.009\n",
      "----------------------------------------------------------------------\n",
      "\n"
     ]
    }
   ],
   "source": [
    "# Define polynomial model\n",
    "poly = PolynomialFeatures()\n",
    "X_poly_train = poly.fit_transform(X_train)\n",
    "\n",
    "# Model Definition\n",
    "poly_lasso = Lasso()\n",
    "\n",
    "# Training\n",
    "poly_lasso.fit(X_poly_train, y_train)\n",
    "\n",
    "# Performance\n",
    "yhat_train = poly_lasso.predict(X_poly_train)\n",
    "\n",
    "poly_lasso_train_metrics = regression_report(y_train, yhat_train, output_dict=True)"
   ]
  },
  {
   "cell_type": "markdown",
   "id": "7cd87c62-8d43-4be5-a253-81685cc6073d",
   "metadata": {},
   "source": [
    "<div style=\"color:#4baee9; font-size:14px;\">  \n",
    "    \n",
    "### 3.8.2 - Validation\n",
    "</div>"
   ]
  },
  {
   "cell_type": "code",
   "execution_count": 15,
   "id": "200ebeb6-8734-44a6-b67a-6a608f61ad53",
   "metadata": {
    "execution": {
     "iopub.execute_input": "2024-10-22T19:17:00.288877Z",
     "iopub.status.busy": "2024-10-22T19:17:00.287097Z",
     "iopub.status.idle": "2024-10-22T19:19:32.449145Z",
     "shell.execute_reply": "2024-10-22T19:19:32.447797Z",
     "shell.execute_reply.started": "2024-10-22T19:17:00.288798Z"
    }
   },
   "outputs": [
    {
     "name": "stdout",
     "output_type": "stream",
     "text": [
      "\n",
      "Best parameters: {'lasso__alpha': 0, 'lasso__max_iter': 100, 'poly__degree': 2}\n",
      "Best Model Summary:\n",
      "========================= Regression Summary ==========================\n",
      "Dep. Variable: song_popularity              Observations:   4521\n",
      "----------------------------------------------------------------------\n",
      "Model Metrics                               Residuals Metrics\n",
      "----------------------------------------------------------------------\n",
      "R²:                         0.067      Skewness:                -0.423\n",
      "Adjusted R²:                0.067      Kurtosis:                 2.870\n",
      "MSE:                      445.583      AIC:                  41179.325\n",
      "RMSE:                      21.109      BIC:                  41185.742\n",
      "MAE:                       16.744\n",
      "MAPE:                       8.562\n",
      "MPE:                     -845.877\n",
      "Explained Variance:         0.067\n",
      "----------------------------------------------------------------------\n",
      "\n"
     ]
    }
   ],
   "source": [
    "# Define the parameter grid\n",
    "param_grid = {\n",
    "    'poly__degree': [1, 2, 3],  # Polynomial degree\n",
    "    'lasso__alpha': [0, 0.1, 0.2, 0.3],  # Lasso alpha\n",
    "    'lasso__max_iter': [100, 200, 300]  # Lasso max_iter\n",
    "}\n",
    "\n",
    "# Create the pipeline\n",
    "pipeline = Pipeline([\n",
    "    ('poly', PolynomialFeatures()),  # Polynomial features\n",
    "    ('lasso', Lasso())  # Lasso regression\n",
    "])\n",
    "\n",
    "# Set up GridSearchCV\n",
    "grid_search = GridSearchCV(pipeline, param_grid, cv=5, scoring='r2')\n",
    "\n",
    "# Fit GridSearchCV\n",
    "grid_search.fit(X_train, y_train)\n",
    "\n",
    "# Extract the best parameters and model\n",
    "poly_lasso_best_params = grid_search.best_params_\n",
    "poly_lasso_best_model = grid_search.best_estimator_\n",
    "\n",
    "# Display the best parameters\n",
    "print(f'\\nBest parameters: {poly_lasso_best_params}')\n",
    "\n",
    "# Use the best model to predict on the validation set\n",
    "yhat_val = poly_lasso_best_model.predict(X_val)\n",
    "\n",
    "# Store metrics using regression_report and display the regression report for the best model\n",
    "print(\"Best Model Summary:\")\n",
    "poly_lasso_val_metrics = regression_report(y_val, yhat_val, output_dict=True)"
   ]
  },
  {
   "cell_type": "markdown",
   "id": "5c66f636-aa57-4e6d-bade-a4d2edcf7b80",
   "metadata": {},
   "source": [
    "<div style=\"color:#4baee9; font-size:14px;\">  \n",
    "\n",
    "### 3.8.3 - Test\n",
    "</div>"
   ]
  },
  {
   "cell_type": "code",
   "execution_count": 16,
   "id": "3f0bd82e-4c73-4c63-a783-2358110ae06f",
   "metadata": {
    "execution": {
     "iopub.execute_input": "2024-10-22T19:19:32.463683Z",
     "iopub.status.busy": "2024-10-22T19:19:32.462911Z",
     "iopub.status.idle": "2024-10-22T19:23:55.080839Z",
     "shell.execute_reply": "2024-10-22T19:23:55.047421Z",
     "shell.execute_reply.started": "2024-10-22T19:19:32.463631Z"
    }
   },
   "outputs": [
    {
     "name": "stdout",
     "output_type": "stream",
     "text": [
      "========================= Regression Summary ==========================\n",
      "Dep. Variable: Y                            Observations:  15068\n",
      "----------------------------------------------------------------------\n",
      "Model Metrics                               Residuals Metrics\n",
      "----------------------------------------------------------------------\n",
      "R²:                         0.087      Skewness:                -0.429\n",
      "Adjusted R²:                0.087      Kurtosis:                 2.870\n",
      "MSE:                      436.160      AIC:                 137219.652\n",
      "RMSE:                      20.884      BIC:                 137227.273\n",
      "MAE:                       16.552\n",
      "MAPE:                       8.438\n",
      "MPE:                     -848.965\n",
      "Explained Variance:         0.087\n",
      "----------------------------------------------------------------------\n",
      "\n"
     ]
    }
   ],
   "source": [
    "# Define polynomial model using best degree from previous results\n",
    "poly = PolynomialFeatures(degree=poly_lasso_best_params['poly__degree'])\n",
    "X_poly_train_val = poly.fit_transform(X_train_val)\n",
    "\n",
    "# Model Definition\n",
    "poly_lasso = Lasso(\n",
    "    random_state=0,\n",
    "    alpha=poly_lasso_best_params['lasso__alpha'],\n",
    "    max_iter=poly_lasso_best_params['lasso__max_iter']\n",
    ")\n",
    "\n",
    "# Training\n",
    "poly_lasso.fit(X_poly_train_val, y_train_val)\n",
    "\n",
    "# Performance\n",
    "yhat_test = poly_lasso.predict(X_poly_train_val)\n",
    "\n",
    "# Calculate metrics using the regression_report function\n",
    "poly_lasso_test_metrics = regression_report(y_train_val, yhat_test, output_dict=True)"
   ]
  },
  {
   "cell_type": "markdown",
   "id": "5a028d67-cffe-442b-93b8-10058d1da246",
   "metadata": {},
   "source": [
    "<div style=\"color:#4baee9; font-size:14px;\">  \n",
    "\n",
    "### 3.8.4 - Results\n",
    "</div>"
   ]
  },
  {
   "cell_type": "code",
   "execution_count": 19,
   "id": "c1d75aae-e573-4153-ba6e-4768c17abe85",
   "metadata": {
    "execution": {
     "iopub.execute_input": "2024-10-22T19:37:34.191037Z",
     "iopub.status.busy": "2024-10-22T19:37:34.187865Z",
     "iopub.status.idle": "2024-10-22T19:37:35.482398Z",
     "shell.execute_reply": "2024-10-22T19:37:35.480137Z",
     "shell.execute_reply.started": "2024-10-22T19:37:34.190910Z"
    }
   },
   "outputs": [
    {
     "data": {
      "text/html": [
       "<div>\n",
       "<style scoped>\n",
       "    .dataframe tbody tr th:only-of-type {\n",
       "        vertical-align: middle;\n",
       "    }\n",
       "\n",
       "    .dataframe tbody tr th {\n",
       "        vertical-align: top;\n",
       "    }\n",
       "\n",
       "    .dataframe thead th {\n",
       "        text-align: right;\n",
       "    }\n",
       "</style>\n",
       "<table border=\"1\" class=\"dataframe\">\n",
       "  <thead>\n",
       "    <tr style=\"text-align: right;\">\n",
       "      <th></th>\n",
       "      <th>R²</th>\n",
       "      <th>RMSE</th>\n",
       "      <th>MAE</th>\n",
       "      <th>MAPE</th>\n",
       "      <th>MPE</th>\n",
       "    </tr>\n",
       "  </thead>\n",
       "  <tbody>\n",
       "    <tr>\n",
       "      <th>train</th>\n",
       "      <td>0.009150</td>\n",
       "      <td>21.763244</td>\n",
       "      <td>17.285450</td>\n",
       "      <td>8.699701</td>\n",
       "      <td>-850.957463</td>\n",
       "    </tr>\n",
       "    <tr>\n",
       "      <th>val</th>\n",
       "      <td>0.066865</td>\n",
       "      <td>21.108834</td>\n",
       "      <td>16.743548</td>\n",
       "      <td>8.561794</td>\n",
       "      <td>-845.877173</td>\n",
       "    </tr>\n",
       "    <tr>\n",
       "      <th>test</th>\n",
       "      <td>0.087269</td>\n",
       "      <td>20.884443</td>\n",
       "      <td>16.551554</td>\n",
       "      <td>8.438347</td>\n",
       "      <td>-848.964704</td>\n",
       "    </tr>\n",
       "  </tbody>\n",
       "</table>\n",
       "</div>"
      ],
      "text/plain": [
       "             R²       RMSE        MAE      MAPE         MPE\n",
       "train  0.009150  21.763244  17.285450  8.699701 -850.957463\n",
       "val    0.066865  21.108834  16.743548  8.561794 -845.877173\n",
       "test   0.087269  20.884443  16.551554  8.438347 -848.964704"
      ]
     },
     "execution_count": 19,
     "metadata": {},
     "output_type": "execute_result"
    }
   ],
   "source": [
    "poly_lasso_metrics = pd.DataFrame({\n",
    "    'train': poly_lasso_train_metrics,\n",
    "    'val': poly_lasso_val_metrics,\n",
    "    'test': poly_lasso_test_metrics\n",
    "})\n",
    "\n",
    "os.makedirs('../Results', exist_ok=True)\n",
    "poly_lasso_metrics.to_csv('../Results/poly_lasso_metrics.csv', index=True)\n",
    "\n",
    "poly_lasso_metrics = poly_lasso_metrics.T\n",
    "poly_lasso_metrics"
   ]
  },
  {
   "cell_type": "markdown",
   "id": "7d2fdaa7-6ebf-4306-a91f-b49033918531",
   "metadata": {},
   "source": [
    "<div style=\"background: linear-gradient(to right, #52b3ed, #5a040d); color:white; padding: 3px; width:100%;\">\n",
    "    \n",
    "## 3.9 - Polynomial Regression Ridge:  Non-Linearity with Stability\n",
    "</div>\n",
    "<br>\n",
    "Polynomial Regression Ridge combines polynomial regression with L2 regularization. This approach allows the model to capture non-linear relationships while reducing the risk of overfitting due to the high dimensionality of polynomial features.\n",
    "\n",
    "* **Key Advantage:** Polynomial Regression Ridge offers a balance between flexibility (to model non-linear patterns) and stability (to avoid overfitting). \n",
    "* **Applications:**\n",
    "    * **Economic Forecasting:**  Predicting economic indicators like GDP growth or inflation, where trends can be non-linear.\n",
    "    * **Image Recognition:**  Classifying images with complex features, where overfitting can be a challenge.\n",
    "    * **Robotics:**  Controlling robotic movements in environments with non-linear dynamics."
   ]
  },
  {
   "cell_type": "markdown",
   "id": "e9f92e00-5907-464d-8687-c68076e6fa8f",
   "metadata": {},
   "source": [
    "<div style=\"color:#4baee9; font-size:14px;\">  \n",
    "\n",
    "### 3.9.1 - Training\n",
    "</div>"
   ]
  },
  {
   "cell_type": "code",
   "execution_count": 20,
   "id": "df3976f0-b59a-4b58-a3ea-bfe696d6ab2a",
   "metadata": {
    "execution": {
     "iopub.execute_input": "2024-10-22T19:37:51.205452Z",
     "iopub.status.busy": "2024-10-22T19:37:51.204837Z",
     "iopub.status.idle": "2024-10-22T19:37:51.526034Z",
     "shell.execute_reply": "2024-10-22T19:37:51.524080Z",
     "shell.execute_reply.started": "2024-10-22T19:37:51.205396Z"
    }
   },
   "outputs": [
    {
     "name": "stdout",
     "output_type": "stream",
     "text": [
      "========================= Regression Summary ==========================\n",
      "Dep. Variable: song_popularity              Observations:  10547\n",
      "----------------------------------------------------------------------\n",
      "Model Metrics                               Residuals Metrics\n",
      "----------------------------------------------------------------------\n",
      "R²:                         0.093      Skewness:                -0.668\n",
      "Adjusted R²:                0.093      Kurtosis:                 3.071\n",
      "MSE:                      433.475      AIC:                  93972.735\n",
      "RMSE:                      20.820      BIC:                  93979.999\n",
      "MAE:                       16.472\n",
      "MAPE:                       8.373\n",
      "MPE:                     -814.497\n",
      "Explained Variance:         0.093\n",
      "----------------------------------------------------------------------\n",
      "\n"
     ]
    }
   ],
   "source": [
    "# Define polynomial model\n",
    "poly = PolynomialFeatures()\n",
    "X_poly_train = poly.fit_transform(X_train)\n",
    "\n",
    "# Model Definition\n",
    "poly_ridge = Ridge()\n",
    "\n",
    "# Training\n",
    "poly_ridge.fit(X_poly_train, y_train)\n",
    "\n",
    "# Performance\n",
    "yhat_train = poly_ridge.predict(X_poly_train)\n",
    "\n",
    "poly_ridge_train_metrics = regression_report(y_train, yhat_train, output_dict=True)"
   ]
  },
  {
   "cell_type": "markdown",
   "id": "c2614844-ad18-4714-8977-72bced62c787",
   "metadata": {},
   "source": [
    "<div style=\"color:#4baee9; font-size:14px;\">  \n",
    "    \n",
    "### 3.9.2 - Validation\n",
    "</div>"
   ]
  },
  {
   "cell_type": "code",
   "execution_count": 22,
   "id": "5a5772a8-96dc-4d58-8734-477536f31487",
   "metadata": {
    "execution": {
     "iopub.execute_input": "2024-10-22T19:42:16.999252Z",
     "iopub.status.busy": "2024-10-22T19:42:16.998636Z",
     "iopub.status.idle": "2024-10-22T19:43:18.734039Z",
     "shell.execute_reply": "2024-10-22T19:43:18.731905Z",
     "shell.execute_reply.started": "2024-10-22T19:42:16.999210Z"
    }
   },
   "outputs": [
    {
     "name": "stdout",
     "output_type": "stream",
     "text": [
      "\n",
      "Best parameters: {'poly__degree': 2, 'ridge__alpha': 0.3, 'ridge__max_iter': 100}\n",
      "Best Model Summary:\n",
      "========================= Regression Summary ==========================\n",
      "Dep. Variable: song_popularity              Observations:   4521\n",
      "----------------------------------------------------------------------\n",
      "Model Metrics                               Residuals Metrics\n",
      "----------------------------------------------------------------------\n",
      "R²:                         0.068      Skewness:                -0.654\n",
      "Adjusted R²:                0.067      Kurtosis:                 3.021\n",
      "MSE:                      445.243      AIC:                  40403.908\n",
      "RMSE:                      21.101      BIC:                  40410.325\n",
      "MAE:                       16.739\n",
      "MAPE:                       8.560\n",
      "MPE:                     -832.966\n",
      "Explained Variance:         0.068\n",
      "----------------------------------------------------------------------\n",
      "\n"
     ]
    }
   ],
   "source": [
    "# Define the parameter grid\n",
    "param_grid = {\n",
    "    'poly__degree': [1, 2, 3],  # Polynomial degree\n",
    "    'ridge__alpha': [0, 0.1, 0.2, 0.3],  # Ridge alpha\n",
    "    'ridge__max_iter': [100, 200, 300]  # Ridge max_iter\n",
    "}\n",
    "\n",
    "# Create the pipeline\n",
    "pipeline = Pipeline([\n",
    "    ('poly', PolynomialFeatures()),  # Polynomial features\n",
    "    ('ridge', Ridge())  # Ridge regression\n",
    "])\n",
    "\n",
    "# Set up GridSearchCV\n",
    "grid_search = GridSearchCV(pipeline, param_grid, cv=5, scoring='r2')\n",
    "\n",
    "# Fit GridSearchCV\n",
    "grid_search.fit(X_train, y_train)\n",
    "\n",
    "# Extract the best parameters and model\n",
    "poly_ridge_best_params = grid_search.best_params_\n",
    "poly_ridge_best_model = grid_search.best_estimator_\n",
    "\n",
    "print(f'\\nBest parameters: {poly_ridge_best_params}')\n",
    "\n",
    "# Use the best model to predict on the validation set\n",
    "yhat_val = poly_ridge_best_model.predict(X_val)\n",
    "\n",
    "# Store metrics using regression_report and display the regression report for the best model\n",
    "print(\"Best Model Summary:\")\n",
    "poly_ridge_val_metrics = regression_report(y_val, yhat_val, output_dict=True, show_report=True)"
   ]
  },
  {
   "cell_type": "markdown",
   "id": "3c744a87-b6bc-4e2a-8b57-5e7f89c2d65f",
   "metadata": {},
   "source": [
    "<div style=\"color:#4baee9; font-size:14px;\">  \n",
    "    \n",
    "### 3.9.3 - Test\n",
    "</div>"
   ]
  },
  {
   "cell_type": "code",
   "execution_count": 27,
   "id": "cf1a5abe-e1f8-4b01-998c-e21d265fc2dc",
   "metadata": {
    "execution": {
     "iopub.execute_input": "2024-10-22T19:46:41.776521Z",
     "iopub.status.busy": "2024-10-22T19:46:41.775975Z",
     "iopub.status.idle": "2024-10-22T19:46:41.852547Z",
     "shell.execute_reply": "2024-10-22T19:46:41.850764Z",
     "shell.execute_reply.started": "2024-10-22T19:46:41.776484Z"
    }
   },
   "outputs": [
    {
     "name": "stdout",
     "output_type": "stream",
     "text": [
      "========================= Regression Summary ==========================\n",
      "Dep. Variable: Y                            Observations:  15068\n",
      "----------------------------------------------------------------------\n",
      "Model Metrics                               Residuals Metrics\n",
      "----------------------------------------------------------------------\n",
      "R²:                         0.088      Skewness:                -0.664\n",
      "Adjusted R²:                0.088      Kurtosis:                 3.047\n",
      "MSE:                      435.676      AIC:                 134329.834\n",
      "RMSE:                      20.873      BIC:                 134337.454\n",
      "MAE:                       16.541\n",
      "MAPE:                       8.428\n",
      "MPE:                     -819.956\n",
      "Explained Variance:         0.088\n",
      "----------------------------------------------------------------------\n",
      "\n"
     ]
    }
   ],
   "source": [
    "# Define polynomial model\n",
    "poly = PolynomialFeatures(degree=poly_ridge_best_params['poly__degree'])\n",
    "X_poly_train_val = poly.fit_transform(X_train_val)\n",
    "\n",
    "# Model Definition\n",
    "poly_ridge = Ridge(\n",
    "    random_state=0,\n",
    "    alpha=poly_ridge_best_params['ridge__alpha'],\n",
    "    max_iter=poly_ridge_best_params['ridge__max_iter']\n",
    ")\n",
    "\n",
    "# Training\n",
    "poly_ridge.fit(X_poly_train_val, y_train_val)\n",
    "\n",
    "# Performance\n",
    "yhat_test = poly_ridge.predict(X_poly_train_val)\n",
    "\n",
    "poly_ridge_test_metrics = regression_report(y_train_val, yhat_test, output_dict=True)"
   ]
  },
  {
   "cell_type": "markdown",
   "id": "ac038537-48e4-460a-940c-2f63efb41234",
   "metadata": {},
   "source": [
    "<div style=\"color:#4baee9; font-size:14px;\">  \n",
    "    \n",
    "### 3.9.4 - Results\n",
    "</div>"
   ]
  },
  {
   "cell_type": "code",
   "execution_count": 28,
   "id": "a6937fe1-3e99-4d86-9459-b0d7decd3a54",
   "metadata": {
    "execution": {
     "iopub.execute_input": "2024-10-22T19:47:29.385807Z",
     "iopub.status.busy": "2024-10-22T19:47:29.385184Z",
     "iopub.status.idle": "2024-10-22T19:47:29.432350Z",
     "shell.execute_reply": "2024-10-22T19:47:29.430442Z",
     "shell.execute_reply.started": "2024-10-22T19:47:29.385768Z"
    }
   },
   "outputs": [
    {
     "data": {
      "text/html": [
       "<div>\n",
       "<style scoped>\n",
       "    .dataframe tbody tr th:only-of-type {\n",
       "        vertical-align: middle;\n",
       "    }\n",
       "\n",
       "    .dataframe tbody tr th {\n",
       "        vertical-align: top;\n",
       "    }\n",
       "\n",
       "    .dataframe thead th {\n",
       "        text-align: right;\n",
       "    }\n",
       "</style>\n",
       "<table border=\"1\" class=\"dataframe\">\n",
       "  <thead>\n",
       "    <tr style=\"text-align: right;\">\n",
       "      <th></th>\n",
       "      <th>R²</th>\n",
       "      <th>RMSE</th>\n",
       "      <th>MAE</th>\n",
       "      <th>MAPE</th>\n",
       "      <th>MPE</th>\n",
       "    </tr>\n",
       "  </thead>\n",
       "  <tbody>\n",
       "    <tr>\n",
       "      <th>train</th>\n",
       "      <td>0.093171</td>\n",
       "      <td>20.820073</td>\n",
       "      <td>16.471972</td>\n",
       "      <td>8.372689</td>\n",
       "      <td>-814.496897</td>\n",
       "    </tr>\n",
       "    <tr>\n",
       "      <th>val</th>\n",
       "      <td>0.067576</td>\n",
       "      <td>21.100792</td>\n",
       "      <td>16.738540</td>\n",
       "      <td>8.560313</td>\n",
       "      <td>-832.965641</td>\n",
       "    </tr>\n",
       "    <tr>\n",
       "      <th>test</th>\n",
       "      <td>0.088282</td>\n",
       "      <td>20.872846</td>\n",
       "      <td>16.541497</td>\n",
       "      <td>8.428238</td>\n",
       "      <td>-819.956160</td>\n",
       "    </tr>\n",
       "  </tbody>\n",
       "</table>\n",
       "</div>"
      ],
      "text/plain": [
       "             R²       RMSE        MAE      MAPE         MPE\n",
       "train  0.093171  20.820073  16.471972  8.372689 -814.496897\n",
       "val    0.067576  21.100792  16.738540  8.560313 -832.965641\n",
       "test   0.088282  20.872846  16.541497  8.428238 -819.956160"
      ]
     },
     "execution_count": 28,
     "metadata": {},
     "output_type": "execute_result"
    }
   ],
   "source": [
    "poly_ridge_metrics = pd.DataFrame({\n",
    "    'train': poly_ridge_train_metrics,\n",
    "    'val': poly_ridge_val_metrics,\n",
    "    'test': poly_ridge_test_metrics\n",
    "})\n",
    "\n",
    "os.makedirs('../Results', exist_ok=True)\n",
    "poly_ridge_metrics.to_csv('../Results/poly_ridge_metrics.csv', index=True)\n",
    "\n",
    "poly_ridge_metrics = poly_ridge_metrics.T\n",
    "poly_ridge_metrics"
   ]
  },
  {
   "cell_type": "markdown",
   "id": "f0b814a2-80f5-49c1-90a5-b1dffb35c17d",
   "metadata": {},
   "source": [
    "<div style=\"background: linear-gradient(to right, #52b3ed, #5a040d); color:white; padding: 3px; width:100%;\">\n",
    "\n",
    "## 3.10 - Polynomial Regression ElasticNet:  The Ultimate Flexibility\n",
    "</div>\n",
    "\n",
    "Polynomial Regression Elastic Net combines polynomial regression with both L1 and L2 regularization, offering the greatest flexibility in terms of model complexity and feature selection. \n",
    "\n",
    "* **Key Advantage:** Polynomial Regression Elastic Net is well-suited for datasets with complex relationships and potentially many features, as it can capture non-linear patterns while simultaneously performing feature selection and ensuring model stability.\n",
    "* **Applications:** \n",
    "    * **Bioinformatics:** Analyzing biological data with complex interactions, such as protein folding or gene networks.\n",
    "    * **Financial Risk Management:**  Modeling financial risk, where complex interactions between market factors can lead to non-linear outcomes.\n",
    "    * **Artificial Intelligence:**  Developing sophisticated AI systems that require both powerful predictive capabilities and the ability to handle large, complex datasets."
   ]
  },
  {
   "cell_type": "markdown",
   "id": "4615f1b4-e730-4e74-b757-f8a1c624604b",
   "metadata": {},
   "source": [
    "<div style=\"color:#4baee9; font-size:14px;\">  \n",
    "    \n",
    "### 3.10.1 - Training\n",
    "</div>"
   ]
  },
  {
   "cell_type": "code",
   "execution_count": 30,
   "id": "d6af9fbf-ba53-4f61-ab0c-ab9a04c28dcf",
   "metadata": {
    "execution": {
     "iopub.execute_input": "2024-10-22T19:48:28.035606Z",
     "iopub.status.busy": "2024-10-22T19:48:28.035037Z",
     "iopub.status.idle": "2024-10-22T19:49:09.459080Z",
     "shell.execute_reply": "2024-10-22T19:49:09.438340Z",
     "shell.execute_reply.started": "2024-10-22T19:48:28.035567Z"
    }
   },
   "outputs": [
    {
     "name": "stdout",
     "output_type": "stream",
     "text": [
      "========================= Regression Summary ==========================\n",
      "Dep. Variable: song_popularity              Observations:  10547\n",
      "----------------------------------------------------------------------\n",
      "Model Metrics                               Residuals Metrics\n",
      "----------------------------------------------------------------------\n",
      "R²:                         0.013      Skewness:                -0.498\n",
      "Adjusted R²:                0.013      Kurtosis:                 2.842\n",
      "MSE:                      471.878      AIC:                  95056.576\n",
      "RMSE:                      21.723      BIC:                  95063.839\n",
      "MAE:                       17.244\n",
      "MAPE:                       8.679\n",
      "MPE:                     -850.957\n",
      "Explained Variance:         0.013\n",
      "----------------------------------------------------------------------\n",
      "\n"
     ]
    }
   ],
   "source": [
    "# Define polynomial model\n",
    "poly = PolynomialFeatures()\n",
    "X_poly_train = poly.fit_transform(X_train)\n",
    "\n",
    "# Model Definition\n",
    "poly_elasticnet = ElasticNet()\n",
    "\n",
    "# Training\n",
    "poly_elasticnet.fit(X_poly_train, y_train)\n",
    "\n",
    "# Performance\n",
    "yhat_train = poly_elasticnet.predict(X_poly_train)\n",
    "\n",
    "poly_elasticnet_train_metrics = regression_report(y_train, yhat_train, output_dict=True)"
   ]
  },
  {
   "cell_type": "markdown",
   "id": "b8ae89a8-0ea9-439f-83ed-404b60c53e07",
   "metadata": {},
   "source": [
    "<div style=\"color:#4baee9; font-size:14px;\">  \n",
    "    \n",
    "### 3.10.2 - Validation\n",
    "</div>"
   ]
  },
  {
   "cell_type": "code",
   "execution_count": 31,
   "id": "b5f30f3a-61b7-4dd3-87f8-64bd0ab856ec",
   "metadata": {
    "execution": {
     "iopub.execute_input": "2024-10-22T19:50:50.761315Z",
     "iopub.status.busy": "2024-10-22T19:50:50.757084Z",
     "iopub.status.idle": "2024-10-22T19:54:22.562389Z",
     "shell.execute_reply": "2024-10-22T19:54:22.560347Z",
     "shell.execute_reply.started": "2024-10-22T19:50:50.761250Z"
    }
   },
   "outputs": [
    {
     "name": "stdout",
     "output_type": "stream",
     "text": [
      "\n",
      "Best parameters: {'elasticnet__alpha': 0.1, 'elasticnet__l1_ratio': 0.8, 'elasticnet__max_iter': 100, 'poly__degree': 2}\n",
      "Best Model Summary:\n",
      "========================= Regression Summary ==========================\n",
      "Dep. Variable: song_popularity              Observations:   4521\n",
      "----------------------------------------------------------------------\n",
      "Model Metrics                               Residuals Metrics\n",
      "----------------------------------------------------------------------\n",
      "R²:                         0.056      Skewness:                -0.473\n",
      "Adjusted R²:                0.056      Kurtosis:                 2.849\n",
      "MSE:                      450.708      AIC:                  40896.110\n",
      "RMSE:                      21.230      BIC:                  40902.527\n",
      "MAE:                       16.832\n",
      "MAPE:                       8.655\n",
      "MPE:                     -846.061\n",
      "Explained Variance:         0.056\n",
      "----------------------------------------------------------------------\n",
      "\n"
     ]
    }
   ],
   "source": [
    "# Define the parameter grid\n",
    "param_grid = {\n",
    "    'poly__degree': [1, 2, 3],  # Polynomial degree\n",
    "    'elasticnet__alpha': [0.1, 0.5, 1.0],  # ElasticNet alpha\n",
    "    'elasticnet__l1_ratio': [0.2, 0.5, 0.8],  # ElasticNet l1_ratio\n",
    "    'elasticnet__max_iter': [100, 200, 300]  # ElasticNet max_iter\n",
    "}\n",
    "\n",
    "# Create the pipeline\n",
    "pipeline = Pipeline([\n",
    "    ('poly', PolynomialFeatures()),  # Polynomial features\n",
    "    ('elasticnet', ElasticNet())  # ElasticNet regression\n",
    "])\n",
    "\n",
    "# Set up GridSearchCV\n",
    "grid_search = GridSearchCV(pipeline, param_grid, cv=5, scoring='r2')\n",
    "\n",
    "# Fit GridSearchCV\n",
    "grid_search.fit(X_train, y_train)\n",
    "\n",
    "# Extract the best parameters and model\n",
    "poly_elasticnet_best_params = grid_search.best_params_\n",
    "poly_elasticnet_best_model = grid_search.best_estimator_\n",
    "\n",
    "print(f'\\nBest parameters: {poly_elasticnet_best_params}')\n",
    "\n",
    "# Use the best model to predict on the validation set\n",
    "yhat_val = poly_elasticnet_best_model.predict(X_val)\n",
    "\n",
    "# Store metrics using regression_report and display the regression report for the best model\n",
    "print(\"Best Model Summary:\")\n",
    "poly_elasticnet_val_metrics = regression_report(y_val, yhat_val, output_dict=True)"
   ]
  },
  {
   "cell_type": "markdown",
   "id": "f22c66c6-47fa-4bb1-b867-1c857eaba39a",
   "metadata": {},
   "source": [
    "<div style=\"color:#4baee9; font-size:14px;\">  \n",
    "    \n",
    "### 3.10.3 - Test\n",
    "</div>"
   ]
  },
  {
   "cell_type": "code",
   "execution_count": 34,
   "id": "a099b887-fd4a-4c97-a776-301de6fb25e6",
   "metadata": {
    "execution": {
     "iopub.execute_input": "2024-10-22T19:56:03.025859Z",
     "iopub.status.busy": "2024-10-22T19:56:03.025299Z",
     "iopub.status.idle": "2024-10-22T19:59:36.671174Z",
     "shell.execute_reply": "2024-10-22T19:59:36.656333Z",
     "shell.execute_reply.started": "2024-10-22T19:56:03.025822Z"
    }
   },
   "outputs": [
    {
     "name": "stdout",
     "output_type": "stream",
     "text": [
      "========================= Regression Summary ==========================\n",
      "Dep. Variable: Y                            Observations:  15068\n",
      "----------------------------------------------------------------------\n",
      "Model Metrics                               Residuals Metrics\n",
      "----------------------------------------------------------------------\n",
      "R²:                         0.061      Skewness:                -0.474\n",
      "Adjusted R²:                0.061      Kurtosis:                 2.849\n",
      "MSE:                      448.581      AIC:                 136304.771\n",
      "RMSE:                      21.180      BIC:                 136312.392\n",
      "MAE:                       16.802\n",
      "MAPE:                       8.583\n",
      "MPE:                     -848.965\n",
      "Explained Variance:         0.061\n",
      "----------------------------------------------------------------------\n",
      "\n"
     ]
    }
   ],
   "source": [
    "# Define polynomial model using the best degree from previous results\n",
    "poly = PolynomialFeatures(degree=poly_elasticnet_best_params['poly__degree'])\n",
    "X_poly_train_val = poly.fit_transform(X_train_val)\n",
    "\n",
    "# Model Definition\n",
    "poly_elasticnet = ElasticNet(\n",
    "    random_state=0,\n",
    "    alpha=poly_elasticnet_best_params['elasticnet__alpha'],\n",
    "    l1_ratio=poly_elasticnet_best_params['elasticnet__l1_ratio'],\n",
    "    max_iter=poly_elasticnet_best_params['elasticnet__max_iter']\n",
    ")\n",
    "\n",
    "# Training\n",
    "poly_elasticnet.fit(X_poly_train_val, y_train_val)\n",
    "\n",
    "# Performance\n",
    "yhat_test = poly_elasticnet.predict(X_poly_train_val)\n",
    "\n",
    "# Calculate and store metrics for the test set\n",
    "poly_elasticnet_test_metrics = regression_report(y_train_val, yhat_test, output_dict=True)"
   ]
  },
  {
   "cell_type": "markdown",
   "id": "a50e4740-669a-44d6-9303-f135c95ffb15",
   "metadata": {},
   "source": [
    "<div style=\"color:#4baee9; font-size:14px;\">  \n",
    "\n",
    "### 3.10.4 - Results\n",
    "</div>"
   ]
  },
  {
   "cell_type": "code",
   "execution_count": 35,
   "id": "01c84dd5-c4ec-447b-a632-848c419bcca2",
   "metadata": {
    "execution": {
     "iopub.execute_input": "2024-10-22T20:00:35.148602Z",
     "iopub.status.busy": "2024-10-22T20:00:35.146500Z",
     "iopub.status.idle": "2024-10-22T20:00:35.546330Z",
     "shell.execute_reply": "2024-10-22T20:00:35.543606Z",
     "shell.execute_reply.started": "2024-10-22T20:00:35.148457Z"
    }
   },
   "outputs": [
    {
     "data": {
      "text/html": [
       "<div>\n",
       "<style scoped>\n",
       "    .dataframe tbody tr th:only-of-type {\n",
       "        vertical-align: middle;\n",
       "    }\n",
       "\n",
       "    .dataframe tbody tr th {\n",
       "        vertical-align: top;\n",
       "    }\n",
       "\n",
       "    .dataframe thead th {\n",
       "        text-align: right;\n",
       "    }\n",
       "</style>\n",
       "<table border=\"1\" class=\"dataframe\">\n",
       "  <thead>\n",
       "    <tr style=\"text-align: right;\">\n",
       "      <th></th>\n",
       "      <th>R²</th>\n",
       "      <th>RMSE</th>\n",
       "      <th>MAE</th>\n",
       "      <th>MAPE</th>\n",
       "      <th>MPE</th>\n",
       "    </tr>\n",
       "  </thead>\n",
       "  <tbody>\n",
       "    <tr>\n",
       "      <th>train</th>\n",
       "      <td>0.012833</td>\n",
       "      <td>21.722761</td>\n",
       "      <td>17.244236</td>\n",
       "      <td>8.678786</td>\n",
       "      <td>-850.957463</td>\n",
       "    </tr>\n",
       "    <tr>\n",
       "      <th>val</th>\n",
       "      <td>0.056131</td>\n",
       "      <td>21.229892</td>\n",
       "      <td>16.831714</td>\n",
       "      <td>8.655237</td>\n",
       "      <td>-846.060832</td>\n",
       "    </tr>\n",
       "    <tr>\n",
       "      <th>test</th>\n",
       "      <td>0.061275</td>\n",
       "      <td>21.179742</td>\n",
       "      <td>16.802161</td>\n",
       "      <td>8.582713</td>\n",
       "      <td>-848.964704</td>\n",
       "    </tr>\n",
       "  </tbody>\n",
       "</table>\n",
       "</div>"
      ],
      "text/plain": [
       "             R²       RMSE        MAE      MAPE         MPE\n",
       "train  0.012833  21.722761  17.244236  8.678786 -850.957463\n",
       "val    0.056131  21.229892  16.831714  8.655237 -846.060832\n",
       "test   0.061275  21.179742  16.802161  8.582713 -848.964704"
      ]
     },
     "execution_count": 35,
     "metadata": {},
     "output_type": "execute_result"
    }
   ],
   "source": [
    "poly_elasticnet_metrics = pd.DataFrame({\n",
    "    'train': poly_elasticnet_train_metrics,\n",
    "    'val': poly_elasticnet_val_metrics,\n",
    "    'test': poly_elasticnet_test_metrics\n",
    "})\n",
    "\n",
    "os.makedirs('../Results', exist_ok=True)\n",
    "poly_elasticnet_metrics.to_csv('../Results/poly_elasticnet_metrics.csv', index=True)\n",
    "\n",
    "poly_elasticnet_metrics = poly_elasticnet_metrics.T\n",
    "poly_elasticnet_metrics"
   ]
  },
  {
   "cell_type": "markdown",
   "id": "df491844-07cc-4f84-99ea-99d0db7cd2e0",
   "metadata": {},
   "source": [
    "<div style=\"background: linear-gradient(to right, #52b3ed, #5a040d); color:white; padding: 3px; width:100%;\">\n",
    "\n",
    "## 3.11 - XGBoost Regression: The Power of Boosting\n",
    "</div>\n",
    "\n",
    "XGBoost Regression leverages the power of boosting, an ensemble technique that combines multiple weak learners to create a robust predictive model. This method excels in handling complex datasets and capturing intricate patterns in the data.\n",
    "\n",
    "* **Key Advantage:** XGBoost Regression is particularly effective in reducing bias and variance, making it ideal for high-dimensional datasets with non-linear relationships. Its regularization features help prevent overfitting, ensuring a stable model performance across various datasets.\n",
    "* **Applications:** \n",
    "    * **Marketing Analytics:** Predicting customer behavior and optimizing marketing strategies by analyzing customer interactions and sales data.\n",
    "    * **Healthcare:** Forecasting patient outcomes and treatment effectiveness by modeling complex relationships in medical datasets.\n",
    "    * **Finance:** Building credit scoring models and risk assessment tools, where the relationships between financial indicators can be non-linear and intricate."
   ]
  },
  {
   "cell_type": "markdown",
   "id": "0ed765ce-bb59-4b2a-8d67-3ddf567a3ccf",
   "metadata": {},
   "source": [
    "<div style=\"color:#4baee9; font-size:14px;\">  \n",
    "    \n",
    "### 3.11.1 - Training\n",
    "</div>"
   ]
  },
  {
   "cell_type": "code",
   "execution_count": 45,
   "id": "172175a6-a535-4052-a25b-d6e29b27de3c",
   "metadata": {
    "execution": {
     "iopub.execute_input": "2024-10-22T20:28:47.603742Z",
     "iopub.status.busy": "2024-10-22T20:28:47.602938Z",
     "iopub.status.idle": "2024-10-22T20:29:26.515033Z",
     "shell.execute_reply": "2024-10-22T20:29:26.512674Z",
     "shell.execute_reply.started": "2024-10-22T20:28:47.603682Z"
    }
   },
   "outputs": [
    {
     "name": "stdout",
     "output_type": "stream",
     "text": [
      "========================= Regression Summary ==========================\n",
      "Dep. Variable: song_popularity              Observations:  10547\n",
      "----------------------------------------------------------------------\n",
      "Model Metrics                               Residuals Metrics\n",
      "----------------------------------------------------------------------\n",
      "R²:                         0.774      Skewness:                -0.248\n",
      "Adjusted R²:                0.774      Kurtosis:                 2.986\n",
      "MSE:                      108.236      AIC:                 138216.902\n",
      "RMSE:                      10.404      BIC:                 138224.166\n",
      "MAE:                        7.682\n",
      "MAPE:                       3.478\n",
      "MPE:                     -851.074\n",
      "Explained Variance:         0.774\n",
      "----------------------------------------------------------------------\n",
      "\n"
     ]
    }
   ],
   "source": [
    "# Define the XGBoost model\n",
    "xgb_model = xgb.XGBRegressor(random_state=0)\n",
    "\n",
    "# Training with the original features\n",
    "xgb_model.fit(X_train, y_train)\n",
    "\n",
    "# Performance\n",
    "yhat_train = xgb_model.predict(X_train)\n",
    "\n",
    "# Calculate metrics using regression_report\n",
    "xgb_train_metrics = regression_report(y_train, yhat_train, output_dict=True)"
   ]
  },
  {
   "cell_type": "markdown",
   "id": "dcb30d6f-fda5-49f2-8424-609910bb322a",
   "metadata": {},
   "source": [
    "<div style=\"color:#4baee9; font-size:14px;\">  \n",
    "    \n",
    "### 3.11.2 - Validation\n",
    "</div>"
   ]
  },
  {
   "cell_type": "code",
   "execution_count": 10,
   "id": "529d649a-4eca-46e8-b49b-281651ebc1a4",
   "metadata": {
    "execution": {
     "iopub.execute_input": "2024-10-23T11:54:09.208613Z",
     "iopub.status.busy": "2024-10-23T11:54:09.207717Z",
     "iopub.status.idle": "2024-10-23T11:57:01.598704Z",
     "shell.execute_reply": "2024-10-23T11:57:01.596981Z",
     "shell.execute_reply.started": "2024-10-23T11:54:09.208535Z"
    }
   },
   "outputs": [
    {
     "name": "stdout",
     "output_type": "stream",
     "text": [
      "\n",
      "Best parameters: {'xgb__n_estimators': 100, 'xgb__max_depth': 5, 'xgb__learning_rate': 0.01}\n",
      "Best Model Summary:\n",
      "========================= Regression Summary ==========================\n",
      "Dep. Variable: song_popularity              Observations:   4521\n",
      "----------------------------------------------------------------------\n",
      "Model Metrics                               Residuals Metrics\n",
      "----------------------------------------------------------------------\n",
      "R²:                         0.089      Skewness:                -0.479\n",
      "Adjusted R²:                0.089      Kurtosis:                 2.848\n",
      "MSE:                      434.858      AIC:                  40903.233\n",
      "RMSE:                      20.853      BIC:                  40909.650\n",
      "MAE:                       16.577\n",
      "MAPE:                       8.478\n",
      "MPE:                     -846.289\n",
      "Explained Variance:         0.089\n",
      "----------------------------------------------------------------------\n",
      "\n"
     ]
    }
   ],
   "source": [
    "# Define the parameter grid for XGBoost\n",
    "param_grid = {\n",
    "    'xgb__n_estimators': [100, 300, 500, 1000], \n",
    "    'xgb__max_depth': [3, 5, 7, 10],              \n",
    "    'xgb__learning_rate': [0.01, 0.05, 0.1, 0.2],\n",
    "}\n",
    "\n",
    "# Create the pipeline with XGBoost\n",
    "pipeline = Pipeline([\n",
    "    ('xgb', xgb.XGBRegressor(random_state=0))  # XGBoost regression\n",
    "])\n",
    "\n",
    "# Define a scoring function that uses RMSE\n",
    "rmse_scorer = make_scorer(mean_squared_error, squared=False)  # `squared=False` to return RMSE\n",
    "\n",
    "# Set up GridSearchCV\n",
    "grid_search = RandomizedSearchCV(pipeline, param_grid, cv=5, scoring=rmse_scorer)\n",
    "\n",
    "# Fit GridSearchCV\n",
    "grid_search.fit(X_train, y_train)\n",
    "\n",
    "# Extract the best parameters and model\n",
    "xgb_best_params = grid_search.best_params_\n",
    "xgb_best_model = grid_search.best_estimator_\n",
    "\n",
    "print(f'\\nBest parameters: {xgb_best_params}')\n",
    "\n",
    "# Use the best model to predict on the validation set\n",
    "yhat_val = xgb_best_model.predict(X_val)\n",
    "\n",
    "# Store metrics using regression_report and display the regression report for the best model\n",
    "print(\"Best Model Summary:\")\n",
    "xgb_val_metrics = regression_report(y_val, yhat_val, output_dict=True)"
   ]
  },
  {
   "cell_type": "markdown",
   "id": "c49ea631-ad1b-4a84-8741-0c7d475d726c",
   "metadata": {},
   "source": [
    "<div style=\"color:#4baee9; font-size:14px;\">  \n",
    "    \n",
    "### 3.11.3 - Test\n",
    "</div>"
   ]
  },
  {
   "cell_type": "code",
   "execution_count": 41,
   "id": "0be3adc6-77c5-4878-9356-5c975750bda7",
   "metadata": {
    "execution": {
     "iopub.execute_input": "2024-10-23T15:30:09.455274Z",
     "iopub.status.busy": "2024-10-23T15:30:09.454717Z",
     "iopub.status.idle": "2024-10-23T15:32:57.752050Z",
     "shell.execute_reply": "2024-10-23T15:32:57.729524Z",
     "shell.execute_reply.started": "2024-10-23T15:30:09.455234Z"
    }
   },
   "outputs": [
    {
     "name": "stdout",
     "output_type": "stream",
     "text": [
      "========================= Regression Summary ==========================\n",
      "Dep. Variable: Y                            Observations:  15068\n",
      "----------------------------------------------------------------------\n",
      "Model Metrics                               Residuals Metrics\n",
      "----------------------------------------------------------------------\n",
      "R²:                         0.712      Skewness:                -0.284\n",
      "Adjusted R²:                0.712      Kurtosis:                 2.989\n",
      "MSE:                      137.709      AIC:                 177003.952\n",
      "RMSE:                      11.735      BIC:                 177011.572\n",
      "MAE:                        8.798\n",
      "MAPE:                       4.008\n",
      "MPE:                     -849.053\n",
      "Explained Variance:         0.712\n",
      "----------------------------------------------------------------------\n",
      "\n"
     ]
    }
   ],
   "source": [
    "# Define the XGBoost model\n",
    "xgb_model = xgb.XGBRegressor(\n",
    "    random_state=0,\n",
    "    **xgb_best_params\n",
    ")\n",
    "\n",
    "# Training with the original features\n",
    "xgb_model.fit(X_train_val, y_train_val)\n",
    "\n",
    "# Performance\n",
    "yhat_test = xgb_model.predict(X_train_val)\n",
    "\n",
    "# Calculate metrics using regression_report\n",
    "xgb_test_metrics = regression_report(y_train_val, yhat_test, output_dict=True)"
   ]
  },
  {
   "cell_type": "markdown",
   "id": "cfffd34e-9898-4be5-88b5-3b9831aea3be",
   "metadata": {},
   "source": [
    "<div style=\"color:#4baee9; font-size:14px;\">  \n",
    "\n",
    "### 3.11.4 - Results\n",
    "</div>"
   ]
  },
  {
   "cell_type": "code",
   "execution_count": 58,
   "id": "ceb01ee2-4d1f-4b71-ba1d-c21dd0d4922c",
   "metadata": {
    "execution": {
     "iopub.execute_input": "2024-10-22T21:00:21.176570Z",
     "iopub.status.busy": "2024-10-22T21:00:21.172408Z",
     "iopub.status.idle": "2024-10-22T21:00:21.761884Z",
     "shell.execute_reply": "2024-10-22T21:00:21.760041Z",
     "shell.execute_reply.started": "2024-10-22T21:00:21.176467Z"
    }
   },
   "outputs": [
    {
     "data": {
      "text/html": [
       "<div>\n",
       "<style scoped>\n",
       "    .dataframe tbody tr th:only-of-type {\n",
       "        vertical-align: middle;\n",
       "    }\n",
       "\n",
       "    .dataframe tbody tr th {\n",
       "        vertical-align: top;\n",
       "    }\n",
       "\n",
       "    .dataframe thead th {\n",
       "        text-align: right;\n",
       "    }\n",
       "</style>\n",
       "<table border=\"1\" class=\"dataframe\">\n",
       "  <thead>\n",
       "    <tr style=\"text-align: right;\">\n",
       "      <th></th>\n",
       "      <th>R²</th>\n",
       "      <th>RMSE</th>\n",
       "      <th>MAE</th>\n",
       "      <th>MAPE</th>\n",
       "      <th>MPE</th>\n",
       "    </tr>\n",
       "  </thead>\n",
       "  <tbody>\n",
       "    <tr>\n",
       "      <th>train</th>\n",
       "      <td>0.773570</td>\n",
       "      <td>10.403668</td>\n",
       "      <td>7.681679</td>\n",
       "      <td>3.477982</td>\n",
       "      <td>-851.074089</td>\n",
       "    </tr>\n",
       "    <tr>\n",
       "      <th>val</th>\n",
       "      <td>0.091156</td>\n",
       "      <td>20.832278</td>\n",
       "      <td>16.553081</td>\n",
       "      <td>8.487352</td>\n",
       "      <td>-846.024943</td>\n",
       "    </tr>\n",
       "    <tr>\n",
       "      <th>test</th>\n",
       "      <td>0.711824</td>\n",
       "      <td>11.734932</td>\n",
       "      <td>8.797682</td>\n",
       "      <td>4.008056</td>\n",
       "      <td>-849.053015</td>\n",
       "    </tr>\n",
       "  </tbody>\n",
       "</table>\n",
       "</div>"
      ],
      "text/plain": [
       "             R²       RMSE        MAE      MAPE         MPE\n",
       "train  0.773570  10.403668   7.681679  3.477982 -851.074089\n",
       "val    0.091156  20.832278  16.553081  8.487352 -846.024943\n",
       "test   0.711824  11.734932   8.797682  4.008056 -849.053015"
      ]
     },
     "execution_count": 58,
     "metadata": {},
     "output_type": "execute_result"
    }
   ],
   "source": [
    "xgb_reg_metrics = pd.DataFrame({\n",
    "    'train': xgb_train_metrics,\n",
    "    'val': xgb_val_metrics,\n",
    "    'test': xgb_test_metrics\n",
    "})\n",
    "\n",
    "os.makedirs('../Results', exist_ok=True)\n",
    "xgb_reg_metrics.to_csv('../Results/xgb_reg_metrics.csv', index=True)\n",
    "\n",
    "xgb_reg_metrics = xgb_reg_metrics.T\n",
    "xgb_reg_metrics"
   ]
  },
  {
   "cell_type": "markdown",
   "id": "d5cee359-9fa5-49c7-88f6-14444fcb86a6",
   "metadata": {},
   "source": [
    "<div style=\"background: linear-gradient(to right, #2b040d, #5a040d); color:white; font-size:14px; padding: 10px; width:100%;\">\n",
    "    \n",
    "# 4 - Trial results\n",
    "</div>"
   ]
  },
  {
   "cell_type": "code",
   "execution_count": 4,
   "id": "81139e15-27c4-4968-9785-18089cc1bec3",
   "metadata": {
    "execution": {
     "iopub.execute_input": "2024-10-23T11:52:22.366726Z",
     "iopub.status.busy": "2024-10-23T11:52:22.365157Z",
     "iopub.status.idle": "2024-10-23T11:52:22.659559Z",
     "shell.execute_reply": "2024-10-23T11:52:22.657185Z",
     "shell.execute_reply.started": "2024-10-23T11:52:22.366623Z"
    }
   },
   "outputs": [],
   "source": [
    "# Load the metrics from CSV files into DataFrames\n",
    "lin_reg_metrics = pd.read_csv('../Results/lin_reg_metrics.csv', index_col=0)\n",
    "dt_reg_metrics = pd.read_csv('../Results/dt_reg_metrics.csv', index_col=0)\n",
    "rf_reg_metrics = pd.read_csv('../Results/rf_reg_metrics.csv', index_col=0)\n",
    "pol_reg_metrics = pd.read_csv('../Results/pol_reg_metrics.csv', index_col=0)\n",
    "lasso_reg_metrics = pd.read_csv('../Results/lasso_metrics.csv', index_col=0)\n",
    "ridge_reg_metrics = pd.read_csv('../Results/ridge_metrics.csv', index_col=0)\n",
    "elasticnet_reg_metrics = pd.read_csv('../Results/elasticnet_metrics.csv', index_col=0)\n",
    "poly_lasso_metrics = pd.read_csv('../Results/poly_lasso_metrics.csv', index_col=0)\n",
    "poly_ridge_metrics = pd.read_csv('../Results/poly_ridge_metrics.csv', index_col=0)\n",
    "poly_elasticnet_metrics = pd.read_csv('../Results/poly_elasticnet_metrics.csv', index_col=0)\n",
    "xgb_reg_metrics = pd.read_csv('../Results/xgb_reg_metrics.csv', index_col=0)"
   ]
  },
  {
   "cell_type": "markdown",
   "id": "eb240465-cdc2-4e70-be4b-c376fcaae1c9",
   "metadata": {},
   "source": [
    "<div style=\"color:#b40426;\">  \n",
    "\n",
    "#### On the Training data \n",
    "</div>"
   ]
  },
  {
   "cell_type": "code",
   "execution_count": 5,
   "id": "5491f109-2253-4aa6-91d7-d4f6a5818cd6",
   "metadata": {
    "execution": {
     "iopub.execute_input": "2024-10-23T11:52:23.584804Z",
     "iopub.status.busy": "2024-10-23T11:52:23.584049Z",
     "iopub.status.idle": "2024-10-23T11:52:24.057168Z",
     "shell.execute_reply": "2024-10-23T11:52:24.054500Z",
     "shell.execute_reply.started": "2024-10-23T11:52:23.584728Z"
    }
   },
   "outputs": [
    {
     "data": {
      "text/html": [
       "<style type=\"text/css\">\n",
       "#T_a68e2_row0_col0, #T_a68e2_row5_col0 {\n",
       "  background-color: #465ecf;\n",
       "  color: #f1f1f1;\n",
       "}\n",
       "#T_a68e2_row0_col1, #T_a68e2_row5_col1 {\n",
       "  background-color: #bb1b2c;\n",
       "  color: #f1f1f1;\n",
       "}\n",
       "#T_a68e2_row0_col2, #T_a68e2_row5_col2 {\n",
       "  background-color: #ba162b;\n",
       "  color: #f1f1f1;\n",
       "}\n",
       "#T_a68e2_row0_col3, #T_a68e2_row5_col3 {\n",
       "  background-color: #b70d28;\n",
       "  color: #f1f1f1;\n",
       "}\n",
       "#T_a68e2_row0_col4, #T_a68e2_row5_col4 {\n",
       "  background-color: #a6c4fe;\n",
       "  color: #000000;\n",
       "}\n",
       "#T_a68e2_row1_col0, #T_a68e2_row3_col4, #T_a68e2_row4_col1, #T_a68e2_row4_col2, #T_a68e2_row4_col3, #T_a68e2_row6_col1, #T_a68e2_row6_col2, #T_a68e2_row6_col3, #T_a68e2_row7_col1, #T_a68e2_row7_col2, #T_a68e2_row9_col1, #T_a68e2_row9_col2 {\n",
       "  background-color: #b40426;\n",
       "  color: #f1f1f1;\n",
       "}\n",
       "#T_a68e2_row1_col1, #T_a68e2_row1_col2, #T_a68e2_row1_col3, #T_a68e2_row2_col4, #T_a68e2_row4_col0, #T_a68e2_row6_col0, #T_a68e2_row7_col0 {\n",
       "  background-color: #3b4cc0;\n",
       "  color: #f1f1f1;\n",
       "}\n",
       "#T_a68e2_row1_col4, #T_a68e2_row4_col4, #T_a68e2_row6_col4, #T_a68e2_row7_col4, #T_a68e2_row9_col4, #T_a68e2_row10_col4 {\n",
       "  background-color: #5f7fe8;\n",
       "  color: #f1f1f1;\n",
       "}\n",
       "#T_a68e2_row2_col0 {\n",
       "  background-color: #d44e41;\n",
       "  color: #f1f1f1;\n",
       "}\n",
       "#T_a68e2_row2_col1 {\n",
       "  background-color: #8badfd;\n",
       "  color: #000000;\n",
       "}\n",
       "#T_a68e2_row2_col2 {\n",
       "  background-color: #94b6ff;\n",
       "  color: #000000;\n",
       "}\n",
       "#T_a68e2_row2_col3 {\n",
       "  background-color: #9abbff;\n",
       "  color: #000000;\n",
       "}\n",
       "#T_a68e2_row3_col0, #T_a68e2_row8_col0 {\n",
       "  background-color: #5572df;\n",
       "  color: #f1f1f1;\n",
       "}\n",
       "#T_a68e2_row3_col1, #T_a68e2_row3_col2, #T_a68e2_row8_col1, #T_a68e2_row8_col2 {\n",
       "  background-color: #c53334;\n",
       "  color: #f1f1f1;\n",
       "}\n",
       "#T_a68e2_row3_col3 {\n",
       "  background-color: #c43032;\n",
       "  color: #f1f1f1;\n",
       "}\n",
       "#T_a68e2_row7_col3, #T_a68e2_row9_col3 {\n",
       "  background-color: #b50927;\n",
       "  color: #f1f1f1;\n",
       "}\n",
       "#T_a68e2_row8_col3 {\n",
       "  background-color: #c32e31;\n",
       "  color: #f1f1f1;\n",
       "}\n",
       "#T_a68e2_row8_col4 {\n",
       "  background-color: #c73635;\n",
       "  color: #f1f1f1;\n",
       "}\n",
       "#T_a68e2_row9_col0 {\n",
       "  background-color: #3c4ec2;\n",
       "  color: #f1f1f1;\n",
       "}\n",
       "#T_a68e2_row10_col0 {\n",
       "  background-color: #f18d6f;\n",
       "  color: #f1f1f1;\n",
       "}\n",
       "#T_a68e2_row10_col1 {\n",
       "  background-color: #c7d7f0;\n",
       "  color: #000000;\n",
       "}\n",
       "#T_a68e2_row10_col2 {\n",
       "  background-color: #cbd8ee;\n",
       "  color: #000000;\n",
       "}\n",
       "#T_a68e2_row10_col3 {\n",
       "  background-color: #bed2f6;\n",
       "  color: #000000;\n",
       "}\n",
       "</style>\n",
       "<table id=\"T_a68e2\">\n",
       "  <thead>\n",
       "    <tr>\n",
       "      <th class=\"blank level0\" >&nbsp;</th>\n",
       "      <th id=\"T_a68e2_level0_col0\" class=\"col_heading level0 col0\" >R²</th>\n",
       "      <th id=\"T_a68e2_level0_col1\" class=\"col_heading level0 col1\" >RMSE</th>\n",
       "      <th id=\"T_a68e2_level0_col2\" class=\"col_heading level0 col2\" >MAE</th>\n",
       "      <th id=\"T_a68e2_level0_col3\" class=\"col_heading level0 col3\" >MAPE</th>\n",
       "      <th id=\"T_a68e2_level0_col4\" class=\"col_heading level0 col4\" >MPE</th>\n",
       "    </tr>\n",
       "  </thead>\n",
       "  <tbody>\n",
       "    <tr>\n",
       "      <th id=\"T_a68e2_level0_row0\" class=\"row_heading level0 row0\" >Linear Regression</th>\n",
       "      <td id=\"T_a68e2_row0_col0\" class=\"data row0 col0\" >0.046058</td>\n",
       "      <td id=\"T_a68e2_row0_col1\" class=\"data row0 col1\" >21.354065</td>\n",
       "      <td id=\"T_a68e2_row0_col2\" class=\"data row0 col2\" >16.998249</td>\n",
       "      <td id=\"T_a68e2_row0_col3\" class=\"data row0 col3\" >8.653186</td>\n",
       "      <td id=\"T_a68e2_row0_col4\" class=\"data row0 col4\" >-842.079177</td>\n",
       "    </tr>\n",
       "    <tr>\n",
       "      <th id=\"T_a68e2_level0_row1\" class=\"row_heading level0 row1\" >Decision Tree</th>\n",
       "      <td id=\"T_a68e2_row1_col0\" class=\"data row1 col0\" >0.991757</td>\n",
       "      <td id=\"T_a68e2_row1_col1\" class=\"data row1 col1\" >1.985045</td>\n",
       "      <td id=\"T_a68e2_row1_col2\" class=\"data row1 col2\" >0.214099</td>\n",
       "      <td id=\"T_a68e2_row1_col3\" class=\"data row1 col3\" >0.082628</td>\n",
       "      <td id=\"T_a68e2_row1_col4\" class=\"data row1 col4\" >-850.957463</td>\n",
       "    </tr>\n",
       "    <tr>\n",
       "      <th id=\"T_a68e2_level0_row2\" class=\"row_heading level0 row2\" >Random Forest</th>\n",
       "      <td id=\"T_a68e2_row2_col0\" class=\"data row2 col0\" >0.902817</td>\n",
       "      <td id=\"T_a68e2_row2_col1\" class=\"data row2 col1\" >6.815772</td>\n",
       "      <td id=\"T_a68e2_row2_col2\" class=\"data row2 col2\" >4.860773</td>\n",
       "      <td id=\"T_a68e2_row2_col3\" class=\"data row2 col3\" >2.577959</td>\n",
       "      <td id=\"T_a68e2_row2_col4\" class=\"data row2 col4\" >-856.240257</td>\n",
       "    </tr>\n",
       "    <tr>\n",
       "      <th id=\"T_a68e2_level0_row3\" class=\"row_heading level0 row3\" >Polynomial Regression</th>\n",
       "      <td id=\"T_a68e2_row3_col0\" class=\"data row3 col0\" >0.094195</td>\n",
       "      <td id=\"T_a68e2_row3_col1\" class=\"data row3 col1\" >20.808321</td>\n",
       "      <td id=\"T_a68e2_row3_col2\" class=\"data row3 col2\" >16.458032</td>\n",
       "      <td id=\"T_a68e2_row3_col3\" class=\"data row3 col3\" >8.350540</td>\n",
       "      <td id=\"T_a68e2_row3_col4\" class=\"data row3 col4\" >-812.178676</td>\n",
       "    </tr>\n",
       "    <tr>\n",
       "      <th id=\"T_a68e2_level0_row4\" class=\"row_heading level0 row4\" >Lasso Regression</th>\n",
       "      <td id=\"T_a68e2_row4_col0\" class=\"data row4 col0\" >0.007401</td>\n",
       "      <td id=\"T_a68e2_row4_col1\" class=\"data row4 col1\" >21.782443</td>\n",
       "      <td id=\"T_a68e2_row4_col2\" class=\"data row4 col2\" >17.305484</td>\n",
       "      <td id=\"T_a68e2_row4_col3\" class=\"data row4 col3\" >8.736697</td>\n",
       "      <td id=\"T_a68e2_row4_col4\" class=\"data row4 col4\" >-850.957463</td>\n",
       "    </tr>\n",
       "    <tr>\n",
       "      <th id=\"T_a68e2_level0_row5\" class=\"row_heading level0 row5\" >Ridge Regression</th>\n",
       "      <td id=\"T_a68e2_row5_col0\" class=\"data row5 col0\" >0.046058</td>\n",
       "      <td id=\"T_a68e2_row5_col1\" class=\"data row5 col1\" >21.354072</td>\n",
       "      <td id=\"T_a68e2_row5_col2\" class=\"data row5 col2\" >16.998308</td>\n",
       "      <td id=\"T_a68e2_row5_col3\" class=\"data row5 col3\" >8.653415</td>\n",
       "      <td id=\"T_a68e2_row5_col4\" class=\"data row5 col4\" >-842.103511</td>\n",
       "    </tr>\n",
       "    <tr>\n",
       "      <th id=\"T_a68e2_level0_row6\" class=\"row_heading level0 row6\" >ElasticNet Regression</th>\n",
       "      <td id=\"T_a68e2_row6_col0\" class=\"data row6 col0\" >0.007832</td>\n",
       "      <td id=\"T_a68e2_row6_col1\" class=\"data row6 col1\" >21.777715</td>\n",
       "      <td id=\"T_a68e2_row6_col2\" class=\"data row6 col2\" >17.299507</td>\n",
       "      <td id=\"T_a68e2_row6_col3\" class=\"data row6 col3\" >8.732300</td>\n",
       "      <td id=\"T_a68e2_row6_col4\" class=\"data row6 col4\" >-850.957463</td>\n",
       "    </tr>\n",
       "    <tr>\n",
       "      <th id=\"T_a68e2_level0_row7\" class=\"row_heading level0 row7\" >Polynomial Regression Lasso</th>\n",
       "      <td id=\"T_a68e2_row7_col0\" class=\"data row7 col0\" >0.009150</td>\n",
       "      <td id=\"T_a68e2_row7_col1\" class=\"data row7 col1\" >21.763244</td>\n",
       "      <td id=\"T_a68e2_row7_col2\" class=\"data row7 col2\" >17.285450</td>\n",
       "      <td id=\"T_a68e2_row7_col3\" class=\"data row7 col3\" >8.699701</td>\n",
       "      <td id=\"T_a68e2_row7_col4\" class=\"data row7 col4\" >-850.957463</td>\n",
       "    </tr>\n",
       "    <tr>\n",
       "      <th id=\"T_a68e2_level0_row8\" class=\"row_heading level0 row8\" >Polynomial Regression Ridge</th>\n",
       "      <td id=\"T_a68e2_row8_col0\" class=\"data row8 col0\" >0.093171</td>\n",
       "      <td id=\"T_a68e2_row8_col1\" class=\"data row8 col1\" >20.820073</td>\n",
       "      <td id=\"T_a68e2_row8_col2\" class=\"data row8 col2\" >16.471972</td>\n",
       "      <td id=\"T_a68e2_row8_col3\" class=\"data row8 col3\" >8.372689</td>\n",
       "      <td id=\"T_a68e2_row8_col4\" class=\"data row8 col4\" >-814.496897</td>\n",
       "    </tr>\n",
       "    <tr>\n",
       "      <th id=\"T_a68e2_level0_row9\" class=\"row_heading level0 row9\" >Polynomial Regression ElasticNet</th>\n",
       "      <td id=\"T_a68e2_row9_col0\" class=\"data row9 col0\" >0.012833</td>\n",
       "      <td id=\"T_a68e2_row9_col1\" class=\"data row9 col1\" >21.722761</td>\n",
       "      <td id=\"T_a68e2_row9_col2\" class=\"data row9 col2\" >17.244236</td>\n",
       "      <td id=\"T_a68e2_row9_col3\" class=\"data row9 col3\" >8.678786</td>\n",
       "      <td id=\"T_a68e2_row9_col4\" class=\"data row9 col4\" >-850.957463</td>\n",
       "    </tr>\n",
       "    <tr>\n",
       "      <th id=\"T_a68e2_level0_row10\" class=\"row_heading level0 row10\" >XGBoost</th>\n",
       "      <td id=\"T_a68e2_row10_col0\" class=\"data row10 col0\" >0.773570</td>\n",
       "      <td id=\"T_a68e2_row10_col1\" class=\"data row10 col1\" >10.403668</td>\n",
       "      <td id=\"T_a68e2_row10_col2\" class=\"data row10 col2\" >7.681679</td>\n",
       "      <td id=\"T_a68e2_row10_col3\" class=\"data row10 col3\" >3.477982</td>\n",
       "      <td id=\"T_a68e2_row10_col4\" class=\"data row10 col4\" >-851.074089</td>\n",
       "    </tr>\n",
       "  </tbody>\n",
       "</table>\n"
      ],
      "text/plain": [
       "<pandas.io.formats.style.Styler at 0x7fbc786f1160>"
      ]
     },
     "execution_count": 5,
     "metadata": {},
     "output_type": "execute_result"
    }
   ],
   "source": [
    "train_metrics_df = pd.DataFrame({\n",
    "    'Linear Regression': lin_reg_metrics['train'],\n",
    "    'Decision Tree': dt_reg_metrics['train'],\n",
    "    'Random Forest': rf_reg_metrics['train'],\n",
    "    'Polynomial Regression': pol_reg_metrics['train'],\n",
    "    'Lasso Regression': lasso_reg_metrics['train'],\n",
    "    'Ridge Regression': ridge_reg_metrics['train'],\n",
    "    'ElasticNet Regression': elasticnet_reg_metrics['train'],\n",
    "    'Polynomial Regression Lasso': poly_lasso_metrics['train'],\n",
    "    'Polynomial Regression Ridge': poly_ridge_metrics['train'],\n",
    "    'Polynomial Regression ElasticNet': poly_elasticnet_metrics['train'],\n",
    "    'XGBoost': xgb_reg_metrics['train']\n",
    "}).T\n",
    "\n",
    "# Display the DataFrame with a gradient background\n",
    "train_metrics_df.style.background_gradient(cmap='coolwarm')"
   ]
  },
  {
   "cell_type": "markdown",
   "id": "437a84bf-fa0a-4d3c-b71b-29c6cacf6bf5",
   "metadata": {},
   "source": [
    "<div style=\"color:#b40426;\">  \n",
    "    \n",
    "#### On the Validation data\n",
    "</div>"
   ]
  },
  {
   "cell_type": "code",
   "execution_count": 6,
   "id": "bbe5945f-1124-4893-bc49-265e6496fd13",
   "metadata": {
    "execution": {
     "iopub.execute_input": "2024-10-23T11:52:24.682283Z",
     "iopub.status.busy": "2024-10-23T11:52:24.680997Z",
     "iopub.status.idle": "2024-10-23T11:52:24.745690Z",
     "shell.execute_reply": "2024-10-23T11:52:24.743030Z",
     "shell.execute_reply.started": "2024-10-23T11:52:24.682189Z"
    }
   },
   "outputs": [
    {
     "data": {
      "text/html": [
       "<style type=\"text/css\">\n",
       "#T_f656e_row0_col0, #T_f656e_row2_col1, #T_f656e_row2_col2, #T_f656e_row2_col3, #T_f656e_row2_col4, #T_f656e_row4_col0, #T_f656e_row5_col0, #T_f656e_row6_col0 {\n",
       "  background-color: #3b4cc0;\n",
       "  color: #f1f1f1;\n",
       "}\n",
       "#T_f656e_row0_col1, #T_f656e_row0_col2, #T_f656e_row0_col3, #T_f656e_row2_col0, #T_f656e_row3_col4, #T_f656e_row4_col1, #T_f656e_row4_col2, #T_f656e_row4_col3, #T_f656e_row5_col1, #T_f656e_row5_col2, #T_f656e_row5_col3, #T_f656e_row6_col1, #T_f656e_row6_col2, #T_f656e_row6_col3 {\n",
       "  background-color: #b40426;\n",
       "  color: #f1f1f1;\n",
       "}\n",
       "#T_f656e_row0_col4 {\n",
       "  background-color: #dedcdb;\n",
       "  color: #000000;\n",
       "}\n",
       "#T_f656e_row1_col0 {\n",
       "  background-color: #536edd;\n",
       "  color: #f1f1f1;\n",
       "}\n",
       "#T_f656e_row1_col1, #T_f656e_row3_col2, #T_f656e_row7_col2, #T_f656e_row7_col3, #T_f656e_row8_col2, #T_f656e_row8_col3 {\n",
       "  background-color: #cd423b;\n",
       "  color: #f1f1f1;\n",
       "}\n",
       "#T_f656e_row1_col2, #T_f656e_row8_col4, #T_f656e_row9_col1, #T_f656e_row9_col2 {\n",
       "  background-color: #c53334;\n",
       "  color: #f1f1f1;\n",
       "}\n",
       "#T_f656e_row1_col3 {\n",
       "  background-color: #e9785d;\n",
       "  color: #f1f1f1;\n",
       "}\n",
       "#T_f656e_row1_col4 {\n",
       "  background-color: #dcdddd;\n",
       "  color: #000000;\n",
       "}\n",
       "#T_f656e_row3_col0, #T_f656e_row7_col0 {\n",
       "  background-color: #5572df;\n",
       "  color: #f1f1f1;\n",
       "}\n",
       "#T_f656e_row3_col1, #T_f656e_row3_col3 {\n",
       "  background-color: #d0473d;\n",
       "  color: #f1f1f1;\n",
       "}\n",
       "#T_f656e_row4_col4, #T_f656e_row6_col4 {\n",
       "  background-color: #d8dce2;\n",
       "  color: #000000;\n",
       "}\n",
       "#T_f656e_row5_col4 {\n",
       "  background-color: #dfdbd9;\n",
       "  color: #000000;\n",
       "}\n",
       "#T_f656e_row7_col1, #T_f656e_row8_col1 {\n",
       "  background-color: #d1493f;\n",
       "  color: #f1f1f1;\n",
       "}\n",
       "#T_f656e_row7_col4 {\n",
       "  background-color: #d7dce3;\n",
       "  color: #000000;\n",
       "}\n",
       "#T_f656e_row8_col0 {\n",
       "  background-color: #5673e0;\n",
       "  color: #f1f1f1;\n",
       "}\n",
       "#T_f656e_row9_col0 {\n",
       "  background-color: #4a63d3;\n",
       "  color: #f1f1f1;\n",
       "}\n",
       "#T_f656e_row9_col3 {\n",
       "  background-color: #ba162b;\n",
       "  color: #f1f1f1;\n",
       "}\n",
       "#T_f656e_row9_col4, #T_f656e_row10_col4 {\n",
       "  background-color: #d6dce4;\n",
       "  color: #000000;\n",
       "}\n",
       "#T_f656e_row10_col0 {\n",
       "  background-color: #7093f3;\n",
       "  color: #f1f1f1;\n",
       "}\n",
       "#T_f656e_row10_col1 {\n",
       "  background-color: #e57058;\n",
       "  color: #f1f1f1;\n",
       "}\n",
       "#T_f656e_row10_col2, #T_f656e_row10_col3 {\n",
       "  background-color: #dc5d4a;\n",
       "  color: #f1f1f1;\n",
       "}\n",
       "</style>\n",
       "<table id=\"T_f656e\">\n",
       "  <thead>\n",
       "    <tr>\n",
       "      <th class=\"blank level0\" >&nbsp;</th>\n",
       "      <th id=\"T_f656e_level0_col0\" class=\"col_heading level0 col0\" >R²</th>\n",
       "      <th id=\"T_f656e_level0_col1\" class=\"col_heading level0 col1\" >RMSE</th>\n",
       "      <th id=\"T_f656e_level0_col2\" class=\"col_heading level0 col2\" >MAE</th>\n",
       "      <th id=\"T_f656e_level0_col3\" class=\"col_heading level0 col3\" >MAPE</th>\n",
       "      <th id=\"T_f656e_level0_col4\" class=\"col_heading level0 col4\" >MPE</th>\n",
       "    </tr>\n",
       "  </thead>\n",
       "  <tbody>\n",
       "    <tr>\n",
       "      <th id=\"T_f656e_level0_row0\" class=\"row_heading level0 row0\" >Linear Regression</th>\n",
       "      <td id=\"T_f656e_row0_col0\" class=\"data row0 col0\" >0.039925</td>\n",
       "      <td id=\"T_f656e_row0_col1\" class=\"data row0 col1\" >21.411376</td>\n",
       "      <td id=\"T_f656e_row0_col2\" class=\"data row0 col2\" >17.039754</td>\n",
       "      <td id=\"T_f656e_row0_col3\" class=\"data row0 col3\" >8.682542</td>\n",
       "      <td id=\"T_f656e_row0_col4\" class=\"data row0 col4\" >-845.130567</td>\n",
       "    </tr>\n",
       "    <tr>\n",
       "      <th id=\"T_f656e_level0_row1\" class=\"row_heading level0 row1\" >Decision Tree</th>\n",
       "      <td id=\"T_f656e_row1_col0\" class=\"data row1 col0\" >0.063559</td>\n",
       "      <td id=\"T_f656e_row1_col1\" class=\"data row1 col1\" >21.146189</td>\n",
       "      <td id=\"T_f656e_row1_col2\" class=\"data row1 col2\" >16.843452</td>\n",
       "      <td id=\"T_f656e_row1_col3\" class=\"data row1 col3\" >8.395778</td>\n",
       "      <td id=\"T_f656e_row1_col4\" class=\"data row1 col4\" >-845.358267</td>\n",
       "    </tr>\n",
       "    <tr>\n",
       "      <th id=\"T_f656e_level0_row2\" class=\"row_heading level0 row2\" >Random Forest</th>\n",
       "      <td id=\"T_f656e_row2_col0\" class=\"data row2 col0\" >0.341046</td>\n",
       "      <td id=\"T_f656e_row2_col1\" class=\"data row2 col1\" >17.738603</td>\n",
       "      <td id=\"T_f656e_row2_col2\" class=\"data row2 col2\" >12.930304</td>\n",
       "      <td id=\"T_f656e_row2_col3\" class=\"data row2 col3\" >7.033138</td>\n",
       "      <td id=\"T_f656e_row2_col4\" class=\"data row2 col4\" >-858.973067</td>\n",
       "    </tr>\n",
       "    <tr>\n",
       "      <th id=\"T_f656e_level0_row3\" class=\"row_heading level0 row3\" >Polynomial Regression</th>\n",
       "      <td id=\"T_f656e_row3_col0\" class=\"data row3 col0\" >0.066477</td>\n",
       "      <td id=\"T_f656e_row3_col1\" class=\"data row3 col1\" >21.113224</td>\n",
       "      <td id=\"T_f656e_row3_col2\" class=\"data row3 col2\" >16.749939</td>\n",
       "      <td id=\"T_f656e_row3_col3\" class=\"data row3 col3\" >8.547931</td>\n",
       "      <td id=\"T_f656e_row3_col4\" class=\"data row3 col4\" >-831.681766</td>\n",
       "    </tr>\n",
       "    <tr>\n",
       "      <th id=\"T_f656e_level0_row4\" class=\"row_heading level0 row4\" >Lasso Regression</th>\n",
       "      <td id=\"T_f656e_row4_col0\" class=\"data row4 col0\" >0.039925</td>\n",
       "      <td id=\"T_f656e_row4_col1\" class=\"data row4 col1\" >21.411376</td>\n",
       "      <td id=\"T_f656e_row4_col2\" class=\"data row4 col2\" >17.039754</td>\n",
       "      <td id=\"T_f656e_row4_col3\" class=\"data row4 col3\" >8.682542</td>\n",
       "      <td id=\"T_f656e_row4_col4\" class=\"data row4 col4\" >-845.859266</td>\n",
       "    </tr>\n",
       "    <tr>\n",
       "      <th id=\"T_f656e_level0_row5\" class=\"row_heading level0 row5\" >Ridge Regression</th>\n",
       "      <td id=\"T_f656e_row5_col0\" class=\"data row5 col0\" >0.039930</td>\n",
       "      <td id=\"T_f656e_row5_col1\" class=\"data row5 col1\" >21.411324</td>\n",
       "      <td id=\"T_f656e_row5_col2\" class=\"data row5 col2\" >17.039331</td>\n",
       "      <td id=\"T_f656e_row5_col3\" class=\"data row5 col3\" >8.682349</td>\n",
       "      <td id=\"T_f656e_row5_col4\" class=\"data row5 col4\" >-845.113625</td>\n",
       "    </tr>\n",
       "    <tr>\n",
       "      <th id=\"T_f656e_level0_row6\" class=\"row_heading level0 row6\" >ElasticNet Regression</th>\n",
       "      <td id=\"T_f656e_row6_col0\" class=\"data row6 col0\" >0.039925</td>\n",
       "      <td id=\"T_f656e_row6_col1\" class=\"data row6 col1\" >21.411376</td>\n",
       "      <td id=\"T_f656e_row6_col2\" class=\"data row6 col2\" >17.039754</td>\n",
       "      <td id=\"T_f656e_row6_col3\" class=\"data row6 col3\" >8.682542</td>\n",
       "      <td id=\"T_f656e_row6_col4\" class=\"data row6 col4\" >-845.859266</td>\n",
       "    </tr>\n",
       "    <tr>\n",
       "      <th id=\"T_f656e_level0_row7\" class=\"row_heading level0 row7\" >Polynomial Regression Lasso</th>\n",
       "      <td id=\"T_f656e_row7_col0\" class=\"data row7 col0\" >0.066865</td>\n",
       "      <td id=\"T_f656e_row7_col1\" class=\"data row7 col1\" >21.108834</td>\n",
       "      <td id=\"T_f656e_row7_col2\" class=\"data row7 col2\" >16.743548</td>\n",
       "      <td id=\"T_f656e_row7_col3\" class=\"data row7 col3\" >8.561794</td>\n",
       "      <td id=\"T_f656e_row7_col4\" class=\"data row7 col4\" >-845.877173</td>\n",
       "    </tr>\n",
       "    <tr>\n",
       "      <th id=\"T_f656e_level0_row8\" class=\"row_heading level0 row8\" >Polynomial Regression Ridge</th>\n",
       "      <td id=\"T_f656e_row8_col0\" class=\"data row8 col0\" >0.067576</td>\n",
       "      <td id=\"T_f656e_row8_col1\" class=\"data row8 col1\" >21.100792</td>\n",
       "      <td id=\"T_f656e_row8_col2\" class=\"data row8 col2\" >16.738540</td>\n",
       "      <td id=\"T_f656e_row8_col3\" class=\"data row8 col3\" >8.560313</td>\n",
       "      <td id=\"T_f656e_row8_col4\" class=\"data row8 col4\" >-832.965641</td>\n",
       "    </tr>\n",
       "    <tr>\n",
       "      <th id=\"T_f656e_level0_row9\" class=\"row_heading level0 row9\" >Polynomial Regression ElasticNet</th>\n",
       "      <td id=\"T_f656e_row9_col0\" class=\"data row9 col0\" >0.056131</td>\n",
       "      <td id=\"T_f656e_row9_col1\" class=\"data row9 col1\" >21.229892</td>\n",
       "      <td id=\"T_f656e_row9_col2\" class=\"data row9 col2\" >16.831714</td>\n",
       "      <td id=\"T_f656e_row9_col3\" class=\"data row9 col3\" >8.655237</td>\n",
       "      <td id=\"T_f656e_row9_col4\" class=\"data row9 col4\" >-846.060832</td>\n",
       "    </tr>\n",
       "    <tr>\n",
       "      <th id=\"T_f656e_level0_row10\" class=\"row_heading level0 row10\" >XGBoost</th>\n",
       "      <td id=\"T_f656e_row10_col0\" class=\"data row10 col0\" >0.091156</td>\n",
       "      <td id=\"T_f656e_row10_col1\" class=\"data row10 col1\" >20.832278</td>\n",
       "      <td id=\"T_f656e_row10_col2\" class=\"data row10 col2\" >16.553081</td>\n",
       "      <td id=\"T_f656e_row10_col3\" class=\"data row10 col3\" >8.487352</td>\n",
       "      <td id=\"T_f656e_row10_col4\" class=\"data row10 col4\" >-846.024943</td>\n",
       "    </tr>\n",
       "  </tbody>\n",
       "</table>\n"
      ],
      "text/plain": [
       "<pandas.io.formats.style.Styler at 0x7fbc77d5d4f0>"
      ]
     },
     "execution_count": 6,
     "metadata": {},
     "output_type": "execute_result"
    }
   ],
   "source": [
    "validation_metrics_df = pd.DataFrame({\n",
    "    'Linear Regression': lin_reg_metrics['val'],\n",
    "    'Decision Tree': dt_reg_metrics['val'],\n",
    "    'Random Forest': rf_reg_metrics['val'],\n",
    "    'Polynomial Regression': pol_reg_metrics['val'],\n",
    "    'Lasso Regression': lasso_reg_metrics['val'],\n",
    "    'Ridge Regression': ridge_reg_metrics['val'],\n",
    "    'ElasticNet Regression': elasticnet_reg_metrics['val'],\n",
    "    'Polynomial Regression Lasso': poly_lasso_metrics['val'],\n",
    "    'Polynomial Regression Ridge': poly_ridge_metrics['val'],\n",
    "    'Polynomial Regression ElasticNet': poly_elasticnet_metrics['val'],\n",
    "    'XGBoost': xgb_reg_metrics['val']\n",
    "}).T\n",
    "\n",
    "# Display the DataFrame with a gradient background\n",
    "validation_metrics_df.style.background_gradient(cmap='coolwarm')"
   ]
  },
  {
   "cell_type": "markdown",
   "id": "1b18ecb3-5071-4d2f-bf6e-48275eea165c",
   "metadata": {},
   "source": [
    "<div style=\"color:#b40426;\">  \n",
    "    \n",
    "#### On the Test data\n",
    "</div>"
   ]
  },
  {
   "cell_type": "code",
   "execution_count": 81,
   "id": "642c504f-ef38-4c4d-bcf4-a92b35cdbe42",
   "metadata": {
    "execution": {
     "iopub.execute_input": "2024-10-23T17:00:07.053897Z",
     "iopub.status.busy": "2024-10-23T17:00:07.053150Z",
     "iopub.status.idle": "2024-10-23T17:00:07.215663Z",
     "shell.execute_reply": "2024-10-23T17:00:07.147380Z",
     "shell.execute_reply.started": "2024-10-23T17:00:07.053834Z"
    }
   },
   "outputs": [
    {
     "data": {
      "text/html": [
       "<style type=\"text/css\">\n",
       "#T_e4529_row0_col0, #T_e4529_row2_col4, #T_e4529_row4_col0, #T_e4529_row5_col0, #T_e4529_row6_col0, #T_e4529_row10_col1, #T_e4529_row10_col2, #T_e4529_row10_col3 {\n",
       "  background-color: #3b4cc0;\n",
       "  color: #f1f1f1;\n",
       "}\n",
       "#T_e4529_row0_col1, #T_e4529_row0_col2, #T_e4529_row3_col4, #T_e4529_row4_col1, #T_e4529_row4_col2, #T_e4529_row5_col1, #T_e4529_row5_col2, #T_e4529_row6_col1, #T_e4529_row6_col2, #T_e4529_row9_col3, #T_e4529_row10_col0 {\n",
       "  background-color: #b40426;\n",
       "  color: #f1f1f1;\n",
       "}\n",
       "#T_e4529_row0_col3, #T_e4529_row4_col3, #T_e4529_row5_col3, #T_e4529_row6_col3 {\n",
       "  background-color: #b70d28;\n",
       "  color: #f1f1f1;\n",
       "}\n",
       "#T_e4529_row0_col4 {\n",
       "  background-color: #f59d7e;\n",
       "  color: #000000;\n",
       "}\n",
       "#T_e4529_row1_col0 {\n",
       "  background-color: #4c66d6;\n",
       "  color: #f1f1f1;\n",
       "}\n",
       "#T_e4529_row1_col1 {\n",
       "  background-color: #c43032;\n",
       "  color: #f1f1f1;\n",
       "}\n",
       "#T_e4529_row1_col2 {\n",
       "  background-color: #c12b30;\n",
       "  color: #f1f1f1;\n",
       "}\n",
       "#T_e4529_row1_col3 {\n",
       "  background-color: #e46e56;\n",
       "  color: #f1f1f1;\n",
       "}\n",
       "#T_e4529_row1_col4 {\n",
       "  background-color: #a9c6fd;\n",
       "  color: #000000;\n",
       "}\n",
       "#T_e4529_row2_col0, #T_e4529_row2_col1 {\n",
       "  background-color: #e6d7cf;\n",
       "  color: #000000;\n",
       "}\n",
       "#T_e4529_row2_col2 {\n",
       "  background-color: #c3d5f4;\n",
       "  color: #000000;\n",
       "}\n",
       "#T_e4529_row2_col3 {\n",
       "  background-color: #dedcdb;\n",
       "  color: #000000;\n",
       "}\n",
       "#T_e4529_row3_col0, #T_e4529_row8_col0 {\n",
       "  background-color: #4b64d5;\n",
       "  color: #f1f1f1;\n",
       "}\n",
       "#T_e4529_row3_col1, #T_e4529_row8_col1 {\n",
       "  background-color: #cb3e38;\n",
       "  color: #f1f1f1;\n",
       "}\n",
       "#T_e4529_row3_col2, #T_e4529_row7_col2, #T_e4529_row8_col2 {\n",
       "  background-color: #cd423b;\n",
       "  color: #f1f1f1;\n",
       "}\n",
       "#T_e4529_row3_col3, #T_e4529_row7_col3, #T_e4529_row8_col3, #T_e4529_row9_col1 {\n",
       "  background-color: #c0282f;\n",
       "  color: #f1f1f1;\n",
       "}\n",
       "#T_e4529_row4_col4, #T_e4529_row6_col4 {\n",
       "  background-color: #9abbff;\n",
       "  color: #000000;\n",
       "}\n",
       "#T_e4529_row5_col4 {\n",
       "  background-color: #f59f80;\n",
       "  color: #000000;\n",
       "}\n",
       "#T_e4529_row7_col0 {\n",
       "  background-color: #4a63d3;\n",
       "  color: #f1f1f1;\n",
       "}\n",
       "#T_e4529_row7_col1 {\n",
       "  background-color: #ca3b37;\n",
       "  color: #f1f1f1;\n",
       "}\n",
       "#T_e4529_row7_col4, #T_e4529_row9_col4, #T_e4529_row10_col4 {\n",
       "  background-color: #9dbdff;\n",
       "  color: #000000;\n",
       "}\n",
       "#T_e4529_row8_col4 {\n",
       "  background-color: #ba162b;\n",
       "  color: #f1f1f1;\n",
       "}\n",
       "#T_e4529_row9_col0 {\n",
       "  background-color: #3e51c5;\n",
       "  color: #f1f1f1;\n",
       "}\n",
       "#T_e4529_row9_col2 {\n",
       "  background-color: #c32e31;\n",
       "  color: #f1f1f1;\n",
       "}\n",
       "</style>\n",
       "<table id=\"T_e4529\">\n",
       "  <thead>\n",
       "    <tr>\n",
       "      <th class=\"blank level0\" >&nbsp;</th>\n",
       "      <th id=\"T_e4529_level0_col0\" class=\"col_heading level0 col0\" >R²</th>\n",
       "      <th id=\"T_e4529_level0_col1\" class=\"col_heading level0 col1\" >RMSE</th>\n",
       "      <th id=\"T_e4529_level0_col2\" class=\"col_heading level0 col2\" >MAE</th>\n",
       "      <th id=\"T_e4529_level0_col3\" class=\"col_heading level0 col3\" >MAPE</th>\n",
       "      <th id=\"T_e4529_level0_col4\" class=\"col_heading level0 col4\" >MPE</th>\n",
       "    </tr>\n",
       "  </thead>\n",
       "  <tbody>\n",
       "    <tr>\n",
       "      <th id=\"T_e4529_level0_row0\" class=\"row_heading level0 row0\" >Linear Regression</th>\n",
       "      <td id=\"T_e4529_row0_col0\" class=\"data row0 col0\" >0.051166</td>\n",
       "      <td id=\"T_e4529_row0_col1\" class=\"data row0 col1\" >21.493916</td>\n",
       "      <td id=\"T_e4529_row0_col2\" class=\"data row0 col2\" >17.144197</td>\n",
       "      <td id=\"T_e4529_row0_col3\" class=\"data row0 col3\" >8.531355</td>\n",
       "      <td id=\"T_e4529_row0_col4\" class=\"data row0 col4\" >-830.198916</td>\n",
       "    </tr>\n",
       "    <tr>\n",
       "      <th id=\"T_e4529_level0_row1\" class=\"row_heading level0 row1\" >Decision Tree</th>\n",
       "      <td id=\"T_e4529_row1_col0\" class=\"data row1 col0\" >0.090475</td>\n",
       "      <td id=\"T_e4529_row1_col1\" class=\"data row1 col1\" >21.043963</td>\n",
       "      <td id=\"T_e4529_row1_col2\" class=\"data row1 col2\" >16.829781</td>\n",
       "      <td id=\"T_e4529_row1_col3\" class=\"data row1 col3\" >7.883226</td>\n",
       "      <td id=\"T_e4529_row1_col4\" class=\"data row1 col4\" >-847.590999</td>\n",
       "    </tr>\n",
       "    <tr>\n",
       "      <th id=\"T_e4529_level0_row2\" class=\"row_heading level0 row2\" >Random Forest</th>\n",
       "      <td id=\"T_e4529_row2_col0\" class=\"data row2 col0\" >0.407268</td>\n",
       "      <td id=\"T_e4529_row2_col1\" class=\"data row2 col1\" >16.988279</td>\n",
       "      <td id=\"T_e4529_row2_col2\" class=\"data row2 col2\" >12.191284</td>\n",
       "      <td id=\"T_e4529_row2_col3\" class=\"data row2 col3\" >6.317597</td>\n",
       "      <td id=\"T_e4529_row2_col4\" class=\"data row2 col4\" >-861.500903</td>\n",
       "    </tr>\n",
       "    <tr>\n",
       "      <th id=\"T_e4529_level0_row3\" class=\"row_heading level0 row3\" >Polynomial Regression</th>\n",
       "      <td id=\"T_e4529_row3_col0\" class=\"data row3 col0\" >0.088422</td>\n",
       "      <td id=\"T_e4529_row3_col1\" class=\"data row3 col1\" >20.871239</td>\n",
       "      <td id=\"T_e4529_row3_col2\" class=\"data row3 col2\" >16.539643</td>\n",
       "      <td id=\"T_e4529_row3_col3\" class=\"data row3 col3\" >8.422773</td>\n",
       "      <td id=\"T_e4529_row3_col4\" class=\"data row3 col4\" >-819.231428</td>\n",
       "    </tr>\n",
       "    <tr>\n",
       "      <th id=\"T_e4529_level0_row4\" class=\"row_heading level0 row4\" >Lasso Regression</th>\n",
       "      <td id=\"T_e4529_row4_col0\" class=\"data row4 col0\" >0.051166</td>\n",
       "      <td id=\"T_e4529_row4_col1\" class=\"data row4 col1\" >21.493916</td>\n",
       "      <td id=\"T_e4529_row4_col2\" class=\"data row4 col2\" >17.144197</td>\n",
       "      <td id=\"T_e4529_row4_col3\" class=\"data row4 col3\" >8.531355</td>\n",
       "      <td id=\"T_e4529_row4_col4\" class=\"data row4 col4\" >-849.312046</td>\n",
       "    </tr>\n",
       "    <tr>\n",
       "      <th id=\"T_e4529_level0_row5\" class=\"row_heading level0 row5\" >Ridge Regression</th>\n",
       "      <td id=\"T_e4529_row5_col0\" class=\"data row5 col0\" >0.051167</td>\n",
       "      <td id=\"T_e4529_row5_col1\" class=\"data row5 col1\" >21.493899</td>\n",
       "      <td id=\"T_e4529_row5_col2\" class=\"data row5 col2\" >17.143838</td>\n",
       "      <td id=\"T_e4529_row5_col3\" class=\"data row5 col3\" >8.532387</td>\n",
       "      <td id=\"T_e4529_row5_col4\" class=\"data row5 col4\" >-830.304206</td>\n",
       "    </tr>\n",
       "    <tr>\n",
       "      <th id=\"T_e4529_level0_row6\" class=\"row_heading level0 row6\" >ElasticNet Regression</th>\n",
       "      <td id=\"T_e4529_row6_col0\" class=\"data row6 col0\" >0.051166</td>\n",
       "      <td id=\"T_e4529_row6_col1\" class=\"data row6 col1\" >21.493916</td>\n",
       "      <td id=\"T_e4529_row6_col2\" class=\"data row6 col2\" >17.144197</td>\n",
       "      <td id=\"T_e4529_row6_col3\" class=\"data row6 col3\" >8.531355</td>\n",
       "      <td id=\"T_e4529_row6_col4\" class=\"data row6 col4\" >-849.312046</td>\n",
       "    </tr>\n",
       "    <tr>\n",
       "      <th id=\"T_e4529_level0_row7\" class=\"row_heading level0 row7\" >Polynomial Regression Lasso</th>\n",
       "      <td id=\"T_e4529_row7_col0\" class=\"data row7 col0\" >0.087269</td>\n",
       "      <td id=\"T_e4529_row7_col1\" class=\"data row7 col1\" >20.884443</td>\n",
       "      <td id=\"T_e4529_row7_col2\" class=\"data row7 col2\" >16.551554</td>\n",
       "      <td id=\"T_e4529_row7_col3\" class=\"data row7 col3\" >8.438347</td>\n",
       "      <td id=\"T_e4529_row7_col4\" class=\"data row7 col4\" >-848.964704</td>\n",
       "    </tr>\n",
       "    <tr>\n",
       "      <th id=\"T_e4529_level0_row8\" class=\"row_heading level0 row8\" >Polynomial Regression Ridge</th>\n",
       "      <td id=\"T_e4529_row8_col0\" class=\"data row8 col0\" >0.088282</td>\n",
       "      <td id=\"T_e4529_row8_col1\" class=\"data row8 col1\" >20.872846</td>\n",
       "      <td id=\"T_e4529_row8_col2\" class=\"data row8 col2\" >16.541497</td>\n",
       "      <td id=\"T_e4529_row8_col3\" class=\"data row8 col3\" >8.428238</td>\n",
       "      <td id=\"T_e4529_row8_col4\" class=\"data row8 col4\" >-819.956160</td>\n",
       "    </tr>\n",
       "    <tr>\n",
       "      <th id=\"T_e4529_level0_row9\" class=\"row_heading level0 row9\" >Polynomial Regression ElasticNet</th>\n",
       "      <td id=\"T_e4529_row9_col0\" class=\"data row9 col0\" >0.061275</td>\n",
       "      <td id=\"T_e4529_row9_col1\" class=\"data row9 col1\" >21.179742</td>\n",
       "      <td id=\"T_e4529_row9_col2\" class=\"data row9 col2\" >16.802161</td>\n",
       "      <td id=\"T_e4529_row9_col3\" class=\"data row9 col3\" >8.582713</td>\n",
       "      <td id=\"T_e4529_row9_col4\" class=\"data row9 col4\" >-848.964704</td>\n",
       "    </tr>\n",
       "    <tr>\n",
       "      <th id=\"T_e4529_level0_row10\" class=\"row_heading level0 row10\" >XGBoost</th>\n",
       "      <td id=\"T_e4529_row10_col0\" class=\"data row10 col0\" >0.711824</td>\n",
       "      <td id=\"T_e4529_row10_col1\" class=\"data row10 col1\" >11.734932</td>\n",
       "      <td id=\"T_e4529_row10_col2\" class=\"data row10 col2\" >8.797682</td>\n",
       "      <td id=\"T_e4529_row10_col3\" class=\"data row10 col3\" >4.008056</td>\n",
       "      <td id=\"T_e4529_row10_col4\" class=\"data row10 col4\" >-849.053015</td>\n",
       "    </tr>\n",
       "  </tbody>\n",
       "</table>\n"
      ],
      "text/plain": [
       "<pandas.io.formats.style.Styler at 0x7fbc768b35c0>"
      ]
     },
     "execution_count": 81,
     "metadata": {},
     "output_type": "execute_result"
    }
   ],
   "source": [
    "test_metrics_df = pd.DataFrame({\n",
    "    'Linear Regression': lin_reg_metrics['test'],\n",
    "    'Decision Tree': dt_reg_metrics['test'],\n",
    "    'Random Forest': rf_reg_metrics['test'],\n",
    "    'Polynomial Regression': pol_reg_metrics['test'],\n",
    "    'Lasso Regression': lasso_reg_metrics['test'],\n",
    "    'Ridge Regression': ridge_reg_metrics['test'],\n",
    "    'ElasticNet Regression': elasticnet_reg_metrics['test'],\n",
    "    'Polynomial Regression Lasso': poly_lasso_metrics['test'],\n",
    "    'Polynomial Regression Ridge': poly_ridge_metrics['test'],\n",
    "    'Polynomial Regression ElasticNet': poly_elasticnet_metrics['test'],\n",
    "    'XGBoost': xgb_reg_metrics['test']\n",
    "}).T\n",
    "\n",
    "# Display the DataFrame with a gradient background\n",
    "test_metrics_df.style.background_gradient(cmap='coolwarm')"
   ]
  },
  {
   "cell_type": "markdown",
   "id": "52632b01-a415-4ff8-aa6b-374137cd33ee",
   "metadata": {},
   "source": [
    "<div style=\"color:#55040d;\">  \n",
    "\n",
    "## Visualizing Predictive Accuracy: A Closer Look at the XGBoost Model\n",
    "</div>\n",
    "\n",
    "To better understand the performance of our **XGBoost model**, we've created a scatter plot that visualizes the relationship between the **actual song popularity** (x-axis) and the **popularity predicted by the model** (y-axis). We chose to focus on the XGBoost model due to its outstanding performance across multiple metrics, achieving the highest R-squared value of **0.712**, the lowest RMSE of **11.735**, and a remarkably low MAPE of **4.008** compared to the other regression algorithms we explored. \n",
    "\n",
    "This performance highlights XGBoost's capability to capture complex relationships within the data, making it the most effective model for predicting song popularity in our analysis."
   ]
  },
  {
   "cell_type": "code",
   "execution_count": 99,
   "id": "628ed3e2-6d7e-454b-bfa2-4d97c558f13e",
   "metadata": {
    "execution": {
     "iopub.execute_input": "2024-10-23T22:33:35.565095Z",
     "iopub.status.busy": "2024-10-23T22:33:35.550014Z",
     "iopub.status.idle": "2024-10-23T22:33:38.561334Z",
     "shell.execute_reply": "2024-10-23T22:33:38.559439Z",
     "shell.execute_reply.started": "2024-10-23T22:33:35.565051Z"
    }
   },
   "outputs": [
    {
     "data": {
      "image/png": "[encoded data removed]",
      "text/plain": [
       "<Figure size 1600x1200 with 4 Axes>"
      ]
     },
     "metadata": {},
     "output_type": "display_data"
    }
   ],
   "source": [
    "# Fit the XGBoost model and predict\n",
    "xgb_model.fit(X_train_val, y_train_val)\n",
    "y_pred = xgb_model.predict(X_test)\n",
    "\n",
    "# Assuming y_test is a DataFrame and contains the 'song_popularity' column\n",
    "y_test_values = y_test['song_popularity'].values\n",
    "\n",
    "# Calculate residuals\n",
    "residuals = y_test_values - y_pred\n",
    "\n",
    "# Create subplots\n",
    "fig, axs = plt.subplots(2, 2, figsize=(16, 12))\n",
    "plt.subplots_adjust(hspace=2, wspace=1)  # Increase vertical and horizontal spacing\n",
    "fig.suptitle('XGBoost Model Evaluation', fontsize=16)\n",
    "\n",
    "# Plot 1: Actual vs Predicted\n",
    "axs[0, 0].scatter(y_test_values, y_pred, alpha=0.5)\n",
    "axs[0, 0].plot([min(y_test_values), max(y_test_values)], \n",
    "               [min(y_test_values), max(y_test_values)], \n",
    "               '--', color='red', label='Perfect Prediction')\n",
    "axs[0, 0].set_title('XGBoost: Actual vs. Predicted Song Popularity', fontsize=14)\n",
    "axs[0, 0].set_xlabel('Actual Popularity', fontsize=12)\n",
    "axs[0, 0].set_ylabel('Predicted Popularity', fontsize=12)\n",
    "axs[0, 0].legend(fontsize=10)\n",
    "\n",
    "# Plot 2: Residuals vs Predicted Values\n",
    "axs[0, 1].scatter(y_pred, residuals, alpha=0.5)\n",
    "axs[0, 1].axhline(0, color='red', linestyle='--', label='Zero Residual Line')\n",
    "axs[0, 1].set_title('Residuals vs Predicted Values', fontsize=14)\n",
    "axs[0, 1].set_xlabel('Predicted Values', fontsize=12)\n",
    "axs[0, 1].set_ylabel('Residuals', fontsize=12)\n",
    "axs[0, 1].legend(fontsize=10)\n",
    "\n",
    "# Plot 3: Distribution of Errors\n",
    "axs[1, 0].hist(residuals, bins=30, edgecolor='k', alpha=0.7)\n",
    "axs[1, 0].axvline(0, color='red', linestyle='--', label='Zero Error Line')\n",
    "axs[1, 0].set_title('Distribution of Errors', fontsize=14)\n",
    "axs[1, 0].set_xlabel('Error', fontsize=12)\n",
    "axs[1, 0].set_ylabel('Frequency', fontsize=12)\n",
    "axs[1, 0].legend(fontsize=10)\n",
    "\n",
    "# Plot 4: Feature Importance\n",
    "feature_names = X_test.columns.tolist()\n",
    "xgb.plot_importance(\n",
    "    xgb_model,\n",
    "    title='Feature Importance',\n",
    "    xlabel='Importance Score',\n",
    "    ylabel='Features',\n",
    "    importance_type='weight',\n",
    "    height=0.5,\n",
    "    ax=axs[1, 1]\n",
    ")\n",
    "plt.yticks(ticks=range(len(feature_names)), labels=feature_names)\n",
    "axs[1, 1].yaxis.set_ticks_position('none')  # Remove y ticks\n",
    "axs[1, 1].grid(False)  # Remove grid lines\n",
    "\n",
    "# Adjust layout for spacing\n",
    "plt.tight_layout(rect=[0, 0.03, 1, 0.95])  # Adjust layout to make room for the title\n",
    "plt.show()"
   ]
  },
  {
   "cell_type": "markdown",
   "id": "075a64b8-62a2-4631-a1a0-d8341ad6626e",
   "metadata": {},
   "source": [
    "### XGBoost Model Evaluation: Key Insights\n",
    "\n",
    "#### 1. Actual vs. Predicted Song Popularity\n",
    "\n",
    "* **Strong Predictive Capability:** The XGBoost model effectively captures the relationship between song features and popularity. The data points generally align closely with the red dashed \"perfect prediction\" line, indicating high accuracy in the model's forecasts.\n",
    "\n",
    "* **Concentration of Accuracy:** Predictions are particularly robust for songs with popularity scores between **40 and 80**. The higher density of points in this range demonstrates the model's strength in identifying popular tracks.\n",
    "\n",
    "* **Complexity of Popularity Factors:** The model's ability to predict song popularity reflects the multifaceted nature of the music industry. While the model leverages musical features, factors such as marketing, social media engagement, and cultural trends also play critical roles in a song's success, contributing to the observed variability in predictions.\n",
    "\n",
    "---\n",
    "\n",
    "#### 2. Residuals vs. Predicted Values\n",
    "\n",
    "* **Consistent Error Distribution:** Residuals are primarily centered around zero, suggesting stability in predictions. However, there is a trend of larger errors occurring at higher predicted values, indicating potential challenges in forecasting extremely popular songs.\n",
    "\n",
    "* **Need for Contextual Consideration:** The variability in residuals underscores the importance of considering external factors, especially for songs expected to achieve significant popularity. \n",
    "\n",
    "---\n",
    "\n",
    "#### 3. Distribution of Errors\n",
    "\n",
    "* **Predominant Small Errors:** The histogram indicates that the majority of prediction errors are small, reinforcing the model's overall accuracy. This is encouraging for stakeholders relying on the model for decision-making.\n",
    "\n",
    "* **Presence of Larger Errors:** Although most errors are minor, the existence of some larger discrepancies suggests areas for improvement in the model, particularly for songs with extreme popularity scores.\n",
    "\n",
    "---\n",
    "\n",
    "#### 4. Feature Importance: Unlocking the Drivers of Song Popularity\n",
    "The feature importance plot derived from our **XGBoost model** unveils critical insights into the factors influencing a song's popularity:\n",
    "\n",
    "> * **Audio Valence is Key:** The most significant predictor is **audio valence**, indicating that songs with a more positive emotional tone tend to perform better. This aligns with audience preferences for uplifting music.\n",
    ">     * **Action:** Artists should focus on creating music that resonates emotionally with listeners, emphasizing positivity and upbeat themes.\n",
    "\n",
    "> * **Tempo and Time Signature Matter:** **Tempo** and **time signature** are also critical factors, suggesting that songs with engaging rhythms and appropriate tempos enhance their appeal to listeners.\n",
    ">     * **Action:** Producers should experiment with different tempos and rhythmic structures to find the most engaging combinations for their target audience.\n",
    "\n",
    "> * **Loudness is Influential:** **Loudness** plays a substantial role, likely due to the prevalence of loudness normalization in streaming platforms, which makes louder tracks more prominent and engaging.\n",
    ">     * **Action:** Mastering engineers should carefully consider loudness levels to maximize impact, ensuring tracks stand out in playlists.\n",
    "\n",
    "> * **Other Features Show Varying Impact:** Features like **danceability**, **liveness**, and **energy** also contribute, but their importance varies. These features may enhance a song's appeal, particularly in specific genres.\n",
    ">     * **Action:** Further investigation into how these features interact with audience preferences can provide valuable insights for targeted marketing strategies.\n",
    "\n",
    "---\n",
    "\n",
    "### Key Takeaways:\n",
    "\n",
    "* **1. Talent Discovery:** Use the model to identify and support promising artists and songs with above-average predicted popularity, allowing teams to invest in future hits.\n",
    "\n",
    "* **2. Playlist Optimization:** Enhance streaming platforms by curating playlists that feature songs with high predicted popularity, aligning with listener moods and preferences.\n",
    "\n",
    "* **3. Smarter Marketing:** Labels and artists can benefit from our insights by focusing their marketing efforts on songs with the greatest predicted potential for success. This ensures resources are allocated strategically for maximum impact. \n",
    "\n",
    "* **4.  Beyond Musical Features:** We can further refine our predictions by incorporating social media engagement metrics, sentiment analysis from reviews, and marketing campaign data.\n"
   ]
  },
  {
   "cell_type": "markdown",
   "id": "d04dcc7d-9eba-4499-a463-5cedcf18e51a",
   "metadata": {},
   "source": [
    "<div style=\"background:linear-gradient(to right, #2b040d, #5a040d); color:white; padding: 10px; width:100%;\">\n",
    "  \n",
    "# 5. Conclusion: Hit Potential, Unlocked. Insights from Predicting Song Popularity – And a Look Ahead\n",
    "</div>\n",
    "\n",
    "<div style=\"background:linear-gradient(to right, #f4f4f9, #ecedf7); color:black; font-size:14px; padding: 10px; width:100%;\">\n",
    "    <br>\n",
    "Our deep dive into the world of regression algorithms has yielded valuable insights, illuminating the path towards predicting song popularity with a data-driven edge. While achieving perfect prediction remains elusive – reflecting the inherent complexity of musical taste – our analysis reveals a clear winner in the XGBoost model and paves the way for strategic decision-making in the music industry.\n",
    "\n",
    "<br>\n",
    "\n",
    "<div style=\"color:#55040d; font-size:24px; margin: 20px 0px; font-weight: bold\"> Key Findings:</div>\n",
    "\n",
    "* <span style=\"color:#3f51b5; font-size:14px;font-weight: bold\">XGBoost Shines Bright:</span> Our analysis highlighted XGBoost as a superior model, achieving an impressive **R² of 0.711** on the test data, indicating that approximately 71% of the variability in song popularity can be explained by the features we analyzed. This substantial score, combined with a **RMSE of 11.73** and a **MAPE of 4.01%**, suggests that XGBoost delivers robust predictions about a song's potential to resonate with listeners.\n",
    "\n",
    "* <span style=\"color:#3f51b5; font-size:14px;font-weight: bold\">Emotional and Rhythmic Elements are Key:</span> The analysis of feature importance highlights that **audio valence** is the leading predictor of song popularity, emphasizing the critical role of emotional appeal in music. **Tempo** and **time signature** also rank highly, suggesting that engaging rhythms significantly enhance listener enjoyment and engagement. These insights guide artists and producers to focus on crafting songs that resonate emotionally and rhythmically with their audience.\n",
    "\n",
    "* <span style=\"color:#3f51b5; font-size:14px;font-weight: bold\">From Insights to Action – And Beyond:</span> These findings offer exciting possibilities for Data Money and our clients. Imagine empowering talent scouts to identify promising artists early on, not just through intuition but backed by data-informed predictions that emphasize the importance of emotional resonance and rhythmic engagement.\n",
    "\n",
    "    - **But we're not stopping there.** We recognize that predicting song popularity is not an exact science. Our analysis underscores the influence of external factors beyond the musical features currently analyzed. Moving forward, we’ll actively pursue model refinement by incorporating social media trends, marketing data, and expert reviews to provide an even more holistic view of the factors driving song popularity. We'll also continuously explore new algorithms and techniques, ensuring we're always pushing the boundaries of predictive accuracy and delivering cutting-edge insights to our clients.\n",
    "\n",
    "This journey into song popularity prediction has underscored the power of data-driven decision-making in the music industry. By embracing advanced analytics and collaborating closely with our clients, **Data Money** is poised to *unlock new opportunities and shape the future of musical success*. \n",
    "\n",
    "</div>\n"
   ]
  },
  {
   "cell_type": "code",
   "execution_count": null,
   "id": "fdd4827d-ce5f-436b-8023-eea6f8c45a41",
   "metadata": {},
   "outputs": [],
   "source": []
  }
 ],
 "metadata": {
  "kernelspec": {
   "display_name": "Python 3 (ipykernel)",
   "language": "python",
   "name": "python3"
  },
  "language_info": {
   "codemirror_mode": {
    "name": "ipython",
    "version": 3
   },
   "file_extension": ".py",
   "mimetype": "text/x-python",
   "name": "python",
   "nbconvert_exporter": "python",
   "pygments_lexer": "ipython3",
   "version": "3.12.4"
  }
 },
 "nbformat": 4,
 "nbformat_minor": 5
}
