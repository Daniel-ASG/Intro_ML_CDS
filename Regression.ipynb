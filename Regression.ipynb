{
 "cells": [
  {
   "cell_type": "markdown",
   "id": "e13a767d-f0e2-4555-aa6a-f031bfa1af38",
   "metadata": {},
   "source": [
    "# Data Money Company "
   ]
  },
  {
   "cell_type": "markdown",
   "id": "0e26a684-e5e7-4023-b729-e93de57541aa",
   "metadata": {},
   "source": [
    "The company Data Money provides Analysis and Data Science consulting services to large companies in Brazil and abroad.\n",
    "Its main market differentiator in relation to competitors is the high financial return for client companies, thanks to the performance of its Machine Learning algorithms.\n",
    "Data Money believes that the expertise in training and fine-tuning algorithms, carried out by the company's Data Scientists, is the main reason for the excellent results that the consultancies have been delivering to their clients.\n",
    "\n",
    "To continue growing the team's expertise, Data Scientists believe that it is extremely important to carry out tests on Machine Learning algorithms to acquire more and more experience on how they work and in which scenarios the performances are maximum and minimum, so that the choice of algorithm for each situation is the most correct possible.\n",
    "\n",
    "As a newly hired Data Scientist for the company, your main task will be to carry out 3 trials with Classification, Regression and Clustering algorithms, in order to extract insights into how they work in certain scenarios and be able to convey this knowledge to the rest of the team."
   ]
  },
  {
   "cell_type": "markdown",
   "id": "0584ba91-1040-44f5-a3e3-c0d4465c5e1c",
   "metadata": {},
   "source": [
    "# 0 - Imports"
   ]
  },
  {
   "cell_type": "code",
   "execution_count": 16,
   "id": "d0237b66-1b61-4452-9752-16af484901b6",
   "metadata": {},
   "outputs": [],
   "source": [
    "import pandas            as pd\n",
    "import numpy             as np\n",
    "import matplotlib.pyplot as plt\n",
    "import plotly.graph_objs as go\n",
    "import statsmodels.api   as sm\n",
    "\n",
    "from sklearn.tree            import DecisionTreeRegressor\n",
    "from sklearn.ensemble        import RandomForestRegressor\n",
    "from sklearn.linear_model    import LinearRegression, Lasso, Ridge, ElasticNet\n",
    "from sklearn.metrics         import (r2_score, mean_squared_error, root_mean_squared_error, mean_absolute_error, \n",
    "                                     mean_absolute_percentage_error)\n",
    "from sklearn.preprocessing   import PolynomialFeatures\n",
    "from sklearn.model_selection import GridSearchCV, ParameterGrid\n",
    "from sklearn.pipeline        import Pipeline\n",
    "\n",
    "import warnings\n",
    "warnings.filterwarnings(\"ignore\")\n",
    "warnings.filterwarnings('ignore', category=UserWarning, module='numpy')"
   ]
  },
  {
   "cell_type": "markdown",
   "id": "ff5e7515-b007-4be4-9335-e07123d8280c",
   "metadata": {},
   "source": [
    "# 1 - Loading data"
   ]
  },
  {
   "cell_type": "code",
   "execution_count": 2,
   "id": "d9c0d869-31e4-442c-b61b-8371c4aa9bc2",
   "metadata": {},
   "outputs": [],
   "source": [
    "X_train = pd.read_csv('Data/Regression/X_training.csv')\n",
    "y_train = pd.read_csv('Data/Regression/y_training.csv')\n",
    "\n",
    "X_val   = pd.read_csv('Data/Regression/X_validation.csv')\n",
    "y_val   = pd.read_csv('Data/Regression/y_val.csv')\n",
    "\n",
    "X_test  = pd.read_csv('Data/Regression/X_test.csv')\n",
    "y_test  = pd.read_csv('Data/Regression/y_test.csv')"
   ]
  },
  {
   "cell_type": "markdown",
   "id": "77cf1ce6-655c-4021-8911-67ce946e1999",
   "metadata": {},
   "source": [
    "# 2 - EDA"
   ]
  },
  {
   "cell_type": "code",
   "execution_count": 3,
   "id": "a7d6847b-51a3-4d7a-9fa5-446f7cde14e6",
   "metadata": {},
   "outputs": [
    {
     "data": {
      "text/html": [
       "<div>\n",
       "<style scoped>\n",
       "    .dataframe tbody tr th:only-of-type {\n",
       "        vertical-align: middle;\n",
       "    }\n",
       "\n",
       "    .dataframe tbody tr th {\n",
       "        vertical-align: top;\n",
       "    }\n",
       "\n",
       "    .dataframe thead th {\n",
       "        text-align: right;\n",
       "    }\n",
       "</style>\n",
       "<table border=\"1\" class=\"dataframe\">\n",
       "  <thead>\n",
       "    <tr style=\"text-align: right;\">\n",
       "      <th></th>\n",
       "      <th>song_duration_ms</th>\n",
       "      <th>acousticness</th>\n",
       "      <th>danceability</th>\n",
       "      <th>energy</th>\n",
       "      <th>instrumentalness</th>\n",
       "      <th>key</th>\n",
       "      <th>liveness</th>\n",
       "      <th>loudness</th>\n",
       "      <th>audio_mode</th>\n",
       "      <th>speechiness</th>\n",
       "      <th>tempo</th>\n",
       "      <th>time_signature</th>\n",
       "      <th>audio_valence</th>\n",
       "    </tr>\n",
       "  </thead>\n",
       "  <tbody>\n",
       "    <tr>\n",
       "      <th>0</th>\n",
       "      <td>0.205673</td>\n",
       "      <td>0.092100</td>\n",
       "      <td>0.720</td>\n",
       "      <td>0.802</td>\n",
       "      <td>0.000000</td>\n",
       "      <td>0.090909</td>\n",
       "      <td>0.694</td>\n",
       "      <td>0.431778</td>\n",
       "      <td>1</td>\n",
       "      <td>0.0582</td>\n",
       "      <td>0.103876</td>\n",
       "      <td>0.8</td>\n",
       "      <td>0.723</td>\n",
       "    </tr>\n",
       "    <tr>\n",
       "      <th>1</th>\n",
       "      <td>-0.240409</td>\n",
       "      <td>0.737000</td>\n",
       "      <td>0.483</td>\n",
       "      <td>0.412</td>\n",
       "      <td>0.000000</td>\n",
       "      <td>0.636364</td>\n",
       "      <td>0.116</td>\n",
       "      <td>-0.262732</td>\n",
       "      <td>1</td>\n",
       "      <td>0.0402</td>\n",
       "      <td>1.711532</td>\n",
       "      <td>0.6</td>\n",
       "      <td>0.247</td>\n",
       "    </tr>\n",
       "    <tr>\n",
       "      <th>2</th>\n",
       "      <td>-0.125770</td>\n",
       "      <td>0.274000</td>\n",
       "      <td>0.671</td>\n",
       "      <td>0.565</td>\n",
       "      <td>0.000065</td>\n",
       "      <td>1.000000</td>\n",
       "      <td>0.370</td>\n",
       "      <td>0.013612</td>\n",
       "      <td>0</td>\n",
       "      <td>0.1600</td>\n",
       "      <td>1.009176</td>\n",
       "      <td>0.8</td>\n",
       "      <td>0.561</td>\n",
       "    </tr>\n",
       "    <tr>\n",
       "      <th>3</th>\n",
       "      <td>-0.580967</td>\n",
       "      <td>0.002340</td>\n",
       "      <td>0.704</td>\n",
       "      <td>0.529</td>\n",
       "      <td>0.874000</td>\n",
       "      <td>1.000000</td>\n",
       "      <td>0.370</td>\n",
       "      <td>-0.266382</td>\n",
       "      <td>0</td>\n",
       "      <td>0.0416</td>\n",
       "      <td>0.666173</td>\n",
       "      <td>0.8</td>\n",
       "      <td>0.507</td>\n",
       "    </tr>\n",
       "    <tr>\n",
       "      <th>4</th>\n",
       "      <td>-0.688566</td>\n",
       "      <td>0.000414</td>\n",
       "      <td>0.354</td>\n",
       "      <td>0.910</td>\n",
       "      <td>0.205000</td>\n",
       "      <td>0.090909</td>\n",
       "      <td>0.456</td>\n",
       "      <td>0.422914</td>\n",
       "      <td>1</td>\n",
       "      <td>0.0430</td>\n",
       "      <td>1.182630</td>\n",
       "      <td>0.8</td>\n",
       "      <td>0.362</td>\n",
       "    </tr>\n",
       "  </tbody>\n",
       "</table>\n",
       "</div>"
      ],
      "text/plain": [
       "   song_duration_ms  acousticness  danceability  energy  instrumentalness  \\\n",
       "0          0.205673      0.092100         0.720   0.802          0.000000   \n",
       "1         -0.240409      0.737000         0.483   0.412          0.000000   \n",
       "2         -0.125770      0.274000         0.671   0.565          0.000065   \n",
       "3         -0.580967      0.002340         0.704   0.529          0.874000   \n",
       "4         -0.688566      0.000414         0.354   0.910          0.205000   \n",
       "\n",
       "        key  liveness  loudness  audio_mode  speechiness     tempo  \\\n",
       "0  0.090909     0.694  0.431778           1       0.0582  0.103876   \n",
       "1  0.636364     0.116 -0.262732           1       0.0402  1.711532   \n",
       "2  1.000000     0.370  0.013612           0       0.1600  1.009176   \n",
       "3  1.000000     0.370 -0.266382           0       0.0416  0.666173   \n",
       "4  0.090909     0.456  0.422914           1       0.0430  1.182630   \n",
       "\n",
       "   time_signature  audio_valence  \n",
       "0             0.8          0.723  \n",
       "1             0.6          0.247  \n",
       "2             0.8          0.561  \n",
       "3             0.8          0.507  \n",
       "4             0.8          0.362  "
      ]
     },
     "execution_count": 3,
     "metadata": {},
     "output_type": "execute_result"
    }
   ],
   "source": [
    "X_train.head()"
   ]
  },
  {
   "cell_type": "code",
   "execution_count": 4,
   "id": "ab60fdab-f040-4d6a-a852-3bcbc20ab9a4",
   "metadata": {},
   "outputs": [
    {
     "data": {
      "text/html": [
       "<div>\n",
       "<style scoped>\n",
       "    .dataframe tbody tr th:only-of-type {\n",
       "        vertical-align: middle;\n",
       "    }\n",
       "\n",
       "    .dataframe tbody tr th {\n",
       "        vertical-align: top;\n",
       "    }\n",
       "\n",
       "    .dataframe thead th {\n",
       "        text-align: right;\n",
       "    }\n",
       "</style>\n",
       "<table border=\"1\" class=\"dataframe\">\n",
       "  <thead>\n",
       "    <tr style=\"text-align: right;\">\n",
       "      <th></th>\n",
       "      <th>song_duration_ms</th>\n",
       "      <th>acousticness</th>\n",
       "      <th>danceability</th>\n",
       "      <th>energy</th>\n",
       "      <th>instrumentalness</th>\n",
       "      <th>key</th>\n",
       "      <th>liveness</th>\n",
       "      <th>loudness</th>\n",
       "      <th>audio_mode</th>\n",
       "      <th>speechiness</th>\n",
       "      <th>tempo</th>\n",
       "      <th>time_signature</th>\n",
       "      <th>audio_valence</th>\n",
       "    </tr>\n",
       "  </thead>\n",
       "  <tbody>\n",
       "    <tr>\n",
       "      <th>count</th>\n",
       "      <td>1.054700e+04</td>\n",
       "      <td>10547.000000</td>\n",
       "      <td>10547.000000</td>\n",
       "      <td>10547.000000</td>\n",
       "      <td>10547.000000</td>\n",
       "      <td>10547.000000</td>\n",
       "      <td>10547.000000</td>\n",
       "      <td>1.054700e+04</td>\n",
       "      <td>10547.000000</td>\n",
       "      <td>10547.000000</td>\n",
       "      <td>1.054700e+04</td>\n",
       "      <td>10547.000000</td>\n",
       "      <td>10547.000000</td>\n",
       "    </tr>\n",
       "    <tr>\n",
       "      <th>mean</th>\n",
       "      <td>5.995857e-17</td>\n",
       "      <td>0.259502</td>\n",
       "      <td>0.633974</td>\n",
       "      <td>0.645438</td>\n",
       "      <td>0.079089</td>\n",
       "      <td>0.483196</td>\n",
       "      <td>0.180416</td>\n",
       "      <td>2.489291e-16</td>\n",
       "      <td>0.627098</td>\n",
       "      <td>0.100937</td>\n",
       "      <td>-9.499054e-17</td>\n",
       "      <td>0.791581</td>\n",
       "      <td>0.529879</td>\n",
       "    </tr>\n",
       "    <tr>\n",
       "      <th>std</th>\n",
       "      <td>1.000047e+00</td>\n",
       "      <td>0.290173</td>\n",
       "      <td>0.156223</td>\n",
       "      <td>0.214348</td>\n",
       "      <td>0.222818</td>\n",
       "      <td>0.327242</td>\n",
       "      <td>0.144705</td>\n",
       "      <td>1.000047e+00</td>\n",
       "      <td>0.483599</td>\n",
       "      <td>0.103352</td>\n",
       "      <td>1.000047e+00</td>\n",
       "      <td>0.060822</td>\n",
       "      <td>0.244461</td>\n",
       "    </tr>\n",
       "    <tr>\n",
       "      <th>min</th>\n",
       "      <td>-3.553790e+00</td>\n",
       "      <td>0.000001</td>\n",
       "      <td>0.000000</td>\n",
       "      <td>0.001070</td>\n",
       "      <td>0.000000</td>\n",
       "      <td>0.000000</td>\n",
       "      <td>0.015700</td>\n",
       "      <td>-7.632256e+00</td>\n",
       "      <td>0.000000</td>\n",
       "      <td>0.000000</td>\n",
       "      <td>-4.220028e+00</td>\n",
       "      <td>0.000000</td>\n",
       "      <td>0.000000</td>\n",
       "    </tr>\n",
       "    <tr>\n",
       "      <th>25%</th>\n",
       "      <td>-5.810364e-01</td>\n",
       "      <td>0.024600</td>\n",
       "      <td>0.533000</td>\n",
       "      <td>0.512000</td>\n",
       "      <td>0.000000</td>\n",
       "      <td>0.181818</td>\n",
       "      <td>0.092700</td>\n",
       "      <td>-4.243671e-01</td>\n",
       "      <td>0.000000</td>\n",
       "      <td>0.037850</td>\n",
       "      <td>-7.756112e-01</td>\n",
       "      <td>0.800000</td>\n",
       "      <td>0.336000</td>\n",
       "    </tr>\n",
       "    <tr>\n",
       "      <th>50%</th>\n",
       "      <td>-1.146491e-01</td>\n",
       "      <td>0.132000</td>\n",
       "      <td>0.645000</td>\n",
       "      <td>0.675000</td>\n",
       "      <td>0.000011</td>\n",
       "      <td>0.454545</td>\n",
       "      <td>0.122000</td>\n",
       "      <td>2.346876e-01</td>\n",
       "      <td>1.000000</td>\n",
       "      <td>0.055200</td>\n",
       "      <td>-3.656695e-02</td>\n",
       "      <td>0.800000</td>\n",
       "      <td>0.532000</td>\n",
       "    </tr>\n",
       "    <tr>\n",
       "      <th>75%</th>\n",
       "      <td>4.224443e-01</td>\n",
       "      <td>0.432000</td>\n",
       "      <td>0.748000</td>\n",
       "      <td>0.815000</td>\n",
       "      <td>0.002835</td>\n",
       "      <td>0.727273</td>\n",
       "      <td>0.224000</td>\n",
       "      <td>6.609353e-01</td>\n",
       "      <td>1.000000</td>\n",
       "      <td>0.116000</td>\n",
       "      <td>6.566737e-01</td>\n",
       "      <td>0.800000</td>\n",
       "      <td>0.727000</td>\n",
       "    </tr>\n",
       "    <tr>\n",
       "      <th>max</th>\n",
       "      <td>1.969099e+01</td>\n",
       "      <td>0.996000</td>\n",
       "      <td>0.987000</td>\n",
       "      <td>0.999000</td>\n",
       "      <td>0.989000</td>\n",
       "      <td>1.000000</td>\n",
       "      <td>0.984000</td>\n",
       "      <td>2.292930e+00</td>\n",
       "      <td>1.000000</td>\n",
       "      <td>0.941000</td>\n",
       "      <td>4.226719e+00</td>\n",
       "      <td>1.000000</td>\n",
       "      <td>0.982000</td>\n",
       "    </tr>\n",
       "  </tbody>\n",
       "</table>\n",
       "</div>"
      ],
      "text/plain": [
       "       song_duration_ms  acousticness  danceability        energy  \\\n",
       "count      1.054700e+04  10547.000000  10547.000000  10547.000000   \n",
       "mean       5.995857e-17      0.259502      0.633974      0.645438   \n",
       "std        1.000047e+00      0.290173      0.156223      0.214348   \n",
       "min       -3.553790e+00      0.000001      0.000000      0.001070   \n",
       "25%       -5.810364e-01      0.024600      0.533000      0.512000   \n",
       "50%       -1.146491e-01      0.132000      0.645000      0.675000   \n",
       "75%        4.224443e-01      0.432000      0.748000      0.815000   \n",
       "max        1.969099e+01      0.996000      0.987000      0.999000   \n",
       "\n",
       "       instrumentalness           key      liveness      loudness  \\\n",
       "count      10547.000000  10547.000000  10547.000000  1.054700e+04   \n",
       "mean           0.079089      0.483196      0.180416  2.489291e-16   \n",
       "std            0.222818      0.327242      0.144705  1.000047e+00   \n",
       "min            0.000000      0.000000      0.015700 -7.632256e+00   \n",
       "25%            0.000000      0.181818      0.092700 -4.243671e-01   \n",
       "50%            0.000011      0.454545      0.122000  2.346876e-01   \n",
       "75%            0.002835      0.727273      0.224000  6.609353e-01   \n",
       "max            0.989000      1.000000      0.984000  2.292930e+00   \n",
       "\n",
       "         audio_mode   speechiness         tempo  time_signature  audio_valence  \n",
       "count  10547.000000  10547.000000  1.054700e+04    10547.000000   10547.000000  \n",
       "mean       0.627098      0.100937 -9.499054e-17        0.791581       0.529879  \n",
       "std        0.483599      0.103352  1.000047e+00        0.060822       0.244461  \n",
       "min        0.000000      0.000000 -4.220028e+00        0.000000       0.000000  \n",
       "25%        0.000000      0.037850 -7.756112e-01        0.800000       0.336000  \n",
       "50%        1.000000      0.055200 -3.656695e-02        0.800000       0.532000  \n",
       "75%        1.000000      0.116000  6.566737e-01        0.800000       0.727000  \n",
       "max        1.000000      0.941000  4.226719e+00        1.000000       0.982000  "
      ]
     },
     "execution_count": 4,
     "metadata": {},
     "output_type": "execute_result"
    }
   ],
   "source": [
    "X_train.describe()"
   ]
  },
  {
   "cell_type": "code",
   "execution_count": 5,
   "id": "da6c3dc4-7228-486d-bb9d-ebc0419c1800",
   "metadata": {},
   "outputs": [
    {
     "name": "stdout",
     "output_type": "stream",
     "text": [
      "<class 'pandas.core.frame.DataFrame'>\n",
      "RangeIndex: 10547 entries, 0 to 10546\n",
      "Data columns (total 13 columns):\n",
      " #   Column            Non-Null Count  Dtype  \n",
      "---  ------            --------------  -----  \n",
      " 0   song_duration_ms  10547 non-null  float64\n",
      " 1   acousticness      10547 non-null  float64\n",
      " 2   danceability      10547 non-null  float64\n",
      " 3   energy            10547 non-null  float64\n",
      " 4   instrumentalness  10547 non-null  float64\n",
      " 5   key               10547 non-null  float64\n",
      " 6   liveness          10547 non-null  float64\n",
      " 7   loudness          10547 non-null  float64\n",
      " 8   audio_mode        10547 non-null  int64  \n",
      " 9   speechiness       10547 non-null  float64\n",
      " 10  tempo             10547 non-null  float64\n",
      " 11  time_signature    10547 non-null  float64\n",
      " 12  audio_valence     10547 non-null  float64\n",
      "dtypes: float64(12), int64(1)\n",
      "memory usage: 1.0 MB\n"
     ]
    }
   ],
   "source": [
    "X_train.info()"
   ]
  },
  {
   "cell_type": "code",
   "execution_count": 6,
   "id": "e637e84a-353c-412d-80d8-d88183e9d5cb",
   "metadata": {
    "scrolled": true
   },
   "outputs": [
    {
     "data": {
      "text/html": [
       "<div>\n",
       "<style scoped>\n",
       "    .dataframe tbody tr th:only-of-type {\n",
       "        vertical-align: middle;\n",
       "    }\n",
       "\n",
       "    .dataframe tbody tr th {\n",
       "        vertical-align: top;\n",
       "    }\n",
       "\n",
       "    .dataframe thead th {\n",
       "        text-align: right;\n",
       "    }\n",
       "</style>\n",
       "<table border=\"1\" class=\"dataframe\">\n",
       "  <thead>\n",
       "    <tr style=\"text-align: right;\">\n",
       "      <th></th>\n",
       "      <th>song_popularity</th>\n",
       "    </tr>\n",
       "  </thead>\n",
       "  <tbody>\n",
       "    <tr>\n",
       "      <th>0</th>\n",
       "      <td>79.0</td>\n",
       "    </tr>\n",
       "    <tr>\n",
       "      <th>1</th>\n",
       "      <td>86.0</td>\n",
       "    </tr>\n",
       "    <tr>\n",
       "      <th>2</th>\n",
       "      <td>63.0</td>\n",
       "    </tr>\n",
       "    <tr>\n",
       "      <th>3</th>\n",
       "      <td>25.0</td>\n",
       "    </tr>\n",
       "    <tr>\n",
       "      <th>4</th>\n",
       "      <td>35.0</td>\n",
       "    </tr>\n",
       "  </tbody>\n",
       "</table>\n",
       "</div>"
      ],
      "text/plain": [
       "   song_popularity\n",
       "0             79.0\n",
       "1             86.0\n",
       "2             63.0\n",
       "3             25.0\n",
       "4             35.0"
      ]
     },
     "execution_count": 6,
     "metadata": {},
     "output_type": "execute_result"
    }
   ],
   "source": [
    "y_train.head()"
   ]
  },
  {
   "cell_type": "markdown",
   "id": "8177d754-97ae-42a6-97d7-83bfb492f141",
   "metadata": {},
   "source": [
    "# 3 - Model Training"
   ]
  },
  {
   "cell_type": "code",
   "execution_count": 3,
   "id": "92838bcd-2ede-44d9-807c-3379832e9704",
   "metadata": {},
   "outputs": [],
   "source": [
    "def calculate_metrics(y_true, y_pred):\n",
    "    \"\"\"Calculate and return regression metrics \"\"\"\n",
    "    r2   =                             r2_score(y_true, y_pred)\n",
    "    mse  =             float(mean_squared_error(y_true, y_pred))\n",
    "    rmse =        float(root_mean_squared_error(y_true, y_pred))\n",
    "    mae  =            float(mean_absolute_error(y_true, y_pred))\n",
    "    mape = float(mean_absolute_percentage_error(y_true, y_pred))\n",
    "    \n",
    "    return {\n",
    "        'R²': r2,\n",
    "        'MSE': mse,\n",
    "        'RMSE': rmse,\n",
    "        'MAE': mae,\n",
    "        'MAPE': mape\n",
    "    }\n",
    "\n",
    "X_train_val = np.concatenate((X_train, X_val))\n",
    "y_train_val = np.concatenate((y_train, y_val))"
   ]
  },
  {
   "cell_type": "markdown",
   "id": "2d3578a1-23e9-4a81-956b-d9efeef5d1d4",
   "metadata": {},
   "source": [
    "## 3.1 -  Linear Regression"
   ]
  },
  {
   "cell_type": "markdown",
   "id": "3876df30-9b67-4cb7-8c5f-3fe5ba28c482",
   "metadata": {},
   "source": [
    "### 3.1.1 - Training"
   ]
  },
  {
   "cell_type": "code",
   "execution_count": 4,
   "id": "81df5cfc-d672-4ee2-8ba6-3ea314fe1ac2",
   "metadata": {},
   "outputs": [
    {
     "data": {
      "text/plain": [
       "{'R²': 0.04605830473391903,\n",
       " 'MSE': 455.99611182562677,\n",
       " 'RMSE': 21.35406546364478,\n",
       " 'MAE': 16.998249066011095,\n",
       " 'MAPE': 8.653185943804512}"
      ]
     },
     "execution_count": 4,
     "metadata": {},
     "output_type": "execute_result"
    }
   ],
   "source": [
    "# Definition\n",
    "lin_reg_model = LinearRegression()\n",
    "\n",
    "# Training\n",
    "lin_reg_model.fit(X_train, y_train)\n",
    "\n",
    "# Performance\n",
    "yhat_train = lin_reg_model.predict(X_train)\n",
    "lin_reg_train_metrics = calculate_metrics(y_train, yhat_train)\n",
    "lin_reg_train_metrics"
   ]
  },
  {
   "cell_type": "markdown",
   "id": "c8276d40-adc6-4397-b4cf-1964874adf1c",
   "metadata": {},
   "source": [
    "Just for the sake of comparison, the regression was calculated using statsmodels to show the results in a different way"
   ]
  },
  {
   "cell_type": "code",
   "execution_count": 5,
   "id": "2dbef5eb-5191-474b-9298-1ca8f96038d2",
   "metadata": {},
   "outputs": [
    {
     "name": "stdout",
     "output_type": "stream",
     "text": [
      "                            OLS Regression Results                            \n",
      "==============================================================================\n",
      "Dep. Variable:        song_popularity   R-squared:                       0.046\n",
      "Model:                            OLS   Adj. R-squared:                  0.045\n",
      "Method:                 Least Squares   F-statistic:                     39.12\n",
      "Date:                Fri, 23 Aug 2024   Prob (F-statistic):           6.61e-98\n",
      "Time:                        09:53:05   Log-Likelihood:                -47252.\n",
      "No. Observations:               10547   AIC:                         9.453e+04\n",
      "Df Residuals:                   10533   BIC:                         9.463e+04\n",
      "Df Model:                          13                                         \n",
      "Covariance Type:            nonrobust                                         \n",
      "====================================================================================\n",
      "                       coef    std err          t      P>|t|      [0.025      0.975]\n",
      "------------------------------------------------------------------------------------\n",
      "const               53.5322      3.193     16.766      0.000      47.274      59.791\n",
      "song_duration_ms    -0.2005      0.214     -0.938      0.348      -0.619       0.218\n",
      "acousticness        -3.6570      1.013     -3.611      0.000      -5.642      -1.672\n",
      "danceability        13.5683      1.593      8.517      0.000      10.446      16.691\n",
      "energy             -10.0883      1.888     -5.345      0.000     -13.788      -6.388\n",
      "instrumentalness    -9.9299      1.047     -9.486      0.000     -11.982      -7.878\n",
      "key                 -0.8697      0.648     -1.343      0.179      -2.140       0.400\n",
      "liveness            -4.8554      1.473     -3.296      0.001      -7.743      -1.968\n",
      "loudness             2.4942      0.359      6.946      0.000       1.790       3.198\n",
      "audio_mode          -0.2228      0.444     -0.502      0.616      -1.094       0.648\n",
      "speechiness         -1.7716      2.120     -0.836      0.403      -5.928       2.385\n",
      "tempo               -0.3980      0.215     -1.854      0.064      -0.819       0.023\n",
      "time_signature       7.3148      3.497      2.092      0.036       0.460      14.170\n",
      "audio_valence       -9.4682      1.006     -9.416      0.000     -11.439      -7.497\n",
      "==============================================================================\n",
      "Omnibus:                      571.618   Durbin-Watson:                   1.987\n",
      "Prob(Omnibus):                  0.000   Jarque-Bera (JB):              668.792\n",
      "Skew:                          -0.616   Prob(JB):                    5.94e-146\n",
      "Kurtosis:                       2.935   Cond. No.                         41.0\n",
      "==============================================================================\n",
      "\n",
      "Notes:\n",
      "[1] Standard Errors assume that the covariance matrix of the errors is correctly specified.\n"
     ]
    }
   ],
   "source": [
    "# Definition\n",
    "model_lin_reg = sm.OLS(y_train, sm.add_constant(X_train))\n",
    "\n",
    "# Training\n",
    "results = model_lin_reg.fit()\n",
    "\n",
    "print(results.summary())"
   ]
  },
  {
   "cell_type": "markdown",
   "id": "0329b81e-3793-43b7-9334-bd525d5bdbfe",
   "metadata": {},
   "source": [
    "### 3.1.2 - Validation"
   ]
  },
  {
   "cell_type": "code",
   "execution_count": 6,
   "id": "4c26ba7f-98fb-4c6b-883c-5a3aa9a48ee6",
   "metadata": {},
   "outputs": [
    {
     "data": {
      "text/plain": [
       "{'R²': 0.03992483038154071,\n",
       " 'MSE': 458.4470418439312,\n",
       " 'RMSE': 21.41137645841414,\n",
       " 'MAE': 17.039753759960327,\n",
       " 'MAPE': 8.682541883735295}"
      ]
     },
     "execution_count": 6,
     "metadata": {},
     "output_type": "execute_result"
    }
   ],
   "source": [
    "# Training\n",
    "lin_reg_model.fit(X_train, y_train)\n",
    "\n",
    "# Performance\n",
    "yhat_val = lin_reg_model.predict(X_val)\n",
    "lin_reg_val_metrics = calculate_metrics(y_val, yhat_val)\n",
    "lin_reg_val_metrics"
   ]
  },
  {
   "cell_type": "markdown",
   "id": "0cb5f910-da4f-4176-af76-207d61cc102c",
   "metadata": {},
   "source": [
    "### 3.1.3 - Test"
   ]
  },
  {
   "cell_type": "code",
   "execution_count": 7,
   "id": "b19ceeb9-d991-40ce-9ebf-969257540e77",
   "metadata": {},
   "outputs": [
    {
     "data": {
      "text/plain": [
       "{'R²': 0.05116551777115064,\n",
       " 'MSE': 461.9884353525593,\n",
       " 'RMSE': 21.4939162404751,\n",
       " 'MAE': 17.144197086987703,\n",
       " 'MAPE': 8.531355027820084}"
      ]
     },
     "execution_count": 7,
     "metadata": {},
     "output_type": "execute_result"
    }
   ],
   "source": [
    "# Training\n",
    "lin_reg_model.fit(X_train_val, y_train_val)\n",
    "\n",
    "# Performance\n",
    "yhat_test = lin_reg_model.predict(X_test)\n",
    "lin_reg_test_metrics = calculate_metrics(y_test, yhat_test)\n",
    "lin_reg_test_metrics"
   ]
  },
  {
   "cell_type": "markdown",
   "id": "ed44c4f4-36cf-4802-88ad-998e4275f96e",
   "metadata": {},
   "source": [
    "### 3.1.4 - Results"
   ]
  },
  {
   "cell_type": "code",
   "execution_count": 8,
   "id": "27cf4aa7-f9ee-4e29-8891-e5f688d1bb1b",
   "metadata": {},
   "outputs": [
    {
     "data": {
      "text/html": [
       "<div>\n",
       "<style scoped>\n",
       "    .dataframe tbody tr th:only-of-type {\n",
       "        vertical-align: middle;\n",
       "    }\n",
       "\n",
       "    .dataframe tbody tr th {\n",
       "        vertical-align: top;\n",
       "    }\n",
       "\n",
       "    .dataframe thead th {\n",
       "        text-align: right;\n",
       "    }\n",
       "</style>\n",
       "<table border=\"1\" class=\"dataframe\">\n",
       "  <thead>\n",
       "    <tr style=\"text-align: right;\">\n",
       "      <th></th>\n",
       "      <th>R²</th>\n",
       "      <th>MSE</th>\n",
       "      <th>RMSE</th>\n",
       "      <th>MAE</th>\n",
       "      <th>MAPE</th>\n",
       "    </tr>\n",
       "  </thead>\n",
       "  <tbody>\n",
       "    <tr>\n",
       "      <th>train</th>\n",
       "      <td>0.046058</td>\n",
       "      <td>455.996112</td>\n",
       "      <td>21.354065</td>\n",
       "      <td>16.998249</td>\n",
       "      <td>8.653186</td>\n",
       "    </tr>\n",
       "    <tr>\n",
       "      <th>val</th>\n",
       "      <td>0.039925</td>\n",
       "      <td>458.447042</td>\n",
       "      <td>21.411376</td>\n",
       "      <td>17.039754</td>\n",
       "      <td>8.682542</td>\n",
       "    </tr>\n",
       "    <tr>\n",
       "      <th>test</th>\n",
       "      <td>0.051166</td>\n",
       "      <td>461.988435</td>\n",
       "      <td>21.493916</td>\n",
       "      <td>17.144197</td>\n",
       "      <td>8.531355</td>\n",
       "    </tr>\n",
       "  </tbody>\n",
       "</table>\n",
       "</div>"
      ],
      "text/plain": [
       "             R²         MSE       RMSE        MAE      MAPE\n",
       "train  0.046058  455.996112  21.354065  16.998249  8.653186\n",
       "val    0.039925  458.447042  21.411376  17.039754  8.682542\n",
       "test   0.051166  461.988435  21.493916  17.144197  8.531355"
      ]
     },
     "execution_count": 8,
     "metadata": {},
     "output_type": "execute_result"
    }
   ],
   "source": [
    "lin_reg_metrics = pd.DataFrame({\n",
    "    'train': lin_reg_train_metrics,\n",
    "    'val': lin_reg_val_metrics,\n",
    "    'test': lin_reg_test_metrics\n",
    "})\n",
    "\n",
    "lin_reg_metrics = lin_reg_metrics.T\n",
    "lin_reg_metrics"
   ]
  },
  {
   "cell_type": "markdown",
   "id": "c2117b95-c047-4f04-bdcc-a4241adf963e",
   "metadata": {},
   "source": [
    "## 3.2 -  Decision Tree Regressor"
   ]
  },
  {
   "cell_type": "markdown",
   "id": "267ec8bf-28b0-488c-820d-c6d2de697178",
   "metadata": {},
   "source": [
    "### 3.2.1 - Training"
   ]
  },
  {
   "cell_type": "code",
   "execution_count": 9,
   "id": "fa708d75-0474-40b1-bc64-c0644d801365",
   "metadata": {},
   "outputs": [
    {
     "data": {
      "text/plain": [
       "{'R²': 0.9917566957405923,\n",
       " 'MSE': 3.940402971731975,\n",
       " 'RMSE': 1.9850448286454327,\n",
       " 'MAE': 0.21409852496986279,\n",
       " 'MAPE': 0.08262787375974134}"
      ]
     },
     "execution_count": 9,
     "metadata": {},
     "output_type": "execute_result"
    }
   ],
   "source": [
    "# Definition\n",
    "dt_reg_model = DecisionTreeRegressor(random_state=0)\n",
    "\n",
    "# Training\n",
    "dt_reg_model.fit(X_train, y_train)\n",
    "\n",
    "# Performance\n",
    "yhat_train = dt_reg_model.predict(X_train)\n",
    "dt_reg_train_metrics = calculate_metrics(y_train, yhat_train)\n",
    "dt_reg_train_metrics"
   ]
  },
  {
   "cell_type": "markdown",
   "id": "f0a401ed-00d8-44ae-b9cf-a5fecab6b362",
   "metadata": {},
   "source": [
    "### 3.2.2 - Validation"
   ]
  },
  {
   "cell_type": "code",
   "execution_count": 11,
   "id": "e88e976c-782c-4678-98c9-94cd5edd0590",
   "metadata": {},
   "outputs": [
    {
     "name": "stdout",
     "output_type": "stream",
     "text": [
      "max_depth tested:  1  2  3  4  5  6  7  8  9  10  11  12  13  14  15  16  17  18  19  20  21  22  23  24  25  26  27  28  29  30  31  32  33  34  35  "
     ]
    },
    {
     "data": {
      "image/png": "[encoded data removed]",
      "text/plain": [
       "<Figure size 1000x600 with 1 Axes>"
      ]
     },
     "metadata": {},
     "output_type": "display_data"
    },
    {
     "name": "stdout",
     "output_type": "stream",
     "text": [
      "Best max_depth: 5\n",
      "{'R²': 0.06355927779643322, 'MSE': 447.1613187611445, 'RMSE': 21.146189225511637, 'MAE': 16.843451865846713, 'MAPE': 8.395778483246199}\n"
     ]
    }
   ],
   "source": [
    "max_depth_range = range(1,36,1)\n",
    "dt_reg_val_metrics = {i: None for i in max_depth_range}\n",
    "\n",
    "print('max_depth tested:', end='  ')\n",
    "for d in max_depth_range:\n",
    "\n",
    "    # Definition\n",
    "    dt_reg_model = DecisionTreeRegressor(random_state=0, max_depth=d)\n",
    "    \n",
    "    # Training\n",
    "    dt_reg_model.fit(X_train, y_train)\n",
    "    \n",
    "    # Performance\n",
    "    yhat_val = dt_reg_model.predict(X_val)\n",
    "    dt_reg_val_metrics_d = calculate_metrics(y_val, yhat_val)\n",
    "    dt_reg_val_metrics_d\n",
    "\n",
    "    # Storing metrics in the dictionary\n",
    "    dt_reg_val_metrics[d] = {\n",
    "        'metrics': dt_reg_val_metrics_d\n",
    "    }\n",
    "\n",
    "    print(f'{d}', end='  ')\n",
    "\n",
    "evaluated_metrics = [metrics['metrics']['R²'] for metrics in dt_reg_val_metrics.values()]\n",
    "\n",
    "plt.figure(figsize=(10, 6))\n",
    "plt.plot(max_depth_range, evaluated_metrics, marker='o')\n",
    "plt.xlabel('Max Depth')\n",
    "plt.ylabel('R²')\n",
    "plt.title('R² vs Max Depth')\n",
    "plt.grid(True)\n",
    "plt.show()\n",
    "\n",
    "dt_reg_best_max_depth = max(dt_reg_val_metrics, key=lambda k: dt_reg_val_metrics[k]['metrics']['R²'])\n",
    "dt_reg_val_metrics = dt_reg_val_metrics[dt_reg_best_max_depth]['metrics']\n",
    "print(f'Best max_depth: {dt_reg_best_max_depth}')\n",
    "print(dt_reg_val_metrics)"
   ]
  },
  {
   "cell_type": "markdown",
   "id": "c682fe50-ecb6-446a-9352-55944ce59be5",
   "metadata": {},
   "source": [
    "### 3.2.3 - Test"
   ]
  },
  {
   "cell_type": "code",
   "execution_count": 12,
   "id": "8bdbbf73-b91d-47eb-8e35-2f466164b9f7",
   "metadata": {},
   "outputs": [
    {
     "data": {
      "text/plain": [
       "{'R²': 0.09047547149696622,\n",
       " 'MSE': 442.84838052138286,\n",
       " 'RMSE': 21.043963042197703,\n",
       " 'MAE': 16.82978094998882,\n",
       " 'MAPE': 7.883226145162679}"
      ]
     },
     "execution_count": 12,
     "metadata": {},
     "output_type": "execute_result"
    }
   ],
   "source": [
    "# Definition\n",
    "dt_reg_model = DecisionTreeRegressor(random_state=0, max_depth=dt_reg_best_max_depth)\n",
    "\n",
    "# Training\n",
    "dt_reg_model.fit(X_train_val, y_train_val)\n",
    "\n",
    "# Performance\n",
    "yhat_test = dt_reg_model.predict(X_test)\n",
    "dt_reg_test_metrics = calculate_metrics(y_test, yhat_test)\n",
    "dt_reg_test_metrics"
   ]
  },
  {
   "cell_type": "markdown",
   "id": "eeb1b578-a508-4120-9b54-9c1696e78321",
   "metadata": {},
   "source": [
    "### 3.2.4 - Results"
   ]
  },
  {
   "cell_type": "code",
   "execution_count": 13,
   "id": "70828a3a-a483-4db7-ac94-770039c5b2e4",
   "metadata": {},
   "outputs": [
    {
     "data": {
      "text/html": [
       "<div>\n",
       "<style scoped>\n",
       "    .dataframe tbody tr th:only-of-type {\n",
       "        vertical-align: middle;\n",
       "    }\n",
       "\n",
       "    .dataframe tbody tr th {\n",
       "        vertical-align: top;\n",
       "    }\n",
       "\n",
       "    .dataframe thead th {\n",
       "        text-align: right;\n",
       "    }\n",
       "</style>\n",
       "<table border=\"1\" class=\"dataframe\">\n",
       "  <thead>\n",
       "    <tr style=\"text-align: right;\">\n",
       "      <th></th>\n",
       "      <th>R²</th>\n",
       "      <th>MSE</th>\n",
       "      <th>RMSE</th>\n",
       "      <th>MAE</th>\n",
       "      <th>MAPE</th>\n",
       "    </tr>\n",
       "  </thead>\n",
       "  <tbody>\n",
       "    <tr>\n",
       "      <th>train</th>\n",
       "      <td>0.991757</td>\n",
       "      <td>3.940403</td>\n",
       "      <td>1.985045</td>\n",
       "      <td>0.214099</td>\n",
       "      <td>0.082628</td>\n",
       "    </tr>\n",
       "    <tr>\n",
       "      <th>val</th>\n",
       "      <td>0.063559</td>\n",
       "      <td>447.161319</td>\n",
       "      <td>21.146189</td>\n",
       "      <td>16.843452</td>\n",
       "      <td>8.395778</td>\n",
       "    </tr>\n",
       "    <tr>\n",
       "      <th>test</th>\n",
       "      <td>0.090475</td>\n",
       "      <td>442.848381</td>\n",
       "      <td>21.043963</td>\n",
       "      <td>16.829781</td>\n",
       "      <td>7.883226</td>\n",
       "    </tr>\n",
       "  </tbody>\n",
       "</table>\n",
       "</div>"
      ],
      "text/plain": [
       "             R²         MSE       RMSE        MAE      MAPE\n",
       "train  0.991757    3.940403   1.985045   0.214099  0.082628\n",
       "val    0.063559  447.161319  21.146189  16.843452  8.395778\n",
       "test   0.090475  442.848381  21.043963  16.829781  7.883226"
      ]
     },
     "execution_count": 13,
     "metadata": {},
     "output_type": "execute_result"
    }
   ],
   "source": [
    "dt_reg_metrics = pd.DataFrame({\n",
    "    'train': dt_reg_train_metrics,\n",
    "    'val': dt_reg_val_metrics,\n",
    "    'test': dt_reg_test_metrics\n",
    "})\n",
    "\n",
    "dt_reg_metrics = dt_reg_metrics.T\n",
    "dt_reg_metrics"
   ]
  },
  {
   "cell_type": "markdown",
   "id": "784159a7-2d0b-47e8-8baa-a6058026db05",
   "metadata": {},
   "source": [
    "## 3.3 -  Random Forest Regressor"
   ]
  },
  {
   "cell_type": "markdown",
   "id": "3dd447df-77d4-4503-8b68-18f7e5f901b0",
   "metadata": {},
   "source": [
    "### 3.3.1 - Training"
   ]
  },
  {
   "cell_type": "code",
   "execution_count": 14,
   "id": "6d907114-5191-448b-a8c2-eb640155f26e",
   "metadata": {},
   "outputs": [
    {
     "data": {
      "text/plain": [
       "{'R²': 0.9028168842467658,\n",
       " 'MSE': 46.45474994801846,\n",
       " 'RMSE': 6.815772146134175,\n",
       " 'MAE': 4.860772578122971,\n",
       " 'MAPE': 2.5779585497476467}"
      ]
     },
     "execution_count": 14,
     "metadata": {},
     "output_type": "execute_result"
    }
   ],
   "source": [
    "# Definition\n",
    "rf_reg_model = RandomForestRegressor(random_state=0)\n",
    "\n",
    "# Training\n",
    "rf_reg_model.fit(X_train, y_train)\n",
    "\n",
    "# Performance\n",
    "yhat_train = rf_reg_model.predict(X_train)\n",
    "rf_reg_train_metrics = calculate_metrics(y_train, yhat_train)\n",
    "rf_reg_train_metrics"
   ]
  },
  {
   "cell_type": "markdown",
   "id": "2a5cda2f-375b-4f57-a596-f98340de2433",
   "metadata": {},
   "source": [
    "### 3.3.2 - Validation"
   ]
  },
  {
   "cell_type": "code",
   "execution_count": 30,
   "id": "9fcc6473-c2ca-4881-ae6b-3123f14810e7",
   "metadata": {
    "scrolled": true
   },
   "outputs": [
    {
     "name": "stdout",
     "output_type": "stream",
     "text": [
      "\n",
      "Best parameters: {'max_depth': 34, 'n_estimators': 600}\n",
      "Metrics on the validation set:\n",
      "{'R²': 0.34104629968710454, 'MSE': 314.65804364111835, 'RMSE': 17.738603204342734, 'MAE': 12.930303888184845, 'MAPE': 7.033137554926378}\n"
     ]
    }
   ],
   "source": [
    "# Define the parameter grid\n",
    "param_grid = {\n",
    "    'n_estimators': range(400, 801, 200),\n",
    "    'max_depth': range(33, 36, 1)\n",
    "}\n",
    "\n",
    "# Initialize variables to store the best results\n",
    "rf_reg_best_score  = -float('inf')\n",
    "rf_reg_best_params = None\n",
    "rf_reg_best_model  = None\n",
    "\n",
    "# Iterate over all combinations of parameters\n",
    "for params in ParameterGrid(param_grid):\n",
    "    # Create and train the model with the current parameters\n",
    "    model = RandomForestRegressor(random_state=0, **params)\n",
    "    model.fit(X_train, y_train)\n",
    "    \n",
    "    # Predict on the validation set\n",
    "    yhat_val = model.predict(X_val)\n",
    "    \n",
    "    # Calculate the R² score\n",
    "    score = r2_score(y_val, yhat_val)\n",
    "    \n",
    "    # Update the best score, parameters, and model if the current model is better\n",
    "    if score > rf_reg_best_score:\n",
    "        rf_reg_best_score  = score\n",
    "        rf_reg_best_params = params\n",
    "        rf_reg_best_model  = model\n",
    "\n",
    "# Output the best parameters and metrics\n",
    "print(f'\\nBest parameters: {best_params}')\n",
    "\n",
    "# Calculate and print metrics on the validation set using the best model\n",
    "rf_reg_val_metrics = calculate_metrics(y_val, rf_reg_best_model.predict(X_val))\n",
    "print('Metrics on the validation set:')\n",
    "print(rf_reg_val_metrics)\n"
   ]
  },
  {
   "cell_type": "markdown",
   "id": "fff47686-e96e-4b25-9954-ff5463cd7371",
   "metadata": {},
   "source": [
    "### 3.3.3 - Test"
   ]
  },
  {
   "cell_type": "code",
   "execution_count": 33,
   "id": "1447f65b-965c-4818-996b-6f14e0eee8d4",
   "metadata": {},
   "outputs": [
    {
     "data": {
      "text/plain": [
       "{'R²': 0.407268371434819,\n",
       " 'MSE': 288.6016083875375,\n",
       " 'RMSE': 16.988278558686794,\n",
       " 'MAE': 12.191283580226564,\n",
       " 'MAPE': 6.317597012337652}"
      ]
     },
     "execution_count": 33,
     "metadata": {},
     "output_type": "execute_result"
    }
   ],
   "source": [
    "# Definition\n",
    "rf_reg_model = RandomForestRegressor(random_state=0, \n",
    "                                     n_estimators=best_params['n_estimators'],\n",
    "                                     max_depth=best_params['max_depth'])\n",
    "\n",
    "# Training\n",
    "rf_reg_model.fit(X_train_val, y_train_val)\n",
    "\n",
    "# Performance\n",
    "yhat_test = rf_reg_model.predict(X_test)\n",
    "rf_reg_test_metrics = calculate_metrics(y_test, yhat_test)\n",
    "rf_reg_test_metrics"
   ]
  },
  {
   "cell_type": "markdown",
   "id": "0883e09e-7f13-4067-9dc5-d3814721cb35",
   "metadata": {},
   "source": [
    "### 3.3.4 - Results"
   ]
  },
  {
   "cell_type": "code",
   "execution_count": 34,
   "id": "700d4e4c-950f-4a16-9ce0-94a8ceaca237",
   "metadata": {},
   "outputs": [
    {
     "data": {
      "text/html": [
       "<div>\n",
       "<style scoped>\n",
       "    .dataframe tbody tr th:only-of-type {\n",
       "        vertical-align: middle;\n",
       "    }\n",
       "\n",
       "    .dataframe tbody tr th {\n",
       "        vertical-align: top;\n",
       "    }\n",
       "\n",
       "    .dataframe thead th {\n",
       "        text-align: right;\n",
       "    }\n",
       "</style>\n",
       "<table border=\"1\" class=\"dataframe\">\n",
       "  <thead>\n",
       "    <tr style=\"text-align: right;\">\n",
       "      <th></th>\n",
       "      <th>R²</th>\n",
       "      <th>MSE</th>\n",
       "      <th>RMSE</th>\n",
       "      <th>MAE</th>\n",
       "      <th>MAPE</th>\n",
       "    </tr>\n",
       "  </thead>\n",
       "  <tbody>\n",
       "    <tr>\n",
       "      <th>train</th>\n",
       "      <td>0.902817</td>\n",
       "      <td>46.454750</td>\n",
       "      <td>6.815772</td>\n",
       "      <td>4.860773</td>\n",
       "      <td>2.577959</td>\n",
       "    </tr>\n",
       "    <tr>\n",
       "      <th>val</th>\n",
       "      <td>0.341046</td>\n",
       "      <td>314.658044</td>\n",
       "      <td>17.738603</td>\n",
       "      <td>12.930304</td>\n",
       "      <td>7.033138</td>\n",
       "    </tr>\n",
       "    <tr>\n",
       "      <th>test</th>\n",
       "      <td>0.407268</td>\n",
       "      <td>288.601608</td>\n",
       "      <td>16.988279</td>\n",
       "      <td>12.191284</td>\n",
       "      <td>6.317597</td>\n",
       "    </tr>\n",
       "  </tbody>\n",
       "</table>\n",
       "</div>"
      ],
      "text/plain": [
       "             R²         MSE       RMSE        MAE      MAPE\n",
       "train  0.902817   46.454750   6.815772   4.860773  2.577959\n",
       "val    0.341046  314.658044  17.738603  12.930304  7.033138\n",
       "test   0.407268  288.601608  16.988279  12.191284  6.317597"
      ]
     },
     "execution_count": 34,
     "metadata": {},
     "output_type": "execute_result"
    }
   ],
   "source": [
    "rf_reg_metrics = pd.DataFrame({\n",
    "    'train': rf_reg_train_metrics,\n",
    "    'val': rf_reg_val_metrics,\n",
    "    'test': rf_reg_test_metrics\n",
    "})\n",
    "\n",
    "rf_reg_metrics = rf_reg_metrics.T\n",
    "rf_reg_metrics"
   ]
  },
  {
   "cell_type": "markdown",
   "id": "bff58122-08a0-432b-9392-c8ccfd007c90",
   "metadata": {},
   "source": [
    "## 3.4 -  Polynomial Regression"
   ]
  },
  {
   "cell_type": "markdown",
   "id": "79c3ee68-8fec-4bb1-ba12-9fd025a5fe6c",
   "metadata": {},
   "source": [
    "### 3.4.1 - Training"
   ]
  },
  {
   "cell_type": "code",
   "execution_count": 35,
   "id": "cd2d4cee-f4e0-472c-b6f2-77bd839954c5",
   "metadata": {},
   "outputs": [
    {
     "data": {
      "text/plain": [
       "{'R²': 0.09419491057528084,\n",
       " 'MSE': 432.9862096386579,\n",
       " 'RMSE': 20.80832068280999,\n",
       " 'MAE': 16.458031755824443,\n",
       " 'MAPE': 8.35053982092813}"
      ]
     },
     "execution_count": 35,
     "metadata": {},
     "output_type": "execute_result"
    }
   ],
   "source": [
    "# Define polynomial model\n",
    "poly = PolynomialFeatures()\n",
    "X_poly_train = poly.fit_transform(X_train)\n",
    "\n",
    "# Model Definition\n",
    "pol_reg_model = LinearRegression()\n",
    "\n",
    "# Training\n",
    "pol_reg_model.fit(X_poly_train, y_train)\n",
    "\n",
    "# Performance\n",
    "yhat_train = pol_reg_model.predict(X_poly_train)\n",
    "\n",
    "pol_reg_train_metrics = calculate_metrics(y_train, yhat_train)\n",
    "pol_reg_train_metrics"
   ]
  },
  {
   "cell_type": "markdown",
   "id": "106b6a0e-9f0d-4236-9333-75778e984884",
   "metadata": {},
   "source": [
    "### 3.4.2 - Validation"
   ]
  },
  {
   "cell_type": "code",
   "execution_count": 36,
   "id": "e711a170-468f-4012-b469-1beff101ede2",
   "metadata": {},
   "outputs": [
    {
     "name": "stdout",
     "output_type": "stream",
     "text": [
      "Degree tested:  1  2  3  "
     ]
    },
    {
     "data": {
      "image/png": "[encoded data removed]",
      "text/plain": [
       "<Figure size 1000x600 with 1 Axes>"
      ]
     },
     "metadata": {},
     "output_type": "display_data"
    },
    {
     "name": "stdout",
     "output_type": "stream",
     "text": [
      "Best degree: 2\n",
      "{'R²': 0.06647668389711614, 'MSE': 445.76822347127563, 'RMSE': 21.113223900467585, 'MAE': 16.749939090484034, 'MAPE': 8.54793103460539}\n"
     ]
    }
   ],
   "source": [
    "degree_range = range(1,4)\n",
    "pol_reg_val_metrics = {i: None for i in degree_range}\n",
    "\n",
    "print('Degree tested:', end='  ')\n",
    "for d in degree_range:\n",
    "\n",
    "    # Definition\n",
    "    poly = PolynomialFeatures(degree=d)\n",
    "    X_poly_train = poly.fit_transform(X_train)\n",
    "    X_poly_val = poly.fit_transform(X_val)\n",
    "    \n",
    "    # Training\n",
    "    pol_reg_model = LinearRegression()\n",
    "    pol_reg_model.fit(X_poly_train, y_train)\n",
    "    \n",
    "    # Performance\n",
    "    yhat_val = pol_reg_model.predict(X_poly_val)\n",
    "    pol_reg_val_metrics_d = calculate_metrics(y_val, yhat_val)\n",
    "    pol_reg_val_metrics_d\n",
    "\n",
    "    # Storing metrics in the dictionary\n",
    "    pol_reg_val_metrics[d] = {\n",
    "        'metrics': pol_reg_val_metrics_d\n",
    "    }\n",
    "    \n",
    "    print(f'{d}', end='  ')\n",
    "\n",
    "evaluated_metrics = [metrics['metrics']['R²'] for metrics in pol_reg_val_metrics.values()]\n",
    "\n",
    "plt.figure(figsize=(10, 6))\n",
    "plt.plot(degree_range, evaluated_metrics, marker='o')\n",
    "plt.xlabel('Degree')\n",
    "plt.ylabel('R²')\n",
    "plt.title('R² vs Degree')\n",
    "plt.grid(True)\n",
    "plt.show()\n",
    "\n",
    "pol_reg_best_degree = max(pol_reg_val_metrics, key=lambda k: pol_reg_val_metrics[k]['metrics']['R²'])\n",
    "pol_reg_val_metrics = pol_reg_val_metrics[pol_reg_best_degree]['metrics']\n",
    "print(f'Best degree: {pol_reg_best_degree}')\n",
    "print(pol_reg_val_metrics)"
   ]
  },
  {
   "cell_type": "markdown",
   "id": "e7297cf1-1881-453b-b31b-e4b1d1030a58",
   "metadata": {},
   "source": [
    "### 3.4.3 - Test"
   ]
  },
  {
   "cell_type": "code",
   "execution_count": 37,
   "id": "65c0b62e-b2db-4e2b-9263-6e66cb1bc310",
   "metadata": {},
   "outputs": [
    {
     "data": {
      "text/plain": [
       "{'R²': 0.08842233682193112,\n",
       " 'MSE': 435.6086240978977,\n",
       " 'RMSE': 20.87123916057448,\n",
       " 'MAE': 16.539642685177714,\n",
       " 'MAPE': 8.422772712904944}"
      ]
     },
     "execution_count": 37,
     "metadata": {},
     "output_type": "execute_result"
    }
   ],
   "source": [
    "# Define polynomial model\n",
    "poly = PolynomialFeatures(degree=pol_reg_best_degree)\n",
    "X_poly_train_val = poly.fit_transform(X_train_val)\n",
    "\n",
    "# Model Definition\n",
    "pol_reg_model = LinearRegression()\n",
    "\n",
    "# Training\n",
    "pol_reg_model.fit(X_poly_train_val, y_train_val)\n",
    "\n",
    "# Performance\n",
    "yhat_test = pol_reg_model.predict(X_poly_train_val)\n",
    "\n",
    "pol_reg_test_metrics = calculate_metrics(y_train_val, yhat_test)\n",
    "pol_reg_test_metrics"
   ]
  },
  {
   "cell_type": "markdown",
   "id": "dfc7cc1a-0501-4e80-ac3e-e770fe1aa014",
   "metadata": {},
   "source": [
    "### 3.4.4 - Results"
   ]
  },
  {
   "cell_type": "code",
   "execution_count": 38,
   "id": "5d6576c1-e82d-4a17-91a9-e9e5ccd27a2d",
   "metadata": {},
   "outputs": [
    {
     "data": {
      "text/html": [
       "<div>\n",
       "<style scoped>\n",
       "    .dataframe tbody tr th:only-of-type {\n",
       "        vertical-align: middle;\n",
       "    }\n",
       "\n",
       "    .dataframe tbody tr th {\n",
       "        vertical-align: top;\n",
       "    }\n",
       "\n",
       "    .dataframe thead th {\n",
       "        text-align: right;\n",
       "    }\n",
       "</style>\n",
       "<table border=\"1\" class=\"dataframe\">\n",
       "  <thead>\n",
       "    <tr style=\"text-align: right;\">\n",
       "      <th></th>\n",
       "      <th>R²</th>\n",
       "      <th>MSE</th>\n",
       "      <th>RMSE</th>\n",
       "      <th>MAE</th>\n",
       "      <th>MAPE</th>\n",
       "    </tr>\n",
       "  </thead>\n",
       "  <tbody>\n",
       "    <tr>\n",
       "      <th>train</th>\n",
       "      <td>0.094195</td>\n",
       "      <td>432.986210</td>\n",
       "      <td>20.808321</td>\n",
       "      <td>16.458032</td>\n",
       "      <td>8.350540</td>\n",
       "    </tr>\n",
       "    <tr>\n",
       "      <th>val</th>\n",
       "      <td>0.066477</td>\n",
       "      <td>445.768223</td>\n",
       "      <td>21.113224</td>\n",
       "      <td>16.749939</td>\n",
       "      <td>8.547931</td>\n",
       "    </tr>\n",
       "    <tr>\n",
       "      <th>test</th>\n",
       "      <td>0.088422</td>\n",
       "      <td>435.608624</td>\n",
       "      <td>20.871239</td>\n",
       "      <td>16.539643</td>\n",
       "      <td>8.422773</td>\n",
       "    </tr>\n",
       "  </tbody>\n",
       "</table>\n",
       "</div>"
      ],
      "text/plain": [
       "             R²         MSE       RMSE        MAE      MAPE\n",
       "train  0.094195  432.986210  20.808321  16.458032  8.350540\n",
       "val    0.066477  445.768223  21.113224  16.749939  8.547931\n",
       "test   0.088422  435.608624  20.871239  16.539643  8.422773"
      ]
     },
     "execution_count": 38,
     "metadata": {},
     "output_type": "execute_result"
    }
   ],
   "source": [
    "pol_reg_metrics = pd.DataFrame({\n",
    "    'train': pol_reg_train_metrics,\n",
    "    'val': pol_reg_val_metrics,\n",
    "    'test': pol_reg_test_metrics\n",
    "})\n",
    "\n",
    "pol_reg_metrics = pol_reg_metrics.T\n",
    "pol_reg_metrics"
   ]
  },
  {
   "cell_type": "markdown",
   "id": "77544ffc-8333-43c8-88ae-ac49766ed097",
   "metadata": {},
   "source": [
    "## 3.5 -  Linear Regression Lasso"
   ]
  },
  {
   "cell_type": "markdown",
   "id": "5a57a046-fcd4-4ae2-ad31-99e6052f25a6",
   "metadata": {},
   "source": [
    "### 3.5.1 - Training"
   ]
  },
  {
   "cell_type": "code",
   "execution_count": 39,
   "id": "7c29e708-3a13-4859-9618-e00f4de754ca",
   "metadata": {},
   "outputs": [
    {
     "data": {
      "text/plain": [
       "{'R²': 0.007400905609184383,\n",
       " 'MSE': 474.47483414340275,\n",
       " 'RMSE': 21.782443254681112,\n",
       " 'MAE': 17.305483795260546,\n",
       " 'MAPE': 8.736697313910927}"
      ]
     },
     "execution_count": 39,
     "metadata": {},
     "output_type": "execute_result"
    }
   ],
   "source": [
    "# Definition\n",
    "lasso = Lasso(random_state=0)\n",
    "\n",
    "# Training\n",
    "lasso.fit(X_train, y_train)\n",
    "\n",
    "# Performance\n",
    "yhat_train = lasso.predict(X_train)\n",
    "lasso_train_metrics = calculate_metrics(y_train, yhat_train)\n",
    "lasso_train_metrics"
   ]
  },
  {
   "cell_type": "markdown",
   "id": "f37401f6-707f-4e9b-8977-09cb9450b56a",
   "metadata": {},
   "source": [
    "### 3.5.2 - Validation"
   ]
  },
  {
   "cell_type": "code",
   "execution_count": 49,
   "id": "0d0f25ac-c6e9-4180-867e-a6ff80d7f4f3",
   "metadata": {},
   "outputs": [
    {
     "name": "stdout",
     "output_type": "stream",
     "text": [
      "Testing combinations of alpha and max_iter:\n",
      "(alpha=0.0, max_iter=100)\n",
      "(alpha=0.0, max_iter=200)\n",
      "(alpha=0.0, max_iter=300)\n",
      "(alpha=0.0, max_iter=400)\n",
      "(alpha=0.0, max_iter=500)\n",
      "(alpha=0.5, max_iter=100)\n",
      "(alpha=0.5, max_iter=200)\n",
      "(alpha=0.5, max_iter=300)\n",
      "(alpha=0.5, max_iter=400)\n",
      "(alpha=0.5, max_iter=500)\n",
      "(alpha=1.0, max_iter=100)\n",
      "(alpha=1.0, max_iter=200)\n",
      "(alpha=1.0, max_iter=300)\n",
      "(alpha=1.0, max_iter=400)\n",
      "(alpha=1.0, max_iter=500)\n",
      "(alpha=1.5, max_iter=100)\n",
      "(alpha=1.5, max_iter=200)\n",
      "(alpha=1.5, max_iter=300)\n",
      "(alpha=1.5, max_iter=400)\n",
      "(alpha=1.5, max_iter=500)\n",
      "\n",
      "Best Combination (alpha, max_iter): (np.float64(0.0), 200)\n",
      "{'R²': 0.03992483038154071, 'MSE': 458.4470418439312, 'RMSE': 21.41137645841414, 'MAE': 17.039753759960327, 'MAPE': 8.682541883735295}\n"
     ]
    }
   ],
   "source": [
    "alpha_range = np.arange(0, 2, 0.5)\n",
    "max_iter_range = range(100, 501, 100)\n",
    "lasso_val_metrics = {}\n",
    "\n",
    "print('Testing combinations of alpha and max_iter:')\n",
    "for alpha in alpha_range:\n",
    "    for max_iter in max_iter_range:\n",
    "\n",
    "        # Definição do modelo Lasso com os parâmetros alpha e max_iter\n",
    "        lasso = Lasso(alpha=alpha, max_iter=max_iter, random_state=0)\n",
    "        \n",
    "        # Treinamento\n",
    "        lasso.fit(X_train, y_train)\n",
    "        \n",
    "        # Desempenho\n",
    "\n",
    "        yhat_val = lasso.predict(X_val)\n",
    "        lasso_val_metrics[(alpha, max_iter)] = calculate_metrics(y_val, yhat_val)\n",
    "\n",
    "        print(f'(alpha={alpha}, max_iter={max_iter})')\n",
    "\n",
    "lasso_best_combination = max(lasso_val_metrics, key=lambda k: lasso_val_metrics[k]['R²'])\n",
    "\n",
    "# Accessing the metrics of the best combination\n",
    "lasso_val_metrics_best = lasso_val_metrics[lasso_best_combination]\n",
    "\n",
    "# Displaying the best combination and its metrics\n",
    "print(f'\\nBest Combination (alpha, max_iter): {lasso_best_combination}')\n",
    "print(lasso_val_metrics_best)"
   ]
  },
  {
   "cell_type": "markdown",
   "id": "472b46fb-267b-4e2a-ba32-b8aa4461bbbd",
   "metadata": {},
   "source": [
    "### 3.5.3 - Test"
   ]
  },
  {
   "cell_type": "code",
   "execution_count": 43,
   "id": "d5a96cda-3fec-48f9-9888-29b5b2cfef4c",
   "metadata": {},
   "outputs": [
    {
     "data": {
      "text/plain": [
       "{'R²': 0.05116551777115064,\n",
       " 'MSE': 461.9884353525593,\n",
       " 'RMSE': 21.4939162404751,\n",
       " 'MAE': 17.144197086987703,\n",
       " 'MAPE': 8.531355027820084}"
      ]
     },
     "execution_count": 43,
     "metadata": {},
     "output_type": "execute_result"
    }
   ],
   "source": [
    "# Definition\n",
    "lasso = Lasso(random_state=0,\n",
    "              alpha=lasso_best_combination[0],\n",
    "              max_iter=lasso_best_combination[1])\n",
    "\n",
    "# Training\n",
    "lasso.fit(X_train_val, y_train_val)\n",
    "\n",
    "# Performance\n",
    "yhat_test = lasso.predict(X_test)\n",
    "lasso_test_metrics = calculate_metrics(y_test, yhat_test)\n",
    "lasso_test_metrics"
   ]
  },
  {
   "cell_type": "markdown",
   "id": "3f3ec949-922d-4269-8e48-bf2093e3a4c3",
   "metadata": {},
   "source": [
    "### 3.5.4 - Results"
   ]
  },
  {
   "cell_type": "code",
   "execution_count": 44,
   "id": "f7052f66-dba1-47d6-8824-799df70ba0ac",
   "metadata": {},
   "outputs": [
    {
     "data": {
      "text/html": [
       "<div>\n",
       "<style scoped>\n",
       "    .dataframe tbody tr th:only-of-type {\n",
       "        vertical-align: middle;\n",
       "    }\n",
       "\n",
       "    .dataframe tbody tr th {\n",
       "        vertical-align: top;\n",
       "    }\n",
       "\n",
       "    .dataframe thead th {\n",
       "        text-align: right;\n",
       "    }\n",
       "</style>\n",
       "<table border=\"1\" class=\"dataframe\">\n",
       "  <thead>\n",
       "    <tr style=\"text-align: right;\">\n",
       "      <th></th>\n",
       "      <th>R²</th>\n",
       "      <th>MSE</th>\n",
       "      <th>RMSE</th>\n",
       "      <th>MAE</th>\n",
       "      <th>MAPE</th>\n",
       "    </tr>\n",
       "  </thead>\n",
       "  <tbody>\n",
       "    <tr>\n",
       "      <th>train</th>\n",
       "      <td>0.007401</td>\n",
       "      <td>474.474834</td>\n",
       "      <td>21.782443</td>\n",
       "      <td>17.305484</td>\n",
       "      <td>8.736697</td>\n",
       "    </tr>\n",
       "    <tr>\n",
       "      <th>val</th>\n",
       "      <td>0.039925</td>\n",
       "      <td>458.447042</td>\n",
       "      <td>21.411376</td>\n",
       "      <td>17.039754</td>\n",
       "      <td>8.682542</td>\n",
       "    </tr>\n",
       "    <tr>\n",
       "      <th>test</th>\n",
       "      <td>0.051166</td>\n",
       "      <td>461.988435</td>\n",
       "      <td>21.493916</td>\n",
       "      <td>17.144197</td>\n",
       "      <td>8.531355</td>\n",
       "    </tr>\n",
       "  </tbody>\n",
       "</table>\n",
       "</div>"
      ],
      "text/plain": [
       "             R²         MSE       RMSE        MAE      MAPE\n",
       "train  0.007401  474.474834  21.782443  17.305484  8.736697\n",
       "val    0.039925  458.447042  21.411376  17.039754  8.682542\n",
       "test   0.051166  461.988435  21.493916  17.144197  8.531355"
      ]
     },
     "execution_count": 44,
     "metadata": {},
     "output_type": "execute_result"
    }
   ],
   "source": [
    "lasso_metrics = pd.DataFrame({\n",
    "    'train': lasso_train_metrics,\n",
    "    'val': lasso_val_metrics_best,\n",
    "    'test': lasso_test_metrics\n",
    "})\n",
    "\n",
    "lasso_metrics = lasso_metrics.T\n",
    "lasso_metrics"
   ]
  },
  {
   "cell_type": "markdown",
   "id": "f0d1597f-5cc2-47ce-9f6b-63184ce478fa",
   "metadata": {},
   "source": [
    "## 3.6 -  Linear Regression Ridge"
   ]
  },
  {
   "cell_type": "markdown",
   "id": "889ab4da-ff60-4cea-b34d-f2599f551761",
   "metadata": {},
   "source": [
    "### 3.6.1 - Training"
   ]
  },
  {
   "cell_type": "code",
   "execution_count": 45,
   "id": "52b0cbc9-4135-4581-9c67-7080a9dfb49a",
   "metadata": {},
   "outputs": [
    {
     "data": {
      "text/plain": [
       "{'R²': 0.04605770063554282,\n",
       " 'MSE': 455.99640059223805,\n",
       " 'RMSE': 21.354072225040312,\n",
       " 'MAE': 16.9983076023201,\n",
       " 'MAPE': 8.653414734181558}"
      ]
     },
     "execution_count": 45,
     "metadata": {},
     "output_type": "execute_result"
    }
   ],
   "source": [
    "# Definition\n",
    "ridge = Ridge(random_state=0)\n",
    "\n",
    "# Training\n",
    "ridge.fit(X_train, y_train)\n",
    "\n",
    "# Performance\n",
    "yhat_train = ridge.predict(X_train)\n",
    "ridge_train_metrics = calculate_metrics(y_train, yhat_train)\n",
    "ridge_train_metrics"
   ]
  },
  {
   "cell_type": "markdown",
   "id": "3842f76e-971a-43f6-bbe3-cd7e202eefbd",
   "metadata": {},
   "source": [
    "### 3.6.2 - Validation"
   ]
  },
  {
   "cell_type": "code",
   "execution_count": 48,
   "id": "3a3f26a3-f041-402c-ab32-a7b287731799",
   "metadata": {},
   "outputs": [
    {
     "name": "stdout",
     "output_type": "stream",
     "text": [
      "Testing combinations of alpha and max_iter:\n",
      "(alpha=0.0, max_iter=100)\n",
      "(alpha=0.0, max_iter=200)\n",
      "(alpha=0.0, max_iter=300)\n",
      "(alpha=0.0, max_iter=400)\n",
      "(alpha=0.0, max_iter=500)\n",
      "(alpha=0.5, max_iter=100)\n",
      "(alpha=0.5, max_iter=200)\n",
      "(alpha=0.5, max_iter=300)\n",
      "(alpha=0.5, max_iter=400)\n",
      "(alpha=0.5, max_iter=500)\n",
      "(alpha=1.0, max_iter=100)\n",
      "(alpha=1.0, max_iter=200)\n",
      "(alpha=1.0, max_iter=300)\n",
      "(alpha=1.0, max_iter=400)\n",
      "(alpha=1.0, max_iter=500)\n",
      "(alpha=1.5, max_iter=100)\n",
      "(alpha=1.5, max_iter=200)\n",
      "(alpha=1.5, max_iter=300)\n",
      "(alpha=1.5, max_iter=400)\n",
      "(alpha=1.5, max_iter=500)\n",
      "\n",
      "Best Combination (alpha, max_iter): (np.float64(1.5), 100)\n",
      "{'R²': 0.03992955619248495, 'MSE': 458.4447852143294, 'RMSE': 21.411323761372845, 'MAE': 17.039331077459902, 'MAPE': 8.682348600505266}\n"
     ]
    }
   ],
   "source": [
    "alpha_range = np.arange(0, 2, 0.5)\n",
    "max_iter_range = range(100, 501, 100)\n",
    "ridge_val_metrics = {}\n",
    "\n",
    "print('Testing combinations of alpha and max_iter:')\n",
    "for alpha in alpha_range:\n",
    "    for max_iter in max_iter_range:\n",
    "\n",
    "        # Definição do modelo ridge com os parâmetros alpha e max_iter\n",
    "        ridge = Ridge(alpha=alpha, max_iter=max_iter, random_state=0)\n",
    "        \n",
    "        # Treinamento\n",
    "        ridge.fit(X_train, y_train)\n",
    "        \n",
    "        # Desempenho\n",
    "        yhat_val = ridge.predict(X_val)\n",
    "        ridge_val_metrics[(alpha, max_iter)] = calculate_metrics(y_val, yhat_val)\n",
    "\n",
    "        print(f'(alpha={alpha}, max_iter={max_iter})')\n",
    "\n",
    "ridge_best_combination = max(ridge_val_metrics, key=lambda k: ridge_val_metrics[k]['R²'])\n",
    "\n",
    "# Accessing the metrics of the best combination\n",
    "ridge_val_metrics_best = ridge_val_metrics[ridge_best_combination]\n",
    "\n",
    "# Displaying the best combination and its metrics\n",
    "print(f'\\nBest Combination (alpha, max_iter): {ridge_best_combination}')\n",
    "print(ridge_val_metrics_best)"
   ]
  },
  {
   "cell_type": "markdown",
   "id": "2c0e5c13-907c-4430-a347-943e539f4af7",
   "metadata": {},
   "source": [
    "### 3.6.3 - Test"
   ]
  },
  {
   "cell_type": "code",
   "execution_count": 50,
   "id": "95bb676c-287c-40cd-8588-516a58dc723c",
   "metadata": {},
   "outputs": [
    {
     "data": {
      "text/plain": [
       "{'R²': 0.051167062631854,\n",
       " 'MSE': 461.98768315837515,\n",
       " 'RMSE': 21.49389874262869,\n",
       " 'MAE': 17.143837970013415,\n",
       " 'MAPE': 8.532387164061522}"
      ]
     },
     "execution_count": 50,
     "metadata": {},
     "output_type": "execute_result"
    }
   ],
   "source": [
    "# Definition\n",
    "ridge = Ridge(random_state=0,\n",
    "              alpha=ridge_best_combination[0],\n",
    "              max_iter=ridge_best_combination[1])\n",
    "\n",
    "# Training\n",
    "ridge.fit(X_train_val, y_train_val)\n",
    "\n",
    "# Performance\n",
    "yhat_test = ridge.predict(X_test)\n",
    "ridge_test_metrics = calculate_metrics(y_test, yhat_test)\n",
    "ridge_test_metrics"
   ]
  },
  {
   "cell_type": "markdown",
   "id": "78a0490d-fce8-4387-8dec-8836b05a0af7",
   "metadata": {},
   "source": [
    "### 3.6.4 - Results"
   ]
  },
  {
   "cell_type": "code",
   "execution_count": 51,
   "id": "22dc6d92-dd8e-4b41-a11b-e9b3441ae3dd",
   "metadata": {},
   "outputs": [
    {
     "data": {
      "text/html": [
       "<div>\n",
       "<style scoped>\n",
       "    .dataframe tbody tr th:only-of-type {\n",
       "        vertical-align: middle;\n",
       "    }\n",
       "\n",
       "    .dataframe tbody tr th {\n",
       "        vertical-align: top;\n",
       "    }\n",
       "\n",
       "    .dataframe thead th {\n",
       "        text-align: right;\n",
       "    }\n",
       "</style>\n",
       "<table border=\"1\" class=\"dataframe\">\n",
       "  <thead>\n",
       "    <tr style=\"text-align: right;\">\n",
       "      <th></th>\n",
       "      <th>R²</th>\n",
       "      <th>MSE</th>\n",
       "      <th>RMSE</th>\n",
       "      <th>MAE</th>\n",
       "      <th>MAPE</th>\n",
       "    </tr>\n",
       "  </thead>\n",
       "  <tbody>\n",
       "    <tr>\n",
       "      <th>train</th>\n",
       "      <td>0.046058</td>\n",
       "      <td>455.996401</td>\n",
       "      <td>21.354072</td>\n",
       "      <td>16.998308</td>\n",
       "      <td>8.653415</td>\n",
       "    </tr>\n",
       "    <tr>\n",
       "      <th>val</th>\n",
       "      <td>0.039930</td>\n",
       "      <td>458.444785</td>\n",
       "      <td>21.411324</td>\n",
       "      <td>17.039331</td>\n",
       "      <td>8.682349</td>\n",
       "    </tr>\n",
       "    <tr>\n",
       "      <th>test</th>\n",
       "      <td>0.051167</td>\n",
       "      <td>461.987683</td>\n",
       "      <td>21.493899</td>\n",
       "      <td>17.143838</td>\n",
       "      <td>8.532387</td>\n",
       "    </tr>\n",
       "  </tbody>\n",
       "</table>\n",
       "</div>"
      ],
      "text/plain": [
       "             R²         MSE       RMSE        MAE      MAPE\n",
       "train  0.046058  455.996401  21.354072  16.998308  8.653415\n",
       "val    0.039930  458.444785  21.411324  17.039331  8.682349\n",
       "test   0.051167  461.987683  21.493899  17.143838  8.532387"
      ]
     },
     "execution_count": 51,
     "metadata": {},
     "output_type": "execute_result"
    }
   ],
   "source": [
    "ridge_metrics = pd.DataFrame({\n",
    "    'train': ridge_train_metrics,\n",
    "    'val': ridge_val_metrics_best,\n",
    "    'test': ridge_test_metrics\n",
    "})\n",
    "\n",
    "ridge_metrics = ridge_metrics.T\n",
    "ridge_metrics"
   ]
  },
  {
   "cell_type": "markdown",
   "id": "f1968850-cc73-4c12-bb41-86b490be2d58",
   "metadata": {},
   "source": [
    "## 3.7 -  Linear Regression ElasticNet"
   ]
  },
  {
   "cell_type": "markdown",
   "id": "c807b6e9-7eff-406b-8a61-126be99f2da5",
   "metadata": {},
   "source": [
    "### 3.7.1 - Training"
   ]
  },
  {
   "cell_type": "code",
   "execution_count": 52,
   "id": "9e920472-9f01-45e6-a06d-6187409abfed",
   "metadata": {},
   "outputs": [
    {
     "data": {
      "text/plain": [
       "{'R²': 0.007831741118630053,\n",
       " 'MSE': 474.2688893586024,\n",
       " 'RMSE': 21.777715430196125,\n",
       " 'MAE': 17.299506969671594,\n",
       " 'MAPE': 8.732300419042266}"
      ]
     },
     "execution_count": 52,
     "metadata": {},
     "output_type": "execute_result"
    }
   ],
   "source": [
    "# Definition\n",
    "elasticnet = ElasticNet(random_state=0)\n",
    "\n",
    "# Training\n",
    "elasticnet.fit(X_train, y_train)\n",
    "\n",
    "# Performance\n",
    "yhat_train = elasticnet.predict(X_train)\n",
    "elasticnet_train_metrics = calculate_metrics(y_train, yhat_train)\n",
    "elasticnet_train_metrics"
   ]
  },
  {
   "cell_type": "markdown",
   "id": "3be799f4-0ed3-4f71-ac69-9a37142733a6",
   "metadata": {},
   "source": [
    "### 3.7.2 - Validation"
   ]
  },
  {
   "cell_type": "code",
   "execution_count": 53,
   "id": "9b2b4eef-6ebc-429d-9f1a-fbbe8f816960",
   "metadata": {
    "scrolled": true
   },
   "outputs": [
    {
     "name": "stdout",
     "output_type": "stream",
     "text": [
      "Best combination (alpha, l1_ratio, max_iter): {'alpha': np.float64(0.0), 'l1_ratio': np.float64(0.0), 'max_iter': 400}\n",
      "\n",
      "Metrics on the validation set:\n"
     ]
    },
    {
     "data": {
      "text/plain": [
       "{'R²': 0.03992483038154071,\n",
       " 'MSE': 458.4470418439312,\n",
       " 'RMSE': 21.41137645841414,\n",
       " 'MAE': 17.039753759960327,\n",
       " 'MAPE': 8.682541883735295}"
      ]
     },
     "execution_count": 53,
     "metadata": {},
     "output_type": "execute_result"
    }
   ],
   "source": [
    "# Defining the parameter ranges\n",
    "alpha_range = np.arange(0, 1.1, 0.1)\n",
    "l1_ratio_range = np.arange(0, 1.1, 0.1)\n",
    "max_iter_range = range(100, 501, 100)\n",
    "\n",
    "# Creating the parameter grid for GridSearchCV\n",
    "param_grid = {\n",
    "    'alpha': alpha_range,\n",
    "    'l1_ratio': l1_ratio_range,\n",
    "    'max_iter': max_iter_range\n",
    "}\n",
    "\n",
    "# Defining the ElasticNet model\n",
    "elasticnet = ElasticNet(random_state=0)\n",
    "\n",
    "# Setting up GridSearchCV\n",
    "grid_search = GridSearchCV(estimator=elasticnet, param_grid=param_grid, scoring='r2', cv=5)\n",
    "\n",
    "# Training the model\n",
    "grid_search.fit(X_train, y_train)\n",
    "\n",
    "# Prediction and evaluation on the validation set\n",
    "yhat_val = grid_search.best_estimator_.predict(X_val)\n",
    "\n",
    "# Storing the best metrics\n",
    "elasticnet_best_params = grid_search.best_params_\n",
    "# elasticnet_best_score = grid_search.best_score_\n",
    "\n",
    "# Displaying the best parameter combination and the best metric\n",
    "print(f'Best combination (alpha, l1_ratio, max_iter): {elasticnet_best_params}')\n",
    "\n",
    "# Calculating metrics for the validation set using the best model\n",
    "best_elasticnet = grid_search.best_estimator_\n",
    "elasticnet_val_metrics_best = calculate_metrics(y_val, yhat_val)\n",
    "\n",
    "print('\\nMetrics on the validation set:')\n",
    "elasticnet_val_metrics_best"
   ]
  },
  {
   "cell_type": "markdown",
   "id": "93c1fb7b-c7a3-4f09-8ab6-6aaa7fca12ba",
   "metadata": {},
   "source": [
    "### 3.5.3 - Test"
   ]
  },
  {
   "cell_type": "code",
   "execution_count": 54,
   "id": "b1604478-1528-4226-a947-8fc0478de380",
   "metadata": {},
   "outputs": [
    {
     "data": {
      "text/plain": [
       "{'R²': 0.05116551777115064,\n",
       " 'MSE': 461.9884353525593,\n",
       " 'RMSE': 21.4939162404751,\n",
       " 'MAE': 17.144197086987703,\n",
       " 'MAPE': 8.531355027820084}"
      ]
     },
     "execution_count": 54,
     "metadata": {},
     "output_type": "execute_result"
    }
   ],
   "source": [
    "# Definition\n",
    "elasticnet = ElasticNet(random_state=0,\n",
    "                        alpha=elasticnet_best_params['alpha'],\n",
    "                        max_iter=elasticnet_best_params['max_iter'],\n",
    "                        l1_ratio=elasticnet_best_params['l1_ratio'])\n",
    "\n",
    "# Training\n",
    "elasticnet.fit(X_train_val, y_train_val)\n",
    "\n",
    "# Performance\n",
    "yhat_test = elasticnet.predict(X_test)\n",
    "elasticnet_test_metrics = calculate_metrics(y_test, yhat_test)\n",
    "elasticnet_test_metrics"
   ]
  },
  {
   "cell_type": "markdown",
   "id": "d898c61e-46b5-4ea9-95dd-fd7e2ecc286f",
   "metadata": {},
   "source": [
    "### 3.7.4 - Results"
   ]
  },
  {
   "cell_type": "code",
   "execution_count": 55,
   "id": "9430b433-1589-4d4a-9959-8001997403db",
   "metadata": {},
   "outputs": [
    {
     "data": {
      "text/html": [
       "<div>\n",
       "<style scoped>\n",
       "    .dataframe tbody tr th:only-of-type {\n",
       "        vertical-align: middle;\n",
       "    }\n",
       "\n",
       "    .dataframe tbody tr th {\n",
       "        vertical-align: top;\n",
       "    }\n",
       "\n",
       "    .dataframe thead th {\n",
       "        text-align: right;\n",
       "    }\n",
       "</style>\n",
       "<table border=\"1\" class=\"dataframe\">\n",
       "  <thead>\n",
       "    <tr style=\"text-align: right;\">\n",
       "      <th></th>\n",
       "      <th>R²</th>\n",
       "      <th>MSE</th>\n",
       "      <th>RMSE</th>\n",
       "      <th>MAE</th>\n",
       "      <th>MAPE</th>\n",
       "    </tr>\n",
       "  </thead>\n",
       "  <tbody>\n",
       "    <tr>\n",
       "      <th>train</th>\n",
       "      <td>0.007832</td>\n",
       "      <td>474.268889</td>\n",
       "      <td>21.777715</td>\n",
       "      <td>17.299507</td>\n",
       "      <td>8.732300</td>\n",
       "    </tr>\n",
       "    <tr>\n",
       "      <th>val</th>\n",
       "      <td>0.039925</td>\n",
       "      <td>458.447042</td>\n",
       "      <td>21.411376</td>\n",
       "      <td>17.039754</td>\n",
       "      <td>8.682542</td>\n",
       "    </tr>\n",
       "    <tr>\n",
       "      <th>test</th>\n",
       "      <td>0.051166</td>\n",
       "      <td>461.988435</td>\n",
       "      <td>21.493916</td>\n",
       "      <td>17.144197</td>\n",
       "      <td>8.531355</td>\n",
       "    </tr>\n",
       "  </tbody>\n",
       "</table>\n",
       "</div>"
      ],
      "text/plain": [
       "             R²         MSE       RMSE        MAE      MAPE\n",
       "train  0.007832  474.268889  21.777715  17.299507  8.732300\n",
       "val    0.039925  458.447042  21.411376  17.039754  8.682542\n",
       "test   0.051166  461.988435  21.493916  17.144197  8.531355"
      ]
     },
     "execution_count": 55,
     "metadata": {},
     "output_type": "execute_result"
    }
   ],
   "source": [
    "elasticnet_metrics = pd.DataFrame({\n",
    "    'train': elasticnet_train_metrics,\n",
    "    'val': elasticnet_val_metrics_best,\n",
    "    'test': elasticnet_test_metrics\n",
    "})\n",
    "\n",
    "elasticnet_metrics = elasticnet_metrics.T\n",
    "elasticnet_metrics"
   ]
  },
  {
   "cell_type": "markdown",
   "id": "e8b69c3e-e2f7-4152-b54b-f551fe11e87b",
   "metadata": {},
   "source": [
    "## 3.8 - Polynomial Regression Lasso"
   ]
  },
  {
   "cell_type": "markdown",
   "id": "63500a5f-408b-469d-a99e-2ff6224ebcd7",
   "metadata": {},
   "source": [
    "### 3.8.1 - Training"
   ]
  },
  {
   "cell_type": "code",
   "execution_count": 56,
   "id": "e43d032f-690c-4ab6-9039-b3dd26290d92",
   "metadata": {},
   "outputs": [
    {
     "data": {
      "text/plain": [
       "{'R²': 0.009149935251170582,\n",
       " 'MSE': 473.6387760067563,\n",
       " 'RMSE': 21.763243692215468,\n",
       " 'MAE': 17.285449661261286,\n",
       " 'MAPE': 8.699700898061744}"
      ]
     },
     "execution_count": 56,
     "metadata": {},
     "output_type": "execute_result"
    }
   ],
   "source": [
    "# Define polynomial model\n",
    "poly = PolynomialFeatures()\n",
    "X_poly_train = poly.fit_transform(X_train)\n",
    "\n",
    "# Model Definition\n",
    "poly_lasso = Lasso()\n",
    "\n",
    "# Training\n",
    "poly_lasso.fit(X_poly_train, y_train)\n",
    "\n",
    "# Performance\n",
    "yhat_train = poly_lasso.predict(X_poly_train)\n",
    "\n",
    "poly_lasso_train_metrics = calculate_metrics(y_train, yhat_train)\n",
    "poly_lasso_train_metrics"
   ]
  },
  {
   "cell_type": "markdown",
   "id": "7cd87c62-8d43-4be5-a253-81685cc6073d",
   "metadata": {},
   "source": [
    "### 3.8.2 - Validation"
   ]
  },
  {
   "cell_type": "code",
   "execution_count": 58,
   "id": "149e2e5c-1178-4483-9705-513a77af4038",
   "metadata": {
    "scrolled": true
   },
   "outputs": [
    {
     "name": "stdout",
     "output_type": "stream",
     "text": [
      "\n",
      "Best parameters: {'max_depth': 34, 'n_estimators': 600}\n"
     ]
    },
    {
     "name": "stderr",
     "output_type": "stream",
     "text": [
      "[Parallel(n_jobs=1)]: Done  31 tasks      | elapsed:    4.2s\n",
      "[Parallel(n_jobs=1)]: Done 127 tasks      | elapsed:   35.2s\n",
      "[Parallel(n_jobs=1)]: Done 287 tasks      | elapsed:  1.1min\n",
      "[Parallel(n_jobs=1)]: Done 511 tasks      | elapsed:  1.2min\n"
     ]
    },
    {
     "name": "stdout",
     "output_type": "stream",
     "text": [
      "Metrics on the validation set:\n"
     ]
    },
    {
     "data": {
      "text/plain": [
       "{'R²': 0.34104629968710454,\n",
       " 'MSE': 314.65804364111835,\n",
       " 'RMSE': 17.738603204342734,\n",
       " 'MAE': 12.930303888184845,\n",
       " 'MAPE': 7.033137554926378}"
      ]
     },
     "execution_count": 58,
     "metadata": {},
     "output_type": "execute_result"
    }
   ],
   "source": [
    "# Define the parameter grid\n",
    "param_grid = {\n",
    "    'poly__degree': [1,2,3],  # Polynomial degree\n",
    "    'lasso__alpha': [0, 0.1, 0.2, 0.3],  # Lasso alpha\n",
    "    'lasso__max_iter': [100, 200, 300]  # Lasso max_iter\n",
    "}\n",
    "\n",
    "# Create the pipeline\n",
    "pipeline = Pipeline([\n",
    "    ('poly', PolynomialFeatures()),  # Polynomial features\n",
    "    ('lasso', Lasso())  # Lasso regression\n",
    "])\n",
    "\n",
    "# Set up GridSearchCV\n",
    "grid_search = GridSearchCV(pipeline, param_grid, cv=5, scoring='r2')\n",
    "\n",
    "# Fit GridSearchCV\n",
    "grid_search.fit(X_train, y_train)\n",
    "\n",
    "# Extract the best parameters and metrics\n",
    "poly_lasso_rf_best_params_val = grid_search.best_params_\n",
    "poly_lasso_rf_best_score_val  = grid_search.best_score_\n",
    "poly_lasso_rf_best_model_val  = grid_search.best_estimator_\n",
    "\n",
    "# poly_lasso_rf_best_params_val\n",
    "\n",
    "print(f'\\nBest parameters: {best_params}')\n",
    "\n",
    "# Use the best model to predict on the validation set\n",
    "yhat_val = best_model.predict(X_val)\n",
    "\n",
    "# Calculate and print metrics on the validation set\n",
    "poly_lasso_val_metrics = calculate_metrics(y_val, yhat_val)\n",
    "print('Metrics on the validation set:')\n",
    "poly_lasso_val_metrics"
   ]
  },
  {
   "cell_type": "markdown",
   "id": "5c66f636-aa57-4e6d-bade-a4d2edcf7b80",
   "metadata": {},
   "source": [
    "### 3.8.3 - Test"
   ]
  },
  {
   "cell_type": "code",
   "execution_count": 59,
   "id": "8ae333bb-4981-41f7-a6c4-974d729cfb54",
   "metadata": {},
   "outputs": [
    {
     "data": {
      "text/plain": [
       "{'R²': 0.0872685664411691,\n",
       " 'MSE': 436.15996749779674,\n",
       " 'RMSE': 20.884443193386716,\n",
       " 'MAE': 16.551554223838984,\n",
       " 'MAPE': 8.438346577036386}"
      ]
     },
     "execution_count": 59,
     "metadata": {},
     "output_type": "execute_result"
    }
   ],
   "source": [
    "# Define polynomial model\n",
    "poly = PolynomialFeatures(degree=poly_lasso_rf_best_params_val['poly__degree'])\n",
    "X_poly_train_val = poly.fit_transform(X_train_val)\n",
    "\n",
    "# Model Definition\n",
    "poly_lasso = Lasso(\n",
    "    random_state=0,\n",
    "    alpha=poly_lasso_rf_best_params_val['lasso__alpha'],\n",
    "    max_iter=poly_lasso_rf_best_params_val['lasso__max_iter']\n",
    ")\n",
    "\n",
    "# Training\n",
    "poly_lasso.fit(X_poly_train_val, y_train_val)\n",
    "\n",
    "# Performance\n",
    "yhat_test = poly_lasso.predict(X_poly_train_val)\n",
    "\n",
    "poly_lasso_test_metrics = calculate_metrics(y_train_val, yhat_test)\n",
    "poly_lasso_test_metrics"
   ]
  },
  {
   "cell_type": "markdown",
   "id": "5a028d67-cffe-442b-93b8-10058d1da246",
   "metadata": {},
   "source": [
    "### 3.8.4 - Results"
   ]
  },
  {
   "cell_type": "code",
   "execution_count": 60,
   "id": "c1d75aae-e573-4153-ba6e-4768c17abe85",
   "metadata": {},
   "outputs": [
    {
     "data": {
      "text/html": [
       "<div>\n",
       "<style scoped>\n",
       "    .dataframe tbody tr th:only-of-type {\n",
       "        vertical-align: middle;\n",
       "    }\n",
       "\n",
       "    .dataframe tbody tr th {\n",
       "        vertical-align: top;\n",
       "    }\n",
       "\n",
       "    .dataframe thead th {\n",
       "        text-align: right;\n",
       "    }\n",
       "</style>\n",
       "<table border=\"1\" class=\"dataframe\">\n",
       "  <thead>\n",
       "    <tr style=\"text-align: right;\">\n",
       "      <th></th>\n",
       "      <th>R²</th>\n",
       "      <th>MSE</th>\n",
       "      <th>RMSE</th>\n",
       "      <th>MAE</th>\n",
       "      <th>MAPE</th>\n",
       "    </tr>\n",
       "  </thead>\n",
       "  <tbody>\n",
       "    <tr>\n",
       "      <th>train</th>\n",
       "      <td>0.009150</td>\n",
       "      <td>473.638776</td>\n",
       "      <td>21.763244</td>\n",
       "      <td>17.285450</td>\n",
       "      <td>8.699701</td>\n",
       "    </tr>\n",
       "    <tr>\n",
       "      <th>val</th>\n",
       "      <td>0.341046</td>\n",
       "      <td>314.658044</td>\n",
       "      <td>17.738603</td>\n",
       "      <td>12.930304</td>\n",
       "      <td>7.033138</td>\n",
       "    </tr>\n",
       "    <tr>\n",
       "      <th>test</th>\n",
       "      <td>0.087269</td>\n",
       "      <td>436.159967</td>\n",
       "      <td>20.884443</td>\n",
       "      <td>16.551554</td>\n",
       "      <td>8.438347</td>\n",
       "    </tr>\n",
       "  </tbody>\n",
       "</table>\n",
       "</div>"
      ],
      "text/plain": [
       "             R²         MSE       RMSE        MAE      MAPE\n",
       "train  0.009150  473.638776  21.763244  17.285450  8.699701\n",
       "val    0.341046  314.658044  17.738603  12.930304  7.033138\n",
       "test   0.087269  436.159967  20.884443  16.551554  8.438347"
      ]
     },
     "execution_count": 60,
     "metadata": {},
     "output_type": "execute_result"
    }
   ],
   "source": [
    "poly_lasso_metrics = pd.DataFrame({\n",
    "    'train': poly_lasso_train_metrics,\n",
    "    'val': poly_lasso_val_metrics,\n",
    "    'test': poly_lasso_test_metrics\n",
    "})\n",
    "\n",
    "poly_lasso_metrics = poly_lasso_metrics.T\n",
    "poly_lasso_metrics"
   ]
  },
  {
   "cell_type": "markdown",
   "id": "7d2fdaa7-6ebf-4306-a91f-b49033918531",
   "metadata": {},
   "source": [
    "## 3.9 - Polynomial Regression Ridge"
   ]
  },
  {
   "cell_type": "markdown",
   "id": "e9f92e00-5907-464d-8687-c68076e6fa8f",
   "metadata": {},
   "source": [
    "### 3.9.1 - Training"
   ]
  },
  {
   "cell_type": "code",
   "execution_count": 61,
   "id": "df3976f0-b59a-4b58-a3ea-bfe696d6ab2a",
   "metadata": {},
   "outputs": [
    {
     "data": {
      "text/plain": [
       "{'R²': 0.09317140761274356,\n",
       " 'MSE': 433.47545690992735,\n",
       " 'RMSE': 20.820073412693034,\n",
       " 'MAE': 16.471971837686485,\n",
       " 'MAPE': 8.372689165744584}"
      ]
     },
     "execution_count": 61,
     "metadata": {},
     "output_type": "execute_result"
    }
   ],
   "source": [
    "# Define polynomial model\n",
    "poly = PolynomialFeatures()\n",
    "X_poly_train = poly.fit_transform(X_train)\n",
    "\n",
    "# Model Definition\n",
    "poly_ridge = Ridge()\n",
    "\n",
    "# Training\n",
    "poly_ridge.fit(X_poly_train, y_train)\n",
    "\n",
    "# Performance\n",
    "yhat_train = poly_ridge.predict(X_poly_train)\n",
    "\n",
    "poly_ridge_train_metrics = calculate_metrics(y_train, yhat_train)\n",
    "poly_ridge_train_metrics"
   ]
  },
  {
   "cell_type": "markdown",
   "id": "c2614844-ad18-4714-8977-72bced62c787",
   "metadata": {},
   "source": [
    "### 3.9.2 - Validation"
   ]
  },
  {
   "cell_type": "code",
   "execution_count": 63,
   "id": "bf5b00d2-1fcb-46d8-b57a-45702fd0d21d",
   "metadata": {
    "scrolled": true
   },
   "outputs": [
    {
     "name": "stdout",
     "output_type": "stream",
     "text": [
      "\n",
      "Best parameters: {'max_depth': 34, 'n_estimators': 600}\n"
     ]
    },
    {
     "name": "stderr",
     "output_type": "stream",
     "text": [
      "[Parallel(n_jobs=1)]: Done  31 tasks      | elapsed:    0.4s\n",
      "[Parallel(n_jobs=1)]: Done 127 tasks      | elapsed:    2.2s\n",
      "[Parallel(n_jobs=1)]: Done 287 tasks      | elapsed:    3.4s\n",
      "[Parallel(n_jobs=1)]: Done 511 tasks      | elapsed:    5.1s\n"
     ]
    },
    {
     "name": "stdout",
     "output_type": "stream",
     "text": [
      "Metrics on the validation set:\n"
     ]
    },
    {
     "data": {
      "text/plain": [
       "{'R²': 0.34104629968710454,\n",
       " 'MSE': 314.65804364111835,\n",
       " 'RMSE': 17.738603204342734,\n",
       " 'MAE': 12.930303888184845,\n",
       " 'MAPE': 7.033137554926378}"
      ]
     },
     "execution_count": 63,
     "metadata": {},
     "output_type": "execute_result"
    }
   ],
   "source": [
    "# Define the parameter grid\n",
    "param_grid = {\n",
    "    'poly__degree': [1,2,3],  # Polynomial degree\n",
    "    'ridge__alpha': [0, 0.1, 0.2, 0.3],  # Ridge alpha\n",
    "    'ridge__max_iter': [100, 200, 300]  # Ridge max_iter\n",
    "}\n",
    "\n",
    "# Create the pipeline\n",
    "pipeline = Pipeline([\n",
    "    ('poly', PolynomialFeatures()),  # Polynomial features\n",
    "    ('ridge', Ridge())  # Ridge regression\n",
    "])\n",
    "\n",
    "# Set up GridSearchCV\n",
    "grid_search = GridSearchCV(pipeline, param_grid, cv=5, scoring='r2')\n",
    "\n",
    "# Fit GridSearchCV\n",
    "grid_search.fit(X_train, y_train)\n",
    "\n",
    "# Extract the best parameters and metrics\n",
    "poly_ridge_rf_best_params_val = grid_search.best_params_\n",
    "poly_ridge_rf_best_score_val  = grid_search.best_score_\n",
    "poly_ridge_rf_best_model_val  = grid_search.best_estimator_\n",
    "\n",
    "print(f'\\nBest parameters: {best_params}')\n",
    "\n",
    "# Use the best model to predict on the validation set\n",
    "yhat_val = best_model.predict(X_val)\n",
    "\n",
    "# Calculate and print metrics on the validation set\n",
    "poly_ridge_val_metrics = calculate_metrics(y_val, yhat_val)\n",
    "print('Metrics on the validation set:')\n",
    "poly_ridge_val_metrics"
   ]
  },
  {
   "cell_type": "markdown",
   "id": "3c744a87-b6bc-4e2a-8b57-5e7f89c2d65f",
   "metadata": {},
   "source": [
    "### 3.9.3 - Test"
   ]
  },
  {
   "cell_type": "code",
   "execution_count": 64,
   "id": "cf1a5abe-e1f8-4b01-998c-e21d265fc2dc",
   "metadata": {},
   "outputs": [
    {
     "data": {
      "text/plain": [
       "{'R²': 0.08828193754812452,\n",
       " 'MSE': 435.6757156217005,\n",
       " 'RMSE': 20.87284637086424,\n",
       " 'MAE': 16.541496752693874,\n",
       " 'MAPE': 8.428237504187727}"
      ]
     },
     "execution_count": 64,
     "metadata": {},
     "output_type": "execute_result"
    }
   ],
   "source": [
    "# Define polynomial model\n",
    "poly = PolynomialFeatures(degree=poly_ridge_rf_best_params_val['poly__degree'])\n",
    "X_poly_train_val = poly.fit_transform(X_train_val)\n",
    "\n",
    "# Model Definition\n",
    "poly_ridge = Ridge(\n",
    "    random_state=0,\n",
    "    alpha=poly_ridge_rf_best_params_val['ridge__alpha'],\n",
    "    max_iter=poly_ridge_rf_best_params_val['ridge__max_iter']\n",
    ")\n",
    "\n",
    "# Training\n",
    "poly_ridge.fit(X_poly_train_val, y_train_val)\n",
    "\n",
    "# Performance\n",
    "yhat_test = poly_ridge.predict(X_poly_train_val)\n",
    "\n",
    "poly_ridge_test_metrics = calculate_metrics(y_train_val, yhat_test)\n",
    "poly_ridge_test_metrics"
   ]
  },
  {
   "cell_type": "markdown",
   "id": "ac038537-48e4-460a-940c-2f63efb41234",
   "metadata": {},
   "source": [
    "### 3.9.4 - Results"
   ]
  },
  {
   "cell_type": "code",
   "execution_count": 65,
   "id": "a6937fe1-3e99-4d86-9459-b0d7decd3a54",
   "metadata": {},
   "outputs": [
    {
     "data": {
      "text/html": [
       "<div>\n",
       "<style scoped>\n",
       "    .dataframe tbody tr th:only-of-type {\n",
       "        vertical-align: middle;\n",
       "    }\n",
       "\n",
       "    .dataframe tbody tr th {\n",
       "        vertical-align: top;\n",
       "    }\n",
       "\n",
       "    .dataframe thead th {\n",
       "        text-align: right;\n",
       "    }\n",
       "</style>\n",
       "<table border=\"1\" class=\"dataframe\">\n",
       "  <thead>\n",
       "    <tr style=\"text-align: right;\">\n",
       "      <th></th>\n",
       "      <th>R²</th>\n",
       "      <th>MSE</th>\n",
       "      <th>RMSE</th>\n",
       "      <th>MAE</th>\n",
       "      <th>MAPE</th>\n",
       "    </tr>\n",
       "  </thead>\n",
       "  <tbody>\n",
       "    <tr>\n",
       "      <th>train</th>\n",
       "      <td>0.093171</td>\n",
       "      <td>433.475457</td>\n",
       "      <td>20.820073</td>\n",
       "      <td>16.471972</td>\n",
       "      <td>8.372689</td>\n",
       "    </tr>\n",
       "    <tr>\n",
       "      <th>val</th>\n",
       "      <td>0.341046</td>\n",
       "      <td>314.658044</td>\n",
       "      <td>17.738603</td>\n",
       "      <td>12.930304</td>\n",
       "      <td>7.033138</td>\n",
       "    </tr>\n",
       "    <tr>\n",
       "      <th>test</th>\n",
       "      <td>0.088282</td>\n",
       "      <td>435.675716</td>\n",
       "      <td>20.872846</td>\n",
       "      <td>16.541497</td>\n",
       "      <td>8.428238</td>\n",
       "    </tr>\n",
       "  </tbody>\n",
       "</table>\n",
       "</div>"
      ],
      "text/plain": [
       "             R²         MSE       RMSE        MAE      MAPE\n",
       "train  0.093171  433.475457  20.820073  16.471972  8.372689\n",
       "val    0.341046  314.658044  17.738603  12.930304  7.033138\n",
       "test   0.088282  435.675716  20.872846  16.541497  8.428238"
      ]
     },
     "execution_count": 65,
     "metadata": {},
     "output_type": "execute_result"
    }
   ],
   "source": [
    "poly_ridge_metrics = pd.DataFrame({\n",
    "    'train': poly_ridge_train_metrics,\n",
    "    'val': poly_ridge_val_metrics,\n",
    "    'test': poly_ridge_test_metrics\n",
    "})\n",
    "\n",
    "poly_ridge_metrics = poly_ridge_metrics.T\n",
    "poly_ridge_metrics"
   ]
  },
  {
   "cell_type": "markdown",
   "id": "f0b814a2-80f5-49c1-90a5-b1dffb35c17d",
   "metadata": {},
   "source": [
    "## 3.10 - Polynomial Regression ElasticNet"
   ]
  },
  {
   "cell_type": "markdown",
   "id": "4615f1b4-e730-4e74-b757-f8a1c624604b",
   "metadata": {},
   "source": [
    "### 3.10.1 - Training"
   ]
  },
  {
   "cell_type": "code",
   "execution_count": 66,
   "id": "d6af9fbf-ba53-4f61-ab0c-ab9a04c28dcf",
   "metadata": {},
   "outputs": [
    {
     "data": {
      "text/plain": [
       "{'R²': 0.012832763427018778,\n",
       " 'MSE': 471.8783378824533,\n",
       " 'RMSE': 21.722760825513255,\n",
       " 'MAE': 17.244236014680347,\n",
       " 'MAPE': 8.678785850035073}"
      ]
     },
     "execution_count": 66,
     "metadata": {},
     "output_type": "execute_result"
    }
   ],
   "source": [
    "# Define polynomial model\n",
    "poly = PolynomialFeatures()\n",
    "X_poly_train = poly.fit_transform(X_train)\n",
    "\n",
    "# Model Definition\n",
    "poly_elasticnet = ElasticNet()\n",
    "\n",
    "# Training\n",
    "poly_elasticnet.fit(X_poly_train, y_train)\n",
    "\n",
    "# Performance\n",
    "yhat_train = poly_elasticnet.predict(X_poly_train)\n",
    "\n",
    "poly_elasticnet_train_metrics = calculate_metrics(y_train, yhat_train)\n",
    "poly_elasticnet_train_metrics"
   ]
  },
  {
   "cell_type": "markdown",
   "id": "b8ae89a8-0ea9-439f-83ed-404b60c53e07",
   "metadata": {},
   "source": [
    "### 3.10.2 - Validation"
   ]
  },
  {
   "cell_type": "code",
   "execution_count": 69,
   "id": "68d46c89-93fb-4731-8c64-52560cd53e23",
   "metadata": {
    "scrolled": true
   },
   "outputs": [
    {
     "name": "stdout",
     "output_type": "stream",
     "text": [
      "\n",
      "Best parameters: {'elasticnet__alpha': 0.1, 'elasticnet__l1_ratio': 0.8, 'elasticnet__max_iter': 100, 'poly__degree': 2}\n",
      "Metrics on the validation set:\n"
     ]
    },
    {
     "data": {
      "text/plain": [
       "{'R²': 0.05613123540308984,\n",
       " 'MSE': 450.7082952580712,\n",
       " 'RMSE': 21.2298915507845,\n",
       " 'MAE': 16.831713756659383,\n",
       " 'MAPE': 8.65523713222475}"
      ]
     },
     "execution_count": 69,
     "metadata": {},
     "output_type": "execute_result"
    }
   ],
   "source": [
    "# Define the parameter grid\n",
    "param_grid = {\n",
    "    'poly__degree': [1, 2, 3],  # Polynomial degree\n",
    "    'elasticnet__alpha': [0.1, 0.5, 1.0],  # ElasticNet alpha\n",
    "    'elasticnet__l1_ratio': [0.2, 0.5, 0.8],  # ElasticNet l1_ratio\n",
    "    'elasticnet__max_iter': [100, 200, 300]  # ElasticNet max_iter\n",
    "}\n",
    "\n",
    "# Create the pipeline\n",
    "pipeline = Pipeline([\n",
    "    ('poly', PolynomialFeatures()),  # Polynomial features\n",
    "    ('elasticnet', ElasticNet())  # ElasticNet regression\n",
    "])\n",
    "\n",
    "# Set up GridSearchCV\n",
    "grid_search = GridSearchCV(pipeline, param_grid, cv=5, scoring='r2')\n",
    "\n",
    "# Fit GridSearchCV\n",
    "grid_search.fit(X_train, y_train)\n",
    "\n",
    "# Extract the best parameters and metrics\n",
    "poly_elasticnet_best_params_val = grid_search.best_params_\n",
    "poly_elasticnet_best_score_val  = grid_search.best_score_\n",
    "poly_elasticnet_best_model_val  = grid_search.best_estimator_\n",
    "\n",
    "print(f'\\nBest parameters: {poly_elasticnet_best_params_val}')\n",
    "\n",
    "# Use the best model to predict on the validation set\n",
    "yhat_val = poly_elasticnet_best_model_val.predict(X_val)\n",
    "\n",
    "# Calculate and print metrics on the validation set\n",
    "poly_elasticnet_val_metrics = calculate_metrics(y_val, yhat_val)\n",
    "print('Metrics on the validation set:')\n",
    "poly_elasticnet_val_metrics"
   ]
  },
  {
   "cell_type": "markdown",
   "id": "f22c66c6-47fa-4bb1-b867-1c857eaba39a",
   "metadata": {},
   "source": [
    "### 3.10.3 - Test"
   ]
  },
  {
   "cell_type": "code",
   "execution_count": 72,
   "id": "a099b887-fd4a-4c97-a776-301de6fb25e6",
   "metadata": {},
   "outputs": [
    {
     "data": {
      "text/plain": [
       "{'R²': 0.06127463023377222,\n",
       " 'MSE': 448.58149036258067,\n",
       " 'RMSE': 21.17974245269712,\n",
       " 'MAE': 16.802161479317814,\n",
       " 'MAPE': 8.58271307973785}"
      ]
     },
     "execution_count": 72,
     "metadata": {},
     "output_type": "execute_result"
    }
   ],
   "source": [
    "# Define polynomial model\n",
    "poly = PolynomialFeatures(degree=poly_elasticnet_best_params_val['poly__degree'])\n",
    "X_poly_train_val = poly.fit_transform(X_train_val)\n",
    "\n",
    "# Model Definition\n",
    "poly_elasticnet = ElasticNet(\n",
    "    random_state=0,\n",
    "    alpha=poly_elasticnet_best_params_val['elasticnet__alpha'],\n",
    "    l1_ratio=poly_elasticnet_best_params_val['elasticnet__l1_ratio'],\n",
    "    max_iter=poly_elasticnet_best_params_val['elasticnet__max_iter']\n",
    ")\n",
    "\n",
    "# Training\n",
    "poly_elasticnet.fit(X_poly_train_val, y_train_val)\n",
    "\n",
    "# Performance\n",
    "yhat_test = poly_elasticnet.predict(X_poly_train_val)\n",
    "\n",
    "# Calculate and store metrics for the test set\n",
    "poly_elasticnet_test_metrics = calculate_metrics(y_train_val, yhat_test)\n",
    "poly_elasticnet_test_metrics"
   ]
  },
  {
   "cell_type": "markdown",
   "id": "a50e4740-669a-44d6-9303-f135c95ffb15",
   "metadata": {},
   "source": [
    "### 3.10.4 - Results"
   ]
  },
  {
   "cell_type": "code",
   "execution_count": 73,
   "id": "01c84dd5-c4ec-447b-a632-848c419bcca2",
   "metadata": {},
   "outputs": [
    {
     "data": {
      "text/html": [
       "<div>\n",
       "<style scoped>\n",
       "    .dataframe tbody tr th:only-of-type {\n",
       "        vertical-align: middle;\n",
       "    }\n",
       "\n",
       "    .dataframe tbody tr th {\n",
       "        vertical-align: top;\n",
       "    }\n",
       "\n",
       "    .dataframe thead th {\n",
       "        text-align: right;\n",
       "    }\n",
       "</style>\n",
       "<table border=\"1\" class=\"dataframe\">\n",
       "  <thead>\n",
       "    <tr style=\"text-align: right;\">\n",
       "      <th></th>\n",
       "      <th>R²</th>\n",
       "      <th>MSE</th>\n",
       "      <th>RMSE</th>\n",
       "      <th>MAE</th>\n",
       "      <th>MAPE</th>\n",
       "    </tr>\n",
       "  </thead>\n",
       "  <tbody>\n",
       "    <tr>\n",
       "      <th>train</th>\n",
       "      <td>0.012833</td>\n",
       "      <td>471.878338</td>\n",
       "      <td>21.722761</td>\n",
       "      <td>17.244236</td>\n",
       "      <td>8.678786</td>\n",
       "    </tr>\n",
       "    <tr>\n",
       "      <th>val</th>\n",
       "      <td>0.056131</td>\n",
       "      <td>450.708295</td>\n",
       "      <td>21.229892</td>\n",
       "      <td>16.831714</td>\n",
       "      <td>8.655237</td>\n",
       "    </tr>\n",
       "    <tr>\n",
       "      <th>test</th>\n",
       "      <td>0.061275</td>\n",
       "      <td>448.581490</td>\n",
       "      <td>21.179742</td>\n",
       "      <td>16.802161</td>\n",
       "      <td>8.582713</td>\n",
       "    </tr>\n",
       "  </tbody>\n",
       "</table>\n",
       "</div>"
      ],
      "text/plain": [
       "             R²         MSE       RMSE        MAE      MAPE\n",
       "train  0.012833  471.878338  21.722761  17.244236  8.678786\n",
       "val    0.056131  450.708295  21.229892  16.831714  8.655237\n",
       "test   0.061275  448.581490  21.179742  16.802161  8.582713"
      ]
     },
     "execution_count": 73,
     "metadata": {},
     "output_type": "execute_result"
    }
   ],
   "source": [
    "poly_elasticnet_metrics = pd.DataFrame({\n",
    "    'train': poly_elasticnet_train_metrics,\n",
    "    'val': poly_elasticnet_val_metrics,\n",
    "    'test': poly_elasticnet_test_metrics\n",
    "})\n",
    "\n",
    "poly_elasticnet_metrics = poly_elasticnet_metrics.T\n",
    "poly_elasticnet_metrics"
   ]
  },
  {
   "cell_type": "markdown",
   "id": "d5cee359-9fa5-49c7-88f6-14444fcb86a6",
   "metadata": {},
   "source": [
    "# 4 - Trial results\n"
   ]
  },
  {
   "cell_type": "markdown",
   "id": "eb240465-cdc2-4e70-be4b-c376fcaae1c9",
   "metadata": {},
   "source": [
    "#### On the Training data "
   ]
  },
  {
   "cell_type": "code",
   "execution_count": 74,
   "id": "6b766c40-c178-4397-8ea7-342bce33ca0d",
   "metadata": {},
   "outputs": [
    {
     "data": {
      "text/html": [
       "<style type=\"text/css\">\n",
       "#T_a20d3_row0_col0, #T_a20d3_row5_col0 {\n",
       "  background-color: #465ecf;\n",
       "  color: #f1f1f1;\n",
       "}\n",
       "#T_a20d3_row0_col1, #T_a20d3_row5_col1, #T_a20d3_row8_col4 {\n",
       "  background-color: #c32e31;\n",
       "  color: #f1f1f1;\n",
       "}\n",
       "#T_a20d3_row0_col2, #T_a20d3_row5_col2 {\n",
       "  background-color: #bb1b2c;\n",
       "  color: #f1f1f1;\n",
       "}\n",
       "#T_a20d3_row0_col3, #T_a20d3_row5_col3 {\n",
       "  background-color: #ba162b;\n",
       "  color: #f1f1f1;\n",
       "}\n",
       "#T_a20d3_row0_col4, #T_a20d3_row5_col4 {\n",
       "  background-color: #b70d28;\n",
       "  color: #f1f1f1;\n",
       "}\n",
       "#T_a20d3_row1_col0, #T_a20d3_row4_col1, #T_a20d3_row4_col2, #T_a20d3_row4_col3, #T_a20d3_row4_col4, #T_a20d3_row6_col1, #T_a20d3_row6_col2, #T_a20d3_row6_col3, #T_a20d3_row6_col4, #T_a20d3_row7_col1, #T_a20d3_row7_col2, #T_a20d3_row7_col3, #T_a20d3_row9_col2, #T_a20d3_row9_col3 {\n",
       "  background-color: #b40426;\n",
       "  color: #f1f1f1;\n",
       "}\n",
       "#T_a20d3_row1_col1, #T_a20d3_row1_col2, #T_a20d3_row1_col3, #T_a20d3_row1_col4, #T_a20d3_row4_col0, #T_a20d3_row6_col0, #T_a20d3_row7_col0 {\n",
       "  background-color: #3b4cc0;\n",
       "  color: #f1f1f1;\n",
       "}\n",
       "#T_a20d3_row2_col0 {\n",
       "  background-color: #d44e41;\n",
       "  color: #f1f1f1;\n",
       "}\n",
       "#T_a20d3_row2_col1 {\n",
       "  background-color: #5673e0;\n",
       "  color: #f1f1f1;\n",
       "}\n",
       "#T_a20d3_row2_col2 {\n",
       "  background-color: #8badfd;\n",
       "  color: #000000;\n",
       "}\n",
       "#T_a20d3_row2_col3 {\n",
       "  background-color: #94b6ff;\n",
       "  color: #000000;\n",
       "}\n",
       "#T_a20d3_row2_col4 {\n",
       "  background-color: #9abbff;\n",
       "  color: #000000;\n",
       "}\n",
       "#T_a20d3_row3_col0, #T_a20d3_row8_col0 {\n",
       "  background-color: #5572df;\n",
       "  color: #f1f1f1;\n",
       "}\n",
       "#T_a20d3_row3_col1, #T_a20d3_row8_col1 {\n",
       "  background-color: #d24b40;\n",
       "  color: #f1f1f1;\n",
       "}\n",
       "#T_a20d3_row3_col2, #T_a20d3_row3_col3, #T_a20d3_row8_col2, #T_a20d3_row8_col3 {\n",
       "  background-color: #c53334;\n",
       "  color: #f1f1f1;\n",
       "}\n",
       "#T_a20d3_row3_col4 {\n",
       "  background-color: #c43032;\n",
       "  color: #f1f1f1;\n",
       "}\n",
       "#T_a20d3_row7_col4, #T_a20d3_row9_col1, #T_a20d3_row9_col4 {\n",
       "  background-color: #b50927;\n",
       "  color: #f1f1f1;\n",
       "}\n",
       "#T_a20d3_row9_col0 {\n",
       "  background-color: #3c4ec2;\n",
       "  color: #f1f1f1;\n",
       "}\n",
       "</style>\n",
       "<table id=\"T_a20d3\">\n",
       "  <thead>\n",
       "    <tr>\n",
       "      <th class=\"blank level0\" >&nbsp;</th>\n",
       "      <th id=\"T_a20d3_level0_col0\" class=\"col_heading level0 col0\" >R²</th>\n",
       "      <th id=\"T_a20d3_level0_col1\" class=\"col_heading level0 col1\" >MSE</th>\n",
       "      <th id=\"T_a20d3_level0_col2\" class=\"col_heading level0 col2\" >RMSE</th>\n",
       "      <th id=\"T_a20d3_level0_col3\" class=\"col_heading level0 col3\" >MAE</th>\n",
       "      <th id=\"T_a20d3_level0_col4\" class=\"col_heading level0 col4\" >MAPE</th>\n",
       "    </tr>\n",
       "  </thead>\n",
       "  <tbody>\n",
       "    <tr>\n",
       "      <th id=\"T_a20d3_level0_row0\" class=\"row_heading level0 row0\" >Linear Regression</th>\n",
       "      <td id=\"T_a20d3_row0_col0\" class=\"data row0 col0\" >0.046058</td>\n",
       "      <td id=\"T_a20d3_row0_col1\" class=\"data row0 col1\" >455.996112</td>\n",
       "      <td id=\"T_a20d3_row0_col2\" class=\"data row0 col2\" >21.354065</td>\n",
       "      <td id=\"T_a20d3_row0_col3\" class=\"data row0 col3\" >16.998249</td>\n",
       "      <td id=\"T_a20d3_row0_col4\" class=\"data row0 col4\" >8.653186</td>\n",
       "    </tr>\n",
       "    <tr>\n",
       "      <th id=\"T_a20d3_level0_row1\" class=\"row_heading level0 row1\" >Decision Tree Regressor</th>\n",
       "      <td id=\"T_a20d3_row1_col0\" class=\"data row1 col0\" >0.991757</td>\n",
       "      <td id=\"T_a20d3_row1_col1\" class=\"data row1 col1\" >3.940403</td>\n",
       "      <td id=\"T_a20d3_row1_col2\" class=\"data row1 col2\" >1.985045</td>\n",
       "      <td id=\"T_a20d3_row1_col3\" class=\"data row1 col3\" >0.214099</td>\n",
       "      <td id=\"T_a20d3_row1_col4\" class=\"data row1 col4\" >0.082628</td>\n",
       "    </tr>\n",
       "    <tr>\n",
       "      <th id=\"T_a20d3_level0_row2\" class=\"row_heading level0 row2\" >Random Forest Regressor</th>\n",
       "      <td id=\"T_a20d3_row2_col0\" class=\"data row2 col0\" >0.902817</td>\n",
       "      <td id=\"T_a20d3_row2_col1\" class=\"data row2 col1\" >46.454750</td>\n",
       "      <td id=\"T_a20d3_row2_col2\" class=\"data row2 col2\" >6.815772</td>\n",
       "      <td id=\"T_a20d3_row2_col3\" class=\"data row2 col3\" >4.860773</td>\n",
       "      <td id=\"T_a20d3_row2_col4\" class=\"data row2 col4\" >2.577959</td>\n",
       "    </tr>\n",
       "    <tr>\n",
       "      <th id=\"T_a20d3_level0_row3\" class=\"row_heading level0 row3\" >Polynomial Regression</th>\n",
       "      <td id=\"T_a20d3_row3_col0\" class=\"data row3 col0\" >0.094195</td>\n",
       "      <td id=\"T_a20d3_row3_col1\" class=\"data row3 col1\" >432.986210</td>\n",
       "      <td id=\"T_a20d3_row3_col2\" class=\"data row3 col2\" >20.808321</td>\n",
       "      <td id=\"T_a20d3_row3_col3\" class=\"data row3 col3\" >16.458032</td>\n",
       "      <td id=\"T_a20d3_row3_col4\" class=\"data row3 col4\" >8.350540</td>\n",
       "    </tr>\n",
       "    <tr>\n",
       "      <th id=\"T_a20d3_level0_row4\" class=\"row_heading level0 row4\" >Linear Regression Lasso</th>\n",
       "      <td id=\"T_a20d3_row4_col0\" class=\"data row4 col0\" >0.007401</td>\n",
       "      <td id=\"T_a20d3_row4_col1\" class=\"data row4 col1\" >474.474834</td>\n",
       "      <td id=\"T_a20d3_row4_col2\" class=\"data row4 col2\" >21.782443</td>\n",
       "      <td id=\"T_a20d3_row4_col3\" class=\"data row4 col3\" >17.305484</td>\n",
       "      <td id=\"T_a20d3_row4_col4\" class=\"data row4 col4\" >8.736697</td>\n",
       "    </tr>\n",
       "    <tr>\n",
       "      <th id=\"T_a20d3_level0_row5\" class=\"row_heading level0 row5\" >Linear Regression Ridge</th>\n",
       "      <td id=\"T_a20d3_row5_col0\" class=\"data row5 col0\" >0.046058</td>\n",
       "      <td id=\"T_a20d3_row5_col1\" class=\"data row5 col1\" >455.996401</td>\n",
       "      <td id=\"T_a20d3_row5_col2\" class=\"data row5 col2\" >21.354072</td>\n",
       "      <td id=\"T_a20d3_row5_col3\" class=\"data row5 col3\" >16.998308</td>\n",
       "      <td id=\"T_a20d3_row5_col4\" class=\"data row5 col4\" >8.653415</td>\n",
       "    </tr>\n",
       "    <tr>\n",
       "      <th id=\"T_a20d3_level0_row6\" class=\"row_heading level0 row6\" >Linear Regression ElasticNet</th>\n",
       "      <td id=\"T_a20d3_row6_col0\" class=\"data row6 col0\" >0.007832</td>\n",
       "      <td id=\"T_a20d3_row6_col1\" class=\"data row6 col1\" >474.268889</td>\n",
       "      <td id=\"T_a20d3_row6_col2\" class=\"data row6 col2\" >21.777715</td>\n",
       "      <td id=\"T_a20d3_row6_col3\" class=\"data row6 col3\" >17.299507</td>\n",
       "      <td id=\"T_a20d3_row6_col4\" class=\"data row6 col4\" >8.732300</td>\n",
       "    </tr>\n",
       "    <tr>\n",
       "      <th id=\"T_a20d3_level0_row7\" class=\"row_heading level0 row7\" >Polynomial Regression Lasso</th>\n",
       "      <td id=\"T_a20d3_row7_col0\" class=\"data row7 col0\" >0.009150</td>\n",
       "      <td id=\"T_a20d3_row7_col1\" class=\"data row7 col1\" >473.638776</td>\n",
       "      <td id=\"T_a20d3_row7_col2\" class=\"data row7 col2\" >21.763244</td>\n",
       "      <td id=\"T_a20d3_row7_col3\" class=\"data row7 col3\" >17.285450</td>\n",
       "      <td id=\"T_a20d3_row7_col4\" class=\"data row7 col4\" >8.699701</td>\n",
       "    </tr>\n",
       "    <tr>\n",
       "      <th id=\"T_a20d3_level0_row8\" class=\"row_heading level0 row8\" >Polynomial Regression Ridge</th>\n",
       "      <td id=\"T_a20d3_row8_col0\" class=\"data row8 col0\" >0.093171</td>\n",
       "      <td id=\"T_a20d3_row8_col1\" class=\"data row8 col1\" >433.475457</td>\n",
       "      <td id=\"T_a20d3_row8_col2\" class=\"data row8 col2\" >20.820073</td>\n",
       "      <td id=\"T_a20d3_row8_col3\" class=\"data row8 col3\" >16.471972</td>\n",
       "      <td id=\"T_a20d3_row8_col4\" class=\"data row8 col4\" >8.372689</td>\n",
       "    </tr>\n",
       "    <tr>\n",
       "      <th id=\"T_a20d3_level0_row9\" class=\"row_heading level0 row9\" >Polynomial Regression ElasticNet</th>\n",
       "      <td id=\"T_a20d3_row9_col0\" class=\"data row9 col0\" >0.012833</td>\n",
       "      <td id=\"T_a20d3_row9_col1\" class=\"data row9 col1\" >471.878338</td>\n",
       "      <td id=\"T_a20d3_row9_col2\" class=\"data row9 col2\" >21.722761</td>\n",
       "      <td id=\"T_a20d3_row9_col3\" class=\"data row9 col3\" >17.244236</td>\n",
       "      <td id=\"T_a20d3_row9_col4\" class=\"data row9 col4\" >8.678786</td>\n",
       "    </tr>\n",
       "  </tbody>\n",
       "</table>\n"
      ],
      "text/plain": [
       "<pandas.io.formats.style.Styler at 0x7f5aca54c4d0>"
      ]
     },
     "execution_count": 74,
     "metadata": {},
     "output_type": "execute_result"
    }
   ],
   "source": [
    "train_metrics_df = pd.DataFrame({\n",
    "    'Linear Regression': lin_reg_train_metrics,\n",
    "    'Decision Tree Regressor': dt_reg_train_metrics,\n",
    "    'Random Forest Regressor': rf_reg_train_metrics,\n",
    "    'Polynomial Regression': pol_reg_train_metrics,\n",
    "    'Linear Regression Lasso': lasso_train_metrics,\n",
    "    'Linear Regression Ridge': ridge_train_metrics,\n",
    "    'Linear Regression ElasticNet': elasticnet_train_metrics,\n",
    "    'Polynomial Regression Lasso': poly_lasso_train_metrics,\n",
    "    'Polynomial Regression Ridge': poly_ridge_train_metrics,\n",
    "    'Polynomial Regression ElasticNet': poly_elasticnet_train_metrics\n",
    "}).T\n",
    "\n",
    "train_metrics_df.style.background_gradient(cmap='coolwarm')"
   ]
  },
  {
   "cell_type": "markdown",
   "id": "437a84bf-fa0a-4d3c-b71b-29c6cacf6bf5",
   "metadata": {},
   "source": [
    "#### On the Validation data"
   ]
  },
  {
   "cell_type": "code",
   "execution_count": 75,
   "id": "bbe5945f-1124-4893-bc49-265e6496fd13",
   "metadata": {},
   "outputs": [
    {
     "data": {
      "text/html": [
       "<style type=\"text/css\">\n",
       "#T_ca207_row0_col0, #T_ca207_row2_col1, #T_ca207_row2_col2, #T_ca207_row2_col3, #T_ca207_row2_col4, #T_ca207_row4_col0, #T_ca207_row5_col0, #T_ca207_row6_col0, #T_ca207_row7_col1, #T_ca207_row7_col2, #T_ca207_row7_col3, #T_ca207_row7_col4, #T_ca207_row8_col1, #T_ca207_row8_col2, #T_ca207_row8_col3, #T_ca207_row8_col4 {\n",
       "  background-color: #3b4cc0;\n",
       "  color: #f1f1f1;\n",
       "}\n",
       "#T_ca207_row0_col1, #T_ca207_row0_col2, #T_ca207_row0_col3, #T_ca207_row0_col4, #T_ca207_row2_col0, #T_ca207_row4_col1, #T_ca207_row4_col2, #T_ca207_row4_col3, #T_ca207_row4_col4, #T_ca207_row5_col1, #T_ca207_row5_col2, #T_ca207_row5_col3, #T_ca207_row5_col4, #T_ca207_row6_col1, #T_ca207_row6_col2, #T_ca207_row6_col3, #T_ca207_row6_col4, #T_ca207_row7_col0, #T_ca207_row8_col0 {\n",
       "  background-color: #b40426;\n",
       "  color: #f1f1f1;\n",
       "}\n",
       "#T_ca207_row1_col0 {\n",
       "  background-color: #536edd;\n",
       "  color: #f1f1f1;\n",
       "}\n",
       "#T_ca207_row1_col1, #T_ca207_row3_col2, #T_ca207_row3_col4 {\n",
       "  background-color: #d0473d;\n",
       "  color: #f1f1f1;\n",
       "}\n",
       "#T_ca207_row1_col2, #T_ca207_row3_col3 {\n",
       "  background-color: #cd423b;\n",
       "  color: #f1f1f1;\n",
       "}\n",
       "#T_ca207_row1_col3, #T_ca207_row9_col2, #T_ca207_row9_col3 {\n",
       "  background-color: #c53334;\n",
       "  color: #f1f1f1;\n",
       "}\n",
       "#T_ca207_row1_col4 {\n",
       "  background-color: #e9785d;\n",
       "  color: #f1f1f1;\n",
       "}\n",
       "#T_ca207_row3_col0 {\n",
       "  background-color: #5572df;\n",
       "  color: #f1f1f1;\n",
       "}\n",
       "#T_ca207_row3_col1 {\n",
       "  background-color: #d24b40;\n",
       "  color: #f1f1f1;\n",
       "}\n",
       "#T_ca207_row9_col0 {\n",
       "  background-color: #4a63d3;\n",
       "  color: #f1f1f1;\n",
       "}\n",
       "#T_ca207_row9_col1 {\n",
       "  background-color: #c73635;\n",
       "  color: #f1f1f1;\n",
       "}\n",
       "#T_ca207_row9_col4 {\n",
       "  background-color: #ba162b;\n",
       "  color: #f1f1f1;\n",
       "}\n",
       "</style>\n",
       "<table id=\"T_ca207\">\n",
       "  <thead>\n",
       "    <tr>\n",
       "      <th class=\"blank level0\" >&nbsp;</th>\n",
       "      <th id=\"T_ca207_level0_col0\" class=\"col_heading level0 col0\" >R²</th>\n",
       "      <th id=\"T_ca207_level0_col1\" class=\"col_heading level0 col1\" >MSE</th>\n",
       "      <th id=\"T_ca207_level0_col2\" class=\"col_heading level0 col2\" >RMSE</th>\n",
       "      <th id=\"T_ca207_level0_col3\" class=\"col_heading level0 col3\" >MAE</th>\n",
       "      <th id=\"T_ca207_level0_col4\" class=\"col_heading level0 col4\" >MAPE</th>\n",
       "    </tr>\n",
       "  </thead>\n",
       "  <tbody>\n",
       "    <tr>\n",
       "      <th id=\"T_ca207_level0_row0\" class=\"row_heading level0 row0\" >Linear Regression</th>\n",
       "      <td id=\"T_ca207_row0_col0\" class=\"data row0 col0\" >0.039925</td>\n",
       "      <td id=\"T_ca207_row0_col1\" class=\"data row0 col1\" >458.447042</td>\n",
       "      <td id=\"T_ca207_row0_col2\" class=\"data row0 col2\" >21.411376</td>\n",
       "      <td id=\"T_ca207_row0_col3\" class=\"data row0 col3\" >17.039754</td>\n",
       "      <td id=\"T_ca207_row0_col4\" class=\"data row0 col4\" >8.682542</td>\n",
       "    </tr>\n",
       "    <tr>\n",
       "      <th id=\"T_ca207_level0_row1\" class=\"row_heading level0 row1\" >Decision Tree Regressor</th>\n",
       "      <td id=\"T_ca207_row1_col0\" class=\"data row1 col0\" >0.063559</td>\n",
       "      <td id=\"T_ca207_row1_col1\" class=\"data row1 col1\" >447.161319</td>\n",
       "      <td id=\"T_ca207_row1_col2\" class=\"data row1 col2\" >21.146189</td>\n",
       "      <td id=\"T_ca207_row1_col3\" class=\"data row1 col3\" >16.843452</td>\n",
       "      <td id=\"T_ca207_row1_col4\" class=\"data row1 col4\" >8.395778</td>\n",
       "    </tr>\n",
       "    <tr>\n",
       "      <th id=\"T_ca207_level0_row2\" class=\"row_heading level0 row2\" >Random Forest Regressor</th>\n",
       "      <td id=\"T_ca207_row2_col0\" class=\"data row2 col0\" >0.341046</td>\n",
       "      <td id=\"T_ca207_row2_col1\" class=\"data row2 col1\" >314.658044</td>\n",
       "      <td id=\"T_ca207_row2_col2\" class=\"data row2 col2\" >17.738603</td>\n",
       "      <td id=\"T_ca207_row2_col3\" class=\"data row2 col3\" >12.930304</td>\n",
       "      <td id=\"T_ca207_row2_col4\" class=\"data row2 col4\" >7.033138</td>\n",
       "    </tr>\n",
       "    <tr>\n",
       "      <th id=\"T_ca207_level0_row3\" class=\"row_heading level0 row3\" >Polynomial Regression</th>\n",
       "      <td id=\"T_ca207_row3_col0\" class=\"data row3 col0\" >0.066477</td>\n",
       "      <td id=\"T_ca207_row3_col1\" class=\"data row3 col1\" >445.768223</td>\n",
       "      <td id=\"T_ca207_row3_col2\" class=\"data row3 col2\" >21.113224</td>\n",
       "      <td id=\"T_ca207_row3_col3\" class=\"data row3 col3\" >16.749939</td>\n",
       "      <td id=\"T_ca207_row3_col4\" class=\"data row3 col4\" >8.547931</td>\n",
       "    </tr>\n",
       "    <tr>\n",
       "      <th id=\"T_ca207_level0_row4\" class=\"row_heading level0 row4\" >Linear Regression Lasso</th>\n",
       "      <td id=\"T_ca207_row4_col0\" class=\"data row4 col0\" >0.039925</td>\n",
       "      <td id=\"T_ca207_row4_col1\" class=\"data row4 col1\" >458.447042</td>\n",
       "      <td id=\"T_ca207_row4_col2\" class=\"data row4 col2\" >21.411376</td>\n",
       "      <td id=\"T_ca207_row4_col3\" class=\"data row4 col3\" >17.039754</td>\n",
       "      <td id=\"T_ca207_row4_col4\" class=\"data row4 col4\" >8.682542</td>\n",
       "    </tr>\n",
       "    <tr>\n",
       "      <th id=\"T_ca207_level0_row5\" class=\"row_heading level0 row5\" >Linear Regression Ridge</th>\n",
       "      <td id=\"T_ca207_row5_col0\" class=\"data row5 col0\" >0.039930</td>\n",
       "      <td id=\"T_ca207_row5_col1\" class=\"data row5 col1\" >458.444785</td>\n",
       "      <td id=\"T_ca207_row5_col2\" class=\"data row5 col2\" >21.411324</td>\n",
       "      <td id=\"T_ca207_row5_col3\" class=\"data row5 col3\" >17.039331</td>\n",
       "      <td id=\"T_ca207_row5_col4\" class=\"data row5 col4\" >8.682349</td>\n",
       "    </tr>\n",
       "    <tr>\n",
       "      <th id=\"T_ca207_level0_row6\" class=\"row_heading level0 row6\" >Linear Regression Elastic Net</th>\n",
       "      <td id=\"T_ca207_row6_col0\" class=\"data row6 col0\" >0.039925</td>\n",
       "      <td id=\"T_ca207_row6_col1\" class=\"data row6 col1\" >458.447042</td>\n",
       "      <td id=\"T_ca207_row6_col2\" class=\"data row6 col2\" >21.411376</td>\n",
       "      <td id=\"T_ca207_row6_col3\" class=\"data row6 col3\" >17.039754</td>\n",
       "      <td id=\"T_ca207_row6_col4\" class=\"data row6 col4\" >8.682542</td>\n",
       "    </tr>\n",
       "    <tr>\n",
       "      <th id=\"T_ca207_level0_row7\" class=\"row_heading level0 row7\" >Polynomial Regression Lasso</th>\n",
       "      <td id=\"T_ca207_row7_col0\" class=\"data row7 col0\" >0.341046</td>\n",
       "      <td id=\"T_ca207_row7_col1\" class=\"data row7 col1\" >314.658044</td>\n",
       "      <td id=\"T_ca207_row7_col2\" class=\"data row7 col2\" >17.738603</td>\n",
       "      <td id=\"T_ca207_row7_col3\" class=\"data row7 col3\" >12.930304</td>\n",
       "      <td id=\"T_ca207_row7_col4\" class=\"data row7 col4\" >7.033138</td>\n",
       "    </tr>\n",
       "    <tr>\n",
       "      <th id=\"T_ca207_level0_row8\" class=\"row_heading level0 row8\" >Polynomial Regression Ridge</th>\n",
       "      <td id=\"T_ca207_row8_col0\" class=\"data row8 col0\" >0.341046</td>\n",
       "      <td id=\"T_ca207_row8_col1\" class=\"data row8 col1\" >314.658044</td>\n",
       "      <td id=\"T_ca207_row8_col2\" class=\"data row8 col2\" >17.738603</td>\n",
       "      <td id=\"T_ca207_row8_col3\" class=\"data row8 col3\" >12.930304</td>\n",
       "      <td id=\"T_ca207_row8_col4\" class=\"data row8 col4\" >7.033138</td>\n",
       "    </tr>\n",
       "    <tr>\n",
       "      <th id=\"T_ca207_level0_row9\" class=\"row_heading level0 row9\" >Polynomial Regression Elastic Net</th>\n",
       "      <td id=\"T_ca207_row9_col0\" class=\"data row9 col0\" >0.056131</td>\n",
       "      <td id=\"T_ca207_row9_col1\" class=\"data row9 col1\" >450.708295</td>\n",
       "      <td id=\"T_ca207_row9_col2\" class=\"data row9 col2\" >21.229892</td>\n",
       "      <td id=\"T_ca207_row9_col3\" class=\"data row9 col3\" >16.831714</td>\n",
       "      <td id=\"T_ca207_row9_col4\" class=\"data row9 col4\" >8.655237</td>\n",
       "    </tr>\n",
       "  </tbody>\n",
       "</table>\n"
      ],
      "text/plain": [
       "<pandas.io.formats.style.Styler at 0x7f5aca69ff80>"
      ]
     },
     "execution_count": 75,
     "metadata": {},
     "output_type": "execute_result"
    }
   ],
   "source": [
    "validation_metrics_df = pd.DataFrame({\n",
    "    'Linear Regression': lin_reg_val_metrics,\n",
    "    'Decision Tree Regressor': dt_reg_val_metrics,\n",
    "    'Random Forest Regressor': rf_reg_val_metrics,\n",
    "    'Polynomial Regression': pol_reg_val_metrics,\n",
    "    'Linear Regression Lasso': lasso_val_metrics_best,\n",
    "    'Linear Regression Ridge': ridge_val_metrics_best,\n",
    "    'Linear Regression Elastic Net': elasticnet_val_metrics_best,\n",
    "    'Polynomial Regression Lasso': poly_lasso_val_metrics,\n",
    "    'Polynomial Regression Ridge': poly_ridge_val_metrics,\n",
    "    'Polynomial Regression Elastic Net': poly_elasticnet_val_metrics\n",
    "}).T\n",
    "\n",
    "validation_metrics_df.style.background_gradient(cmap='coolwarm')"
   ]
  },
  {
   "cell_type": "markdown",
   "id": "1b18ecb3-5071-4d2f-bf6e-48275eea165c",
   "metadata": {},
   "source": [
    "#### On the Test data"
   ]
  },
  {
   "cell_type": "code",
   "execution_count": 76,
   "id": "642c504f-ef38-4c4d-bcf4-a92b35cdbe42",
   "metadata": {},
   "outputs": [
    {
     "data": {
      "text/html": [
       "<style type=\"text/css\">\n",
       "#T_e1e71_row0_col0, #T_e1e71_row2_col1, #T_e1e71_row2_col2, #T_e1e71_row2_col3, #T_e1e71_row2_col4, #T_e1e71_row4_col0, #T_e1e71_row5_col0, #T_e1e71_row6_col0 {\n",
       "  background-color: #3b4cc0;\n",
       "  color: #f1f1f1;\n",
       "}\n",
       "#T_e1e71_row0_col1, #T_e1e71_row0_col2, #T_e1e71_row0_col3, #T_e1e71_row2_col0, #T_e1e71_row4_col1, #T_e1e71_row4_col2, #T_e1e71_row4_col3, #T_e1e71_row5_col1, #T_e1e71_row5_col2, #T_e1e71_row5_col3, #T_e1e71_row6_col1, #T_e1e71_row6_col2, #T_e1e71_row6_col3, #T_e1e71_row9_col4 {\n",
       "  background-color: #b40426;\n",
       "  color: #f1f1f1;\n",
       "}\n",
       "#T_e1e71_row0_col4, #T_e1e71_row4_col4, #T_e1e71_row5_col4, #T_e1e71_row6_col4 {\n",
       "  background-color: #bb1b2c;\n",
       "  color: #f1f1f1;\n",
       "}\n",
       "#T_e1e71_row1_col0 {\n",
       "  background-color: #5d7ce6;\n",
       "  color: #f1f1f1;\n",
       "}\n",
       "#T_e1e71_row1_col1 {\n",
       "  background-color: #d95847;\n",
       "  color: #f1f1f1;\n",
       "}\n",
       "#T_e1e71_row1_col2 {\n",
       "  background-color: #d65244;\n",
       "  color: #f1f1f1;\n",
       "}\n",
       "#T_e1e71_row1_col3, #T_e1e71_row7_col4 {\n",
       "  background-color: #cb3e38;\n",
       "  color: #f1f1f1;\n",
       "}\n",
       "#T_e1e71_row1_col4 {\n",
       "  background-color: #f7b093;\n",
       "  color: #000000;\n",
       "}\n",
       "#T_e1e71_row3_col0, #T_e1e71_row8_col0 {\n",
       "  background-color: #5a78e4;\n",
       "  color: #f1f1f1;\n",
       "}\n",
       "#T_e1e71_row3_col1, #T_e1e71_row7_col1, #T_e1e71_row8_col1 {\n",
       "  background-color: #e36c55;\n",
       "  color: #f1f1f1;\n",
       "}\n",
       "#T_e1e71_row3_col2, #T_e1e71_row8_col2 {\n",
       "  background-color: #e16751;\n",
       "  color: #f1f1f1;\n",
       "}\n",
       "#T_e1e71_row3_col3, #T_e1e71_row8_col3 {\n",
       "  background-color: #dd5f4b;\n",
       "  color: #f1f1f1;\n",
       "}\n",
       "#T_e1e71_row3_col4 {\n",
       "  background-color: #cd423b;\n",
       "  color: #f1f1f1;\n",
       "}\n",
       "#T_e1e71_row7_col0 {\n",
       "  background-color: #5977e3;\n",
       "  color: #f1f1f1;\n",
       "}\n",
       "#T_e1e71_row7_col2 {\n",
       "  background-color: #e0654f;\n",
       "  color: #f1f1f1;\n",
       "}\n",
       "#T_e1e71_row7_col3 {\n",
       "  background-color: #dc5d4a;\n",
       "  color: #f1f1f1;\n",
       "}\n",
       "#T_e1e71_row8_col4, #T_e1e71_row9_col2, #T_e1e71_row9_col3 {\n",
       "  background-color: #cc403a;\n",
       "  color: #f1f1f1;\n",
       "}\n",
       "#T_e1e71_row9_col0 {\n",
       "  background-color: #4358cb;\n",
       "  color: #f1f1f1;\n",
       "}\n",
       "#T_e1e71_row9_col1 {\n",
       "  background-color: #cf453c;\n",
       "  color: #f1f1f1;\n",
       "}\n",
       "</style>\n",
       "<table id=\"T_e1e71\">\n",
       "  <thead>\n",
       "    <tr>\n",
       "      <th class=\"blank level0\" >&nbsp;</th>\n",
       "      <th id=\"T_e1e71_level0_col0\" class=\"col_heading level0 col0\" >R²</th>\n",
       "      <th id=\"T_e1e71_level0_col1\" class=\"col_heading level0 col1\" >MSE</th>\n",
       "      <th id=\"T_e1e71_level0_col2\" class=\"col_heading level0 col2\" >RMSE</th>\n",
       "      <th id=\"T_e1e71_level0_col3\" class=\"col_heading level0 col3\" >MAE</th>\n",
       "      <th id=\"T_e1e71_level0_col4\" class=\"col_heading level0 col4\" >MAPE</th>\n",
       "    </tr>\n",
       "  </thead>\n",
       "  <tbody>\n",
       "    <tr>\n",
       "      <th id=\"T_e1e71_level0_row0\" class=\"row_heading level0 row0\" >Linear Regression</th>\n",
       "      <td id=\"T_e1e71_row0_col0\" class=\"data row0 col0\" >0.051166</td>\n",
       "      <td id=\"T_e1e71_row0_col1\" class=\"data row0 col1\" >461.988435</td>\n",
       "      <td id=\"T_e1e71_row0_col2\" class=\"data row0 col2\" >21.493916</td>\n",
       "      <td id=\"T_e1e71_row0_col3\" class=\"data row0 col3\" >17.144197</td>\n",
       "      <td id=\"T_e1e71_row0_col4\" class=\"data row0 col4\" >8.531355</td>\n",
       "    </tr>\n",
       "    <tr>\n",
       "      <th id=\"T_e1e71_level0_row1\" class=\"row_heading level0 row1\" >Decision Tree Regressor</th>\n",
       "      <td id=\"T_e1e71_row1_col0\" class=\"data row1 col0\" >0.090475</td>\n",
       "      <td id=\"T_e1e71_row1_col1\" class=\"data row1 col1\" >442.848381</td>\n",
       "      <td id=\"T_e1e71_row1_col2\" class=\"data row1 col2\" >21.043963</td>\n",
       "      <td id=\"T_e1e71_row1_col3\" class=\"data row1 col3\" >16.829781</td>\n",
       "      <td id=\"T_e1e71_row1_col4\" class=\"data row1 col4\" >7.883226</td>\n",
       "    </tr>\n",
       "    <tr>\n",
       "      <th id=\"T_e1e71_level0_row2\" class=\"row_heading level0 row2\" >Random Forest Regressor</th>\n",
       "      <td id=\"T_e1e71_row2_col0\" class=\"data row2 col0\" >0.407268</td>\n",
       "      <td id=\"T_e1e71_row2_col1\" class=\"data row2 col1\" >288.601608</td>\n",
       "      <td id=\"T_e1e71_row2_col2\" class=\"data row2 col2\" >16.988279</td>\n",
       "      <td id=\"T_e1e71_row2_col3\" class=\"data row2 col3\" >12.191284</td>\n",
       "      <td id=\"T_e1e71_row2_col4\" class=\"data row2 col4\" >6.317597</td>\n",
       "    </tr>\n",
       "    <tr>\n",
       "      <th id=\"T_e1e71_level0_row3\" class=\"row_heading level0 row3\" >Polynomial Regression</th>\n",
       "      <td id=\"T_e1e71_row3_col0\" class=\"data row3 col0\" >0.088422</td>\n",
       "      <td id=\"T_e1e71_row3_col1\" class=\"data row3 col1\" >435.608624</td>\n",
       "      <td id=\"T_e1e71_row3_col2\" class=\"data row3 col2\" >20.871239</td>\n",
       "      <td id=\"T_e1e71_row3_col3\" class=\"data row3 col3\" >16.539643</td>\n",
       "      <td id=\"T_e1e71_row3_col4\" class=\"data row3 col4\" >8.422773</td>\n",
       "    </tr>\n",
       "    <tr>\n",
       "      <th id=\"T_e1e71_level0_row4\" class=\"row_heading level0 row4\" >Linear Regression Lasso</th>\n",
       "      <td id=\"T_e1e71_row4_col0\" class=\"data row4 col0\" >0.051166</td>\n",
       "      <td id=\"T_e1e71_row4_col1\" class=\"data row4 col1\" >461.988435</td>\n",
       "      <td id=\"T_e1e71_row4_col2\" class=\"data row4 col2\" >21.493916</td>\n",
       "      <td id=\"T_e1e71_row4_col3\" class=\"data row4 col3\" >17.144197</td>\n",
       "      <td id=\"T_e1e71_row4_col4\" class=\"data row4 col4\" >8.531355</td>\n",
       "    </tr>\n",
       "    <tr>\n",
       "      <th id=\"T_e1e71_level0_row5\" class=\"row_heading level0 row5\" >Linear Regression Ridge</th>\n",
       "      <td id=\"T_e1e71_row5_col0\" class=\"data row5 col0\" >0.051167</td>\n",
       "      <td id=\"T_e1e71_row5_col1\" class=\"data row5 col1\" >461.987683</td>\n",
       "      <td id=\"T_e1e71_row5_col2\" class=\"data row5 col2\" >21.493899</td>\n",
       "      <td id=\"T_e1e71_row5_col3\" class=\"data row5 col3\" >17.143838</td>\n",
       "      <td id=\"T_e1e71_row5_col4\" class=\"data row5 col4\" >8.532387</td>\n",
       "    </tr>\n",
       "    <tr>\n",
       "      <th id=\"T_e1e71_level0_row6\" class=\"row_heading level0 row6\" >Linear Regression Elastic Net</th>\n",
       "      <td id=\"T_e1e71_row6_col0\" class=\"data row6 col0\" >0.051166</td>\n",
       "      <td id=\"T_e1e71_row6_col1\" class=\"data row6 col1\" >461.988435</td>\n",
       "      <td id=\"T_e1e71_row6_col2\" class=\"data row6 col2\" >21.493916</td>\n",
       "      <td id=\"T_e1e71_row6_col3\" class=\"data row6 col3\" >17.144197</td>\n",
       "      <td id=\"T_e1e71_row6_col4\" class=\"data row6 col4\" >8.531355</td>\n",
       "    </tr>\n",
       "    <tr>\n",
       "      <th id=\"T_e1e71_level0_row7\" class=\"row_heading level0 row7\" >Polynomial Regression Lasso</th>\n",
       "      <td id=\"T_e1e71_row7_col0\" class=\"data row7 col0\" >0.087269</td>\n",
       "      <td id=\"T_e1e71_row7_col1\" class=\"data row7 col1\" >436.159967</td>\n",
       "      <td id=\"T_e1e71_row7_col2\" class=\"data row7 col2\" >20.884443</td>\n",
       "      <td id=\"T_e1e71_row7_col3\" class=\"data row7 col3\" >16.551554</td>\n",
       "      <td id=\"T_e1e71_row7_col4\" class=\"data row7 col4\" >8.438347</td>\n",
       "    </tr>\n",
       "    <tr>\n",
       "      <th id=\"T_e1e71_level0_row8\" class=\"row_heading level0 row8\" >Polynomial Regression Ridge</th>\n",
       "      <td id=\"T_e1e71_row8_col0\" class=\"data row8 col0\" >0.088282</td>\n",
       "      <td id=\"T_e1e71_row8_col1\" class=\"data row8 col1\" >435.675716</td>\n",
       "      <td id=\"T_e1e71_row8_col2\" class=\"data row8 col2\" >20.872846</td>\n",
       "      <td id=\"T_e1e71_row8_col3\" class=\"data row8 col3\" >16.541497</td>\n",
       "      <td id=\"T_e1e71_row8_col4\" class=\"data row8 col4\" >8.428238</td>\n",
       "    </tr>\n",
       "    <tr>\n",
       "      <th id=\"T_e1e71_level0_row9\" class=\"row_heading level0 row9\" >Polynomial Regression Elastic Net</th>\n",
       "      <td id=\"T_e1e71_row9_col0\" class=\"data row9 col0\" >0.061275</td>\n",
       "      <td id=\"T_e1e71_row9_col1\" class=\"data row9 col1\" >448.581490</td>\n",
       "      <td id=\"T_e1e71_row9_col2\" class=\"data row9 col2\" >21.179742</td>\n",
       "      <td id=\"T_e1e71_row9_col3\" class=\"data row9 col3\" >16.802161</td>\n",
       "      <td id=\"T_e1e71_row9_col4\" class=\"data row9 col4\" >8.582713</td>\n",
       "    </tr>\n",
       "  </tbody>\n",
       "</table>\n"
      ],
      "text/plain": [
       "<pandas.io.formats.style.Styler at 0x7f5ace891820>"
      ]
     },
     "execution_count": 76,
     "metadata": {},
     "output_type": "execute_result"
    }
   ],
   "source": [
    "test_metrics_df = pd.DataFrame({\n",
    "    'Linear Regression': lin_reg_test_metrics,\n",
    "    'Decision Tree Regressor': dt_reg_test_metrics,\n",
    "    'Random Forest Regressor': rf_reg_test_metrics,\n",
    "    'Polynomial Regression': pol_reg_test_metrics,\n",
    "    'Linear Regression Lasso': lasso_test_metrics,\n",
    "    'Linear Regression Ridge': ridge_test_metrics,\n",
    "    'Linear Regression Elastic Net': elasticnet_test_metrics,\n",
    "    'Polynomial Regression Lasso': poly_lasso_test_metrics,\n",
    "    'Polynomial Regression Ridge': poly_ridge_test_metrics,\n",
    "    'Polynomial Regression Elastic Net': poly_elasticnet_test_metrics\n",
    "}).T\n",
    "\n",
    "test_metrics_df.style.background_gradient(cmap='coolwarm')"
   ]
  },
  {
   "cell_type": "code",
   "execution_count": null,
   "id": "cfe3bb3c-e001-408c-9ecd-107c66d091e3",
   "metadata": {},
   "outputs": [],
   "source": []
  }
 ],
 "metadata": {
  "kernelspec": {
   "display_name": "Python 3 (ipykernel)",
   "language": "python",
   "name": "python3"
  },
  "language_info": {
   "codemirror_mode": {
    "name": "ipython",
    "version": 3
   },
   "file_extension": ".py",
   "mimetype": "text/x-python",
   "name": "python",
   "nbconvert_exporter": "python",
   "pygments_lexer": "ipython3",
   "version": "3.12.4"
  }
 },
 "nbformat": 4,
 "nbformat_minor": 5
}
